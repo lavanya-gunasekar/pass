{
 "cells": [
  {
   "cell_type": "code",
   "execution_count": 1,
   "metadata": {
    "collapsed": true
   },
   "outputs": [],
   "source": [
    "import glob\n",
    "import pandas as pd\n",
    "import warnings\n",
    "warnings.filterwarnings(\"ignore\") \n",
    "import datetime"
   ]
  },
  {
   "cell_type": "code",
   "execution_count": 2,
   "metadata": {
    "collapsed": true
   },
   "outputs": [],
   "source": [
    "today=str(datetime.datetime.today().strftime('%d_%m_%Y'))"
   ]
  },
  {
   "cell_type": "code",
   "execution_count": 3,
   "metadata": {
    "collapsed": true
   },
   "outputs": [],
   "source": [
    "INC = pd.read_excel(r'C:\\NotBackedUp\\SOE\\source_files\\CHG\\change_request.xlsx')"
   ]
  },
  {
   "cell_type": "code",
   "execution_count": 4,
   "metadata": {},
   "outputs": [
    {
     "data": {
      "text/plain": [
       "['Number',\n",
       " 'Active',\n",
       " 'Activity due',\n",
       " 'Additional assignee list',\n",
       " 'Approval',\n",
       " 'Approval history',\n",
       " 'Approval set',\n",
       " 'Assigned to',\n",
       " 'Change Owner group',\n",
       " 'Business duration',\n",
       " 'Incident Number',\n",
       " 'Created',\n",
       " 'State',\n",
       " 'Name',\n",
       " 'Close code']"
      ]
     },
     "execution_count": 4,
     "metadata": {},
     "output_type": "execute_result"
    }
   ],
   "source": [
    "list(INC)"
   ]
  },
  {
   "cell_type": "code",
   "execution_count": 5,
   "metadata": {
    "collapsed": true
   },
   "outputs": [],
   "source": [
    "INC = INC[INC['State'] == 'Closed']"
   ]
  },
  {
   "cell_type": "code",
   "execution_count": 6,
   "metadata": {
    "collapsed": true
   },
   "outputs": [],
   "source": [
    "INC = INC[['Number','Name','Created','State','Close code']]"
   ]
  },
  {
   "cell_type": "code",
   "execution_count": 7,
   "metadata": {
    "collapsed": true
   },
   "outputs": [],
   "source": [
    "INC['Name'] = INC['Name'].str.strip('[PROD]')\n",
    "INC['Name'] = INC['Name'].str.strip()"
   ]
  },
  {
   "cell_type": "code",
   "execution_count": 8,
   "metadata": {
    "collapsed": true
   },
   "outputs": [],
   "source": [
    "INC = INC.rename(columns={'Name':'business_service_name','Close code':'CloseCode'})"
   ]
  },
  {
   "cell_type": "code",
   "execution_count": 9,
   "metadata": {
    "collapsed": true
   },
   "outputs": [],
   "source": [
    "model1map = pd.read_csv(r'C:\\NotBackedUp\\SOE\\source_files\\service_mapping\\model1_mapping.csv')\n",
    "siam_map = pd.read_csv(r'C:\\NotBackedUp\\SOE\\source_files\\service_mapping\\SIAM_ServiceMapping.csv')"
   ]
  },
  {
   "cell_type": "code",
   "execution_count": 10,
   "metadata": {
    "collapsed": true
   },
   "outputs": [],
   "source": [
    "siam_map = siam_map.loc[siam_map.notnull().sum(1).groupby(siam_map.Name).idxmax()]\n",
    "model1map = model1map.loc[model1map.notnull().sum(1).groupby(model1map.Name).idxmax()]"
   ]
  },
  {
   "cell_type": "code",
   "execution_count": 11,
   "metadata": {
    "collapsed": true
   },
   "outputs": [],
   "source": [
    "CHG_Implementation_Model1 = INC.merge(model1map,how='left',left_on=['business_service_name'],right_on=['Name'])\n",
    "CHG_Implementation_SIAM= INC.merge(siam_map,how='left',left_on=['business_service_name'],right_on=['Name'])"
   ]
  },
  {
   "cell_type": "code",
   "execution_count": 12,
   "metadata": {
    "collapsed": true
   },
   "outputs": [],
   "source": [
    "CHG_Implementation_Model1 = CHG_Implementation_Model1[['Number','business_service_name','Created','State','CloseCode','Name','Domain','Tribe_TechArea']]"
   ]
  },
  {
   "cell_type": "code",
   "execution_count": 13,
   "metadata": {
    "collapsed": true
   },
   "outputs": [],
   "source": [
    "CHG_Implementation_SIAM = CHG_Implementation_SIAM[['Number','business_service_name','Created','State','CloseCode','Name','Domain','Tribe_TechArea']]"
   ]
  },
  {
   "cell_type": "code",
   "execution_count": 14,
   "metadata": {
    "collapsed": true
   },
   "outputs": [],
   "source": [
    "CHG_Implementation_Model1['Name'] = CHG_Implementation_Model1['Name'].fillna(0)"
   ]
  },
  {
   "cell_type": "code",
   "execution_count": 15,
   "metadata": {
    "collapsed": true
   },
   "outputs": [],
   "source": [
    "CHG_Implementation_SIAM['Name'] = CHG_Implementation_SIAM['Name'].fillna(0)"
   ]
  },
  {
   "cell_type": "code",
   "execution_count": 16,
   "metadata": {
    "collapsed": true
   },
   "outputs": [],
   "source": [
    "CHG_Implementation_Model1 = CHG_Implementation_Model1[CHG_Implementation_Model1['Name'] != 0]"
   ]
  },
  {
   "cell_type": "code",
   "execution_count": 17,
   "metadata": {
    "collapsed": true
   },
   "outputs": [],
   "source": [
    "CHG_Implementation_SIAM = CHG_Implementation_SIAM[CHG_Implementation_SIAM['Name'] != 0]"
   ]
  },
  {
   "cell_type": "code",
   "execution_count": 18,
   "metadata": {},
   "outputs": [
    {
     "data": {
      "text/plain": [
       "array(['Successful', 'Rolled back', 'Implemented with incidents',\n",
       "       'Partially implemented but business objective met',\n",
       "       'Partially implemented', 'Unsuccessful – Objective not met'], dtype=object)"
      ]
     },
     "execution_count": 18,
     "metadata": {},
     "output_type": "execute_result"
    }
   ],
   "source": [
    "CHG_Implementation_SIAM.CloseCode.unique()"
   ]
  },
  {
   "cell_type": "code",
   "execution_count": 19,
   "metadata": {
    "collapsed": true
   },
   "outputs": [],
   "source": [
    "CHG_Model1 = CHG_Implementation_Model1.groupby(['business_service_name','Domain','Tribe_TechArea','CloseCode'])['Number'].count().reset_index(name='CHG_Implemented')"
   ]
  },
  {
   "cell_type": "code",
   "execution_count": 20,
   "metadata": {
    "collapsed": true
   },
   "outputs": [],
   "source": [
    "CHG_SIAM = CHG_Implementation_SIAM.groupby(['business_service_name','Domain','Tribe_TechArea','CloseCode'])['Number'].count().reset_index(name='CHG_Implemented')"
   ]
  },
  {
   "cell_type": "code",
   "execution_count": 21,
   "metadata": {
    "collapsed": true
   },
   "outputs": [],
   "source": [
    "CHG_Implementation_Model1.to_csv(r'C:\\NotBackedUp\\SOE\\Model1\\CSV\\RAW_CHG_IMPLEMENTED_MODEL1_'+today+'.csv',index=None)\n",
    "CHG_Implementation_SIAM.to_csv(r'C:\\NotBackedUp\\SOE\\SIAM\\CSV\\RAW_CHG_IMPLEMENTED_SIAM_'+today+'.csv',index=None)"
   ]
  },
  {
   "cell_type": "code",
   "execution_count": 22,
   "metadata": {
    "collapsed": true
   },
   "outputs": [],
   "source": [
    "CHG_SIAM.to_csv(r'C:\\NotBackedUp\\SOE\\SIAM\\CSV\\CHG_IMPLEMENTED_SIAM_'+today+'.csv',index=None)\n",
    "CHG_Model1.to_csv(r'C:\\NotBackedUp\\SOE\\Model1\\CSV\\CHG_IMPLEMENTED_MODEL1_'+today+'.csv',index=None)"
   ]
  },
  {
   "cell_type": "code",
   "execution_count": null,
   "metadata": {
    "collapsed": true
   },
   "outputs": [],
   "source": []
  }
 ],
 "metadata": {
  "kernelspec": {
   "display_name": "Python 3",
   "language": "python",
   "name": "python3"
  },
  "language_info": {
   "codemirror_mode": {
    "name": "ipython",
    "version": 3
   },
   "file_extension": ".py",
   "mimetype": "text/x-python",
   "name": "python",
   "nbconvert_exporter": "python",
   "pygments_lexer": "ipython3",
   "version": "3.6.3"
  }
 },
 "nbformat": 4,
 "nbformat_minor": 2
}
