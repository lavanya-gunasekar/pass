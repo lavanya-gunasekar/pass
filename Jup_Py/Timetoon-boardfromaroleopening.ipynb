{
 "cells": [
  {
   "cell_type": "code",
   "execution_count": 1,
   "metadata": {
    "collapsed": true
   },
   "outputs": [],
   "source": [
    "import pandas as pd\n",
    "import glob\n",
    "import warnings\n",
    "warnings.filterwarnings('ignore')\n",
    "from functools import reduce\n",
    "import re\n",
    "import datetime"
   ]
  },
  {
   "cell_type": "code",
   "execution_count": 2,
   "metadata": {
    "collapsed": true
   },
   "outputs": [],
   "source": [
    "DemandTracker=pd.read_excel(r'C:\\NotBackedUp\\SOE\\pyscript\\data\\DemandTracker.xlsx')\n",
    "HCL=pd.read_excel(r'C:\\NotBackedUp\\SOE\\pyscript\\data\\HCL.xlsx')\n",
    "INFY=pd.read_excel(r'C:\\NotBackedUp\\SOE\\pyscript\\data\\Infy.xlsx')\n",
    "OnboardingTracker=pd.read_excel(r'C:\\NotBackedUp\\SOE\\pyscript\\data\\OnboardingTracker.xlsx')"
   ]
  },
  {
   "cell_type": "code",
   "execution_count": 3,
   "metadata": {
    "collapsed": true
   },
   "outputs": [],
   "source": [
    "Vendor=OnboardingTracker[((OnboardingTracker['DRO Source']=='Model2')  & (OnboardingTracker['Partner'].isin(['HCL','Infosys'])) & (OnboardingTracker['Onboarding Status']=='Onboarding Completed'))]"
   ]
  },
  {
   "cell_type": "code",
   "execution_count": 4,
   "metadata": {
    "collapsed": true
   },
   "outputs": [],
   "source": [
    "Vendor = Vendor[['ID', 'Title', 'Position#', 'Demand ID', 'Partner', 'DRO Source', 'Onboarding Status', 'Technical Start Date']]"
   ]
  },
  {
   "cell_type": "code",
   "execution_count": 5,
   "metadata": {
    "collapsed": true
   },
   "outputs": [],
   "source": [
    "Roleopened=DemandTracker[DemandTracker['Demand Status']=='Closed']"
   ]
  },
  {
   "cell_type": "code",
   "execution_count": 6,
   "metadata": {
    "collapsed": true
   },
   "outputs": [],
   "source": [
    "Roleopened = Roleopened[['ID','Demand ID','Demand Status','Tribe','Role','Title','Start Date','Partner','Resource Name','Created']]"
   ]
  },
  {
   "cell_type": "code",
   "execution_count": 7,
   "metadata": {
    "collapsed": true
   },
   "outputs": [],
   "source": [
    "Roleopened = Roleopened.rename(columns={'Demand ID':'DT_DemandID'})"
   ]
  },
  {
   "cell_type": "code",
   "execution_count": 8,
   "metadata": {
    "collapsed": true
   },
   "outputs": [],
   "source": [
    "TimetoOnboard = Vendor.merge(Roleopened,how='left',left_on=['Demand ID'],right_on=['DT_DemandID'])"
   ]
  },
  {
   "cell_type": "code",
   "execution_count": 9,
   "metadata": {
    "collapsed": true
   },
   "outputs": [],
   "source": [
    "TimetoOnboard.to_csv(r'C:\\NotBackedUp\\SOE\\pyscript\\Time.csv',sep=',',index=None)"
   ]
  },
  {
   "cell_type": "code",
   "execution_count": 10,
   "metadata": {
    "collapsed": true
   },
   "outputs": [],
   "source": [
    "TimetoOnboard['Days']=(TimetoOnboard['Technical Start Date'] - TimetoOnboard['Created']).dt.days"
   ]
  },
  {
   "cell_type": "code",
   "execution_count": 11,
   "metadata": {
    "collapsed": true
   },
   "outputs": [],
   "source": [
    "TimetoOnboard.to_csv(r'C:\\NotBackedUp\\SOE\\pyscript\\TimetoOnboard.csv',sep=',',index=None)"
   ]
  },
  {
   "cell_type": "code",
   "execution_count": null,
   "metadata": {
    "collapsed": true
   },
   "outputs": [],
   "source": []
  }
 ],
 "metadata": {
  "kernelspec": {
   "display_name": "Python 3",
   "language": "python",
   "name": "python3"
  },
  "language_info": {
   "codemirror_mode": {
    "name": "ipython",
    "version": 3
   },
   "file_extension": ".py",
   "mimetype": "text/x-python",
   "name": "python",
   "nbconvert_exporter": "python",
   "pygments_lexer": "ipython3",
   "version": "3.6.3"
  }
 },
 "nbformat": 4,
 "nbformat_minor": 2
}
