{
 "cells": [
  {
   "cell_type": "code",
   "execution_count": 1,
   "metadata": {
    "collapsed": true
   },
   "outputs": [],
   "source": [
    "import pandas as pd\n",
    "import glob\n",
    "import warnings\n",
    "warnings.filterwarnings('ignore')\n",
    "from functools import reduce\n",
    "import re\n",
    "import numpy as np\n",
    "import datetime\n",
    "from datetime import date, timedelta"
   ]
  },
  {
   "cell_type": "code",
   "execution_count": 2,
   "metadata": {
    "collapsed": true
   },
   "outputs": [],
   "source": [
    "def Percentage(x,y):\n",
    "    if x == 0 or y == 0:\n",
    "        return 0\n",
    "    else :\n",
    "        quotient = x / y\n",
    "        percent = quotient * 100\n",
    "        percent = int(percent)\n",
    "        return percent"
   ]
  },
  {
   "cell_type": "code",
   "execution_count": 3,
   "metadata": {
    "collapsed": true
   },
   "outputs": [],
   "source": [
    "DemandTracker=pd.read_excel(r'C:\\NotBackedUp\\SOE\\pyscript\\data\\DemandTracker.xlsx')\n",
    "OnboardingTracker=pd.read_excel(r'C:\\NotBackedUp\\SOE\\pyscript\\data\\OnboardingTracker.xlsx')\n",
    "HCL=pd.read_excel(r'C:\\NotBackedUp\\SOE\\pyscript\\data\\HCL.xlsx')\n",
    "INFY=pd.read_excel(r'C:\\NotBackedUp\\SOE\\pyscript\\data\\Infy.xlsx')"
   ]
  },
  {
   "cell_type": "code",
   "execution_count": 4,
   "metadata": {
    "collapsed": true
   },
   "outputs": [],
   "source": [
    "TribeName = 'BO'"
   ]
  },
  {
   "cell_type": "code",
   "execution_count": 5,
   "metadata": {
    "collapsed": true
   },
   "outputs": [],
   "source": [
    "TribeDemandTracker = DemandTracker[DemandTracker['Tribe']=='BUSINESS OWNERS']\n",
    "TribeOnboardingTracker = OnboardingTracker[OnboardingTracker['Tribe']=='BUSINESS OWNERS']\n",
    "TribeHCL = HCL[HCL['Tribe']=='BUSINESS OWNERS']\n",
    "TribeINFY = INFY[INFY['Tribe']=='BUSINESS OWNERS']"
   ]
  },
  {
   "cell_type": "markdown",
   "metadata": {},
   "source": [
    "Success Rate"
   ]
  },
  {
   "cell_type": "code",
   "execution_count": 6,
   "metadata": {
    "collapsed": true
   },
   "outputs": [],
   "source": [
    "tribe = TribeDemandTracker"
   ]
  },
  {
   "cell_type": "code",
   "execution_count": 7,
   "metadata": {
    "collapsed": true
   },
   "outputs": [],
   "source": [
    "tribe = tribe.rename(columns={'Demand Status':'Demand_Status'})"
   ]
  },
  {
   "cell_type": "code",
   "execution_count": 8,
   "metadata": {
    "collapsed": true
   },
   "outputs": [],
   "source": [
    "role = DemandTracker['Role'].unique()\n",
    "role= pd.DataFrame(role)\n",
    "role.columns=['Role']"
   ]
  },
  {
   "cell_type": "code",
   "execution_count": 9,
   "metadata": {},
   "outputs": [
    {
     "data": {
      "text/html": [
       "<div>\n",
       "<style>\n",
       "    .dataframe thead tr:only-child th {\n",
       "        text-align: right;\n",
       "    }\n",
       "\n",
       "    .dataframe thead th {\n",
       "        text-align: left;\n",
       "    }\n",
       "\n",
       "    .dataframe tbody tr th {\n",
       "        vertical-align: top;\n",
       "    }\n",
       "</style>\n",
       "<table border=\"1\" class=\"dataframe\">\n",
       "  <thead>\n",
       "    <tr style=\"text-align: right;\">\n",
       "      <th></th>\n",
       "      <th>Role</th>\n",
       "    </tr>\n",
       "  </thead>\n",
       "  <tbody>\n",
       "    <tr>\n",
       "      <th>0</th>\n",
       "      <td>Analyst</td>\n",
       "    </tr>\n",
       "    <tr>\n",
       "      <th>1</th>\n",
       "      <td>Engineer</td>\n",
       "    </tr>\n",
       "    <tr>\n",
       "      <th>2</th>\n",
       "      <td>Tester</td>\n",
       "    </tr>\n",
       "    <tr>\n",
       "      <th>3</th>\n",
       "      <td>Test Lead</td>\n",
       "    </tr>\n",
       "    <tr>\n",
       "      <th>4</th>\n",
       "      <td>Environment Manager</td>\n",
       "    </tr>\n",
       "    <tr>\n",
       "      <th>5</th>\n",
       "      <td>Release Lead</td>\n",
       "    </tr>\n",
       "    <tr>\n",
       "      <th>6</th>\n",
       "      <td>Tech Area Architect</td>\n",
       "    </tr>\n",
       "    <tr>\n",
       "      <th>7</th>\n",
       "      <td>Operations Expert</td>\n",
       "    </tr>\n",
       "    <tr>\n",
       "      <th>8</th>\n",
       "      <td>Agile Coach</td>\n",
       "    </tr>\n",
       "    <tr>\n",
       "      <th>9</th>\n",
       "      <td>Solution Designer</td>\n",
       "    </tr>\n",
       "    <tr>\n",
       "      <th>10</th>\n",
       "      <td>Scrum Master</td>\n",
       "    </tr>\n",
       "    <tr>\n",
       "      <th>11</th>\n",
       "      <td>Developer</td>\n",
       "    </tr>\n",
       "    <tr>\n",
       "      <th>12</th>\n",
       "      <td>Transition Manager</td>\n",
       "    </tr>\n",
       "    <tr>\n",
       "      <th>13</th>\n",
       "      <td>SDET - Automation Tester</td>\n",
       "    </tr>\n",
       "    <tr>\n",
       "      <th>14</th>\n",
       "      <td>Product Owner</td>\n",
       "    </tr>\n",
       "    <tr>\n",
       "      <th>15</th>\n",
       "      <td>Lead Developer</td>\n",
       "    </tr>\n",
       "    <tr>\n",
       "      <th>16</th>\n",
       "      <td>Journey Expert</td>\n",
       "    </tr>\n",
       "  </tbody>\n",
       "</table>\n",
       "</div>"
      ],
      "text/plain": [
       "                        Role\n",
       "0                    Analyst\n",
       "1                   Engineer\n",
       "2                     Tester\n",
       "3                  Test Lead\n",
       "4        Environment Manager\n",
       "5               Release Lead\n",
       "6        Tech Area Architect\n",
       "7          Operations Expert\n",
       "8                Agile Coach\n",
       "9          Solution Designer\n",
       "10              Scrum Master\n",
       "11                 Developer\n",
       "12        Transition Manager\n",
       "13  SDET - Automation Tester\n",
       "14             Product Owner\n",
       "15            Lead Developer\n",
       "16            Journey Expert"
      ]
     },
     "execution_count": 9,
     "metadata": {},
     "output_type": "execute_result"
    }
   ],
   "source": [
    "role"
   ]
  },
  {
   "cell_type": "code",
   "execution_count": 10,
   "metadata": {
    "collapsed": true
   },
   "outputs": [],
   "source": [
    "cls = tribe[tribe['Demand_Status']=='Closed']\n",
    "cls=cls.groupby(['Role'])['Demand ID'].count().reset_index(name='Closed')"
   ]
  },
  {
   "cell_type": "code",
   "execution_count": 11,
   "metadata": {},
   "outputs": [],
   "source": [
    "opn = tribe[tribe['Demand_Status']=='Open']\n",
    "opn=opn.groupby(['Role'])['ID'].count().reset_index(name='Open')"
   ]
  },
  {
   "cell_type": "code",
   "execution_count": 12,
   "metadata": {},
   "outputs": [
    {
     "data": {
      "text/html": [
       "<div>\n",
       "<style>\n",
       "    .dataframe thead tr:only-child th {\n",
       "        text-align: right;\n",
       "    }\n",
       "\n",
       "    .dataframe thead th {\n",
       "        text-align: left;\n",
       "    }\n",
       "\n",
       "    .dataframe tbody tr th {\n",
       "        vertical-align: top;\n",
       "    }\n",
       "</style>\n",
       "<table border=\"1\" class=\"dataframe\">\n",
       "  <thead>\n",
       "    <tr style=\"text-align: right;\">\n",
       "      <th></th>\n",
       "      <th>Role</th>\n",
       "      <th>Open</th>\n",
       "    </tr>\n",
       "  </thead>\n",
       "  <tbody>\n",
       "  </tbody>\n",
       "</table>\n",
       "</div>"
      ],
      "text/plain": [
       "Empty DataFrame\n",
       "Columns: [Role, Open]\n",
       "Index: []"
      ]
     },
     "execution_count": 12,
     "metadata": {},
     "output_type": "execute_result"
    }
   ],
   "source": [
    "opn"
   ]
  },
  {
   "cell_type": "code",
   "execution_count": 13,
   "metadata": {
    "collapsed": true
   },
   "outputs": [],
   "source": [
    "wdr = tribe[tribe['Demand_Status']=='Withdrawn']\n",
    "wdr=wdr.groupby(['Role'])['ID'].count().reset_index(name='Withdrawn')"
   ]
  },
  {
   "cell_type": "code",
   "execution_count": 14,
   "metadata": {
    "collapsed": true
   },
   "outputs": [],
   "source": [
    "opnbkf = tribe[tribe['Demand_Status']=='Open Backfill']\n",
    "opnbkf=opnbkf.groupby(['Role'])['ID'].count().reset_index(name='Open_Backfill')"
   ]
  },
  {
   "cell_type": "code",
   "execution_count": 15,
   "metadata": {
    "collapsed": true
   },
   "outputs": [],
   "source": [
    "clsbkf = tribe[tribe['Demand_Status']=='Backfill Closed']\n",
    "clsbkf=clsbkf.groupby(['Role'])['ID'].count().reset_index(name='Backfill_Closed')"
   ]
  },
  {
   "cell_type": "code",
   "execution_count": 16,
   "metadata": {
    "collapsed": true
   },
   "outputs": [],
   "source": [
    "demandttl=[cls,opn,wdr,opnbkf,clsbkf,role]"
   ]
  },
  {
   "cell_type": "code",
   "execution_count": 17,
   "metadata": {
    "collapsed": true
   },
   "outputs": [],
   "source": [
    "TotalDemand=reduce(lambda left,right: pd.merge(left,right,on=['Role'],how='outer'),demandttl)"
   ]
  },
  {
   "cell_type": "code",
   "execution_count": 18,
   "metadata": {
    "collapsed": true
   },
   "outputs": [],
   "source": [
    "TotalDemand[['Closed','Open','Withdrawn','Open_Backfill','Backfill_Closed']]=TotalDemand[['Closed','Open','Withdrawn','Open_Backfill','Backfill_Closed']].fillna(0)\n",
    "TotalDemand[['Closed','Open','Withdrawn','Open_Backfill','Backfill_Closed']]=TotalDemand[['Closed','Open','Withdrawn','Open_Backfill','Backfill_Closed']].astype(int)"
   ]
  },
  {
   "cell_type": "code",
   "execution_count": 19,
   "metadata": {},
   "outputs": [
    {
     "data": {
      "text/html": [
       "<div>\n",
       "<style>\n",
       "    .dataframe thead tr:only-child th {\n",
       "        text-align: right;\n",
       "    }\n",
       "\n",
       "    .dataframe thead th {\n",
       "        text-align: left;\n",
       "    }\n",
       "\n",
       "    .dataframe tbody tr th {\n",
       "        vertical-align: top;\n",
       "    }\n",
       "</style>\n",
       "<table border=\"1\" class=\"dataframe\">\n",
       "  <thead>\n",
       "    <tr style=\"text-align: right;\">\n",
       "      <th></th>\n",
       "      <th>Role</th>\n",
       "      <th>Closed</th>\n",
       "      <th>Open</th>\n",
       "      <th>Withdrawn</th>\n",
       "      <th>Open_Backfill</th>\n",
       "      <th>Backfill_Closed</th>\n",
       "    </tr>\n",
       "  </thead>\n",
       "  <tbody>\n",
       "    <tr>\n",
       "      <th>0</th>\n",
       "      <td>Engineer</td>\n",
       "      <td>1</td>\n",
       "      <td>0</td>\n",
       "      <td>0</td>\n",
       "      <td>0</td>\n",
       "      <td>0</td>\n",
       "    </tr>\n",
       "    <tr>\n",
       "      <th>1</th>\n",
       "      <td>Solution Designer</td>\n",
       "      <td>2</td>\n",
       "      <td>0</td>\n",
       "      <td>0</td>\n",
       "      <td>0</td>\n",
       "      <td>0</td>\n",
       "    </tr>\n",
       "    <tr>\n",
       "      <th>2</th>\n",
       "      <td>Analyst</td>\n",
       "      <td>0</td>\n",
       "      <td>0</td>\n",
       "      <td>0</td>\n",
       "      <td>0</td>\n",
       "      <td>0</td>\n",
       "    </tr>\n",
       "    <tr>\n",
       "      <th>3</th>\n",
       "      <td>Tester</td>\n",
       "      <td>0</td>\n",
       "      <td>0</td>\n",
       "      <td>0</td>\n",
       "      <td>0</td>\n",
       "      <td>0</td>\n",
       "    </tr>\n",
       "    <tr>\n",
       "      <th>4</th>\n",
       "      <td>Test Lead</td>\n",
       "      <td>0</td>\n",
       "      <td>0</td>\n",
       "      <td>0</td>\n",
       "      <td>0</td>\n",
       "      <td>0</td>\n",
       "    </tr>\n",
       "    <tr>\n",
       "      <th>5</th>\n",
       "      <td>Environment Manager</td>\n",
       "      <td>0</td>\n",
       "      <td>0</td>\n",
       "      <td>0</td>\n",
       "      <td>0</td>\n",
       "      <td>0</td>\n",
       "    </tr>\n",
       "    <tr>\n",
       "      <th>6</th>\n",
       "      <td>Release Lead</td>\n",
       "      <td>0</td>\n",
       "      <td>0</td>\n",
       "      <td>0</td>\n",
       "      <td>0</td>\n",
       "      <td>0</td>\n",
       "    </tr>\n",
       "    <tr>\n",
       "      <th>7</th>\n",
       "      <td>Tech Area Architect</td>\n",
       "      <td>0</td>\n",
       "      <td>0</td>\n",
       "      <td>0</td>\n",
       "      <td>0</td>\n",
       "      <td>0</td>\n",
       "    </tr>\n",
       "    <tr>\n",
       "      <th>8</th>\n",
       "      <td>Operations Expert</td>\n",
       "      <td>0</td>\n",
       "      <td>0</td>\n",
       "      <td>0</td>\n",
       "      <td>0</td>\n",
       "      <td>0</td>\n",
       "    </tr>\n",
       "    <tr>\n",
       "      <th>9</th>\n",
       "      <td>Agile Coach</td>\n",
       "      <td>0</td>\n",
       "      <td>0</td>\n",
       "      <td>0</td>\n",
       "      <td>0</td>\n",
       "      <td>0</td>\n",
       "    </tr>\n",
       "    <tr>\n",
       "      <th>10</th>\n",
       "      <td>Scrum Master</td>\n",
       "      <td>0</td>\n",
       "      <td>0</td>\n",
       "      <td>0</td>\n",
       "      <td>0</td>\n",
       "      <td>0</td>\n",
       "    </tr>\n",
       "    <tr>\n",
       "      <th>11</th>\n",
       "      <td>Developer</td>\n",
       "      <td>0</td>\n",
       "      <td>0</td>\n",
       "      <td>0</td>\n",
       "      <td>0</td>\n",
       "      <td>0</td>\n",
       "    </tr>\n",
       "    <tr>\n",
       "      <th>12</th>\n",
       "      <td>Transition Manager</td>\n",
       "      <td>0</td>\n",
       "      <td>0</td>\n",
       "      <td>0</td>\n",
       "      <td>0</td>\n",
       "      <td>0</td>\n",
       "    </tr>\n",
       "    <tr>\n",
       "      <th>13</th>\n",
       "      <td>SDET - Automation Tester</td>\n",
       "      <td>0</td>\n",
       "      <td>0</td>\n",
       "      <td>0</td>\n",
       "      <td>0</td>\n",
       "      <td>0</td>\n",
       "    </tr>\n",
       "    <tr>\n",
       "      <th>14</th>\n",
       "      <td>Product Owner</td>\n",
       "      <td>0</td>\n",
       "      <td>0</td>\n",
       "      <td>0</td>\n",
       "      <td>0</td>\n",
       "      <td>0</td>\n",
       "    </tr>\n",
       "    <tr>\n",
       "      <th>15</th>\n",
       "      <td>Lead Developer</td>\n",
       "      <td>0</td>\n",
       "      <td>0</td>\n",
       "      <td>0</td>\n",
       "      <td>0</td>\n",
       "      <td>0</td>\n",
       "    </tr>\n",
       "    <tr>\n",
       "      <th>16</th>\n",
       "      <td>Journey Expert</td>\n",
       "      <td>0</td>\n",
       "      <td>0</td>\n",
       "      <td>0</td>\n",
       "      <td>0</td>\n",
       "      <td>0</td>\n",
       "    </tr>\n",
       "  </tbody>\n",
       "</table>\n",
       "</div>"
      ],
      "text/plain": [
       "                        Role  Closed  Open  Withdrawn  Open_Backfill  \\\n",
       "0                   Engineer       1     0          0              0   \n",
       "1          Solution Designer       2     0          0              0   \n",
       "2                    Analyst       0     0          0              0   \n",
       "3                     Tester       0     0          0              0   \n",
       "4                  Test Lead       0     0          0              0   \n",
       "5        Environment Manager       0     0          0              0   \n",
       "6               Release Lead       0     0          0              0   \n",
       "7        Tech Area Architect       0     0          0              0   \n",
       "8          Operations Expert       0     0          0              0   \n",
       "9                Agile Coach       0     0          0              0   \n",
       "10              Scrum Master       0     0          0              0   \n",
       "11                 Developer       0     0          0              0   \n",
       "12        Transition Manager       0     0          0              0   \n",
       "13  SDET - Automation Tester       0     0          0              0   \n",
       "14             Product Owner       0     0          0              0   \n",
       "15            Lead Developer       0     0          0              0   \n",
       "16            Journey Expert       0     0          0              0   \n",
       "\n",
       "    Backfill_Closed  \n",
       "0                 0  \n",
       "1                 0  \n",
       "2                 0  \n",
       "3                 0  \n",
       "4                 0  \n",
       "5                 0  \n",
       "6                 0  \n",
       "7                 0  \n",
       "8                 0  \n",
       "9                 0  \n",
       "10                0  \n",
       "11                0  \n",
       "12                0  \n",
       "13                0  \n",
       "14                0  \n",
       "15                0  \n",
       "16                0  "
      ]
     },
     "execution_count": 19,
     "metadata": {},
     "output_type": "execute_result"
    }
   ],
   "source": [
    "TotalDemand"
   ]
  },
  {
   "cell_type": "code",
   "execution_count": 20,
   "metadata": {
    "collapsed": true
   },
   "outputs": [],
   "source": [
    "TotalDemand['Grand Total'] = TotalDemand['Backfill_Closed'] + TotalDemand['Closed'] + TotalDemand['Open']"
   ]
  },
  {
   "cell_type": "code",
   "execution_count": 21,
   "metadata": {
    "collapsed": true
   },
   "outputs": [],
   "source": [
    "TotalDemand.loc['Total'] = pd.Series(TotalDemand['Grand Total'].sum(), index = ['Grand Total'])"
   ]
  },
  {
   "cell_type": "code",
   "execution_count": 22,
   "metadata": {
    "collapsed": true
   },
   "outputs": [],
   "source": [
    "TotalDemand = TotalDemand.replace(np.nan, '', regex=True)"
   ]
  },
  {
   "cell_type": "code",
   "execution_count": 23,
   "metadata": {
    "collapsed": true
   },
   "outputs": [],
   "source": [
    "TotalDemand['Grand Total'] = TotalDemand['Grand Total'].astype(int)"
   ]
  },
  {
   "cell_type": "code",
   "execution_count": 24,
   "metadata": {},
   "outputs": [
    {
     "data": {
      "text/html": [
       "<div>\n",
       "<style>\n",
       "    .dataframe thead tr:only-child th {\n",
       "        text-align: right;\n",
       "    }\n",
       "\n",
       "    .dataframe thead th {\n",
       "        text-align: left;\n",
       "    }\n",
       "\n",
       "    .dataframe tbody tr th {\n",
       "        vertical-align: top;\n",
       "    }\n",
       "</style>\n",
       "<table border=\"1\" class=\"dataframe\">\n",
       "  <thead>\n",
       "    <tr style=\"text-align: right;\">\n",
       "      <th></th>\n",
       "      <th>Role</th>\n",
       "      <th>Closed</th>\n",
       "      <th>Open</th>\n",
       "      <th>Withdrawn</th>\n",
       "      <th>Open_Backfill</th>\n",
       "      <th>Backfill_Closed</th>\n",
       "      <th>Grand Total</th>\n",
       "    </tr>\n",
       "  </thead>\n",
       "  <tbody>\n",
       "    <tr>\n",
       "      <th>0</th>\n",
       "      <td>Engineer</td>\n",
       "      <td>1</td>\n",
       "      <td>0</td>\n",
       "      <td>0</td>\n",
       "      <td>0</td>\n",
       "      <td>0</td>\n",
       "      <td>1</td>\n",
       "    </tr>\n",
       "    <tr>\n",
       "      <th>1</th>\n",
       "      <td>Solution Designer</td>\n",
       "      <td>2</td>\n",
       "      <td>0</td>\n",
       "      <td>0</td>\n",
       "      <td>0</td>\n",
       "      <td>0</td>\n",
       "      <td>2</td>\n",
       "    </tr>\n",
       "    <tr>\n",
       "      <th>2</th>\n",
       "      <td>Analyst</td>\n",
       "      <td>0</td>\n",
       "      <td>0</td>\n",
       "      <td>0</td>\n",
       "      <td>0</td>\n",
       "      <td>0</td>\n",
       "      <td>0</td>\n",
       "    </tr>\n",
       "    <tr>\n",
       "      <th>3</th>\n",
       "      <td>Tester</td>\n",
       "      <td>0</td>\n",
       "      <td>0</td>\n",
       "      <td>0</td>\n",
       "      <td>0</td>\n",
       "      <td>0</td>\n",
       "      <td>0</td>\n",
       "    </tr>\n",
       "    <tr>\n",
       "      <th>4</th>\n",
       "      <td>Test Lead</td>\n",
       "      <td>0</td>\n",
       "      <td>0</td>\n",
       "      <td>0</td>\n",
       "      <td>0</td>\n",
       "      <td>0</td>\n",
       "      <td>0</td>\n",
       "    </tr>\n",
       "    <tr>\n",
       "      <th>5</th>\n",
       "      <td>Environment Manager</td>\n",
       "      <td>0</td>\n",
       "      <td>0</td>\n",
       "      <td>0</td>\n",
       "      <td>0</td>\n",
       "      <td>0</td>\n",
       "      <td>0</td>\n",
       "    </tr>\n",
       "    <tr>\n",
       "      <th>6</th>\n",
       "      <td>Release Lead</td>\n",
       "      <td>0</td>\n",
       "      <td>0</td>\n",
       "      <td>0</td>\n",
       "      <td>0</td>\n",
       "      <td>0</td>\n",
       "      <td>0</td>\n",
       "    </tr>\n",
       "    <tr>\n",
       "      <th>7</th>\n",
       "      <td>Tech Area Architect</td>\n",
       "      <td>0</td>\n",
       "      <td>0</td>\n",
       "      <td>0</td>\n",
       "      <td>0</td>\n",
       "      <td>0</td>\n",
       "      <td>0</td>\n",
       "    </tr>\n",
       "    <tr>\n",
       "      <th>8</th>\n",
       "      <td>Operations Expert</td>\n",
       "      <td>0</td>\n",
       "      <td>0</td>\n",
       "      <td>0</td>\n",
       "      <td>0</td>\n",
       "      <td>0</td>\n",
       "      <td>0</td>\n",
       "    </tr>\n",
       "    <tr>\n",
       "      <th>9</th>\n",
       "      <td>Agile Coach</td>\n",
       "      <td>0</td>\n",
       "      <td>0</td>\n",
       "      <td>0</td>\n",
       "      <td>0</td>\n",
       "      <td>0</td>\n",
       "      <td>0</td>\n",
       "    </tr>\n",
       "    <tr>\n",
       "      <th>10</th>\n",
       "      <td>Scrum Master</td>\n",
       "      <td>0</td>\n",
       "      <td>0</td>\n",
       "      <td>0</td>\n",
       "      <td>0</td>\n",
       "      <td>0</td>\n",
       "      <td>0</td>\n",
       "    </tr>\n",
       "    <tr>\n",
       "      <th>11</th>\n",
       "      <td>Developer</td>\n",
       "      <td>0</td>\n",
       "      <td>0</td>\n",
       "      <td>0</td>\n",
       "      <td>0</td>\n",
       "      <td>0</td>\n",
       "      <td>0</td>\n",
       "    </tr>\n",
       "    <tr>\n",
       "      <th>12</th>\n",
       "      <td>Transition Manager</td>\n",
       "      <td>0</td>\n",
       "      <td>0</td>\n",
       "      <td>0</td>\n",
       "      <td>0</td>\n",
       "      <td>0</td>\n",
       "      <td>0</td>\n",
       "    </tr>\n",
       "    <tr>\n",
       "      <th>13</th>\n",
       "      <td>SDET - Automation Tester</td>\n",
       "      <td>0</td>\n",
       "      <td>0</td>\n",
       "      <td>0</td>\n",
       "      <td>0</td>\n",
       "      <td>0</td>\n",
       "      <td>0</td>\n",
       "    </tr>\n",
       "    <tr>\n",
       "      <th>14</th>\n",
       "      <td>Product Owner</td>\n",
       "      <td>0</td>\n",
       "      <td>0</td>\n",
       "      <td>0</td>\n",
       "      <td>0</td>\n",
       "      <td>0</td>\n",
       "      <td>0</td>\n",
       "    </tr>\n",
       "    <tr>\n",
       "      <th>15</th>\n",
       "      <td>Lead Developer</td>\n",
       "      <td>0</td>\n",
       "      <td>0</td>\n",
       "      <td>0</td>\n",
       "      <td>0</td>\n",
       "      <td>0</td>\n",
       "      <td>0</td>\n",
       "    </tr>\n",
       "    <tr>\n",
       "      <th>16</th>\n",
       "      <td>Journey Expert</td>\n",
       "      <td>0</td>\n",
       "      <td>0</td>\n",
       "      <td>0</td>\n",
       "      <td>0</td>\n",
       "      <td>0</td>\n",
       "      <td>0</td>\n",
       "    </tr>\n",
       "    <tr>\n",
       "      <th>Total</th>\n",
       "      <td></td>\n",
       "      <td></td>\n",
       "      <td></td>\n",
       "      <td></td>\n",
       "      <td></td>\n",
       "      <td></td>\n",
       "      <td>3</td>\n",
       "    </tr>\n",
       "  </tbody>\n",
       "</table>\n",
       "</div>"
      ],
      "text/plain": [
       "                           Role Closed Open Withdrawn Open_Backfill  \\\n",
       "0                      Engineer      1    0         0             0   \n",
       "1             Solution Designer      2    0         0             0   \n",
       "2                       Analyst      0    0         0             0   \n",
       "3                        Tester      0    0         0             0   \n",
       "4                     Test Lead      0    0         0             0   \n",
       "5           Environment Manager      0    0         0             0   \n",
       "6                  Release Lead      0    0         0             0   \n",
       "7           Tech Area Architect      0    0         0             0   \n",
       "8             Operations Expert      0    0         0             0   \n",
       "9                   Agile Coach      0    0         0             0   \n",
       "10                 Scrum Master      0    0         0             0   \n",
       "11                    Developer      0    0         0             0   \n",
       "12           Transition Manager      0    0         0             0   \n",
       "13     SDET - Automation Tester      0    0         0             0   \n",
       "14                Product Owner      0    0         0             0   \n",
       "15               Lead Developer      0    0         0             0   \n",
       "16               Journey Expert      0    0         0             0   \n",
       "Total                                                                 \n",
       "\n",
       "      Backfill_Closed  Grand Total  \n",
       "0                   0            1  \n",
       "1                   0            2  \n",
       "2                   0            0  \n",
       "3                   0            0  \n",
       "4                   0            0  \n",
       "5                   0            0  \n",
       "6                   0            0  \n",
       "7                   0            0  \n",
       "8                   0            0  \n",
       "9                   0            0  \n",
       "10                  0            0  \n",
       "11                  0            0  \n",
       "12                  0            0  \n",
       "13                  0            0  \n",
       "14                  0            0  \n",
       "15                  0            0  \n",
       "16                  0            0  \n",
       "Total                            3  "
      ]
     },
     "execution_count": 24,
     "metadata": {},
     "output_type": "execute_result"
    }
   ],
   "source": [
    "TotalDemand"
   ]
  },
  {
   "cell_type": "code",
   "execution_count": 25,
   "metadata": {
    "collapsed": true
   },
   "outputs": [],
   "source": [
    "TotalDemand.to_csv('\\\\NotBackedUp\\\\SOE\\\\pyscript\\\\Tribe\\\\'+TribeName+'\\\\Demand_'+TribeName+'.csv',sep=',',index=None)"
   ]
  },
  {
   "cell_type": "code",
   "execution_count": 26,
   "metadata": {},
   "outputs": [
    {
     "data": {
      "text/html": [
       "<div>\n",
       "<style>\n",
       "    .dataframe thead tr:only-child th {\n",
       "        text-align: right;\n",
       "    }\n",
       "\n",
       "    .dataframe thead th {\n",
       "        text-align: left;\n",
       "    }\n",
       "\n",
       "    .dataframe tbody tr th {\n",
       "        vertical-align: top;\n",
       "    }\n",
       "</style>\n",
       "<table border=\"1\" class=\"dataframe\">\n",
       "  <thead>\n",
       "    <tr style=\"text-align: right;\">\n",
       "      <th></th>\n",
       "      <th>Role</th>\n",
       "      <th>Closed</th>\n",
       "      <th>Open</th>\n",
       "      <th>Withdrawn</th>\n",
       "      <th>Open_Backfill</th>\n",
       "      <th>Backfill_Closed</th>\n",
       "      <th>Grand Total</th>\n",
       "    </tr>\n",
       "  </thead>\n",
       "  <tbody>\n",
       "    <tr>\n",
       "      <th>0</th>\n",
       "      <td>Engineer</td>\n",
       "      <td>1</td>\n",
       "      <td>0</td>\n",
       "      <td>0</td>\n",
       "      <td>0</td>\n",
       "      <td>0</td>\n",
       "      <td>1</td>\n",
       "    </tr>\n",
       "    <tr>\n",
       "      <th>1</th>\n",
       "      <td>Solution Designer</td>\n",
       "      <td>2</td>\n",
       "      <td>0</td>\n",
       "      <td>0</td>\n",
       "      <td>0</td>\n",
       "      <td>0</td>\n",
       "      <td>2</td>\n",
       "    </tr>\n",
       "    <tr>\n",
       "      <th>2</th>\n",
       "      <td>Analyst</td>\n",
       "      <td>0</td>\n",
       "      <td>0</td>\n",
       "      <td>0</td>\n",
       "      <td>0</td>\n",
       "      <td>0</td>\n",
       "      <td>0</td>\n",
       "    </tr>\n",
       "    <tr>\n",
       "      <th>3</th>\n",
       "      <td>Tester</td>\n",
       "      <td>0</td>\n",
       "      <td>0</td>\n",
       "      <td>0</td>\n",
       "      <td>0</td>\n",
       "      <td>0</td>\n",
       "      <td>0</td>\n",
       "    </tr>\n",
       "    <tr>\n",
       "      <th>4</th>\n",
       "      <td>Test Lead</td>\n",
       "      <td>0</td>\n",
       "      <td>0</td>\n",
       "      <td>0</td>\n",
       "      <td>0</td>\n",
       "      <td>0</td>\n",
       "      <td>0</td>\n",
       "    </tr>\n",
       "    <tr>\n",
       "      <th>5</th>\n",
       "      <td>Environment Manager</td>\n",
       "      <td>0</td>\n",
       "      <td>0</td>\n",
       "      <td>0</td>\n",
       "      <td>0</td>\n",
       "      <td>0</td>\n",
       "      <td>0</td>\n",
       "    </tr>\n",
       "    <tr>\n",
       "      <th>6</th>\n",
       "      <td>Release Lead</td>\n",
       "      <td>0</td>\n",
       "      <td>0</td>\n",
       "      <td>0</td>\n",
       "      <td>0</td>\n",
       "      <td>0</td>\n",
       "      <td>0</td>\n",
       "    </tr>\n",
       "    <tr>\n",
       "      <th>7</th>\n",
       "      <td>Tech Area Architect</td>\n",
       "      <td>0</td>\n",
       "      <td>0</td>\n",
       "      <td>0</td>\n",
       "      <td>0</td>\n",
       "      <td>0</td>\n",
       "      <td>0</td>\n",
       "    </tr>\n",
       "    <tr>\n",
       "      <th>8</th>\n",
       "      <td>Operations Expert</td>\n",
       "      <td>0</td>\n",
       "      <td>0</td>\n",
       "      <td>0</td>\n",
       "      <td>0</td>\n",
       "      <td>0</td>\n",
       "      <td>0</td>\n",
       "    </tr>\n",
       "    <tr>\n",
       "      <th>9</th>\n",
       "      <td>Agile Coach</td>\n",
       "      <td>0</td>\n",
       "      <td>0</td>\n",
       "      <td>0</td>\n",
       "      <td>0</td>\n",
       "      <td>0</td>\n",
       "      <td>0</td>\n",
       "    </tr>\n",
       "    <tr>\n",
       "      <th>10</th>\n",
       "      <td>Scrum Master</td>\n",
       "      <td>0</td>\n",
       "      <td>0</td>\n",
       "      <td>0</td>\n",
       "      <td>0</td>\n",
       "      <td>0</td>\n",
       "      <td>0</td>\n",
       "    </tr>\n",
       "    <tr>\n",
       "      <th>11</th>\n",
       "      <td>Developer</td>\n",
       "      <td>0</td>\n",
       "      <td>0</td>\n",
       "      <td>0</td>\n",
       "      <td>0</td>\n",
       "      <td>0</td>\n",
       "      <td>0</td>\n",
       "    </tr>\n",
       "    <tr>\n",
       "      <th>12</th>\n",
       "      <td>Transition Manager</td>\n",
       "      <td>0</td>\n",
       "      <td>0</td>\n",
       "      <td>0</td>\n",
       "      <td>0</td>\n",
       "      <td>0</td>\n",
       "      <td>0</td>\n",
       "    </tr>\n",
       "    <tr>\n",
       "      <th>13</th>\n",
       "      <td>SDET - Automation Tester</td>\n",
       "      <td>0</td>\n",
       "      <td>0</td>\n",
       "      <td>0</td>\n",
       "      <td>0</td>\n",
       "      <td>0</td>\n",
       "      <td>0</td>\n",
       "    </tr>\n",
       "    <tr>\n",
       "      <th>14</th>\n",
       "      <td>Product Owner</td>\n",
       "      <td>0</td>\n",
       "      <td>0</td>\n",
       "      <td>0</td>\n",
       "      <td>0</td>\n",
       "      <td>0</td>\n",
       "      <td>0</td>\n",
       "    </tr>\n",
       "    <tr>\n",
       "      <th>15</th>\n",
       "      <td>Lead Developer</td>\n",
       "      <td>0</td>\n",
       "      <td>0</td>\n",
       "      <td>0</td>\n",
       "      <td>0</td>\n",
       "      <td>0</td>\n",
       "      <td>0</td>\n",
       "    </tr>\n",
       "    <tr>\n",
       "      <th>16</th>\n",
       "      <td>Journey Expert</td>\n",
       "      <td>0</td>\n",
       "      <td>0</td>\n",
       "      <td>0</td>\n",
       "      <td>0</td>\n",
       "      <td>0</td>\n",
       "      <td>0</td>\n",
       "    </tr>\n",
       "    <tr>\n",
       "      <th>Total</th>\n",
       "      <td></td>\n",
       "      <td></td>\n",
       "      <td></td>\n",
       "      <td></td>\n",
       "      <td></td>\n",
       "      <td></td>\n",
       "      <td>3</td>\n",
       "    </tr>\n",
       "  </tbody>\n",
       "</table>\n",
       "</div>"
      ],
      "text/plain": [
       "                           Role Closed Open Withdrawn Open_Backfill  \\\n",
       "0                      Engineer      1    0         0             0   \n",
       "1             Solution Designer      2    0         0             0   \n",
       "2                       Analyst      0    0         0             0   \n",
       "3                        Tester      0    0         0             0   \n",
       "4                     Test Lead      0    0         0             0   \n",
       "5           Environment Manager      0    0         0             0   \n",
       "6                  Release Lead      0    0         0             0   \n",
       "7           Tech Area Architect      0    0         0             0   \n",
       "8             Operations Expert      0    0         0             0   \n",
       "9                   Agile Coach      0    0         0             0   \n",
       "10                 Scrum Master      0    0         0             0   \n",
       "11                    Developer      0    0         0             0   \n",
       "12           Transition Manager      0    0         0             0   \n",
       "13     SDET - Automation Tester      0    0         0             0   \n",
       "14                Product Owner      0    0         0             0   \n",
       "15               Lead Developer      0    0         0             0   \n",
       "16               Journey Expert      0    0         0             0   \n",
       "Total                                                                 \n",
       "\n",
       "      Backfill_Closed  Grand Total  \n",
       "0                   0            1  \n",
       "1                   0            2  \n",
       "2                   0            0  \n",
       "3                   0            0  \n",
       "4                   0            0  \n",
       "5                   0            0  \n",
       "6                   0            0  \n",
       "7                   0            0  \n",
       "8                   0            0  \n",
       "9                   0            0  \n",
       "10                  0            0  \n",
       "11                  0            0  \n",
       "12                  0            0  \n",
       "13                  0            0  \n",
       "14                  0            0  \n",
       "15                  0            0  \n",
       "16                  0            0  \n",
       "Total                            3  "
      ]
     },
     "execution_count": 26,
     "metadata": {},
     "output_type": "execute_result"
    }
   ],
   "source": [
    "TotalDemand"
   ]
  },
  {
   "cell_type": "markdown",
   "metadata": {},
   "source": [
    "Onboarding Status by Role"
   ]
  },
  {
   "cell_type": "code",
   "execution_count": 27,
   "metadata": {
    "collapsed": true
   },
   "outputs": [],
   "source": [
    "DXCOnboarding = TribeOnboardingTracker\n",
    "DXCOnboarding.loc[DXCOnboarding['Role'].str.contains('Engineer'),'Role'] = 'Engineer'\n",
    "DXCOnboarding.loc[DXCOnboarding['Role'].str.contains('Expert'),'Role'] = 'Operations Expert'\n",
    "DXCOnboarding.loc[DXCOnboarding['Role'].str.contains('Partner'),'Role'] = 'Delivery Partner'\n",
    "DXCOnboarding.loc[DXCOnboarding['Role'].str.contains('SDET - Automation Tester'),'Role'] = 'Tester'"
   ]
  },
  {
   "cell_type": "code",
   "execution_count": 28,
   "metadata": {
    "collapsed": true
   },
   "outputs": [],
   "source": [
    "DXCOnboarding['Role'] = DXCOnboarding['Role'].replace(['Test Lead'],['Other'])\n",
    "DXCOnboarding['Role'] = DXCOnboarding['Role'].replace(['Environment Manager'],['Other'])\n",
    "DXCOnboarding['Role'] = DXCOnboarding['Role'].replace(['Operations Expert'],['Other'])\n",
    "DXCOnboarding['Role'] = DXCOnboarding['Role'].replace(['Agile Coach'],['Other'])\n",
    "DXCOnboarding['Role'] = DXCOnboarding['Role'].replace(['Solution Designer'],['Other'])\n",
    "DXCOnboarding['Role'] = DXCOnboarding['Role'].replace(['Developer'],['Other'])\n",
    "DXCOnboarding['Role'] = DXCOnboarding['Role'].replace(['Transition Manager'],['Other'])\n",
    "DXCOnboarding['Role'] = DXCOnboarding['Role'].replace(['Product Owner'],['Other'])\n",
    "DXCOnboarding['Role'] = DXCOnboarding['Role'].replace(['Lead Developer'],['Other'])\n",
    "DXCOnboarding['Role'] = DXCOnboarding['Role'].replace(['Journey Expert'],['Other'])\n",
    "DXCOnboarding['Role'] = DXCOnboarding['Role'].replace(['SDET - Automation Tester'],['Tester'])\n",
    "DXCOnboarding['Role'] = DXCOnboarding['Role'].replace(['Chapter Lead'],['Other'])\n",
    "DXCOnboarding['Role'] = DXCOnboarding['Role'].replace(['PMO Analyst'],['Other'])\n",
    "DXCOnboarding['Role'] = DXCOnboarding['Role'].replace(['Delivery Partner'],['Other'])"
   ]
  },
  {
   "cell_type": "code",
   "execution_count": 29,
   "metadata": {
    "collapsed": true
   },
   "outputs": [],
   "source": [
    "tribeOnb = DXCOnboarding[((DXCOnboarding['Onboarding Status']=='Onboarding Completed'))]"
   ]
  },
  {
   "cell_type": "code",
   "execution_count": 30,
   "metadata": {
    "collapsed": true
   },
   "outputs": [],
   "source": [
    "OnboardingCompleteResource = tribeOnb[['Partner','Resource Name','Role','Technical Start Date','Squad']]"
   ]
  },
  {
   "cell_type": "code",
   "execution_count": 31,
   "metadata": {
    "collapsed": true
   },
   "outputs": [],
   "source": [
    "OnboardingCompleteResource = OnboardingCompleteResource.fillna('')"
   ]
  },
  {
   "cell_type": "code",
   "execution_count": 32,
   "metadata": {
    "collapsed": true
   },
   "outputs": [],
   "source": [
    "OnboardingCompleteResource.to_csv('\\\\NotBackedUp\\\\SOE\\\\pyscript\\\\Tribe\\\\'+TribeName+'\\\\Onboarding_Complete_'+TribeName+'.csv',sep=',',index=None)"
   ]
  },
  {
   "cell_type": "code",
   "execution_count": 33,
   "metadata": {
    "collapsed": true
   },
   "outputs": [],
   "source": [
    "tribeOnb=tribeOnb.groupby(['Role'])['ID'].count().reset_index(name='Onboarding Completed')"
   ]
  },
  {
   "cell_type": "code",
   "execution_count": 34,
   "metadata": {
    "collapsed": true
   },
   "outputs": [],
   "source": [
    "tribeInprg=DXCOnboarding[((DXCOnboarding['Onboarding Status']=='Onboarding In Progress'))]\n",
    "OnboardingInProgressResource = tribeInprg[['Partner','Resource Name','Role','Technical Start Date','Squad',]]"
   ]
  },
  {
   "cell_type": "code",
   "execution_count": 35,
   "metadata": {
    "collapsed": true
   },
   "outputs": [],
   "source": [
    "OnboardingInProgressResource = OnboardingInProgressResource.fillna('')"
   ]
  },
  {
   "cell_type": "code",
   "execution_count": 36,
   "metadata": {
    "collapsed": true
   },
   "outputs": [],
   "source": [
    "#OnboardingInProgressResource['Technical Start Date'] = pd.to_datetime(OnboardingInProgressResource['Technical Start Date'],format='%Y-%m-%d')\n",
    "#OnboardingInProgressResource['Technical Start Date'] = OnboardingInProgressResource['Technical Start Date'].apply(lambda x: x.strftime('%Y-%m-%d'))"
   ]
  },
  {
   "cell_type": "code",
   "execution_count": 37,
   "metadata": {
    "collapsed": true
   },
   "outputs": [],
   "source": [
    "OnboardingInProgressResource.to_csv('\\\\NotBackedUp\\\\SOE\\\\pyscript\\\\Tribe\\\\'+TribeName+'\\\\Onboarding_InProgress_'+TribeName+'.csv',sep=',',index=None)"
   ]
  },
  {
   "cell_type": "code",
   "execution_count": 38,
   "metadata": {
    "collapsed": true
   },
   "outputs": [],
   "source": [
    "tribeInprg=tribeInprg.groupby(['Role'])['ID'].count().reset_index(name='Onboarding In Progress')"
   ]
  },
  {
   "cell_type": "code",
   "execution_count": 39,
   "metadata": {
    "collapsed": true
   },
   "outputs": [],
   "source": [
    "tribeinit=DXCOnboarding[((DXCOnboarding['Onboarding Status']=='Onboarding Initiated'))]\n",
    "OnboardingInitiated = tribeinit[['Partner','Resource Name','Role','Technical Start Date','Squad']]\n",
    "OnboardingInitiated = OnboardingInitiated.fillna('')\n",
    "#OnboardingInitiated['Technical Start Date'] = pd.to_datetime(OnboardingInitiated['Technical Start Date'],format='%Y-%m-%d')\n",
    "#OnboardingInitiated['Technical Start Date'] = OnboardingInitiated['Technical Start Date'].apply(lambda x: x.strftime('%Y-%m-%d'))"
   ]
  },
  {
   "cell_type": "code",
   "execution_count": 40,
   "metadata": {
    "collapsed": true
   },
   "outputs": [],
   "source": [
    "OnboardingInitiated.to_csv('\\\\NotBackedUp\\\\SOE\\\\pyscript\\\\Tribe\\\\'+TribeName+'\\\\Onboarding_Initiated_'+TribeName+'.csv',sep=',',index=None)"
   ]
  },
  {
   "cell_type": "code",
   "execution_count": 41,
   "metadata": {
    "collapsed": true
   },
   "outputs": [],
   "source": [
    "tribeinit=tribeinit.groupby(['Role'])['ID'].count().reset_index(name='Onboarding Initiated')"
   ]
  },
  {
   "cell_type": "code",
   "execution_count": 42,
   "metadata": {
    "collapsed": true
   },
   "outputs": [],
   "source": [
    "DefaultRoles=['Engineer','Tester','Release Lead','Analyst','Tech Area Architect','Scrum Master','Other']\n",
    "DefaultRoles = pd.DataFrame(DefaultRoles)\n",
    "DefaultRoles.columns=['Role']"
   ]
  },
  {
   "cell_type": "code",
   "execution_count": 43,
   "metadata": {
    "collapsed": true
   },
   "outputs": [],
   "source": [
    "ttlonb=[tribeOnb,tribeInprg,tribeinit,DefaultRoles]"
   ]
  },
  {
   "cell_type": "code",
   "execution_count": 44,
   "metadata": {
    "collapsed": true
   },
   "outputs": [],
   "source": [
    "TotalOnboarded=reduce(lambda left,right: pd.merge(left,right,on=['Role'],how='outer'),ttlonb)"
   ]
  },
  {
   "cell_type": "code",
   "execution_count": 45,
   "metadata": {},
   "outputs": [],
   "source": [
    "TotalOnboarded=TotalOnboarded[['Role','Onboarding Completed','Onboarding In Progress','Onboarding Initiated']]"
   ]
  },
  {
   "cell_type": "code",
   "execution_count": 46,
   "metadata": {
    "collapsed": true
   },
   "outputs": [],
   "source": [
    "TotalOnboarded[['Onboarding Completed','Onboarding In Progress','Onboarding Initiated']]=TotalOnboarded[['Onboarding Completed','Onboarding In Progress','Onboarding Initiated']].fillna(0)\n",
    "TotalOnboarded[['Onboarding Completed','Onboarding In Progress','Onboarding Initiated']]=TotalOnboarded[['Onboarding Completed','Onboarding In Progress','Onboarding Initiated']].astype(int)"
   ]
  },
  {
   "cell_type": "code",
   "execution_count": 47,
   "metadata": {},
   "outputs": [],
   "source": [
    "TotalOnboarded = TotalOnboarded.transpose()\n",
    "TotalOnboarded.columns = TotalOnboarded.iloc[0]\n",
    "TotalOnboarded = TotalOnboarded[1:]\n",
    "TotalOnboarded = TotalOnboarded[['Engineer','Tester','Release Lead','Analyst','Tech Area Architect','Scrum Master','Other']]"
   ]
  },
  {
   "cell_type": "code",
   "execution_count": 48,
   "metadata": {},
   "outputs": [
    {
     "data": {
      "text/html": [
       "<div>\n",
       "<style>\n",
       "    .dataframe thead tr:only-child th {\n",
       "        text-align: right;\n",
       "    }\n",
       "\n",
       "    .dataframe thead th {\n",
       "        text-align: left;\n",
       "    }\n",
       "\n",
       "    .dataframe tbody tr th {\n",
       "        vertical-align: top;\n",
       "    }\n",
       "</style>\n",
       "<table border=\"1\" class=\"dataframe\">\n",
       "  <thead>\n",
       "    <tr style=\"text-align: right;\">\n",
       "      <th>Role</th>\n",
       "      <th>Engineer</th>\n",
       "      <th>Tester</th>\n",
       "      <th>Release Lead</th>\n",
       "      <th>Analyst</th>\n",
       "      <th>Tech Area Architect</th>\n",
       "      <th>Scrum Master</th>\n",
       "      <th>Other</th>\n",
       "    </tr>\n",
       "  </thead>\n",
       "  <tbody>\n",
       "    <tr>\n",
       "      <th>Onboarding Completed</th>\n",
       "      <td>0</td>\n",
       "      <td>0</td>\n",
       "      <td>0</td>\n",
       "      <td>0</td>\n",
       "      <td>0</td>\n",
       "      <td>0</td>\n",
       "      <td>0</td>\n",
       "    </tr>\n",
       "    <tr>\n",
       "      <th>Onboarding In Progress</th>\n",
       "      <td>1</td>\n",
       "      <td>0</td>\n",
       "      <td>0</td>\n",
       "      <td>0</td>\n",
       "      <td>0</td>\n",
       "      <td>0</td>\n",
       "      <td>1</td>\n",
       "    </tr>\n",
       "    <tr>\n",
       "      <th>Onboarding Initiated</th>\n",
       "      <td>0</td>\n",
       "      <td>0</td>\n",
       "      <td>0</td>\n",
       "      <td>0</td>\n",
       "      <td>0</td>\n",
       "      <td>0</td>\n",
       "      <td>0</td>\n",
       "    </tr>\n",
       "  </tbody>\n",
       "</table>\n",
       "</div>"
      ],
      "text/plain": [
       "Role                   Engineer Tester Release Lead Analyst  \\\n",
       "Onboarding Completed          0      0            0       0   \n",
       "Onboarding In Progress        1      0            0       0   \n",
       "Onboarding Initiated          0      0            0       0   \n",
       "\n",
       "Role                   Tech Area Architect Scrum Master Other  \n",
       "Onboarding Completed                     0            0     0  \n",
       "Onboarding In Progress                   0            0     1  \n",
       "Onboarding Initiated                     0            0     0  "
      ]
     },
     "execution_count": 48,
     "metadata": {},
     "output_type": "execute_result"
    }
   ],
   "source": [
    "TotalOnboarded"
   ]
  },
  {
   "cell_type": "code",
   "execution_count": 49,
   "metadata": {
    "collapsed": true
   },
   "outputs": [],
   "source": [
    "TotalOnboarded['Total']=TotalOnboarded.sum(axis=1) \n",
    "TotalOnboarded['Total'] = TotalOnboarded['Total'].astype(int)"
   ]
  },
  {
   "cell_type": "code",
   "execution_count": 50,
   "metadata": {},
   "outputs": [
    {
     "data": {
      "text/html": [
       "<div>\n",
       "<style>\n",
       "    .dataframe thead tr:only-child th {\n",
       "        text-align: right;\n",
       "    }\n",
       "\n",
       "    .dataframe thead th {\n",
       "        text-align: left;\n",
       "    }\n",
       "\n",
       "    .dataframe tbody tr th {\n",
       "        vertical-align: top;\n",
       "    }\n",
       "</style>\n",
       "<table border=\"1\" class=\"dataframe\">\n",
       "  <thead>\n",
       "    <tr style=\"text-align: right;\">\n",
       "      <th>Role</th>\n",
       "      <th>Engineer</th>\n",
       "      <th>Tester</th>\n",
       "      <th>Release Lead</th>\n",
       "      <th>Analyst</th>\n",
       "      <th>Tech Area Architect</th>\n",
       "      <th>Scrum Master</th>\n",
       "      <th>Other</th>\n",
       "      <th>Total</th>\n",
       "    </tr>\n",
       "  </thead>\n",
       "  <tbody>\n",
       "    <tr>\n",
       "      <th>Onboarding Completed</th>\n",
       "      <td>0</td>\n",
       "      <td>0</td>\n",
       "      <td>0</td>\n",
       "      <td>0</td>\n",
       "      <td>0</td>\n",
       "      <td>0</td>\n",
       "      <td>0</td>\n",
       "      <td>0</td>\n",
       "    </tr>\n",
       "    <tr>\n",
       "      <th>Onboarding In Progress</th>\n",
       "      <td>1</td>\n",
       "      <td>0</td>\n",
       "      <td>0</td>\n",
       "      <td>0</td>\n",
       "      <td>0</td>\n",
       "      <td>0</td>\n",
       "      <td>1</td>\n",
       "      <td>2</td>\n",
       "    </tr>\n",
       "    <tr>\n",
       "      <th>Onboarding Initiated</th>\n",
       "      <td>0</td>\n",
       "      <td>0</td>\n",
       "      <td>0</td>\n",
       "      <td>0</td>\n",
       "      <td>0</td>\n",
       "      <td>0</td>\n",
       "      <td>0</td>\n",
       "      <td>0</td>\n",
       "    </tr>\n",
       "  </tbody>\n",
       "</table>\n",
       "</div>"
      ],
      "text/plain": [
       "Role                   Engineer Tester Release Lead Analyst  \\\n",
       "Onboarding Completed          0      0            0       0   \n",
       "Onboarding In Progress        1      0            0       0   \n",
       "Onboarding Initiated          0      0            0       0   \n",
       "\n",
       "Role                   Tech Area Architect Scrum Master Other  Total  \n",
       "Onboarding Completed                     0            0     0      0  \n",
       "Onboarding In Progress                   0            0     1      2  \n",
       "Onboarding Initiated                     0            0     0      0  "
      ]
     },
     "execution_count": 50,
     "metadata": {},
     "output_type": "execute_result"
    }
   ],
   "source": [
    "TotalOnboarded"
   ]
  },
  {
   "cell_type": "code",
   "execution_count": 51,
   "metadata": {
    "collapsed": true
   },
   "outputs": [],
   "source": [
    "TotalOnboarded.to_csv('\\\\NotBackedUp\\\\SOE\\\\pyscript\\\\Tribe\\\\'+TribeName+'\\\\Total_Onboarded_'+TribeName+'.csv',sep=',')"
   ]
  },
  {
   "cell_type": "code",
   "execution_count": 52,
   "metadata": {
    "collapsed": true
   },
   "outputs": [],
   "source": [
    "HCLRoles = TribeHCL\n",
    "HCLRoles.loc[HCLRoles['Role'].str.contains('Engineer'),'Role'] = 'Engineer'\n",
    "#HCLRoles.loc[HCLRoles['Role'].str.contains('Expert'),'Role'] = 'Operations Expert'\n",
    "HCLRoles.loc[HCLRoles['Role'].str.contains('Partner'),'Role'] = 'Delivery Partner'\n",
    "HCLRoles.loc[HCLRoles['Role'].str.contains('SDET - Automation Tester'),'Role'] = 'Tester'\n",
    "HCLHired = HCLRoles[HCLRoles['Application Status']=='Hired']\n",
    "HCLHired = HCLHired.groupby(['Role'])['ID'].count().reset_index(name='HCLHire')\n",
    "HCLRoles=HCLRoles.groupby(['Role'])['ID'].count().reset_index(name='HCL')"
   ]
  },
  {
   "cell_type": "code",
   "execution_count": 53,
   "metadata": {
    "collapsed": true
   },
   "outputs": [],
   "source": [
    "InfyRoles = TribeINFY\n",
    "InfyRoles.loc[InfyRoles['Role'].str.contains('Engineer'),'Role'] = 'Engineer'\n",
    "#InfyRoles.loc[InfyRoles['Role'].str.contains('Expert'),'Role'] = 'Operations Expert'\n",
    "InfyRoles.loc[InfyRoles['Role'].str.contains('Partner'),'Role'] = 'Delivery Partner'\n",
    "InfyRoles.loc[InfyRoles['Role'].str.contains('SDET - Automation Tester'),'Role'] = 'Tester'\n",
    "InfyHired = InfyRoles[InfyRoles['Application Status']=='Hired']\n",
    "InfyHired = InfyHired.groupby(['Role'])['ID'].count().reset_index(name='InfyHire')\n",
    "InfyRoles=InfyRoles.groupby(['Role'])['ID'].count().reset_index(name='Infosys')"
   ]
  },
  {
   "cell_type": "code",
   "execution_count": 54,
   "metadata": {
    "collapsed": true
   },
   "outputs": [],
   "source": [
    "ps = [HCLHired,InfyHired,HCLRoles,InfyRoles,role]"
   ]
  },
  {
   "cell_type": "code",
   "execution_count": 55,
   "metadata": {
    "collapsed": true
   },
   "outputs": [],
   "source": [
    "Profiles=reduce(lambda left,right: pd.merge(left,right,on=['Role'],how='outer'),ps)"
   ]
  },
  {
   "cell_type": "code",
   "execution_count": 56,
   "metadata": {},
   "outputs": [
    {
     "data": {
      "text/html": [
       "<div>\n",
       "<style>\n",
       "    .dataframe thead tr:only-child th {\n",
       "        text-align: right;\n",
       "    }\n",
       "\n",
       "    .dataframe thead th {\n",
       "        text-align: left;\n",
       "    }\n",
       "\n",
       "    .dataframe tbody tr th {\n",
       "        vertical-align: top;\n",
       "    }\n",
       "</style>\n",
       "<table border=\"1\" class=\"dataframe\">\n",
       "  <thead>\n",
       "    <tr style=\"text-align: right;\">\n",
       "      <th></th>\n",
       "      <th>Role</th>\n",
       "      <th>HCLHire</th>\n",
       "      <th>InfyHire</th>\n",
       "      <th>HCL</th>\n",
       "      <th>Infosys</th>\n",
       "    </tr>\n",
       "  </thead>\n",
       "  <tbody>\n",
       "    <tr>\n",
       "      <th>0</th>\n",
       "      <td>Engineer</td>\n",
       "      <td>1.0</td>\n",
       "      <td>NaN</td>\n",
       "      <td>1.0</td>\n",
       "      <td>NaN</td>\n",
       "    </tr>\n",
       "    <tr>\n",
       "      <th>1</th>\n",
       "      <td>Solution Designer</td>\n",
       "      <td>NaN</td>\n",
       "      <td>NaN</td>\n",
       "      <td>1.0</td>\n",
       "      <td>NaN</td>\n",
       "    </tr>\n",
       "    <tr>\n",
       "      <th>2</th>\n",
       "      <td>Analyst</td>\n",
       "      <td>NaN</td>\n",
       "      <td>NaN</td>\n",
       "      <td>NaN</td>\n",
       "      <td>NaN</td>\n",
       "    </tr>\n",
       "    <tr>\n",
       "      <th>3</th>\n",
       "      <td>Tester</td>\n",
       "      <td>NaN</td>\n",
       "      <td>NaN</td>\n",
       "      <td>NaN</td>\n",
       "      <td>NaN</td>\n",
       "    </tr>\n",
       "    <tr>\n",
       "      <th>4</th>\n",
       "      <td>Test Lead</td>\n",
       "      <td>NaN</td>\n",
       "      <td>NaN</td>\n",
       "      <td>NaN</td>\n",
       "      <td>NaN</td>\n",
       "    </tr>\n",
       "    <tr>\n",
       "      <th>5</th>\n",
       "      <td>Environment Manager</td>\n",
       "      <td>NaN</td>\n",
       "      <td>NaN</td>\n",
       "      <td>NaN</td>\n",
       "      <td>NaN</td>\n",
       "    </tr>\n",
       "    <tr>\n",
       "      <th>6</th>\n",
       "      <td>Release Lead</td>\n",
       "      <td>NaN</td>\n",
       "      <td>NaN</td>\n",
       "      <td>NaN</td>\n",
       "      <td>NaN</td>\n",
       "    </tr>\n",
       "    <tr>\n",
       "      <th>7</th>\n",
       "      <td>Tech Area Architect</td>\n",
       "      <td>NaN</td>\n",
       "      <td>NaN</td>\n",
       "      <td>NaN</td>\n",
       "      <td>NaN</td>\n",
       "    </tr>\n",
       "    <tr>\n",
       "      <th>8</th>\n",
       "      <td>Operations Expert</td>\n",
       "      <td>NaN</td>\n",
       "      <td>NaN</td>\n",
       "      <td>NaN</td>\n",
       "      <td>NaN</td>\n",
       "    </tr>\n",
       "    <tr>\n",
       "      <th>9</th>\n",
       "      <td>Agile Coach</td>\n",
       "      <td>NaN</td>\n",
       "      <td>NaN</td>\n",
       "      <td>NaN</td>\n",
       "      <td>NaN</td>\n",
       "    </tr>\n",
       "    <tr>\n",
       "      <th>10</th>\n",
       "      <td>Scrum Master</td>\n",
       "      <td>NaN</td>\n",
       "      <td>NaN</td>\n",
       "      <td>NaN</td>\n",
       "      <td>NaN</td>\n",
       "    </tr>\n",
       "    <tr>\n",
       "      <th>11</th>\n",
       "      <td>Developer</td>\n",
       "      <td>NaN</td>\n",
       "      <td>NaN</td>\n",
       "      <td>NaN</td>\n",
       "      <td>NaN</td>\n",
       "    </tr>\n",
       "    <tr>\n",
       "      <th>12</th>\n",
       "      <td>Transition Manager</td>\n",
       "      <td>NaN</td>\n",
       "      <td>NaN</td>\n",
       "      <td>NaN</td>\n",
       "      <td>NaN</td>\n",
       "    </tr>\n",
       "    <tr>\n",
       "      <th>13</th>\n",
       "      <td>SDET - Automation Tester</td>\n",
       "      <td>NaN</td>\n",
       "      <td>NaN</td>\n",
       "      <td>NaN</td>\n",
       "      <td>NaN</td>\n",
       "    </tr>\n",
       "    <tr>\n",
       "      <th>14</th>\n",
       "      <td>Product Owner</td>\n",
       "      <td>NaN</td>\n",
       "      <td>NaN</td>\n",
       "      <td>NaN</td>\n",
       "      <td>NaN</td>\n",
       "    </tr>\n",
       "    <tr>\n",
       "      <th>15</th>\n",
       "      <td>Lead Developer</td>\n",
       "      <td>NaN</td>\n",
       "      <td>NaN</td>\n",
       "      <td>NaN</td>\n",
       "      <td>NaN</td>\n",
       "    </tr>\n",
       "    <tr>\n",
       "      <th>16</th>\n",
       "      <td>Journey Expert</td>\n",
       "      <td>NaN</td>\n",
       "      <td>NaN</td>\n",
       "      <td>NaN</td>\n",
       "      <td>NaN</td>\n",
       "    </tr>\n",
       "  </tbody>\n",
       "</table>\n",
       "</div>"
      ],
      "text/plain": [
       "                        Role  HCLHire  InfyHire  HCL  Infosys\n",
       "0                   Engineer      1.0       NaN  1.0      NaN\n",
       "1          Solution Designer      NaN       NaN  1.0      NaN\n",
       "2                    Analyst      NaN       NaN  NaN      NaN\n",
       "3                     Tester      NaN       NaN  NaN      NaN\n",
       "4                  Test Lead      NaN       NaN  NaN      NaN\n",
       "5        Environment Manager      NaN       NaN  NaN      NaN\n",
       "6               Release Lead      NaN       NaN  NaN      NaN\n",
       "7        Tech Area Architect      NaN       NaN  NaN      NaN\n",
       "8          Operations Expert      NaN       NaN  NaN      NaN\n",
       "9                Agile Coach      NaN       NaN  NaN      NaN\n",
       "10              Scrum Master      NaN       NaN  NaN      NaN\n",
       "11                 Developer      NaN       NaN  NaN      NaN\n",
       "12        Transition Manager      NaN       NaN  NaN      NaN\n",
       "13  SDET - Automation Tester      NaN       NaN  NaN      NaN\n",
       "14             Product Owner      NaN       NaN  NaN      NaN\n",
       "15            Lead Developer      NaN       NaN  NaN      NaN\n",
       "16            Journey Expert      NaN       NaN  NaN      NaN"
      ]
     },
     "execution_count": 56,
     "metadata": {},
     "output_type": "execute_result"
    }
   ],
   "source": [
    "Profiles"
   ]
  },
  {
   "cell_type": "code",
   "execution_count": 57,
   "metadata": {
    "collapsed": true
   },
   "outputs": [],
   "source": [
    "Profiles[['HCLHire','InfyHire','HCL','Infosys']]=Profiles[['HCLHire','InfyHire','HCL','Infosys']].fillna(0)\n",
    "Profiles[['HCLHire','InfyHire','HCL','Infosys']]=Profiles[['HCLHire','InfyHire','HCL','Infosys']].astype(int)"
   ]
  },
  {
   "cell_type": "code",
   "execution_count": 58,
   "metadata": {
    "collapsed": true
   },
   "outputs": [],
   "source": [
    "Profiles['ProfilesSupplied']= Profiles['HCL'] +  Profiles['Infosys']"
   ]
  },
  {
   "cell_type": "code",
   "execution_count": 59,
   "metadata": {
    "collapsed": true
   },
   "outputs": [],
   "source": [
    "Profiles['Hire'] = Profiles['HCLHire']+Profiles['InfyHire']"
   ]
  },
  {
   "cell_type": "code",
   "execution_count": 60,
   "metadata": {
    "collapsed": true
   },
   "outputs": [],
   "source": [
    "ProfileSuppliedRoleVendor = Profiles[['Role','HCL','Infosys','ProfilesSupplied']]"
   ]
  },
  {
   "cell_type": "code",
   "execution_count": 61,
   "metadata": {
    "collapsed": true
   },
   "outputs": [],
   "source": [
    "ProfileSuppliedRoleVendor = ProfileSuppliedRoleVendor.append(ProfileSuppliedRoleVendor.sum(numeric_only=True), ignore_index=True)"
   ]
  },
  {
   "cell_type": "code",
   "execution_count": 62,
   "metadata": {
    "collapsed": true
   },
   "outputs": [],
   "source": [
    "ProfileSuppliedRoleVendor[['HCL','Infosys','ProfilesSupplied']]=ProfileSuppliedRoleVendor[['HCL','Infosys','ProfilesSupplied']].astype(int)"
   ]
  },
  {
   "cell_type": "code",
   "execution_count": 63,
   "metadata": {
    "collapsed": true
   },
   "outputs": [],
   "source": [
    "ProfileSuppliedRoleVendor = ProfileSuppliedRoleVendor.fillna('Total')"
   ]
  },
  {
   "cell_type": "code",
   "execution_count": 64,
   "metadata": {},
   "outputs": [
    {
     "data": {
      "text/html": [
       "<div>\n",
       "<style>\n",
       "    .dataframe thead tr:only-child th {\n",
       "        text-align: right;\n",
       "    }\n",
       "\n",
       "    .dataframe thead th {\n",
       "        text-align: left;\n",
       "    }\n",
       "\n",
       "    .dataframe tbody tr th {\n",
       "        vertical-align: top;\n",
       "    }\n",
       "</style>\n",
       "<table border=\"1\" class=\"dataframe\">\n",
       "  <thead>\n",
       "    <tr style=\"text-align: right;\">\n",
       "      <th></th>\n",
       "      <th>Role</th>\n",
       "      <th>HCL</th>\n",
       "      <th>Infosys</th>\n",
       "      <th>ProfilesSupplied</th>\n",
       "    </tr>\n",
       "  </thead>\n",
       "  <tbody>\n",
       "    <tr>\n",
       "      <th>0</th>\n",
       "      <td>Engineer</td>\n",
       "      <td>1</td>\n",
       "      <td>0</td>\n",
       "      <td>1</td>\n",
       "    </tr>\n",
       "    <tr>\n",
       "      <th>1</th>\n",
       "      <td>Solution Designer</td>\n",
       "      <td>1</td>\n",
       "      <td>0</td>\n",
       "      <td>1</td>\n",
       "    </tr>\n",
       "    <tr>\n",
       "      <th>2</th>\n",
       "      <td>Analyst</td>\n",
       "      <td>0</td>\n",
       "      <td>0</td>\n",
       "      <td>0</td>\n",
       "    </tr>\n",
       "    <tr>\n",
       "      <th>3</th>\n",
       "      <td>Tester</td>\n",
       "      <td>0</td>\n",
       "      <td>0</td>\n",
       "      <td>0</td>\n",
       "    </tr>\n",
       "    <tr>\n",
       "      <th>4</th>\n",
       "      <td>Test Lead</td>\n",
       "      <td>0</td>\n",
       "      <td>0</td>\n",
       "      <td>0</td>\n",
       "    </tr>\n",
       "    <tr>\n",
       "      <th>5</th>\n",
       "      <td>Environment Manager</td>\n",
       "      <td>0</td>\n",
       "      <td>0</td>\n",
       "      <td>0</td>\n",
       "    </tr>\n",
       "    <tr>\n",
       "      <th>6</th>\n",
       "      <td>Release Lead</td>\n",
       "      <td>0</td>\n",
       "      <td>0</td>\n",
       "      <td>0</td>\n",
       "    </tr>\n",
       "    <tr>\n",
       "      <th>7</th>\n",
       "      <td>Tech Area Architect</td>\n",
       "      <td>0</td>\n",
       "      <td>0</td>\n",
       "      <td>0</td>\n",
       "    </tr>\n",
       "    <tr>\n",
       "      <th>8</th>\n",
       "      <td>Operations Expert</td>\n",
       "      <td>0</td>\n",
       "      <td>0</td>\n",
       "      <td>0</td>\n",
       "    </tr>\n",
       "    <tr>\n",
       "      <th>9</th>\n",
       "      <td>Agile Coach</td>\n",
       "      <td>0</td>\n",
       "      <td>0</td>\n",
       "      <td>0</td>\n",
       "    </tr>\n",
       "    <tr>\n",
       "      <th>10</th>\n",
       "      <td>Scrum Master</td>\n",
       "      <td>0</td>\n",
       "      <td>0</td>\n",
       "      <td>0</td>\n",
       "    </tr>\n",
       "    <tr>\n",
       "      <th>11</th>\n",
       "      <td>Developer</td>\n",
       "      <td>0</td>\n",
       "      <td>0</td>\n",
       "      <td>0</td>\n",
       "    </tr>\n",
       "    <tr>\n",
       "      <th>12</th>\n",
       "      <td>Transition Manager</td>\n",
       "      <td>0</td>\n",
       "      <td>0</td>\n",
       "      <td>0</td>\n",
       "    </tr>\n",
       "    <tr>\n",
       "      <th>13</th>\n",
       "      <td>SDET - Automation Tester</td>\n",
       "      <td>0</td>\n",
       "      <td>0</td>\n",
       "      <td>0</td>\n",
       "    </tr>\n",
       "    <tr>\n",
       "      <th>14</th>\n",
       "      <td>Product Owner</td>\n",
       "      <td>0</td>\n",
       "      <td>0</td>\n",
       "      <td>0</td>\n",
       "    </tr>\n",
       "    <tr>\n",
       "      <th>15</th>\n",
       "      <td>Lead Developer</td>\n",
       "      <td>0</td>\n",
       "      <td>0</td>\n",
       "      <td>0</td>\n",
       "    </tr>\n",
       "    <tr>\n",
       "      <th>16</th>\n",
       "      <td>Journey Expert</td>\n",
       "      <td>0</td>\n",
       "      <td>0</td>\n",
       "      <td>0</td>\n",
       "    </tr>\n",
       "    <tr>\n",
       "      <th>17</th>\n",
       "      <td>Total</td>\n",
       "      <td>2</td>\n",
       "      <td>0</td>\n",
       "      <td>2</td>\n",
       "    </tr>\n",
       "  </tbody>\n",
       "</table>\n",
       "</div>"
      ],
      "text/plain": [
       "                        Role  HCL  Infosys  ProfilesSupplied\n",
       "0                   Engineer    1        0                 1\n",
       "1          Solution Designer    1        0                 1\n",
       "2                    Analyst    0        0                 0\n",
       "3                     Tester    0        0                 0\n",
       "4                  Test Lead    0        0                 0\n",
       "5        Environment Manager    0        0                 0\n",
       "6               Release Lead    0        0                 0\n",
       "7        Tech Area Architect    0        0                 0\n",
       "8          Operations Expert    0        0                 0\n",
       "9                Agile Coach    0        0                 0\n",
       "10              Scrum Master    0        0                 0\n",
       "11                 Developer    0        0                 0\n",
       "12        Transition Manager    0        0                 0\n",
       "13  SDET - Automation Tester    0        0                 0\n",
       "14             Product Owner    0        0                 0\n",
       "15            Lead Developer    0        0                 0\n",
       "16            Journey Expert    0        0                 0\n",
       "17                     Total    2        0                 2"
      ]
     },
     "execution_count": 64,
     "metadata": {},
     "output_type": "execute_result"
    }
   ],
   "source": [
    "ProfileSuppliedRoleVendor"
   ]
  },
  {
   "cell_type": "code",
   "execution_count": 65,
   "metadata": {
    "collapsed": true
   },
   "outputs": [],
   "source": [
    "success = Profiles[['Role','Hire',]]"
   ]
  },
  {
   "cell_type": "code",
   "execution_count": 66,
   "metadata": {
    "collapsed": true
   },
   "outputs": [],
   "source": [
    "successdemand = TotalDemand[['Role','Grand Total']]"
   ]
  },
  {
   "cell_type": "code",
   "execution_count": 67,
   "metadata": {
    "collapsed": true
   },
   "outputs": [],
   "source": [
    "sr = [success,successdemand]"
   ]
  },
  {
   "cell_type": "code",
   "execution_count": 68,
   "metadata": {
    "collapsed": true
   },
   "outputs": [],
   "source": [
    "Successrate=reduce(lambda left,right: pd.merge(left,right,on=['Role'],how='outer'),sr)"
   ]
  },
  {
   "cell_type": "code",
   "execution_count": 69,
   "metadata": {
    "collapsed": true
   },
   "outputs": [],
   "source": [
    "Successrate = Successrate.dropna()"
   ]
  },
  {
   "cell_type": "code",
   "execution_count": 70,
   "metadata": {
    "collapsed": true
   },
   "outputs": [],
   "source": [
    "Successrate=Successrate.rename(columns={'Grand Total':'Total Demand','Hire':'Total Hired'})\n",
    "Successrate = Successrate[['Role','Total Demand','Total Hired']]"
   ]
  },
  {
   "cell_type": "code",
   "execution_count": 71,
   "metadata": {},
   "outputs": [
    {
     "data": {
      "text/html": [
       "<div>\n",
       "<style>\n",
       "    .dataframe thead tr:only-child th {\n",
       "        text-align: right;\n",
       "    }\n",
       "\n",
       "    .dataframe thead th {\n",
       "        text-align: left;\n",
       "    }\n",
       "\n",
       "    .dataframe tbody tr th {\n",
       "        vertical-align: top;\n",
       "    }\n",
       "</style>\n",
       "<table border=\"1\" class=\"dataframe\">\n",
       "  <thead>\n",
       "    <tr style=\"text-align: right;\">\n",
       "      <th></th>\n",
       "      <th>Role</th>\n",
       "      <th>Total Demand</th>\n",
       "      <th>Total Hired</th>\n",
       "    </tr>\n",
       "  </thead>\n",
       "  <tbody>\n",
       "    <tr>\n",
       "      <th>0</th>\n",
       "      <td>Engineer</td>\n",
       "      <td>1</td>\n",
       "      <td>1.0</td>\n",
       "    </tr>\n",
       "    <tr>\n",
       "      <th>1</th>\n",
       "      <td>Solution Designer</td>\n",
       "      <td>2</td>\n",
       "      <td>0.0</td>\n",
       "    </tr>\n",
       "    <tr>\n",
       "      <th>2</th>\n",
       "      <td>Analyst</td>\n",
       "      <td>0</td>\n",
       "      <td>0.0</td>\n",
       "    </tr>\n",
       "    <tr>\n",
       "      <th>3</th>\n",
       "      <td>Tester</td>\n",
       "      <td>0</td>\n",
       "      <td>0.0</td>\n",
       "    </tr>\n",
       "    <tr>\n",
       "      <th>4</th>\n",
       "      <td>Test Lead</td>\n",
       "      <td>0</td>\n",
       "      <td>0.0</td>\n",
       "    </tr>\n",
       "    <tr>\n",
       "      <th>5</th>\n",
       "      <td>Environment Manager</td>\n",
       "      <td>0</td>\n",
       "      <td>0.0</td>\n",
       "    </tr>\n",
       "    <tr>\n",
       "      <th>6</th>\n",
       "      <td>Release Lead</td>\n",
       "      <td>0</td>\n",
       "      <td>0.0</td>\n",
       "    </tr>\n",
       "    <tr>\n",
       "      <th>7</th>\n",
       "      <td>Tech Area Architect</td>\n",
       "      <td>0</td>\n",
       "      <td>0.0</td>\n",
       "    </tr>\n",
       "    <tr>\n",
       "      <th>8</th>\n",
       "      <td>Operations Expert</td>\n",
       "      <td>0</td>\n",
       "      <td>0.0</td>\n",
       "    </tr>\n",
       "    <tr>\n",
       "      <th>9</th>\n",
       "      <td>Agile Coach</td>\n",
       "      <td>0</td>\n",
       "      <td>0.0</td>\n",
       "    </tr>\n",
       "    <tr>\n",
       "      <th>10</th>\n",
       "      <td>Scrum Master</td>\n",
       "      <td>0</td>\n",
       "      <td>0.0</td>\n",
       "    </tr>\n",
       "    <tr>\n",
       "      <th>11</th>\n",
       "      <td>Developer</td>\n",
       "      <td>0</td>\n",
       "      <td>0.0</td>\n",
       "    </tr>\n",
       "    <tr>\n",
       "      <th>12</th>\n",
       "      <td>Transition Manager</td>\n",
       "      <td>0</td>\n",
       "      <td>0.0</td>\n",
       "    </tr>\n",
       "    <tr>\n",
       "      <th>13</th>\n",
       "      <td>SDET - Automation Tester</td>\n",
       "      <td>0</td>\n",
       "      <td>0.0</td>\n",
       "    </tr>\n",
       "    <tr>\n",
       "      <th>14</th>\n",
       "      <td>Product Owner</td>\n",
       "      <td>0</td>\n",
       "      <td>0.0</td>\n",
       "    </tr>\n",
       "    <tr>\n",
       "      <th>15</th>\n",
       "      <td>Lead Developer</td>\n",
       "      <td>0</td>\n",
       "      <td>0.0</td>\n",
       "    </tr>\n",
       "    <tr>\n",
       "      <th>16</th>\n",
       "      <td>Journey Expert</td>\n",
       "      <td>0</td>\n",
       "      <td>0.0</td>\n",
       "    </tr>\n",
       "  </tbody>\n",
       "</table>\n",
       "</div>"
      ],
      "text/plain": [
       "                        Role  Total Demand  Total Hired\n",
       "0                   Engineer             1          1.0\n",
       "1          Solution Designer             2          0.0\n",
       "2                    Analyst             0          0.0\n",
       "3                     Tester             0          0.0\n",
       "4                  Test Lead             0          0.0\n",
       "5        Environment Manager             0          0.0\n",
       "6               Release Lead             0          0.0\n",
       "7        Tech Area Architect             0          0.0\n",
       "8          Operations Expert             0          0.0\n",
       "9                Agile Coach             0          0.0\n",
       "10              Scrum Master             0          0.0\n",
       "11                 Developer             0          0.0\n",
       "12        Transition Manager             0          0.0\n",
       "13  SDET - Automation Tester             0          0.0\n",
       "14             Product Owner             0          0.0\n",
       "15            Lead Developer             0          0.0\n",
       "16            Journey Expert             0          0.0"
      ]
     },
     "execution_count": 71,
     "metadata": {},
     "output_type": "execute_result"
    }
   ],
   "source": [
    "Successrate"
   ]
  },
  {
   "cell_type": "code",
   "execution_count": 72,
   "metadata": {
    "collapsed": true
   },
   "outputs": [],
   "source": [
    "Successrate = Successrate.append(Successrate.sum(numeric_only=True), ignore_index=True)"
   ]
  },
  {
   "cell_type": "code",
   "execution_count": 73,
   "metadata": {
    "collapsed": true
   },
   "outputs": [],
   "source": [
    "Successrate= Successrate.fillna('Total')"
   ]
  },
  {
   "cell_type": "code",
   "execution_count": 74,
   "metadata": {
    "collapsed": true
   },
   "outputs": [],
   "source": [
    "Successrate[['Total Demand','Total Hired']]=Successrate[['Total Demand','Total Hired']].astype(int)"
   ]
  },
  {
   "cell_type": "code",
   "execution_count": 75,
   "metadata": {},
   "outputs": [
    {
     "data": {
      "text/html": [
       "<div>\n",
       "<style>\n",
       "    .dataframe thead tr:only-child th {\n",
       "        text-align: right;\n",
       "    }\n",
       "\n",
       "    .dataframe thead th {\n",
       "        text-align: left;\n",
       "    }\n",
       "\n",
       "    .dataframe tbody tr th {\n",
       "        vertical-align: top;\n",
       "    }\n",
       "</style>\n",
       "<table border=\"1\" class=\"dataframe\">\n",
       "  <thead>\n",
       "    <tr style=\"text-align: right;\">\n",
       "      <th></th>\n",
       "      <th>Role</th>\n",
       "      <th>Total Demand</th>\n",
       "      <th>Total Hired</th>\n",
       "    </tr>\n",
       "  </thead>\n",
       "  <tbody>\n",
       "    <tr>\n",
       "      <th>0</th>\n",
       "      <td>Engineer</td>\n",
       "      <td>1</td>\n",
       "      <td>1</td>\n",
       "    </tr>\n",
       "    <tr>\n",
       "      <th>1</th>\n",
       "      <td>Solution Designer</td>\n",
       "      <td>2</td>\n",
       "      <td>0</td>\n",
       "    </tr>\n",
       "    <tr>\n",
       "      <th>2</th>\n",
       "      <td>Analyst</td>\n",
       "      <td>0</td>\n",
       "      <td>0</td>\n",
       "    </tr>\n",
       "    <tr>\n",
       "      <th>3</th>\n",
       "      <td>Tester</td>\n",
       "      <td>0</td>\n",
       "      <td>0</td>\n",
       "    </tr>\n",
       "    <tr>\n",
       "      <th>4</th>\n",
       "      <td>Test Lead</td>\n",
       "      <td>0</td>\n",
       "      <td>0</td>\n",
       "    </tr>\n",
       "    <tr>\n",
       "      <th>5</th>\n",
       "      <td>Environment Manager</td>\n",
       "      <td>0</td>\n",
       "      <td>0</td>\n",
       "    </tr>\n",
       "    <tr>\n",
       "      <th>6</th>\n",
       "      <td>Release Lead</td>\n",
       "      <td>0</td>\n",
       "      <td>0</td>\n",
       "    </tr>\n",
       "    <tr>\n",
       "      <th>7</th>\n",
       "      <td>Tech Area Architect</td>\n",
       "      <td>0</td>\n",
       "      <td>0</td>\n",
       "    </tr>\n",
       "    <tr>\n",
       "      <th>8</th>\n",
       "      <td>Operations Expert</td>\n",
       "      <td>0</td>\n",
       "      <td>0</td>\n",
       "    </tr>\n",
       "    <tr>\n",
       "      <th>9</th>\n",
       "      <td>Agile Coach</td>\n",
       "      <td>0</td>\n",
       "      <td>0</td>\n",
       "    </tr>\n",
       "    <tr>\n",
       "      <th>10</th>\n",
       "      <td>Scrum Master</td>\n",
       "      <td>0</td>\n",
       "      <td>0</td>\n",
       "    </tr>\n",
       "    <tr>\n",
       "      <th>11</th>\n",
       "      <td>Developer</td>\n",
       "      <td>0</td>\n",
       "      <td>0</td>\n",
       "    </tr>\n",
       "    <tr>\n",
       "      <th>12</th>\n",
       "      <td>Transition Manager</td>\n",
       "      <td>0</td>\n",
       "      <td>0</td>\n",
       "    </tr>\n",
       "    <tr>\n",
       "      <th>13</th>\n",
       "      <td>SDET - Automation Tester</td>\n",
       "      <td>0</td>\n",
       "      <td>0</td>\n",
       "    </tr>\n",
       "    <tr>\n",
       "      <th>14</th>\n",
       "      <td>Product Owner</td>\n",
       "      <td>0</td>\n",
       "      <td>0</td>\n",
       "    </tr>\n",
       "    <tr>\n",
       "      <th>15</th>\n",
       "      <td>Lead Developer</td>\n",
       "      <td>0</td>\n",
       "      <td>0</td>\n",
       "    </tr>\n",
       "    <tr>\n",
       "      <th>16</th>\n",
       "      <td>Journey Expert</td>\n",
       "      <td>0</td>\n",
       "      <td>0</td>\n",
       "    </tr>\n",
       "    <tr>\n",
       "      <th>17</th>\n",
       "      <td>Total</td>\n",
       "      <td>3</td>\n",
       "      <td>1</td>\n",
       "    </tr>\n",
       "  </tbody>\n",
       "</table>\n",
       "</div>"
      ],
      "text/plain": [
       "                        Role  Total Demand  Total Hired\n",
       "0                   Engineer             1            1\n",
       "1          Solution Designer             2            0\n",
       "2                    Analyst             0            0\n",
       "3                     Tester             0            0\n",
       "4                  Test Lead             0            0\n",
       "5        Environment Manager             0            0\n",
       "6               Release Lead             0            0\n",
       "7        Tech Area Architect             0            0\n",
       "8          Operations Expert             0            0\n",
       "9                Agile Coach             0            0\n",
       "10              Scrum Master             0            0\n",
       "11                 Developer             0            0\n",
       "12        Transition Manager             0            0\n",
       "13  SDET - Automation Tester             0            0\n",
       "14             Product Owner             0            0\n",
       "15            Lead Developer             0            0\n",
       "16            Journey Expert             0            0\n",
       "17                     Total             3            1"
      ]
     },
     "execution_count": 75,
     "metadata": {},
     "output_type": "execute_result"
    }
   ],
   "source": [
    "Successrate"
   ]
  },
  {
   "cell_type": "code",
   "execution_count": 76,
   "metadata": {
    "collapsed": true
   },
   "outputs": [],
   "source": [
    "Successrate['Success Rate']=Successrate.apply(lambda x: Percentage(x['Total Hired'],x['Total Demand']), axis=1)"
   ]
  },
  {
   "cell_type": "code",
   "execution_count": 77,
   "metadata": {},
   "outputs": [
    {
     "data": {
      "text/html": [
       "<div>\n",
       "<style>\n",
       "    .dataframe thead tr:only-child th {\n",
       "        text-align: right;\n",
       "    }\n",
       "\n",
       "    .dataframe thead th {\n",
       "        text-align: left;\n",
       "    }\n",
       "\n",
       "    .dataframe tbody tr th {\n",
       "        vertical-align: top;\n",
       "    }\n",
       "</style>\n",
       "<table border=\"1\" class=\"dataframe\">\n",
       "  <thead>\n",
       "    <tr style=\"text-align: right;\">\n",
       "      <th></th>\n",
       "      <th>Role</th>\n",
       "      <th>Total Demand</th>\n",
       "      <th>Total Hired</th>\n",
       "      <th>Success Rate</th>\n",
       "    </tr>\n",
       "  </thead>\n",
       "  <tbody>\n",
       "    <tr>\n",
       "      <th>0</th>\n",
       "      <td>Engineer</td>\n",
       "      <td>1</td>\n",
       "      <td>1</td>\n",
       "      <td>100</td>\n",
       "    </tr>\n",
       "    <tr>\n",
       "      <th>1</th>\n",
       "      <td>Solution Designer</td>\n",
       "      <td>2</td>\n",
       "      <td>0</td>\n",
       "      <td>0</td>\n",
       "    </tr>\n",
       "    <tr>\n",
       "      <th>2</th>\n",
       "      <td>Analyst</td>\n",
       "      <td>0</td>\n",
       "      <td>0</td>\n",
       "      <td>0</td>\n",
       "    </tr>\n",
       "    <tr>\n",
       "      <th>3</th>\n",
       "      <td>Tester</td>\n",
       "      <td>0</td>\n",
       "      <td>0</td>\n",
       "      <td>0</td>\n",
       "    </tr>\n",
       "    <tr>\n",
       "      <th>4</th>\n",
       "      <td>Test Lead</td>\n",
       "      <td>0</td>\n",
       "      <td>0</td>\n",
       "      <td>0</td>\n",
       "    </tr>\n",
       "    <tr>\n",
       "      <th>5</th>\n",
       "      <td>Environment Manager</td>\n",
       "      <td>0</td>\n",
       "      <td>0</td>\n",
       "      <td>0</td>\n",
       "    </tr>\n",
       "    <tr>\n",
       "      <th>6</th>\n",
       "      <td>Release Lead</td>\n",
       "      <td>0</td>\n",
       "      <td>0</td>\n",
       "      <td>0</td>\n",
       "    </tr>\n",
       "    <tr>\n",
       "      <th>7</th>\n",
       "      <td>Tech Area Architect</td>\n",
       "      <td>0</td>\n",
       "      <td>0</td>\n",
       "      <td>0</td>\n",
       "    </tr>\n",
       "    <tr>\n",
       "      <th>8</th>\n",
       "      <td>Operations Expert</td>\n",
       "      <td>0</td>\n",
       "      <td>0</td>\n",
       "      <td>0</td>\n",
       "    </tr>\n",
       "    <tr>\n",
       "      <th>9</th>\n",
       "      <td>Agile Coach</td>\n",
       "      <td>0</td>\n",
       "      <td>0</td>\n",
       "      <td>0</td>\n",
       "    </tr>\n",
       "    <tr>\n",
       "      <th>10</th>\n",
       "      <td>Scrum Master</td>\n",
       "      <td>0</td>\n",
       "      <td>0</td>\n",
       "      <td>0</td>\n",
       "    </tr>\n",
       "    <tr>\n",
       "      <th>11</th>\n",
       "      <td>Developer</td>\n",
       "      <td>0</td>\n",
       "      <td>0</td>\n",
       "      <td>0</td>\n",
       "    </tr>\n",
       "    <tr>\n",
       "      <th>12</th>\n",
       "      <td>Transition Manager</td>\n",
       "      <td>0</td>\n",
       "      <td>0</td>\n",
       "      <td>0</td>\n",
       "    </tr>\n",
       "    <tr>\n",
       "      <th>13</th>\n",
       "      <td>SDET - Automation Tester</td>\n",
       "      <td>0</td>\n",
       "      <td>0</td>\n",
       "      <td>0</td>\n",
       "    </tr>\n",
       "    <tr>\n",
       "      <th>14</th>\n",
       "      <td>Product Owner</td>\n",
       "      <td>0</td>\n",
       "      <td>0</td>\n",
       "      <td>0</td>\n",
       "    </tr>\n",
       "    <tr>\n",
       "      <th>15</th>\n",
       "      <td>Lead Developer</td>\n",
       "      <td>0</td>\n",
       "      <td>0</td>\n",
       "      <td>0</td>\n",
       "    </tr>\n",
       "    <tr>\n",
       "      <th>16</th>\n",
       "      <td>Journey Expert</td>\n",
       "      <td>0</td>\n",
       "      <td>0</td>\n",
       "      <td>0</td>\n",
       "    </tr>\n",
       "    <tr>\n",
       "      <th>17</th>\n",
       "      <td>Total</td>\n",
       "      <td>3</td>\n",
       "      <td>1</td>\n",
       "      <td>33</td>\n",
       "    </tr>\n",
       "  </tbody>\n",
       "</table>\n",
       "</div>"
      ],
      "text/plain": [
       "                        Role  Total Demand  Total Hired  Success Rate\n",
       "0                   Engineer             1            1           100\n",
       "1          Solution Designer             2            0             0\n",
       "2                    Analyst             0            0             0\n",
       "3                     Tester             0            0             0\n",
       "4                  Test Lead             0            0             0\n",
       "5        Environment Manager             0            0             0\n",
       "6               Release Lead             0            0             0\n",
       "7        Tech Area Architect             0            0             0\n",
       "8          Operations Expert             0            0             0\n",
       "9                Agile Coach             0            0             0\n",
       "10              Scrum Master             0            0             0\n",
       "11                 Developer             0            0             0\n",
       "12        Transition Manager             0            0             0\n",
       "13  SDET - Automation Tester             0            0             0\n",
       "14             Product Owner             0            0             0\n",
       "15            Lead Developer             0            0             0\n",
       "16            Journey Expert             0            0             0\n",
       "17                     Total             3            1            33"
      ]
     },
     "execution_count": 77,
     "metadata": {},
     "output_type": "execute_result"
    }
   ],
   "source": [
    "Successrate.to_csv('\\\\NotBackedUp\\\\SOE\\\\pyscript\\\\Tribe\\\\'+TribeName+'\\\\Successrate_'+TribeName+'.csv',sep=',',index=None)\n",
    "Successrate"
   ]
  },
  {
   "cell_type": "code",
   "execution_count": 78,
   "metadata": {
    "collapsed": true
   },
   "outputs": [],
   "source": [
    "ProfileSuppliedRoleVendor.to_csv('\\\\NotBackedUp\\\\SOE\\\\pyscript\\\\Tribe\\\\'+TribeName+'\\\\ProfileSuppliedRoleVendor_'+TribeName+'.csv',sep=',',index=None)"
   ]
  },
  {
   "cell_type": "code",
   "execution_count": 79,
   "metadata": {
    "collapsed": true
   },
   "outputs": [],
   "source": [
    "rsgnshwOnboarding = TribeOnboardingTracker\n",
    "rsgnshwOnboarding.loc[rsgnshwOnboarding['Role'].str.contains('Engineer'),'Role'] = 'Engineer'\n",
    "#rsgnshwOnboarding.loc[rsgnshwOnboarding['Role'].str.contains('Expert'),'Role'] = 'Operations Expert'\n",
    "rsgnshwOnboarding.loc[rsgnshwOnboarding['Role'].str.contains('Partner'),'Role'] = 'Delivery Partner'\n",
    "rsgnshwOnboarding.loc[rsgnshwOnboarding['Role'].str.contains('SDET - Automation Tester'),'Role'] = 'Tester'"
   ]
  },
  {
   "cell_type": "code",
   "execution_count": 80,
   "metadata": {
    "collapsed": true
   },
   "outputs": [],
   "source": [
    "tribeResign = rsgnshwOnboarding[((rsgnshwOnboarding['Onboarding Status']=='Resigned'))]\n",
    "tribeResign=tribeResign.groupby(['Role'])['ID'].count().reset_index(name='Resigned')"
   ]
  },
  {
   "cell_type": "code",
   "execution_count": 81,
   "metadata": {
    "collapsed": true
   },
   "outputs": [],
   "source": [
    "demand = TotalDemand[['Role','Grand Total']]"
   ]
  },
  {
   "cell_type": "code",
   "execution_count": 82,
   "metadata": {},
   "outputs": [
    {
     "data": {
      "text/html": [
       "<div>\n",
       "<style>\n",
       "    .dataframe thead tr:only-child th {\n",
       "        text-align: right;\n",
       "    }\n",
       "\n",
       "    .dataframe thead th {\n",
       "        text-align: left;\n",
       "    }\n",
       "\n",
       "    .dataframe tbody tr th {\n",
       "        vertical-align: top;\n",
       "    }\n",
       "</style>\n",
       "<table border=\"1\" class=\"dataframe\">\n",
       "  <thead>\n",
       "    <tr style=\"text-align: right;\">\n",
       "      <th></th>\n",
       "      <th>Role</th>\n",
       "      <th>Grand Total</th>\n",
       "    </tr>\n",
       "  </thead>\n",
       "  <tbody>\n",
       "    <tr>\n",
       "      <th>0</th>\n",
       "      <td>Engineer</td>\n",
       "      <td>1</td>\n",
       "    </tr>\n",
       "    <tr>\n",
       "      <th>1</th>\n",
       "      <td>Solution Designer</td>\n",
       "      <td>2</td>\n",
       "    </tr>\n",
       "    <tr>\n",
       "      <th>2</th>\n",
       "      <td>Analyst</td>\n",
       "      <td>0</td>\n",
       "    </tr>\n",
       "    <tr>\n",
       "      <th>3</th>\n",
       "      <td>Tester</td>\n",
       "      <td>0</td>\n",
       "    </tr>\n",
       "    <tr>\n",
       "      <th>4</th>\n",
       "      <td>Test Lead</td>\n",
       "      <td>0</td>\n",
       "    </tr>\n",
       "    <tr>\n",
       "      <th>5</th>\n",
       "      <td>Environment Manager</td>\n",
       "      <td>0</td>\n",
       "    </tr>\n",
       "    <tr>\n",
       "      <th>6</th>\n",
       "      <td>Release Lead</td>\n",
       "      <td>0</td>\n",
       "    </tr>\n",
       "    <tr>\n",
       "      <th>7</th>\n",
       "      <td>Tech Area Architect</td>\n",
       "      <td>0</td>\n",
       "    </tr>\n",
       "    <tr>\n",
       "      <th>8</th>\n",
       "      <td>Operations Expert</td>\n",
       "      <td>0</td>\n",
       "    </tr>\n",
       "    <tr>\n",
       "      <th>9</th>\n",
       "      <td>Agile Coach</td>\n",
       "      <td>0</td>\n",
       "    </tr>\n",
       "    <tr>\n",
       "      <th>10</th>\n",
       "      <td>Scrum Master</td>\n",
       "      <td>0</td>\n",
       "    </tr>\n",
       "    <tr>\n",
       "      <th>11</th>\n",
       "      <td>Developer</td>\n",
       "      <td>0</td>\n",
       "    </tr>\n",
       "    <tr>\n",
       "      <th>12</th>\n",
       "      <td>Transition Manager</td>\n",
       "      <td>0</td>\n",
       "    </tr>\n",
       "    <tr>\n",
       "      <th>13</th>\n",
       "      <td>SDET - Automation Tester</td>\n",
       "      <td>0</td>\n",
       "    </tr>\n",
       "    <tr>\n",
       "      <th>14</th>\n",
       "      <td>Product Owner</td>\n",
       "      <td>0</td>\n",
       "    </tr>\n",
       "    <tr>\n",
       "      <th>15</th>\n",
       "      <td>Lead Developer</td>\n",
       "      <td>0</td>\n",
       "    </tr>\n",
       "    <tr>\n",
       "      <th>16</th>\n",
       "      <td>Journey Expert</td>\n",
       "      <td>0</td>\n",
       "    </tr>\n",
       "    <tr>\n",
       "      <th>Total</th>\n",
       "      <td></td>\n",
       "      <td>3</td>\n",
       "    </tr>\n",
       "  </tbody>\n",
       "</table>\n",
       "</div>"
      ],
      "text/plain": [
       "                           Role  Grand Total\n",
       "0                      Engineer            1\n",
       "1             Solution Designer            2\n",
       "2                       Analyst            0\n",
       "3                        Tester            0\n",
       "4                     Test Lead            0\n",
       "5           Environment Manager            0\n",
       "6                  Release Lead            0\n",
       "7           Tech Area Architect            0\n",
       "8             Operations Expert            0\n",
       "9                   Agile Coach            0\n",
       "10                 Scrum Master            0\n",
       "11                    Developer            0\n",
       "12           Transition Manager            0\n",
       "13     SDET - Automation Tester            0\n",
       "14                Product Owner            0\n",
       "15               Lead Developer            0\n",
       "16               Journey Expert            0\n",
       "Total                                      3"
      ]
     },
     "execution_count": 82,
     "metadata": {},
     "output_type": "execute_result"
    }
   ],
   "source": [
    "demand"
   ]
  },
  {
   "cell_type": "code",
   "execution_count": 83,
   "metadata": {
    "collapsed": true
   },
   "outputs": [],
   "source": [
    "rsg = [tribeResign,demand]"
   ]
  },
  {
   "cell_type": "code",
   "execution_count": 84,
   "metadata": {
    "collapsed": true
   },
   "outputs": [],
   "source": [
    "Resigned=reduce(lambda left,right: pd.merge(left,right,on=['Role'],how='outer'),rsg)"
   ]
  },
  {
   "cell_type": "code",
   "execution_count": 85,
   "metadata": {
    "collapsed": true
   },
   "outputs": [],
   "source": [
    "Resigned = Resigned.dropna()"
   ]
  },
  {
   "cell_type": "code",
   "execution_count": 86,
   "metadata": {
    "collapsed": true
   },
   "outputs": [],
   "source": [
    "Resigned=Resigned.rename(columns={'Grand Total':'Demand'})"
   ]
  },
  {
   "cell_type": "code",
   "execution_count": 87,
   "metadata": {
    "collapsed": true
   },
   "outputs": [],
   "source": [
    "Resigned = Resigned[['Role','Demand','Resigned']]"
   ]
  },
  {
   "cell_type": "code",
   "execution_count": 88,
   "metadata": {
    "collapsed": true
   },
   "outputs": [],
   "source": [
    "if Resigned.empty:\n",
    "    Resigned.to_csv('\\\\NotBackedUp\\\\SOE\\\\pyscript\\\\Tribe\\\\'+TribeName+'\\\\Resign_'+TribeName+'.csv',sep=',',index=None)\n",
    "else:\n",
    "    Resigned = Resigned.append(Resigned.sum(numeric_only=True), ignore_index=True)\n",
    "    Resigned[['Demand','Resigned']]=Resigned[['Demand','Resigned']].astype(int)\n",
    "    Resigned['Percentage Resigned'] = Resigned.apply(lambda x: Percentage(x['Resigned'],x['Demand']), axis=1)\n",
    "    Resigned = Resigned.fillna('Total')\n",
    "    Resigned.to_csv('\\\\NotBackedUp\\\\SOE\\\\pyscript\\\\Tribe\\\\'+TribeName+'\\\\Resign_'+TribeName+'.csv',sep=',',index=None)\n",
    "    "
   ]
  },
  {
   "cell_type": "code",
   "execution_count": 89,
   "metadata": {
    "collapsed": true
   },
   "outputs": [],
   "source": [
    "nshwOnboarding = TribeOnboardingTracker\n",
    "nshwOnboarding.loc[nshwOnboarding['Role'].str.contains('Engineer'),'Role'] = 'Engineer'\n",
    "#rsgnshwOnboarding.loc[rsgnshwOnboarding['Role'].str.contains('Expert'),'Role'] = 'Operations Expert'\n",
    "nshwOnboarding.loc[nshwOnboarding['Role'].str.contains('Partner'),'Role'] = 'Delivery Partner'\n",
    "nshwOnboarding.loc[nshwOnboarding['Role'].str.contains('SDET - Automation Tester'),'Role'] = 'Tester'"
   ]
  },
  {
   "cell_type": "code",
   "execution_count": 90,
   "metadata": {
    "collapsed": true
   },
   "outputs": [],
   "source": [
    "tribeNshow = nshwOnboarding[((nshwOnboarding['Onboarding Status']=='No Show'))]"
   ]
  },
  {
   "cell_type": "code",
   "execution_count": 91,
   "metadata": {},
   "outputs": [
    {
     "data": {
      "text/html": [
       "<div>\n",
       "<style>\n",
       "    .dataframe thead tr:only-child th {\n",
       "        text-align: right;\n",
       "    }\n",
       "\n",
       "    .dataframe thead th {\n",
       "        text-align: left;\n",
       "    }\n",
       "\n",
       "    .dataframe tbody tr th {\n",
       "        vertical-align: top;\n",
       "    }\n",
       "</style>\n",
       "<table border=\"1\" class=\"dataframe\">\n",
       "  <thead>\n",
       "    <tr style=\"text-align: right;\">\n",
       "      <th></th>\n",
       "      <th>ID</th>\n",
       "      <th>Title</th>\n",
       "      <th>Position#</th>\n",
       "      <th>Demand ID</th>\n",
       "      <th>R-Type</th>\n",
       "      <th>Partner</th>\n",
       "      <th>DRO Source</th>\n",
       "      <th>Resource Name</th>\n",
       "      <th>Role</th>\n",
       "      <th>Exp. Level</th>\n",
       "      <th>...</th>\n",
       "      <th>Device Type</th>\n",
       "      <th>Workstation ID</th>\n",
       "      <th>Device Serial #</th>\n",
       "      <th>Edge Compliance</th>\n",
       "      <th>Work Order#</th>\n",
       "      <th>Comments</th>\n",
       "      <th>Onboarding Req Date</th>\n",
       "      <th>Modified By</th>\n",
       "      <th>Item Type</th>\n",
       "      <th>Path</th>\n",
       "    </tr>\n",
       "  </thead>\n",
       "  <tbody>\n",
       "  </tbody>\n",
       "</table>\n",
       "<p>0 rows × 31 columns</p>\n",
       "</div>"
      ],
      "text/plain": [
       "Empty DataFrame\n",
       "Columns: [ID, Title, Position#, Demand ID, R-Type, Partner, DRO Source, Resource Name, Role, Exp. Level, Location, Chapter Lead, Tribe, Squad, BSB/CC, Onboarding Status, EmpID, Lan Id, Technical Start Date, VDI ID, Device Assigned, Device Type, Workstation ID, Device Serial #, Edge Compliance, Work Order#, Comments, Onboarding Req Date, Modified By, Item Type, Path]\n",
       "Index: []\n",
       "\n",
       "[0 rows x 31 columns]"
      ]
     },
     "execution_count": 91,
     "metadata": {},
     "output_type": "execute_result"
    }
   ],
   "source": [
    "tribeNshow"
   ]
  },
  {
   "cell_type": "code",
   "execution_count": 92,
   "metadata": {
    "collapsed": true
   },
   "outputs": [],
   "source": [
    "tribeNshow=tribeNshow.groupby(['Role'])['ID'].count().reset_index(name='DropOff')"
   ]
  },
  {
   "cell_type": "code",
   "execution_count": 93,
   "metadata": {},
   "outputs": [
    {
     "data": {
      "text/html": [
       "<div>\n",
       "<style>\n",
       "    .dataframe thead tr:only-child th {\n",
       "        text-align: right;\n",
       "    }\n",
       "\n",
       "    .dataframe thead th {\n",
       "        text-align: left;\n",
       "    }\n",
       "\n",
       "    .dataframe tbody tr th {\n",
       "        vertical-align: top;\n",
       "    }\n",
       "</style>\n",
       "<table border=\"1\" class=\"dataframe\">\n",
       "  <thead>\n",
       "    <tr style=\"text-align: right;\">\n",
       "      <th></th>\n",
       "      <th>Role</th>\n",
       "      <th>DropOff</th>\n",
       "    </tr>\n",
       "  </thead>\n",
       "  <tbody>\n",
       "  </tbody>\n",
       "</table>\n",
       "</div>"
      ],
      "text/plain": [
       "Empty DataFrame\n",
       "Columns: [Role, DropOff]\n",
       "Index: []"
      ]
     },
     "execution_count": 93,
     "metadata": {},
     "output_type": "execute_result"
    }
   ],
   "source": [
    "tribeNshow"
   ]
  },
  {
   "cell_type": "code",
   "execution_count": 94,
   "metadata": {
    "collapsed": true
   },
   "outputs": [],
   "source": [
    "nshw = [tribeNshow,demand]"
   ]
  },
  {
   "cell_type": "code",
   "execution_count": 95,
   "metadata": {
    "collapsed": true
   },
   "outputs": [],
   "source": [
    "NoShow=reduce(lambda left,right: pd.merge(left,right,on=['Role'],how='outer'),nshw)"
   ]
  },
  {
   "cell_type": "code",
   "execution_count": 96,
   "metadata": {
    "collapsed": true
   },
   "outputs": [],
   "source": [
    "NoShow = NoShow.dropna()"
   ]
  },
  {
   "cell_type": "code",
   "execution_count": 97,
   "metadata": {
    "collapsed": true
   },
   "outputs": [],
   "source": [
    "NoShow=NoShow.rename(columns={'Grand Total':'Demand'})"
   ]
  },
  {
   "cell_type": "code",
   "execution_count": 98,
   "metadata": {
    "collapsed": true
   },
   "outputs": [],
   "source": [
    "NoShow= NoShow[['Role','Demand','DropOff']]"
   ]
  },
  {
   "cell_type": "code",
   "execution_count": 99,
   "metadata": {},
   "outputs": [
    {
     "data": {
      "text/html": [
       "<div>\n",
       "<style>\n",
       "    .dataframe thead tr:only-child th {\n",
       "        text-align: right;\n",
       "    }\n",
       "\n",
       "    .dataframe thead th {\n",
       "        text-align: left;\n",
       "    }\n",
       "\n",
       "    .dataframe tbody tr th {\n",
       "        vertical-align: top;\n",
       "    }\n",
       "</style>\n",
       "<table border=\"1\" class=\"dataframe\">\n",
       "  <thead>\n",
       "    <tr style=\"text-align: right;\">\n",
       "      <th></th>\n",
       "      <th>Role</th>\n",
       "      <th>Demand</th>\n",
       "      <th>DropOff</th>\n",
       "    </tr>\n",
       "  </thead>\n",
       "  <tbody>\n",
       "  </tbody>\n",
       "</table>\n",
       "</div>"
      ],
      "text/plain": [
       "Empty DataFrame\n",
       "Columns: [Role, Demand, DropOff]\n",
       "Index: []"
      ]
     },
     "execution_count": 99,
     "metadata": {},
     "output_type": "execute_result"
    }
   ],
   "source": [
    "NoShow"
   ]
  },
  {
   "cell_type": "code",
   "execution_count": 100,
   "metadata": {
    "collapsed": true
   },
   "outputs": [],
   "source": [
    "if NoShow.empty:\n",
    "    NoShow.to_csv('\\\\NotBackedUp\\\\SOE\\\\pyscript\\\\Tribe\\\\'+TribeName+'\\\\NoShow_'+TribeName+'.csv',sep=',',index=None)\n",
    "else:\n",
    "    NoShow = NoShow.append(NoShow.sum(numeric_only=True), ignore_index=True)\n",
    "    NoShow[['Demand','DropOff']]=NoShow[['Demand','DropOff']].astype(int)\n",
    "    NoShow['Percentage Dropoffs'] = NoShow.apply(lambda x: Percentage(x['DropOff'],x['Demand']), axis=1)\n",
    "    NoShow = NoShow.fillna('Total')\n",
    "    NoShow.to_csv('\\\\NotBackedUp\\\\SOE\\\\pyscript\\\\Tribe\\\\'+TribeName+'\\\\NoShow_'+TribeName+'.csv',sep=',',index=None)    "
   ]
  },
  {
   "cell_type": "code",
   "execution_count": 101,
   "metadata": {
    "collapsed": true
   },
   "outputs": [],
   "source": [
    "onshorePublished = TribeDemandTracker[((TribeDemandTracker['Location']=='ANZ - Melbourne'))]"
   ]
  },
  {
   "cell_type": "code",
   "execution_count": 102,
   "metadata": {
    "collapsed": true
   },
   "outputs": [],
   "source": [
    "onshorePublished=onshorePublished['ID'].count()"
   ]
  },
  {
   "cell_type": "code",
   "execution_count": 103,
   "metadata": {},
   "outputs": [
    {
     "data": {
      "text/plain": [
       "2"
      ]
     },
     "execution_count": 103,
     "metadata": {},
     "output_type": "execute_result"
    }
   ],
   "source": [
    "onshorePublished"
   ]
  },
  {
   "cell_type": "code",
   "execution_count": 104,
   "metadata": {
    "collapsed": true
   },
   "outputs": [],
   "source": [
    "onshorePublishedClosed = TribeDemandTracker[((TribeDemandTracker['Location']=='ANZ - Melbourne') & (TribeDemandTracker['Demand Status']=='Closed'))]"
   ]
  },
  {
   "cell_type": "code",
   "execution_count": 105,
   "metadata": {
    "collapsed": true
   },
   "outputs": [],
   "source": [
    "onshorePublishedClosed=onshorePublishedClosed['ID'].count()"
   ]
  },
  {
   "cell_type": "code",
   "execution_count": 106,
   "metadata": {},
   "outputs": [
    {
     "data": {
      "text/plain": [
       "2"
      ]
     },
     "execution_count": 106,
     "metadata": {},
     "output_type": "execute_result"
    }
   ],
   "source": [
    "onshorePublishedClosed"
   ]
  },
  {
   "cell_type": "code",
   "execution_count": 107,
   "metadata": {
    "collapsed": true
   },
   "outputs": [],
   "source": [
    "OnshoreResign = DXCOnboarding[((DXCOnboarding['Location']=='ANZ - Melbourne') & (DXCOnboarding['Onboarding Status']=='Resigned'))]"
   ]
  },
  {
   "cell_type": "code",
   "execution_count": 108,
   "metadata": {
    "collapsed": true
   },
   "outputs": [],
   "source": [
    "resourceResigned = OnshoreResign[['Resource Name','Role','Onboarding Status']]"
   ]
  },
  {
   "cell_type": "code",
   "execution_count": 109,
   "metadata": {},
   "outputs": [
    {
     "data": {
      "text/html": [
       "<div>\n",
       "<style>\n",
       "    .dataframe thead tr:only-child th {\n",
       "        text-align: right;\n",
       "    }\n",
       "\n",
       "    .dataframe thead th {\n",
       "        text-align: left;\n",
       "    }\n",
       "\n",
       "    .dataframe tbody tr th {\n",
       "        vertical-align: top;\n",
       "    }\n",
       "</style>\n",
       "<table border=\"1\" class=\"dataframe\">\n",
       "  <thead>\n",
       "    <tr style=\"text-align: right;\">\n",
       "      <th></th>\n",
       "      <th>Resource Name</th>\n",
       "      <th>Role</th>\n",
       "      <th>Onboarding Status</th>\n",
       "    </tr>\n",
       "  </thead>\n",
       "  <tbody>\n",
       "  </tbody>\n",
       "</table>\n",
       "</div>"
      ],
      "text/plain": [
       "Empty DataFrame\n",
       "Columns: [Resource Name, Role, Onboarding Status]\n",
       "Index: []"
      ]
     },
     "execution_count": 109,
     "metadata": {},
     "output_type": "execute_result"
    }
   ],
   "source": [
    "resourceResigned"
   ]
  },
  {
   "cell_type": "code",
   "execution_count": 110,
   "metadata": {
    "collapsed": true
   },
   "outputs": [],
   "source": [
    "OnshoreResign=OnshoreResign['ID'].count()"
   ]
  },
  {
   "cell_type": "code",
   "execution_count": 111,
   "metadata": {},
   "outputs": [
    {
     "data": {
      "text/plain": [
       "0"
      ]
     },
     "execution_count": 111,
     "metadata": {},
     "output_type": "execute_result"
    }
   ],
   "source": [
    "OnshoreResign"
   ]
  },
  {
   "cell_type": "code",
   "execution_count": 112,
   "metadata": {
    "collapsed": true
   },
   "outputs": [],
   "source": [
    "OnshoreNshow = DXCOnboarding[((DXCOnboarding['Location']=='ANZ - Melbourne') & (DXCOnboarding['Onboarding Status']=='No Show'))]"
   ]
  },
  {
   "cell_type": "code",
   "execution_count": 113,
   "metadata": {
    "collapsed": true
   },
   "outputs": [],
   "source": [
    "resourceNoshow = OnshoreNshow[['Resource Name','Role','Onboarding Status']]"
   ]
  },
  {
   "cell_type": "code",
   "execution_count": 114,
   "metadata": {},
   "outputs": [
    {
     "data": {
      "text/html": [
       "<div>\n",
       "<style>\n",
       "    .dataframe thead tr:only-child th {\n",
       "        text-align: right;\n",
       "    }\n",
       "\n",
       "    .dataframe thead th {\n",
       "        text-align: left;\n",
       "    }\n",
       "\n",
       "    .dataframe tbody tr th {\n",
       "        vertical-align: top;\n",
       "    }\n",
       "</style>\n",
       "<table border=\"1\" class=\"dataframe\">\n",
       "  <thead>\n",
       "    <tr style=\"text-align: right;\">\n",
       "      <th></th>\n",
       "      <th>Resource Name</th>\n",
       "      <th>Role</th>\n",
       "      <th>Onboarding Status</th>\n",
       "    </tr>\n",
       "  </thead>\n",
       "  <tbody>\n",
       "  </tbody>\n",
       "</table>\n",
       "</div>"
      ],
      "text/plain": [
       "Empty DataFrame\n",
       "Columns: [Resource Name, Role, Onboarding Status]\n",
       "Index: []"
      ]
     },
     "execution_count": 114,
     "metadata": {},
     "output_type": "execute_result"
    }
   ],
   "source": [
    "resourceNoshow"
   ]
  },
  {
   "cell_type": "code",
   "execution_count": 115,
   "metadata": {
    "collapsed": true
   },
   "outputs": [],
   "source": [
    "OnshoreNshow=OnshoreNshow['ID'].count()"
   ]
  },
  {
   "cell_type": "code",
   "execution_count": 116,
   "metadata": {},
   "outputs": [
    {
     "data": {
      "text/plain": [
       "0"
      ]
     },
     "execution_count": 116,
     "metadata": {},
     "output_type": "execute_result"
    }
   ],
   "source": [
    "OnshoreNshow"
   ]
  },
  {
   "cell_type": "code",
   "execution_count": 117,
   "metadata": {
    "collapsed": true
   },
   "outputs": [],
   "source": [
    "Onsite = [onshorePublished,onshorePublishedClosed,OnshoreResign,OnshoreNshow]"
   ]
  },
  {
   "cell_type": "code",
   "execution_count": 118,
   "metadata": {
    "collapsed": true
   },
   "outputs": [],
   "source": [
    "OnsiteUpdate=pd.DataFrame(Onsite)"
   ]
  },
  {
   "cell_type": "code",
   "execution_count": 119,
   "metadata": {},
   "outputs": [
    {
     "data": {
      "text/html": [
       "<div>\n",
       "<style>\n",
       "    .dataframe thead tr:only-child th {\n",
       "        text-align: right;\n",
       "    }\n",
       "\n",
       "    .dataframe thead th {\n",
       "        text-align: left;\n",
       "    }\n",
       "\n",
       "    .dataframe tbody tr th {\n",
       "        vertical-align: top;\n",
       "    }\n",
       "</style>\n",
       "<table border=\"1\" class=\"dataframe\">\n",
       "  <thead>\n",
       "    <tr style=\"text-align: right;\">\n",
       "      <th></th>\n",
       "      <th>0</th>\n",
       "    </tr>\n",
       "  </thead>\n",
       "  <tbody>\n",
       "    <tr>\n",
       "      <th>0</th>\n",
       "      <td>2</td>\n",
       "    </tr>\n",
       "    <tr>\n",
       "      <th>1</th>\n",
       "      <td>2</td>\n",
       "    </tr>\n",
       "    <tr>\n",
       "      <th>2</th>\n",
       "      <td>0</td>\n",
       "    </tr>\n",
       "    <tr>\n",
       "      <th>3</th>\n",
       "      <td>0</td>\n",
       "    </tr>\n",
       "  </tbody>\n",
       "</table>\n",
       "</div>"
      ],
      "text/plain": [
       "   0\n",
       "0  2\n",
       "1  2\n",
       "2  0\n",
       "3  0"
      ]
     },
     "execution_count": 119,
     "metadata": {},
     "output_type": "execute_result"
    }
   ],
   "source": [
    "OnsiteUpdate"
   ]
  },
  {
   "cell_type": "code",
   "execution_count": 120,
   "metadata": {
    "collapsed": true
   },
   "outputs": [],
   "source": [
    "OnsiteUpdate.columns=['Counts']"
   ]
  },
  {
   "cell_type": "code",
   "execution_count": 121,
   "metadata": {
    "collapsed": true
   },
   "outputs": [],
   "source": [
    "OnsitePublished = ['TotalOnshoreDemand','Onboarded Onshore','Resigned','No Show']"
   ]
  },
  {
   "cell_type": "code",
   "execution_count": 122,
   "metadata": {
    "collapsed": true
   },
   "outputs": [],
   "source": [
    "OnsiteUpdate['Attributes']=OnsitePublished"
   ]
  },
  {
   "cell_type": "code",
   "execution_count": 123,
   "metadata": {
    "collapsed": true
   },
   "outputs": [],
   "source": [
    "OnsiteUpdate = OnsiteUpdate[['Attributes','Counts']]"
   ]
  },
  {
   "cell_type": "code",
   "execution_count": 124,
   "metadata": {
    "collapsed": true
   },
   "outputs": [],
   "source": [
    "OnsiteUpdate = OnsiteUpdate.transpose()"
   ]
  },
  {
   "cell_type": "code",
   "execution_count": 125,
   "metadata": {
    "collapsed": true
   },
   "outputs": [],
   "source": [
    "OnsiteUpdate.columns = OnsiteUpdate.iloc[0]"
   ]
  },
  {
   "cell_type": "code",
   "execution_count": 126,
   "metadata": {
    "collapsed": true
   },
   "outputs": [],
   "source": [
    "OnsiteUpdate = OnsiteUpdate[1:]\n"
   ]
  },
  {
   "cell_type": "code",
   "execution_count": 127,
   "metadata": {
    "collapsed": true
   },
   "outputs": [],
   "source": [
    "OnsiteUpdate=OnsiteUpdate[['Onboarded Onshore','Resigned','No Show','TotalOnshoreDemand']]"
   ]
  },
  {
   "cell_type": "code",
   "execution_count": 128,
   "metadata": {},
   "outputs": [
    {
     "data": {
      "text/html": [
       "<div>\n",
       "<style>\n",
       "    .dataframe thead tr:only-child th {\n",
       "        text-align: right;\n",
       "    }\n",
       "\n",
       "    .dataframe thead th {\n",
       "        text-align: left;\n",
       "    }\n",
       "\n",
       "    .dataframe tbody tr th {\n",
       "        vertical-align: top;\n",
       "    }\n",
       "</style>\n",
       "<table border=\"1\" class=\"dataframe\">\n",
       "  <thead>\n",
       "    <tr style=\"text-align: right;\">\n",
       "      <th>Attributes</th>\n",
       "      <th>Onboarded Onshore</th>\n",
       "      <th>Resigned</th>\n",
       "      <th>No Show</th>\n",
       "      <th>TotalOnshoreDemand</th>\n",
       "    </tr>\n",
       "  </thead>\n",
       "  <tbody>\n",
       "    <tr>\n",
       "      <th>Counts</th>\n",
       "      <td>2</td>\n",
       "      <td>0</td>\n",
       "      <td>0</td>\n",
       "      <td>2</td>\n",
       "    </tr>\n",
       "  </tbody>\n",
       "</table>\n",
       "</div>"
      ],
      "text/plain": [
       "Attributes Onboarded Onshore Resigned No Show TotalOnshoreDemand\n",
       "Counts                     2        0       0                  2"
      ]
     },
     "execution_count": 128,
     "metadata": {},
     "output_type": "execute_result"
    }
   ],
   "source": [
    "OnsiteUpdate"
   ]
  },
  {
   "cell_type": "code",
   "execution_count": 129,
   "metadata": {
    "collapsed": true
   },
   "outputs": [],
   "source": [
    "OnsiteUpdate.to_csv('\\\\NotBackedUp\\\\SOE\\\\pyscript\\\\Tribe\\\\'+TribeName+'\\\\OnshoreMetrics_'+TribeName+'.csv',sep=',',index=None)"
   ]
  },
  {
   "cell_type": "code",
   "execution_count": 130,
   "metadata": {
    "collapsed": true
   },
   "outputs": [],
   "source": [
    "Resource = resourceResigned.append(resourceNoshow)"
   ]
  },
  {
   "cell_type": "code",
   "execution_count": 131,
   "metadata": {},
   "outputs": [
    {
     "data": {
      "text/html": [
       "<div>\n",
       "<style>\n",
       "    .dataframe thead tr:only-child th {\n",
       "        text-align: right;\n",
       "    }\n",
       "\n",
       "    .dataframe thead th {\n",
       "        text-align: left;\n",
       "    }\n",
       "\n",
       "    .dataframe tbody tr th {\n",
       "        vertical-align: top;\n",
       "    }\n",
       "</style>\n",
       "<table border=\"1\" class=\"dataframe\">\n",
       "  <thead>\n",
       "    <tr style=\"text-align: right;\">\n",
       "      <th></th>\n",
       "      <th>Resource Name</th>\n",
       "      <th>Role</th>\n",
       "      <th>Onboarding Status</th>\n",
       "    </tr>\n",
       "  </thead>\n",
       "  <tbody>\n",
       "  </tbody>\n",
       "</table>\n",
       "</div>"
      ],
      "text/plain": [
       "Empty DataFrame\n",
       "Columns: [Resource Name, Role, Onboarding Status]\n",
       "Index: []"
      ]
     },
     "execution_count": 131,
     "metadata": {},
     "output_type": "execute_result"
    }
   ],
   "source": [
    "Resource"
   ]
  },
  {
   "cell_type": "code",
   "execution_count": 132,
   "metadata": {
    "collapsed": true
   },
   "outputs": [],
   "source": [
    "Resource.to_csv('\\\\NotBackedUp\\\\SOE\\\\pyscript\\\\Tribe\\\\'+TribeName+'\\\\OnshoreRsgnNshw_'+TribeName+'.csv',sep=',',index=None)"
   ]
  },
  {
   "cell_type": "markdown",
   "metadata": {
    "collapsed": true
   },
   "source": [
    "Demand Status by Role"
   ]
  },
  {
   "cell_type": "code",
   "execution_count": 133,
   "metadata": {
    "collapsed": true
   },
   "outputs": [],
   "source": [
    "Demandtriberole=TribeDemandTracker\n",
    "Demandtriberole['Role'] = Demandtriberole['Role'].replace(['Test Lead'],['Other'])\n",
    "Demandtriberole['Role'] = Demandtriberole['Role'].replace(['Environment Manager'],['Other'])\n",
    "Demandtriberole['Role'] = Demandtriberole['Role'].replace(['Operations Expert'],['Other'])\n",
    "Demandtriberole['Role'] = Demandtriberole['Role'].replace(['Agile Coach'],['Other'])\n",
    "Demandtriberole['Role'] = Demandtriberole['Role'].replace(['Solution Designer'],['Other'])\n",
    "Demandtriberole['Role'] = Demandtriberole['Role'].replace(['Developer'],['Other'])\n",
    "Demandtriberole['Role'] = Demandtriberole['Role'].replace(['Transition Manager'],['Other'])\n",
    "Demandtriberole['Role'] = Demandtriberole['Role'].replace(['Product Owner'],['Other'])\n",
    "Demandtriberole['Role'] = Demandtriberole['Role'].replace(['Lead Developer'],['Other'])\n",
    "Demandtriberole['Role'] = Demandtriberole['Role'].replace(['Journey Expert'],['Other'])\n",
    "Demandtriberole['Role'] = Demandtriberole['Role'].replace(['SDET - Automation Tester'],['Tester'])\n",
    "Demandtriberole['Role'] = Demandtriberole['Role'].replace(['Chapter Lead'],['Other'])\n",
    "Demandtriberole['Role'] = Demandtriberole['Role'].replace(['PMO Analyst'],['Other'])"
   ]
  },
  {
   "cell_type": "code",
   "execution_count": 134,
   "metadata": {
    "collapsed": true
   },
   "outputs": [],
   "source": [
    "Onboardingtriberole=DXCOnboarding\n",
    "Onboardingtriberole['Role'] = Onboardingtriberole['Role'].replace(['Test Lead'],['Other'])\n",
    "Onboardingtriberole['Role'] = Onboardingtriberole['Role'].replace(['Environment Manager'],['Other'])\n",
    "Onboardingtriberole['Role'] = Onboardingtriberole['Role'].replace(['Operations Expert'],['Other'])\n",
    "Onboardingtriberole['Role'] = Onboardingtriberole['Role'].replace(['Agile Coach'],['Other'])\n",
    "Onboardingtriberole['Role'] = Onboardingtriberole['Role'].replace(['Solution Designer'],['Other'])\n",
    "Onboardingtriberole['Role'] = Onboardingtriberole['Role'].replace(['Developer'],['Other'])\n",
    "Onboardingtriberole['Role'] = Onboardingtriberole['Role'].replace(['Transition Manager'],['Other'])\n",
    "Onboardingtriberole['Role'] = Onboardingtriberole['Role'].replace(['Product Owner'],['Other'])\n",
    "Onboardingtriberole['Role'] = Onboardingtriberole['Role'].replace(['Lead Developer'],['Other'])\n",
    "Onboardingtriberole['Role'] = Onboardingtriberole['Role'].replace(['Journey Expert'],['Other'])\n",
    "Onboardingtriberole['Role'] = Onboardingtriberole['Role'].replace(['SDET - Automation Tester'],['Tester'])\n",
    "Onboardingtriberole['Role'] = Onboardingtriberole['Role'].replace(['Chapter Lead'],['Other'])\n",
    "Onboardingtriberole['Role'] = Onboardingtriberole['Role'].replace(['PMO Analyst'],['Other'])\n",
    "Onboardingtriberole['Role'] = Onboardingtriberole['Role'].replace(['Delivery Partner'],['Other'])"
   ]
  },
  {
   "cell_type": "code",
   "execution_count": 135,
   "metadata": {
    "collapsed": true
   },
   "outputs": [],
   "source": [
    "ro=Demandtriberole[Demandtriberole['Demand Status']=='Open']\n",
    "ro=ro.groupby(['Role'])['ID'].count().reset_index(name='Roles Open')"
   ]
  },
  {
   "cell_type": "code",
   "execution_count": 136,
   "metadata": {
    "collapsed": true
   },
   "outputs": [],
   "source": [
    "Dcls=Demandtriberole[Demandtriberole['Demand Status']=='Closed']\n",
    "Dcls=Dcls.groupby(['Role'])['ID'].count().reset_index(name='Demand Closed')"
   ]
  },
  {
   "cell_type": "code",
   "execution_count": 137,
   "metadata": {
    "collapsed": true
   },
   "outputs": [],
   "source": [
    "rorsgn=Onboardingtriberole[(Onboardingtriberole['Onboarding Status']=='Resigned')]\n",
    "rorsgn=rorsgn.groupby(['Role'])['ID'].count().reset_index(name='Resigned')"
   ]
  },
  {
   "cell_type": "code",
   "execution_count": 138,
   "metadata": {
    "collapsed": true
   },
   "outputs": [],
   "source": [
    "roopnbckfil=Demandtriberole[Demandtriberole['Demand Status']=='Open Backfill']\n",
    "roopnbckfil=roopnbckfil.groupby(['Role'])['ID'].count().reset_index(name='Roles Open Backfill')"
   ]
  },
  {
   "cell_type": "code",
   "execution_count": 139,
   "metadata": {
    "collapsed": true
   },
   "outputs": [],
   "source": [
    "robckfilcls=Demandtriberole[Demandtriberole['Demand Status']=='Backfill Closed']\n",
    "robckfilcls=robckfilcls.groupby(['Role'])['ID'].count().reset_index(name='Roles Backfill Closed')"
   ]
  },
  {
   "cell_type": "code",
   "execution_count": 140,
   "metadata": {
    "collapsed": true
   },
   "outputs": [],
   "source": [
    "rowithdrw=Demandtriberole[Demandtriberole['Demand Status']=='Withdrawn']\n",
    "rowithdrw=rowithdrw.groupby(['Role'])['ID'].count().reset_index(name='Withdrawn')"
   ]
  },
  {
   "cell_type": "code",
   "execution_count": 141,
   "metadata": {
    "collapsed": true
   },
   "outputs": [],
   "source": [
    "ronoshw=Onboardingtriberole[(Onboardingtriberole['Onboarding Status']=='No Show')]\n",
    "ronoshw=ronoshw.groupby(['Role'])['ID'].count().reset_index(name='No Show')"
   ]
  },
  {
   "cell_type": "code",
   "execution_count": 142,
   "metadata": {
    "collapsed": true
   },
   "outputs": [],
   "source": [
    "DefaultRole = ['Engineer','Tester','Release Lead','Analyst','Tech Area Architect','Scrum Master','Other']"
   ]
  },
  {
   "cell_type": "code",
   "execution_count": 143,
   "metadata": {
    "collapsed": true
   },
   "outputs": [],
   "source": [
    "dfrole = pd.DataFrame(DefaultRole)"
   ]
  },
  {
   "cell_type": "code",
   "execution_count": 144,
   "metadata": {
    "collapsed": true
   },
   "outputs": [],
   "source": [
    "dfrole.columns=['Role']"
   ]
  },
  {
   "cell_type": "code",
   "execution_count": 145,
   "metadata": {},
   "outputs": [
    {
     "data": {
      "text/html": [
       "<div>\n",
       "<style>\n",
       "    .dataframe thead tr:only-child th {\n",
       "        text-align: right;\n",
       "    }\n",
       "\n",
       "    .dataframe thead th {\n",
       "        text-align: left;\n",
       "    }\n",
       "\n",
       "    .dataframe tbody tr th {\n",
       "        vertical-align: top;\n",
       "    }\n",
       "</style>\n",
       "<table border=\"1\" class=\"dataframe\">\n",
       "  <thead>\n",
       "    <tr style=\"text-align: right;\">\n",
       "      <th></th>\n",
       "      <th>Role</th>\n",
       "    </tr>\n",
       "  </thead>\n",
       "  <tbody>\n",
       "    <tr>\n",
       "      <th>0</th>\n",
       "      <td>Engineer</td>\n",
       "    </tr>\n",
       "    <tr>\n",
       "      <th>1</th>\n",
       "      <td>Tester</td>\n",
       "    </tr>\n",
       "    <tr>\n",
       "      <th>2</th>\n",
       "      <td>Release Lead</td>\n",
       "    </tr>\n",
       "    <tr>\n",
       "      <th>3</th>\n",
       "      <td>Analyst</td>\n",
       "    </tr>\n",
       "    <tr>\n",
       "      <th>4</th>\n",
       "      <td>Tech Area Architect</td>\n",
       "    </tr>\n",
       "    <tr>\n",
       "      <th>5</th>\n",
       "      <td>Scrum Master</td>\n",
       "    </tr>\n",
       "    <tr>\n",
       "      <th>6</th>\n",
       "      <td>Other</td>\n",
       "    </tr>\n",
       "  </tbody>\n",
       "</table>\n",
       "</div>"
      ],
      "text/plain": [
       "                  Role\n",
       "0             Engineer\n",
       "1               Tester\n",
       "2         Release Lead\n",
       "3              Analyst\n",
       "4  Tech Area Architect\n",
       "5         Scrum Master\n",
       "6                Other"
      ]
     },
     "execution_count": 145,
     "metadata": {},
     "output_type": "execute_result"
    }
   ],
   "source": [
    "dfrole"
   ]
  },
  {
   "cell_type": "code",
   "execution_count": 146,
   "metadata": {
    "collapsed": true
   },
   "outputs": [],
   "source": [
    "drole = [ro,Dcls,rorsgn,roopnbckfil,robckfilcls,rowithdrw,ronoshw,dfrole]"
   ]
  },
  {
   "cell_type": "code",
   "execution_count": 147,
   "metadata": {
    "collapsed": true
   },
   "outputs": [],
   "source": [
    "DemandStatusRole=reduce(lambda left,right: pd.merge(left,right,on=['Role'],how='outer'),drole)"
   ]
  },
  {
   "cell_type": "code",
   "execution_count": 148,
   "metadata": {},
   "outputs": [],
   "source": [
    "DemandStatusRole = DemandStatusRole[['Role','Roles Open','Demand Closed','Resigned','Roles Open Backfill','Roles Backfill Closed','Withdrawn','No Show']]"
   ]
  },
  {
   "cell_type": "code",
   "execution_count": 149,
   "metadata": {},
   "outputs": [],
   "source": [
    "DemandStatusRole = DemandStatusRole.fillna('0')"
   ]
  },
  {
   "cell_type": "code",
   "execution_count": 150,
   "metadata": {},
   "outputs": [
    {
     "data": {
      "text/html": [
       "<div>\n",
       "<style>\n",
       "    .dataframe thead tr:only-child th {\n",
       "        text-align: right;\n",
       "    }\n",
       "\n",
       "    .dataframe thead th {\n",
       "        text-align: left;\n",
       "    }\n",
       "\n",
       "    .dataframe tbody tr th {\n",
       "        vertical-align: top;\n",
       "    }\n",
       "</style>\n",
       "<table border=\"1\" class=\"dataframe\">\n",
       "  <thead>\n",
       "    <tr style=\"text-align: right;\">\n",
       "      <th></th>\n",
       "      <th>Role</th>\n",
       "      <th>Roles Open</th>\n",
       "      <th>Demand Closed</th>\n",
       "      <th>Resigned</th>\n",
       "      <th>Roles Open Backfill</th>\n",
       "      <th>Roles Backfill Closed</th>\n",
       "      <th>Withdrawn</th>\n",
       "      <th>No Show</th>\n",
       "    </tr>\n",
       "  </thead>\n",
       "  <tbody>\n",
       "    <tr>\n",
       "      <th>0</th>\n",
       "      <td>Engineer</td>\n",
       "      <td>0</td>\n",
       "      <td>1</td>\n",
       "      <td>0</td>\n",
       "      <td>0</td>\n",
       "      <td>0</td>\n",
       "      <td>0</td>\n",
       "      <td>0</td>\n",
       "    </tr>\n",
       "    <tr>\n",
       "      <th>1</th>\n",
       "      <td>Other</td>\n",
       "      <td>0</td>\n",
       "      <td>2</td>\n",
       "      <td>0</td>\n",
       "      <td>0</td>\n",
       "      <td>0</td>\n",
       "      <td>0</td>\n",
       "      <td>0</td>\n",
       "    </tr>\n",
       "    <tr>\n",
       "      <th>2</th>\n",
       "      <td>Tester</td>\n",
       "      <td>0</td>\n",
       "      <td>0</td>\n",
       "      <td>0</td>\n",
       "      <td>0</td>\n",
       "      <td>0</td>\n",
       "      <td>0</td>\n",
       "      <td>0</td>\n",
       "    </tr>\n",
       "    <tr>\n",
       "      <th>3</th>\n",
       "      <td>Release Lead</td>\n",
       "      <td>0</td>\n",
       "      <td>0</td>\n",
       "      <td>0</td>\n",
       "      <td>0</td>\n",
       "      <td>0</td>\n",
       "      <td>0</td>\n",
       "      <td>0</td>\n",
       "    </tr>\n",
       "    <tr>\n",
       "      <th>4</th>\n",
       "      <td>Analyst</td>\n",
       "      <td>0</td>\n",
       "      <td>0</td>\n",
       "      <td>0</td>\n",
       "      <td>0</td>\n",
       "      <td>0</td>\n",
       "      <td>0</td>\n",
       "      <td>0</td>\n",
       "    </tr>\n",
       "    <tr>\n",
       "      <th>5</th>\n",
       "      <td>Tech Area Architect</td>\n",
       "      <td>0</td>\n",
       "      <td>0</td>\n",
       "      <td>0</td>\n",
       "      <td>0</td>\n",
       "      <td>0</td>\n",
       "      <td>0</td>\n",
       "      <td>0</td>\n",
       "    </tr>\n",
       "    <tr>\n",
       "      <th>6</th>\n",
       "      <td>Scrum Master</td>\n",
       "      <td>0</td>\n",
       "      <td>0</td>\n",
       "      <td>0</td>\n",
       "      <td>0</td>\n",
       "      <td>0</td>\n",
       "      <td>0</td>\n",
       "      <td>0</td>\n",
       "    </tr>\n",
       "  </tbody>\n",
       "</table>\n",
       "</div>"
      ],
      "text/plain": [
       "                  Role Roles Open Demand Closed Resigned Roles Open Backfill  \\\n",
       "0             Engineer          0             1        0                   0   \n",
       "1                Other          0             2        0                   0   \n",
       "2               Tester          0             0        0                   0   \n",
       "3         Release Lead          0             0        0                   0   \n",
       "4              Analyst          0             0        0                   0   \n",
       "5  Tech Area Architect          0             0        0                   0   \n",
       "6         Scrum Master          0             0        0                   0   \n",
       "\n",
       "  Roles Backfill Closed Withdrawn No Show  \n",
       "0                     0         0       0  \n",
       "1                     0         0       0  \n",
       "2                     0         0       0  \n",
       "3                     0         0       0  \n",
       "4                     0         0       0  \n",
       "5                     0         0       0  \n",
       "6                     0         0       0  "
      ]
     },
     "execution_count": 150,
     "metadata": {},
     "output_type": "execute_result"
    }
   ],
   "source": [
    "DemandStatusRole"
   ]
  },
  {
   "cell_type": "code",
   "execution_count": 151,
   "metadata": {
    "collapsed": true
   },
   "outputs": [],
   "source": [
    "DemandStatusRole = DemandStatusRole.transpose()"
   ]
  },
  {
   "cell_type": "code",
   "execution_count": 152,
   "metadata": {},
   "outputs": [
    {
     "data": {
      "text/html": [
       "<div>\n",
       "<style>\n",
       "    .dataframe thead tr:only-child th {\n",
       "        text-align: right;\n",
       "    }\n",
       "\n",
       "    .dataframe thead th {\n",
       "        text-align: left;\n",
       "    }\n",
       "\n",
       "    .dataframe tbody tr th {\n",
       "        vertical-align: top;\n",
       "    }\n",
       "</style>\n",
       "<table border=\"1\" class=\"dataframe\">\n",
       "  <thead>\n",
       "    <tr style=\"text-align: right;\">\n",
       "      <th></th>\n",
       "      <th>0</th>\n",
       "      <th>1</th>\n",
       "      <th>2</th>\n",
       "      <th>3</th>\n",
       "      <th>4</th>\n",
       "      <th>5</th>\n",
       "      <th>6</th>\n",
       "    </tr>\n",
       "  </thead>\n",
       "  <tbody>\n",
       "    <tr>\n",
       "      <th>Role</th>\n",
       "      <td>Engineer</td>\n",
       "      <td>Other</td>\n",
       "      <td>Tester</td>\n",
       "      <td>Release Lead</td>\n",
       "      <td>Analyst</td>\n",
       "      <td>Tech Area Architect</td>\n",
       "      <td>Scrum Master</td>\n",
       "    </tr>\n",
       "    <tr>\n",
       "      <th>Roles Open</th>\n",
       "      <td>0</td>\n",
       "      <td>0</td>\n",
       "      <td>0</td>\n",
       "      <td>0</td>\n",
       "      <td>0</td>\n",
       "      <td>0</td>\n",
       "      <td>0</td>\n",
       "    </tr>\n",
       "    <tr>\n",
       "      <th>Demand Closed</th>\n",
       "      <td>1</td>\n",
       "      <td>2</td>\n",
       "      <td>0</td>\n",
       "      <td>0</td>\n",
       "      <td>0</td>\n",
       "      <td>0</td>\n",
       "      <td>0</td>\n",
       "    </tr>\n",
       "    <tr>\n",
       "      <th>Resigned</th>\n",
       "      <td>0</td>\n",
       "      <td>0</td>\n",
       "      <td>0</td>\n",
       "      <td>0</td>\n",
       "      <td>0</td>\n",
       "      <td>0</td>\n",
       "      <td>0</td>\n",
       "    </tr>\n",
       "    <tr>\n",
       "      <th>Roles Open Backfill</th>\n",
       "      <td>0</td>\n",
       "      <td>0</td>\n",
       "      <td>0</td>\n",
       "      <td>0</td>\n",
       "      <td>0</td>\n",
       "      <td>0</td>\n",
       "      <td>0</td>\n",
       "    </tr>\n",
       "    <tr>\n",
       "      <th>Roles Backfill Closed</th>\n",
       "      <td>0</td>\n",
       "      <td>0</td>\n",
       "      <td>0</td>\n",
       "      <td>0</td>\n",
       "      <td>0</td>\n",
       "      <td>0</td>\n",
       "      <td>0</td>\n",
       "    </tr>\n",
       "    <tr>\n",
       "      <th>Withdrawn</th>\n",
       "      <td>0</td>\n",
       "      <td>0</td>\n",
       "      <td>0</td>\n",
       "      <td>0</td>\n",
       "      <td>0</td>\n",
       "      <td>0</td>\n",
       "      <td>0</td>\n",
       "    </tr>\n",
       "    <tr>\n",
       "      <th>No Show</th>\n",
       "      <td>0</td>\n",
       "      <td>0</td>\n",
       "      <td>0</td>\n",
       "      <td>0</td>\n",
       "      <td>0</td>\n",
       "      <td>0</td>\n",
       "      <td>0</td>\n",
       "    </tr>\n",
       "  </tbody>\n",
       "</table>\n",
       "</div>"
      ],
      "text/plain": [
       "                              0      1       2             3        4  \\\n",
       "Role                   Engineer  Other  Tester  Release Lead  Analyst   \n",
       "Roles Open                    0      0       0             0        0   \n",
       "Demand Closed                 1      2       0             0        0   \n",
       "Resigned                      0      0       0             0        0   \n",
       "Roles Open Backfill           0      0       0             0        0   \n",
       "Roles Backfill Closed         0      0       0             0        0   \n",
       "Withdrawn                     0      0       0             0        0   \n",
       "No Show                       0      0       0             0        0   \n",
       "\n",
       "                                         5             6  \n",
       "Role                   Tech Area Architect  Scrum Master  \n",
       "Roles Open                               0             0  \n",
       "Demand Closed                            0             0  \n",
       "Resigned                                 0             0  \n",
       "Roles Open Backfill                      0             0  \n",
       "Roles Backfill Closed                    0             0  \n",
       "Withdrawn                                0             0  \n",
       "No Show                                  0             0  "
      ]
     },
     "execution_count": 152,
     "metadata": {},
     "output_type": "execute_result"
    }
   ],
   "source": [
    "DemandStatusRole"
   ]
  },
  {
   "cell_type": "code",
   "execution_count": 153,
   "metadata": {
    "collapsed": true
   },
   "outputs": [],
   "source": [
    "DemandStatusRole.columns = DemandStatusRole.iloc[0]\n",
    "DemandStatusRole = DemandStatusRole[1:]"
   ]
  },
  {
   "cell_type": "code",
   "execution_count": 154,
   "metadata": {},
   "outputs": [
    {
     "data": {
      "text/html": [
       "<div>\n",
       "<style>\n",
       "    .dataframe thead tr:only-child th {\n",
       "        text-align: right;\n",
       "    }\n",
       "\n",
       "    .dataframe thead th {\n",
       "        text-align: left;\n",
       "    }\n",
       "\n",
       "    .dataframe tbody tr th {\n",
       "        vertical-align: top;\n",
       "    }\n",
       "</style>\n",
       "<table border=\"1\" class=\"dataframe\">\n",
       "  <thead>\n",
       "    <tr style=\"text-align: right;\">\n",
       "      <th>Role</th>\n",
       "      <th>Engineer</th>\n",
       "      <th>Other</th>\n",
       "      <th>Tester</th>\n",
       "      <th>Release Lead</th>\n",
       "      <th>Analyst</th>\n",
       "      <th>Tech Area Architect</th>\n",
       "      <th>Scrum Master</th>\n",
       "    </tr>\n",
       "  </thead>\n",
       "  <tbody>\n",
       "    <tr>\n",
       "      <th>Roles Open</th>\n",
       "      <td>0</td>\n",
       "      <td>0</td>\n",
       "      <td>0</td>\n",
       "      <td>0</td>\n",
       "      <td>0</td>\n",
       "      <td>0</td>\n",
       "      <td>0</td>\n",
       "    </tr>\n",
       "    <tr>\n",
       "      <th>Demand Closed</th>\n",
       "      <td>1</td>\n",
       "      <td>2</td>\n",
       "      <td>0</td>\n",
       "      <td>0</td>\n",
       "      <td>0</td>\n",
       "      <td>0</td>\n",
       "      <td>0</td>\n",
       "    </tr>\n",
       "    <tr>\n",
       "      <th>Resigned</th>\n",
       "      <td>0</td>\n",
       "      <td>0</td>\n",
       "      <td>0</td>\n",
       "      <td>0</td>\n",
       "      <td>0</td>\n",
       "      <td>0</td>\n",
       "      <td>0</td>\n",
       "    </tr>\n",
       "    <tr>\n",
       "      <th>Roles Open Backfill</th>\n",
       "      <td>0</td>\n",
       "      <td>0</td>\n",
       "      <td>0</td>\n",
       "      <td>0</td>\n",
       "      <td>0</td>\n",
       "      <td>0</td>\n",
       "      <td>0</td>\n",
       "    </tr>\n",
       "    <tr>\n",
       "      <th>Roles Backfill Closed</th>\n",
       "      <td>0</td>\n",
       "      <td>0</td>\n",
       "      <td>0</td>\n",
       "      <td>0</td>\n",
       "      <td>0</td>\n",
       "      <td>0</td>\n",
       "      <td>0</td>\n",
       "    </tr>\n",
       "    <tr>\n",
       "      <th>Withdrawn</th>\n",
       "      <td>0</td>\n",
       "      <td>0</td>\n",
       "      <td>0</td>\n",
       "      <td>0</td>\n",
       "      <td>0</td>\n",
       "      <td>0</td>\n",
       "      <td>0</td>\n",
       "    </tr>\n",
       "    <tr>\n",
       "      <th>No Show</th>\n",
       "      <td>0</td>\n",
       "      <td>0</td>\n",
       "      <td>0</td>\n",
       "      <td>0</td>\n",
       "      <td>0</td>\n",
       "      <td>0</td>\n",
       "      <td>0</td>\n",
       "    </tr>\n",
       "  </tbody>\n",
       "</table>\n",
       "</div>"
      ],
      "text/plain": [
       "Role                  Engineer Other Tester Release Lead Analyst  \\\n",
       "Roles Open                   0     0      0            0       0   \n",
       "Demand Closed                1     2      0            0       0   \n",
       "Resigned                     0     0      0            0       0   \n",
       "Roles Open Backfill          0     0      0            0       0   \n",
       "Roles Backfill Closed        0     0      0            0       0   \n",
       "Withdrawn                    0     0      0            0       0   \n",
       "No Show                      0     0      0            0       0   \n",
       "\n",
       "Role                  Tech Area Architect Scrum Master  \n",
       "Roles Open                              0            0  \n",
       "Demand Closed                           0            0  \n",
       "Resigned                                0            0  \n",
       "Roles Open Backfill                     0            0  \n",
       "Roles Backfill Closed                   0            0  \n",
       "Withdrawn                               0            0  \n",
       "No Show                                 0            0  "
      ]
     },
     "execution_count": 154,
     "metadata": {},
     "output_type": "execute_result"
    }
   ],
   "source": [
    "DemandStatusRole"
   ]
  },
  {
   "cell_type": "code",
   "execution_count": 155,
   "metadata": {},
   "outputs": [],
   "source": [
    "DemandStatusRole = DemandStatusRole[['Engineer','Tester','Release Lead','Analyst','Tech Area Architect','Scrum Master','Other']]"
   ]
  },
  {
   "cell_type": "code",
   "execution_count": 156,
   "metadata": {},
   "outputs": [],
   "source": [
    "DemandStatusRole = DemandStatusRole.astype(int)"
   ]
  },
  {
   "cell_type": "code",
   "execution_count": 157,
   "metadata": {},
   "outputs": [],
   "source": [
    "DemandStatusRole['Total']=DemandStatusRole['Engineer']+DemandStatusRole['Tester']+DemandStatusRole['Release Lead']+DemandStatusRole['Analyst']+DemandStatusRole['Tech Area Architect']+DemandStatusRole['Scrum Master']+DemandStatusRole['Other']"
   ]
  },
  {
   "cell_type": "code",
   "execution_count": 158,
   "metadata": {},
   "outputs": [
    {
     "data": {
      "text/html": [
       "<div>\n",
       "<style>\n",
       "    .dataframe thead tr:only-child th {\n",
       "        text-align: right;\n",
       "    }\n",
       "\n",
       "    .dataframe thead th {\n",
       "        text-align: left;\n",
       "    }\n",
       "\n",
       "    .dataframe tbody tr th {\n",
       "        vertical-align: top;\n",
       "    }\n",
       "</style>\n",
       "<table border=\"1\" class=\"dataframe\">\n",
       "  <thead>\n",
       "    <tr style=\"text-align: right;\">\n",
       "      <th>Role</th>\n",
       "      <th>Engineer</th>\n",
       "      <th>Tester</th>\n",
       "      <th>Release Lead</th>\n",
       "      <th>Analyst</th>\n",
       "      <th>Tech Area Architect</th>\n",
       "      <th>Scrum Master</th>\n",
       "      <th>Other</th>\n",
       "      <th>Total</th>\n",
       "    </tr>\n",
       "  </thead>\n",
       "  <tbody>\n",
       "    <tr>\n",
       "      <th>Roles Open</th>\n",
       "      <td>0</td>\n",
       "      <td>0</td>\n",
       "      <td>0</td>\n",
       "      <td>0</td>\n",
       "      <td>0</td>\n",
       "      <td>0</td>\n",
       "      <td>0</td>\n",
       "      <td>0</td>\n",
       "    </tr>\n",
       "    <tr>\n",
       "      <th>Demand Closed</th>\n",
       "      <td>1</td>\n",
       "      <td>0</td>\n",
       "      <td>0</td>\n",
       "      <td>0</td>\n",
       "      <td>0</td>\n",
       "      <td>0</td>\n",
       "      <td>2</td>\n",
       "      <td>3</td>\n",
       "    </tr>\n",
       "    <tr>\n",
       "      <th>Resigned</th>\n",
       "      <td>0</td>\n",
       "      <td>0</td>\n",
       "      <td>0</td>\n",
       "      <td>0</td>\n",
       "      <td>0</td>\n",
       "      <td>0</td>\n",
       "      <td>0</td>\n",
       "      <td>0</td>\n",
       "    </tr>\n",
       "    <tr>\n",
       "      <th>Roles Open Backfill</th>\n",
       "      <td>0</td>\n",
       "      <td>0</td>\n",
       "      <td>0</td>\n",
       "      <td>0</td>\n",
       "      <td>0</td>\n",
       "      <td>0</td>\n",
       "      <td>0</td>\n",
       "      <td>0</td>\n",
       "    </tr>\n",
       "    <tr>\n",
       "      <th>Roles Backfill Closed</th>\n",
       "      <td>0</td>\n",
       "      <td>0</td>\n",
       "      <td>0</td>\n",
       "      <td>0</td>\n",
       "      <td>0</td>\n",
       "      <td>0</td>\n",
       "      <td>0</td>\n",
       "      <td>0</td>\n",
       "    </tr>\n",
       "    <tr>\n",
       "      <th>Withdrawn</th>\n",
       "      <td>0</td>\n",
       "      <td>0</td>\n",
       "      <td>0</td>\n",
       "      <td>0</td>\n",
       "      <td>0</td>\n",
       "      <td>0</td>\n",
       "      <td>0</td>\n",
       "      <td>0</td>\n",
       "    </tr>\n",
       "    <tr>\n",
       "      <th>No Show</th>\n",
       "      <td>0</td>\n",
       "      <td>0</td>\n",
       "      <td>0</td>\n",
       "      <td>0</td>\n",
       "      <td>0</td>\n",
       "      <td>0</td>\n",
       "      <td>0</td>\n",
       "      <td>0</td>\n",
       "    </tr>\n",
       "  </tbody>\n",
       "</table>\n",
       "</div>"
      ],
      "text/plain": [
       "Role                   Engineer  Tester  Release Lead  Analyst  \\\n",
       "Roles Open                    0       0             0        0   \n",
       "Demand Closed                 1       0             0        0   \n",
       "Resigned                      0       0             0        0   \n",
       "Roles Open Backfill           0       0             0        0   \n",
       "Roles Backfill Closed         0       0             0        0   \n",
       "Withdrawn                     0       0             0        0   \n",
       "No Show                       0       0             0        0   \n",
       "\n",
       "Role                   Tech Area Architect  Scrum Master  Other  Total  \n",
       "Roles Open                               0             0      0      0  \n",
       "Demand Closed                            0             0      2      3  \n",
       "Resigned                                 0             0      0      0  \n",
       "Roles Open Backfill                      0             0      0      0  \n",
       "Roles Backfill Closed                    0             0      0      0  \n",
       "Withdrawn                                0             0      0      0  \n",
       "No Show                                  0             0      0      0  "
      ]
     },
     "execution_count": 158,
     "metadata": {},
     "output_type": "execute_result"
    }
   ],
   "source": [
    "DemandStatusRole"
   ]
  },
  {
   "cell_type": "code",
   "execution_count": 159,
   "metadata": {},
   "outputs": [],
   "source": [
    "DemandStatusRole['Total']=DemandStatusRole['Total'].astype(int)"
   ]
  },
  {
   "cell_type": "code",
   "execution_count": 160,
   "metadata": {},
   "outputs": [
    {
     "data": {
      "text/html": [
       "<div>\n",
       "<style>\n",
       "    .dataframe thead tr:only-child th {\n",
       "        text-align: right;\n",
       "    }\n",
       "\n",
       "    .dataframe thead th {\n",
       "        text-align: left;\n",
       "    }\n",
       "\n",
       "    .dataframe tbody tr th {\n",
       "        vertical-align: top;\n",
       "    }\n",
       "</style>\n",
       "<table border=\"1\" class=\"dataframe\">\n",
       "  <thead>\n",
       "    <tr style=\"text-align: right;\">\n",
       "      <th>Role</th>\n",
       "      <th>Engineer</th>\n",
       "      <th>Tester</th>\n",
       "      <th>Release Lead</th>\n",
       "      <th>Analyst</th>\n",
       "      <th>Tech Area Architect</th>\n",
       "      <th>Scrum Master</th>\n",
       "      <th>Other</th>\n",
       "      <th>Total</th>\n",
       "    </tr>\n",
       "  </thead>\n",
       "  <tbody>\n",
       "    <tr>\n",
       "      <th>Roles Open</th>\n",
       "      <td>0</td>\n",
       "      <td>0</td>\n",
       "      <td>0</td>\n",
       "      <td>0</td>\n",
       "      <td>0</td>\n",
       "      <td>0</td>\n",
       "      <td>0</td>\n",
       "      <td>0</td>\n",
       "    </tr>\n",
       "    <tr>\n",
       "      <th>Demand Closed</th>\n",
       "      <td>1</td>\n",
       "      <td>0</td>\n",
       "      <td>0</td>\n",
       "      <td>0</td>\n",
       "      <td>0</td>\n",
       "      <td>0</td>\n",
       "      <td>2</td>\n",
       "      <td>3</td>\n",
       "    </tr>\n",
       "    <tr>\n",
       "      <th>Resigned</th>\n",
       "      <td>0</td>\n",
       "      <td>0</td>\n",
       "      <td>0</td>\n",
       "      <td>0</td>\n",
       "      <td>0</td>\n",
       "      <td>0</td>\n",
       "      <td>0</td>\n",
       "      <td>0</td>\n",
       "    </tr>\n",
       "    <tr>\n",
       "      <th>Roles Open Backfill</th>\n",
       "      <td>0</td>\n",
       "      <td>0</td>\n",
       "      <td>0</td>\n",
       "      <td>0</td>\n",
       "      <td>0</td>\n",
       "      <td>0</td>\n",
       "      <td>0</td>\n",
       "      <td>0</td>\n",
       "    </tr>\n",
       "    <tr>\n",
       "      <th>Roles Backfill Closed</th>\n",
       "      <td>0</td>\n",
       "      <td>0</td>\n",
       "      <td>0</td>\n",
       "      <td>0</td>\n",
       "      <td>0</td>\n",
       "      <td>0</td>\n",
       "      <td>0</td>\n",
       "      <td>0</td>\n",
       "    </tr>\n",
       "    <tr>\n",
       "      <th>Withdrawn</th>\n",
       "      <td>0</td>\n",
       "      <td>0</td>\n",
       "      <td>0</td>\n",
       "      <td>0</td>\n",
       "      <td>0</td>\n",
       "      <td>0</td>\n",
       "      <td>0</td>\n",
       "      <td>0</td>\n",
       "    </tr>\n",
       "    <tr>\n",
       "      <th>No Show</th>\n",
       "      <td>0</td>\n",
       "      <td>0</td>\n",
       "      <td>0</td>\n",
       "      <td>0</td>\n",
       "      <td>0</td>\n",
       "      <td>0</td>\n",
       "      <td>0</td>\n",
       "      <td>0</td>\n",
       "    </tr>\n",
       "  </tbody>\n",
       "</table>\n",
       "</div>"
      ],
      "text/plain": [
       "Role                   Engineer  Tester  Release Lead  Analyst  \\\n",
       "Roles Open                    0       0             0        0   \n",
       "Demand Closed                 1       0             0        0   \n",
       "Resigned                      0       0             0        0   \n",
       "Roles Open Backfill           0       0             0        0   \n",
       "Roles Backfill Closed         0       0             0        0   \n",
       "Withdrawn                     0       0             0        0   \n",
       "No Show                       0       0             0        0   \n",
       "\n",
       "Role                   Tech Area Architect  Scrum Master  Other  Total  \n",
       "Roles Open                               0             0      0      0  \n",
       "Demand Closed                            0             0      2      3  \n",
       "Resigned                                 0             0      0      0  \n",
       "Roles Open Backfill                      0             0      0      0  \n",
       "Roles Backfill Closed                    0             0      0      0  \n",
       "Withdrawn                                0             0      0      0  \n",
       "No Show                                  0             0      0      0  "
      ]
     },
     "execution_count": 160,
     "metadata": {},
     "output_type": "execute_result"
    }
   ],
   "source": [
    "DemandStatusRole"
   ]
  },
  {
   "cell_type": "code",
   "execution_count": 161,
   "metadata": {
    "collapsed": true
   },
   "outputs": [],
   "source": [
    "DemandStatusRole.to_csv('\\\\NotBackedUp\\\\SOE\\\\pyscript\\\\Tribe\\\\'+TribeName+'\\\\Demand_Status_Role'+TribeName+'.csv',sep=',')"
   ]
  },
  {
   "cell_type": "code",
   "execution_count": 162,
   "metadata": {},
   "outputs": [],
   "source": [
    "LapOnboarding = OnboardingTracker[OnboardingTracker['Device Assigned'] == True]"
   ]
  },
  {
   "cell_type": "code",
   "execution_count": 163,
   "metadata": {},
   "outputs": [],
   "source": [
    "LapOnboarding = LapOnboarding[['Demand ID','Resource Name','Device Assigned','Device Type','Tribe','Squad']]"
   ]
  },
  {
   "cell_type": "code",
   "execution_count": 164,
   "metadata": {},
   "outputs": [
    {
     "data": {
      "text/plain": [
       "array(['Developer Laptop', 'Standard Laptop', 'Macbook Dev Edition', nan], dtype=object)"
      ]
     },
     "execution_count": 164,
     "metadata": {},
     "output_type": "execute_result"
    }
   ],
   "source": [
    "LapOnboarding['Device Type'].unique()"
   ]
  },
  {
   "cell_type": "code",
   "execution_count": 165,
   "metadata": {},
   "outputs": [],
   "source": [
    "DevLap = LapOnboarding[LapOnboarding['Device Type'] == 'Developer Laptop']\n",
    "DevLap = DevLap.fillna('')\n",
    "DevLap.to_csv('\\\\NotBackedUp\\\\SOE\\\\pyscript\\\\Tribe\\\\DevLaptop.csv',sep=',',index=None)"
   ]
  },
  {
   "cell_type": "code",
   "execution_count": 166,
   "metadata": {},
   "outputs": [],
   "source": [
    "StdLap = LapOnboarding[LapOnboarding['Device Type'] == 'Standard Laptop']\n",
    "StdLap = StdLap.fillna('')\n",
    "StdLap.to_csv('\\\\NotBackedUp\\\\SOE\\\\pyscript\\\\Tribe\\\\STDLaptop.csv',sep=',',index=None)"
   ]
  },
  {
   "cell_type": "code",
   "execution_count": 167,
   "metadata": {},
   "outputs": [],
   "source": [
    "Mac = LapOnboarding[LapOnboarding['Device Type'] == 'Macbook Dev Edition']\n",
    "Mac=Mac.fillna('')\n",
    "Mac\n",
    "Mac.to_csv('\\\\NotBackedUp\\\\SOE\\\\pyscript\\\\Tribe\\\\Macbook.csv',sep=',',index=None)"
   ]
  },
  {
   "cell_type": "code",
   "execution_count": null,
   "metadata": {
    "collapsed": true
   },
   "outputs": [],
   "source": []
  }
 ],
 "metadata": {
  "kernelspec": {
   "display_name": "Python 3",
   "language": "python",
   "name": "python3"
  },
  "language_info": {
   "codemirror_mode": {
    "name": "ipython",
    "version": 3
   },
   "file_extension": ".py",
   "mimetype": "text/x-python",
   "name": "python",
   "nbconvert_exporter": "python",
   "pygments_lexer": "ipython3",
   "version": "3.6.3"
  }
 },
 "nbformat": 4,
 "nbformat_minor": 2
}
