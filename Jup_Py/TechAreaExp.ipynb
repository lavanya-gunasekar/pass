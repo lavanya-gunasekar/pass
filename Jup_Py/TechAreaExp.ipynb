{
 "cells": [
  {
   "cell_type": "code",
   "execution_count": 5,
   "metadata": {
    "collapsed": true
   },
   "outputs": [],
   "source": [
    "import pandas as pd\n",
    "import glob\n",
    "import datetime\n",
    "from datetime import date\n",
    "import warnings\n",
    "warnings.filterwarnings('ignore')\n",
    "from functools import reduce\n",
    "import re"
   ]
  },
  {
   "cell_type": "code",
   "execution_count": 605,
   "metadata": {
    "collapsed": true
   },
   "outputs": [],
   "source": [
    "exp = pd.read_csv(r'C:\\NotBackedUp\\Expense\\CSV\\DirDiv.csv',delimiter='|')"
   ]
  },
  {
   "cell_type": "code",
   "execution_count": 566,
   "metadata": {
    "collapsed": true
   },
   "outputs": [],
   "source": [
    "exp= exp.rename(columns={'DOMAIN/PORTFOLIO':'DOMAIN','TRIBE/TECH AREA':'TRIBE','JUNE':'AMOUNT'})"
   ]
  },
  {
   "cell_type": "code",
   "execution_count": 567,
   "metadata": {
    "collapsed": true
   },
   "outputs": [],
   "source": [
    "exp['DOMAIN'] = exp['DOMAIN'].replace(['Retail + Commercial Domain'],['Australia Retail and Commercial'])\n",
    "exp['DOMAIN'] = exp['DOMAIN'].replace(['Enterprise Data + Intelligent Automation'],['Data Services'])\n",
    "exp['DOMAIN'] = exp['DOMAIN'].replace(['New Zealand Domain'],['New Zealand'])\n",
    "exp['DOMAIN'] = exp['DOMAIN'].replace(['Institutional Domain'],['Institutional'])\n",
    "exp['DOMAIN'] = exp['DOMAIN'].replace(['Transformation - India (INR)'],['Technology Transformation'])\n",
    "exp['DOMAIN'] = exp['DOMAIN'].replace(['Transformation - China (CNY)'],['Technology Transformation'])\n",
    "exp['DOMAIN'] = exp['DOMAIN'].replace(['Transformation - Australia'],['Technology Transformation'])\n",
    "exp['DOMAIN'] = exp['DOMAIN'].replace(['Transformation - Singapore (USD)'],['Technology Transformation'])\n",
    "exp['TRIBE']= exp['TRIBE'].replace(['Enterprise Data Initiatives'],['Enterprise Data Platforms'])\n",
    "exp['DOMAIN'] = exp['DOMAIN'].replace(['Technology HQ'],['Tech HQ - Major Programs'])\n",
    "exp['TRIBE'] = exp['TRIBE'].replace(['Technology HQ'],['Tech HQ - Major Programs'])"
   ]
  },
  {
   "cell_type": "code",
   "execution_count": 2,
   "metadata": {
    "collapsed": true
   },
   "outputs": [],
   "source": [
    "basedomain = ['Australia Retail and Commercial', 'Banking Services', 'Business Automation and Integration', 'Data Services', 'Employee Experience', 'Infrastructure as a Service', 'Institutional', 'New Zealand', 'Security', 'Technology Business Management', 'Technology Operations', 'Technology Transformation', 'Wealth','CIO','Delivery Services','Tech HQ - Major Programs']"
   ]
  },
  {
   "cell_type": "code",
   "execution_count": null,
   "metadata": {
    "collapsed": true
   },
   "outputs": [],
   "source": [
    "exp = exp[exp.DOMAIN.isin(basedomain)]"
   ]
  },
  {
   "cell_type": "code",
   "execution_count": 569,
   "metadata": {},
   "outputs": [
    {
     "data": {
      "text/html": [
       "<div>\n",
       "<style>\n",
       "    .dataframe thead tr:only-child th {\n",
       "        text-align: right;\n",
       "    }\n",
       "\n",
       "    .dataframe thead th {\n",
       "        text-align: left;\n",
       "    }\n",
       "\n",
       "    .dataframe tbody tr th {\n",
       "        vertical-align: top;\n",
       "    }\n",
       "</style>\n",
       "<table border=\"1\" class=\"dataframe\">\n",
       "  <thead>\n",
       "    <tr style=\"text-align: right;\">\n",
       "      <th></th>\n",
       "      <th>EXPENSES</th>\n",
       "      <th>Division</th>\n",
       "      <th>DOMAIN</th>\n",
       "      <th>TRIBE</th>\n",
       "      <th>AMOUNT</th>\n",
       "    </tr>\n",
       "  </thead>\n",
       "  <tbody>\n",
       "    <tr>\n",
       "      <th>47</th>\n",
       "      <td>Direct Expenses</td>\n",
       "      <td>Group Technology</td>\n",
       "      <td>Data Services</td>\n",
       "      <td>Business Automation</td>\n",
       "      <td>2350627.5</td>\n",
       "    </tr>\n",
       "    <tr>\n",
       "      <th>48</th>\n",
       "      <td>Direct Expenses</td>\n",
       "      <td>Group Technology</td>\n",
       "      <td>Data Services</td>\n",
       "      <td>Data General</td>\n",
       "      <td>332290.1</td>\n",
       "    </tr>\n",
       "    <tr>\n",
       "      <th>49</th>\n",
       "      <td>Direct Expenses</td>\n",
       "      <td>Group Technology</td>\n",
       "      <td>Data Services</td>\n",
       "      <td>Data Services - Customer</td>\n",
       "      <td>193754.6</td>\n",
       "    </tr>\n",
       "    <tr>\n",
       "      <th>50</th>\n",
       "      <td>Direct Expenses</td>\n",
       "      <td>Group Technology</td>\n",
       "      <td>Data Services</td>\n",
       "      <td>Data Services - Group</td>\n",
       "      <td>877509.2</td>\n",
       "    </tr>\n",
       "    <tr>\n",
       "      <th>51</th>\n",
       "      <td>Direct Expenses</td>\n",
       "      <td>Group Technology</td>\n",
       "      <td>Data Services</td>\n",
       "      <td>Enterprise Data Platforms</td>\n",
       "      <td>59560.4</td>\n",
       "    </tr>\n",
       "    <tr>\n",
       "      <th>52</th>\n",
       "      <td>Direct Expenses</td>\n",
       "      <td>Group Technology</td>\n",
       "      <td>Data Services</td>\n",
       "      <td>Data Ecosystem +Analytics</td>\n",
       "      <td>1098995.6</td>\n",
       "    </tr>\n",
       "    <tr>\n",
       "      <th>53</th>\n",
       "      <td>Direct Expenses</td>\n",
       "      <td>Group Technology</td>\n",
       "      <td>Data Services</td>\n",
       "      <td>Data Lifecycle Evolution</td>\n",
       "      <td>441813.6</td>\n",
       "    </tr>\n",
       "    <tr>\n",
       "      <th>54</th>\n",
       "      <td>Direct Expenses</td>\n",
       "      <td>Group Technology</td>\n",
       "      <td>Data Services</td>\n",
       "      <td>Enterprise Data Platforms</td>\n",
       "      <td>1793035.9</td>\n",
       "    </tr>\n",
       "    <tr>\n",
       "      <th>120</th>\n",
       "      <td>Divisionally Sponsored Projects</td>\n",
       "      <td>Group Technology</td>\n",
       "      <td>Data Services</td>\n",
       "      <td>Business Automation</td>\n",
       "      <td>-1600668.5</td>\n",
       "    </tr>\n",
       "    <tr>\n",
       "      <th>121</th>\n",
       "      <td>Divisionally Sponsored Projects</td>\n",
       "      <td>Group Technology</td>\n",
       "      <td>Data Services</td>\n",
       "      <td>Data General</td>\n",
       "      <td>-160609.6</td>\n",
       "    </tr>\n",
       "    <tr>\n",
       "      <th>122</th>\n",
       "      <td>Divisionally Sponsored Projects</td>\n",
       "      <td>Group Technology</td>\n",
       "      <td>Data Services</td>\n",
       "      <td>Data Services - Customer</td>\n",
       "      <td>-150760.5</td>\n",
       "    </tr>\n",
       "    <tr>\n",
       "      <th>123</th>\n",
       "      <td>Divisionally Sponsored Projects</td>\n",
       "      <td>Group Technology</td>\n",
       "      <td>Data Services</td>\n",
       "      <td>Data Services - Group</td>\n",
       "      <td>-482879.0</td>\n",
       "    </tr>\n",
       "    <tr>\n",
       "      <th>124</th>\n",
       "      <td>Divisionally Sponsored Projects</td>\n",
       "      <td>Group Technology</td>\n",
       "      <td>Data Services</td>\n",
       "      <td>Data Ecosystem +Analytics</td>\n",
       "      <td>-432190.8</td>\n",
       "    </tr>\n",
       "    <tr>\n",
       "      <th>125</th>\n",
       "      <td>Divisionally Sponsored Projects</td>\n",
       "      <td>Group Technology</td>\n",
       "      <td>Data Services</td>\n",
       "      <td>Data Lifecycle Evolution</td>\n",
       "      <td>-243853.6</td>\n",
       "    </tr>\n",
       "    <tr>\n",
       "      <th>126</th>\n",
       "      <td>Divisionally Sponsored Projects</td>\n",
       "      <td>Group Technology</td>\n",
       "      <td>Data Services</td>\n",
       "      <td>Enterprise Data Platforms</td>\n",
       "      <td>-279119.0</td>\n",
       "    </tr>\n",
       "  </tbody>\n",
       "</table>\n",
       "</div>"
      ],
      "text/plain": [
       "                            EXPENSES          Division         DOMAIN  \\\n",
       "47                   Direct Expenses  Group Technology  Data Services   \n",
       "48                   Direct Expenses  Group Technology  Data Services   \n",
       "49                   Direct Expenses  Group Technology  Data Services   \n",
       "50                   Direct Expenses  Group Technology  Data Services   \n",
       "51                   Direct Expenses  Group Technology  Data Services   \n",
       "52                   Direct Expenses  Group Technology  Data Services   \n",
       "53                   Direct Expenses  Group Technology  Data Services   \n",
       "54                   Direct Expenses  Group Technology  Data Services   \n",
       "120  Divisionally Sponsored Projects  Group Technology  Data Services   \n",
       "121  Divisionally Sponsored Projects  Group Technology  Data Services   \n",
       "122  Divisionally Sponsored Projects  Group Technology  Data Services   \n",
       "123  Divisionally Sponsored Projects  Group Technology  Data Services   \n",
       "124  Divisionally Sponsored Projects  Group Technology  Data Services   \n",
       "125  Divisionally Sponsored Projects  Group Technology  Data Services   \n",
       "126  Divisionally Sponsored Projects  Group Technology  Data Services   \n",
       "\n",
       "                         TRIBE     AMOUNT  \n",
       "47         Business Automation  2350627.5  \n",
       "48                Data General   332290.1  \n",
       "49    Data Services - Customer   193754.6  \n",
       "50       Data Services - Group   877509.2  \n",
       "51   Enterprise Data Platforms    59560.4  \n",
       "52   Data Ecosystem +Analytics  1098995.6  \n",
       "53    Data Lifecycle Evolution   441813.6  \n",
       "54   Enterprise Data Platforms  1793035.9  \n",
       "120        Business Automation -1600668.5  \n",
       "121               Data General  -160609.6  \n",
       "122   Data Services - Customer  -150760.5  \n",
       "123      Data Services - Group  -482879.0  \n",
       "124  Data Ecosystem +Analytics  -432190.8  \n",
       "125   Data Lifecycle Evolution  -243853.6  \n",
       "126  Enterprise Data Platforms  -279119.0  "
      ]
     },
     "execution_count": 569,
     "metadata": {},
     "output_type": "execute_result"
    }
   ],
   "source": [
    "exp[(exp['DOMAIN'] == 'Data Services')]"
   ]
  },
  {
   "cell_type": "code",
   "execution_count": 570,
   "metadata": {
    "collapsed": true
   },
   "outputs": [],
   "source": [
    "Dir_exp = exp[exp['EXPENSES']=='Direct Expenses']\n",
    "Dir_exp = Dir_exp[['Division','DOMAIN', 'TRIBE','AMOUNT']]\n",
    "Dir_exp = Dir_exp.rename(columns={'Division':'DIVISION'})\n",
    "Dir_exp = Dir_exp.groupby(['DIVISION','DOMAIN', 'TRIBE'])['AMOUNT'].sum().reset_index(name='DirectExpense')"
   ]
  },
  {
   "cell_type": "code",
   "execution_count": 571,
   "metadata": {},
   "outputs": [
    {
     "data": {
      "text/html": [
       "<div>\n",
       "<style>\n",
       "    .dataframe thead tr:only-child th {\n",
       "        text-align: right;\n",
       "    }\n",
       "\n",
       "    .dataframe thead th {\n",
       "        text-align: left;\n",
       "    }\n",
       "\n",
       "    .dataframe tbody tr th {\n",
       "        vertical-align: top;\n",
       "    }\n",
       "</style>\n",
       "<table border=\"1\" class=\"dataframe\">\n",
       "  <thead>\n",
       "    <tr style=\"text-align: right;\">\n",
       "      <th></th>\n",
       "      <th>DIVISION</th>\n",
       "      <th>DOMAIN</th>\n",
       "      <th>TRIBE</th>\n",
       "      <th>DirectExpense</th>\n",
       "    </tr>\n",
       "  </thead>\n",
       "  <tbody>\n",
       "    <tr>\n",
       "      <th>13</th>\n",
       "      <td>Group Technology</td>\n",
       "      <td>Data Services</td>\n",
       "      <td>Business Automation</td>\n",
       "      <td>2350627.5</td>\n",
       "    </tr>\n",
       "    <tr>\n",
       "      <th>14</th>\n",
       "      <td>Group Technology</td>\n",
       "      <td>Data Services</td>\n",
       "      <td>Data Ecosystem +Analytics</td>\n",
       "      <td>1098995.6</td>\n",
       "    </tr>\n",
       "    <tr>\n",
       "      <th>15</th>\n",
       "      <td>Group Technology</td>\n",
       "      <td>Data Services</td>\n",
       "      <td>Data General</td>\n",
       "      <td>332290.1</td>\n",
       "    </tr>\n",
       "    <tr>\n",
       "      <th>16</th>\n",
       "      <td>Group Technology</td>\n",
       "      <td>Data Services</td>\n",
       "      <td>Data Lifecycle Evolution</td>\n",
       "      <td>441813.6</td>\n",
       "    </tr>\n",
       "    <tr>\n",
       "      <th>17</th>\n",
       "      <td>Group Technology</td>\n",
       "      <td>Data Services</td>\n",
       "      <td>Data Services - Customer</td>\n",
       "      <td>193754.6</td>\n",
       "    </tr>\n",
       "    <tr>\n",
       "      <th>18</th>\n",
       "      <td>Group Technology</td>\n",
       "      <td>Data Services</td>\n",
       "      <td>Data Services - Group</td>\n",
       "      <td>877509.2</td>\n",
       "    </tr>\n",
       "    <tr>\n",
       "      <th>19</th>\n",
       "      <td>Group Technology</td>\n",
       "      <td>Data Services</td>\n",
       "      <td>Enterprise Data Platforms</td>\n",
       "      <td>1852596.3</td>\n",
       "    </tr>\n",
       "  </tbody>\n",
       "</table>\n",
       "</div>"
      ],
      "text/plain": [
       "            DIVISION         DOMAIN                      TRIBE  DirectExpense\n",
       "13  Group Technology  Data Services        Business Automation      2350627.5\n",
       "14  Group Technology  Data Services  Data Ecosystem +Analytics      1098995.6\n",
       "15  Group Technology  Data Services               Data General       332290.1\n",
       "16  Group Technology  Data Services   Data Lifecycle Evolution       441813.6\n",
       "17  Group Technology  Data Services   Data Services - Customer       193754.6\n",
       "18  Group Technology  Data Services      Data Services - Group       877509.2\n",
       "19  Group Technology  Data Services  Enterprise Data Platforms      1852596.3"
      ]
     },
     "execution_count": 571,
     "metadata": {},
     "output_type": "execute_result"
    }
   ],
   "source": [
    "Dir_exp[(Dir_exp['DOMAIN'] == 'Data Services')]"
   ]
  },
  {
   "cell_type": "code",
   "execution_count": 572,
   "metadata": {},
   "outputs": [
    {
     "data": {
      "text/html": [
       "<div>\n",
       "<style>\n",
       "    .dataframe thead tr:only-child th {\n",
       "        text-align: right;\n",
       "    }\n",
       "\n",
       "    .dataframe thead th {\n",
       "        text-align: left;\n",
       "    }\n",
       "\n",
       "    .dataframe tbody tr th {\n",
       "        vertical-align: top;\n",
       "    }\n",
       "</style>\n",
       "<table border=\"1\" class=\"dataframe\">\n",
       "  <thead>\n",
       "    <tr style=\"text-align: right;\">\n",
       "      <th></th>\n",
       "      <th>DIVISION</th>\n",
       "      <th>DOMAIN</th>\n",
       "      <th>TRIBE</th>\n",
       "      <th>DirectExpense</th>\n",
       "    </tr>\n",
       "  </thead>\n",
       "  <tbody>\n",
       "    <tr>\n",
       "      <th>56</th>\n",
       "      <td>Group Technology</td>\n",
       "      <td>Tech HQ - Major Programs</td>\n",
       "      <td>Tech HQ - Major Programs</td>\n",
       "      <td>6841888.3</td>\n",
       "    </tr>\n",
       "  </tbody>\n",
       "</table>\n",
       "</div>"
      ],
      "text/plain": [
       "            DIVISION                    DOMAIN                     TRIBE  \\\n",
       "56  Group Technology  Tech HQ - Major Programs  Tech HQ - Major Programs   \n",
       "\n",
       "    DirectExpense  \n",
       "56      6841888.3  "
      ]
     },
     "execution_count": 572,
     "metadata": {},
     "output_type": "execute_result"
    }
   ],
   "source": [
    "Dir_exp.loc[(Dir_exp['DOMAIN'] == 'Tech HQ - Major Programs')]"
   ]
  },
  {
   "cell_type": "code",
   "execution_count": 573,
   "metadata": {},
   "outputs": [
    {
     "data": {
      "text/html": [
       "<div>\n",
       "<style>\n",
       "    .dataframe thead tr:only-child th {\n",
       "        text-align: right;\n",
       "    }\n",
       "\n",
       "    .dataframe thead th {\n",
       "        text-align: left;\n",
       "    }\n",
       "\n",
       "    .dataframe tbody tr th {\n",
       "        vertical-align: top;\n",
       "    }\n",
       "</style>\n",
       "<table border=\"1\" class=\"dataframe\">\n",
       "  <thead>\n",
       "    <tr style=\"text-align: right;\">\n",
       "      <th></th>\n",
       "      <th>DIVISION</th>\n",
       "      <th>DOMAIN</th>\n",
       "      <th>TRIBE</th>\n",
       "      <th>DivisionalExpense</th>\n",
       "    </tr>\n",
       "  </thead>\n",
       "  <tbody>\n",
       "    <tr>\n",
       "      <th>0</th>\n",
       "      <td>Group Technology</td>\n",
       "      <td>Australia Retail and Commercial</td>\n",
       "      <td>Business Owner</td>\n",
       "      <td>-1800542.6</td>\n",
       "    </tr>\n",
       "    <tr>\n",
       "      <th>1</th>\n",
       "      <td>Group Technology</td>\n",
       "      <td>Australia Retail and Commercial</td>\n",
       "      <td>Core System</td>\n",
       "      <td>-1710134.8</td>\n",
       "    </tr>\n",
       "    <tr>\n",
       "      <th>2</th>\n",
       "      <td>Group Technology</td>\n",
       "      <td>Australia Retail and Commercial</td>\n",
       "      <td>Digital</td>\n",
       "      <td>-9079802.2</td>\n",
       "    </tr>\n",
       "    <tr>\n",
       "      <th>3</th>\n",
       "      <td>Group Technology</td>\n",
       "      <td>Australia Retail and Commercial</td>\n",
       "      <td>Home Lending</td>\n",
       "      <td>-1054490.7</td>\n",
       "    </tr>\n",
       "    <tr>\n",
       "      <th>4</th>\n",
       "      <td>Group Technology</td>\n",
       "      <td>Australia Retail and Commercial</td>\n",
       "      <td>Retail + Commercial Domain HQ</td>\n",
       "      <td>-1213592.6</td>\n",
       "    </tr>\n",
       "  </tbody>\n",
       "</table>\n",
       "</div>"
      ],
      "text/plain": [
       "           DIVISION                           DOMAIN  \\\n",
       "0  Group Technology  Australia Retail and Commercial   \n",
       "1  Group Technology  Australia Retail and Commercial   \n",
       "2  Group Technology  Australia Retail and Commercial   \n",
       "3  Group Technology  Australia Retail and Commercial   \n",
       "4  Group Technology  Australia Retail and Commercial   \n",
       "\n",
       "                           TRIBE  DivisionalExpense  \n",
       "0                 Business Owner         -1800542.6  \n",
       "1                    Core System         -1710134.8  \n",
       "2                        Digital         -9079802.2  \n",
       "3                   Home Lending         -1054490.7  \n",
       "4  Retail + Commercial Domain HQ         -1213592.6  "
      ]
     },
     "execution_count": 573,
     "metadata": {},
     "output_type": "execute_result"
    }
   ],
   "source": [
    "Div_exp = exp[exp['EXPENSES']=='Divisionally Sponsored Projects']\n",
    "Div_exp = Div_exp[['Division','DOMAIN', 'TRIBE','AMOUNT']]\n",
    "Div_exp = Div_exp.rename(columns={'Division':'DIVISION'})\n",
    "Div_exp = Div_exp.groupby(['DIVISION','DOMAIN', 'TRIBE'])['AMOUNT'].sum().reset_index(name='DivisionalExpense')\n",
    "Div_exp.head()"
   ]
  },
  {
   "cell_type": "code",
   "execution_count": 574,
   "metadata": {},
   "outputs": [
    {
     "data": {
      "text/html": [
       "<div>\n",
       "<style>\n",
       "    .dataframe thead tr:only-child th {\n",
       "        text-align: right;\n",
       "    }\n",
       "\n",
       "    .dataframe thead th {\n",
       "        text-align: left;\n",
       "    }\n",
       "\n",
       "    .dataframe tbody tr th {\n",
       "        vertical-align: top;\n",
       "    }\n",
       "</style>\n",
       "<table border=\"1\" class=\"dataframe\">\n",
       "  <thead>\n",
       "    <tr style=\"text-align: right;\">\n",
       "      <th></th>\n",
       "      <th>DIVISION</th>\n",
       "      <th>DOMAIN</th>\n",
       "      <th>TRIBE</th>\n",
       "      <th>DivisionalExpense</th>\n",
       "    </tr>\n",
       "  </thead>\n",
       "  <tbody>\n",
       "    <tr>\n",
       "      <th>13</th>\n",
       "      <td>Group Technology</td>\n",
       "      <td>Data Services</td>\n",
       "      <td>Business Automation</td>\n",
       "      <td>-1600668.5</td>\n",
       "    </tr>\n",
       "    <tr>\n",
       "      <th>14</th>\n",
       "      <td>Group Technology</td>\n",
       "      <td>Data Services</td>\n",
       "      <td>Data Ecosystem +Analytics</td>\n",
       "      <td>-432190.8</td>\n",
       "    </tr>\n",
       "    <tr>\n",
       "      <th>15</th>\n",
       "      <td>Group Technology</td>\n",
       "      <td>Data Services</td>\n",
       "      <td>Data General</td>\n",
       "      <td>-160609.6</td>\n",
       "    </tr>\n",
       "    <tr>\n",
       "      <th>16</th>\n",
       "      <td>Group Technology</td>\n",
       "      <td>Data Services</td>\n",
       "      <td>Data Lifecycle Evolution</td>\n",
       "      <td>-243853.6</td>\n",
       "    </tr>\n",
       "    <tr>\n",
       "      <th>17</th>\n",
       "      <td>Group Technology</td>\n",
       "      <td>Data Services</td>\n",
       "      <td>Data Services - Customer</td>\n",
       "      <td>-150760.5</td>\n",
       "    </tr>\n",
       "    <tr>\n",
       "      <th>18</th>\n",
       "      <td>Group Technology</td>\n",
       "      <td>Data Services</td>\n",
       "      <td>Data Services - Group</td>\n",
       "      <td>-482879.0</td>\n",
       "    </tr>\n",
       "    <tr>\n",
       "      <th>19</th>\n",
       "      <td>Group Technology</td>\n",
       "      <td>Data Services</td>\n",
       "      <td>Enterprise Data Platforms</td>\n",
       "      <td>-279119.0</td>\n",
       "    </tr>\n",
       "  </tbody>\n",
       "</table>\n",
       "</div>"
      ],
      "text/plain": [
       "            DIVISION         DOMAIN                      TRIBE  \\\n",
       "13  Group Technology  Data Services        Business Automation   \n",
       "14  Group Technology  Data Services  Data Ecosystem +Analytics   \n",
       "15  Group Technology  Data Services               Data General   \n",
       "16  Group Technology  Data Services   Data Lifecycle Evolution   \n",
       "17  Group Technology  Data Services   Data Services - Customer   \n",
       "18  Group Technology  Data Services      Data Services - Group   \n",
       "19  Group Technology  Data Services  Enterprise Data Platforms   \n",
       "\n",
       "    DivisionalExpense  \n",
       "13         -1600668.5  \n",
       "14          -432190.8  \n",
       "15          -160609.6  \n",
       "16          -243853.6  \n",
       "17          -150760.5  \n",
       "18          -482879.0  \n",
       "19          -279119.0  "
      ]
     },
     "execution_count": 574,
     "metadata": {},
     "output_type": "execute_result"
    }
   ],
   "source": [
    "Div_exp[(Div_exp['DOMAIN'] == 'Data Services')]"
   ]
  },
  {
   "cell_type": "code",
   "execution_count": 6,
   "metadata": {
    "collapsed": true
   },
   "outputs": [],
   "source": [
    "FTE = pd.read_csv(r'C:\\NotBackedUp\\Expense\\squad.csv',delimiter='|')"
   ]
  },
  {
   "cell_type": "code",
   "execution_count": 7,
   "metadata": {},
   "outputs": [
    {
     "data": {
      "text/plain": [
       "['Month',\n",
       " 'Division',\n",
       " 'LOB',\n",
       " 'Sub-LOB',\n",
       " 'Sub-LOB 1',\n",
       " 'Employee Name',\n",
       " 'Employment Status',\n",
       " 'Job Code Description',\n",
       " 'Job Family',\n",
       " 'Job Function',\n",
       " 'FTE']"
      ]
     },
     "execution_count": 7,
     "metadata": {},
     "output_type": "execute_result"
    }
   ],
   "source": [
    "list(FTE)"
   ]
  },
  {
   "cell_type": "code",
   "execution_count": 8,
   "metadata": {},
   "outputs": [
    {
     "data": {
      "text/plain": [
       "array(['Australia', 'Australia Property', 'Central Functions',\n",
       "       'Corporate Centre', 'Enablement Functions',\n",
       "       'Group Operations and Services', 'Group Technology',\n",
       "       'Institutional', 'Invalid FTE', 'New Zealand', 'Pacific',\n",
       "       'Procurement', 'Wealth Australia'], dtype=object)"
      ]
     },
     "execution_count": 8,
     "metadata": {},
     "output_type": "execute_result"
    }
   ],
   "source": [
    "FTE.Division.unique()"
   ]
  },
  {
   "cell_type": "code",
   "execution_count": 9,
   "metadata": {
    "collapsed": true
   },
   "outputs": [],
   "source": [
    "FTE['Division'] = FTE['Division'].replace(['Australia'],['Aus R & C'])"
   ]
  },
  {
   "cell_type": "code",
   "execution_count": 10,
   "metadata": {
    "collapsed": true
   },
   "outputs": [],
   "source": [
    "FTE['LOB'] = FTE['LOB'].replace(['Retail + Commercial Domain'],['Australia Retail and Commercial'])\n",
    "FTE['LOB'] = FTE['LOB'].replace(['Enterprise Data + Intelligent Automation'],['Data Services'])\n",
    "FTE['LOB'] = FTE['LOB'].replace(['New Zealand Domain'],['New Zealand'])\n",
    "FTE['LOB'] = FTE['LOB'].replace(['Institutional Domain'],['Institutional'])\n",
    "FTE['LOB'] = FTE['LOB'].replace(['Transformation - India (INR)'],['Technology Transformation'])\n",
    "FTE['LOB'] = FTE['LOB'].replace(['Transformation - China (CNY)'],['Technology Transformation'])\n",
    "FTE['LOB'] = FTE['LOB'].replace(['Transformation - Australia'],['Technology Transformation'])\n",
    "FTE['LOB'] = FTE['LOB'].replace(['Transformation - Singapore (USD)'],['Technology Transformation'])\n",
    "FTE['Sub-LOB']= FTE['Sub-LOB'].replace(['Enterprise Data Initiatives'],['Enterprise Data Platforms'])\n",
    "FTE['LOB'] = FTE['LOB'].replace(['Technology HQ'],['Tech HQ - Major Programs'])\n",
    "FTE['Sub-LOB'] = FTE['Sub-LOB'].replace(['Technology HQ'],['Tech HQ - Major Programs'])\n",
    "FTE = FTE[FTE.LOB.isin(basedomain)]"
   ]
  },
  {
   "cell_type": "code",
   "execution_count": 11,
   "metadata": {
    "collapsed": true
   },
   "outputs": [],
   "source": [
    "FTE = FTE.rename(columns={'Division':'DIVISION','LOB':'DOMAIN','Sub-LOB':'TRIBE'})"
   ]
  },
  {
   "cell_type": "code",
   "execution_count": 12,
   "metadata": {
    "collapsed": true
   },
   "outputs": [],
   "source": [
    "#FTE.loc[(FTE['DOMAIN'] == 'Employee Experience')&(FTE['TRIBE']== 'EE - Testing Services') & (FTE['Job Family']== 'Testing')]\n",
    "FTE = FTE[['DIVISION','DOMAIN','TRIBE','Job Family']]"
   ]
  },
  {
   "cell_type": "code",
   "execution_count": 581,
   "metadata": {
    "collapsed": true
   },
   "outputs": [],
   "source": [
    "sal = pd.read_csv(r'C:\\NotBackedUp\\Expense\\CSV\\Sal.csv',delimiter='|')\n",
    "#FTE.loc[(FTE['DOMAIN'] == 'Employee Experience')&(FTE['TRIBE']== 'EE - Testing Services') & (FTE['Job Family']== 'Testing')]"
   ]
  },
  {
   "cell_type": "code",
   "execution_count": 582,
   "metadata": {
    "collapsed": true
   },
   "outputs": [],
   "source": [
    "sal['DOMAIN'] = sal['DOMAIN'].replace(['Retail + Commercial Domain'],['Australia Retail and Commercial'])\n",
    "sal['DOMAIN'] = sal['DOMAIN'].replace(['Enterprise Data + Intelligent Automation'],['Data Services'])\n",
    "sal['DOMAIN'] = sal['DOMAIN'].replace(['New Zealand Domain'],['New Zealand'])\n",
    "sal['DOMAIN'] = sal['DOMAIN'].replace(['Institutional Domain'],['Institutional'])\n",
    "sal['DOMAIN'] = sal['DOMAIN'].replace(['Transformation - India (INR)'],['Technology Transformation'])\n",
    "sal['DOMAIN'] = sal['DOMAIN'].replace(['Transformation - China (CNY)'],['Technology Transformation'])\n",
    "sal['DOMAIN'] = sal['DOMAIN'].replace(['Transformation - Australia'],['Technology Transformation'])\n",
    "sal['DOMAIN'] = sal['DOMAIN'].replace(['Transformation - Singapore (USD)'],['Technology Transformation'])\n",
    "sal['TRIBE']= sal['TRIBE'].replace(['Enterprise Data Initiatives'],['Enterprise Data Platforms'])\n",
    "sal['DOMAIN'] = sal['DOMAIN'].replace(['Technology HQ'],['Tech HQ - Major Programs'])\n",
    "sal['TRIBE'] = sal['TRIBE'].replace(['Technology HQ'],['Tech HQ - Major Programs'])\n",
    "sal = sal[sal.DOMAIN.isin(basedomain)]"
   ]
  },
  {
   "cell_type": "code",
   "execution_count": 583,
   "metadata": {
    "collapsed": true
   },
   "outputs": [],
   "source": [
    "#sal = sal.rename(columns={'Division':'DIVISION','Domain':'DOMAIN','Tribe':'TRIBE'})\n",
    "sal = sal.groupby(['DIVISION','DOMAIN','TRIBE'])['SAL'].sum().reset_index(name='SalaryExpense')"
   ]
  },
  {
   "cell_type": "code",
   "execution_count": 584,
   "metadata": {},
   "outputs": [
    {
     "data": {
      "text/html": [
       "<div>\n",
       "<style>\n",
       "    .dataframe thead tr:only-child th {\n",
       "        text-align: right;\n",
       "    }\n",
       "\n",
       "    .dataframe thead th {\n",
       "        text-align: left;\n",
       "    }\n",
       "\n",
       "    .dataframe tbody tr th {\n",
       "        vertical-align: top;\n",
       "    }\n",
       "</style>\n",
       "<table border=\"1\" class=\"dataframe\">\n",
       "  <thead>\n",
       "    <tr style=\"text-align: right;\">\n",
       "      <th></th>\n",
       "      <th>DIVISION</th>\n",
       "      <th>DOMAIN</th>\n",
       "      <th>TRIBE</th>\n",
       "      <th>SalaryExpense</th>\n",
       "    </tr>\n",
       "  </thead>\n",
       "  <tbody>\n",
       "    <tr>\n",
       "      <th>13</th>\n",
       "      <td>Group Technology</td>\n",
       "      <td>Data Services</td>\n",
       "      <td>Business Automation</td>\n",
       "      <td>1272274.0</td>\n",
       "    </tr>\n",
       "    <tr>\n",
       "      <th>14</th>\n",
       "      <td>Group Technology</td>\n",
       "      <td>Data Services</td>\n",
       "      <td>Data Ecosystem +Analytics</td>\n",
       "      <td>581860.0</td>\n",
       "    </tr>\n",
       "    <tr>\n",
       "      <th>15</th>\n",
       "      <td>Group Technology</td>\n",
       "      <td>Data Services</td>\n",
       "      <td>Data General</td>\n",
       "      <td>175992.0</td>\n",
       "    </tr>\n",
       "    <tr>\n",
       "      <th>16</th>\n",
       "      <td>Group Technology</td>\n",
       "      <td>Data Services</td>\n",
       "      <td>Data Lifecycle Evolution</td>\n",
       "      <td>325869.0</td>\n",
       "    </tr>\n",
       "    <tr>\n",
       "      <th>17</th>\n",
       "      <td>Group Technology</td>\n",
       "      <td>Data Services</td>\n",
       "      <td>Data Services - Customer</td>\n",
       "      <td>584526.0</td>\n",
       "    </tr>\n",
       "    <tr>\n",
       "      <th>18</th>\n",
       "      <td>Group Technology</td>\n",
       "      <td>Data Services</td>\n",
       "      <td>Data Services - Group</td>\n",
       "      <td>647363.0</td>\n",
       "    </tr>\n",
       "    <tr>\n",
       "      <th>19</th>\n",
       "      <td>Group Technology</td>\n",
       "      <td>Data Services</td>\n",
       "      <td>Enterprise Data Platforms</td>\n",
       "      <td>189111.0</td>\n",
       "    </tr>\n",
       "  </tbody>\n",
       "</table>\n",
       "</div>"
      ],
      "text/plain": [
       "            DIVISION         DOMAIN                      TRIBE  SalaryExpense\n",
       "13  Group Technology  Data Services        Business Automation      1272274.0\n",
       "14  Group Technology  Data Services  Data Ecosystem +Analytics       581860.0\n",
       "15  Group Technology  Data Services               Data General       175992.0\n",
       "16  Group Technology  Data Services   Data Lifecycle Evolution       325869.0\n",
       "17  Group Technology  Data Services   Data Services - Customer       584526.0\n",
       "18  Group Technology  Data Services      Data Services - Group       647363.0\n",
       "19  Group Technology  Data Services  Enterprise Data Platforms       189111.0"
      ]
     },
     "execution_count": 584,
     "metadata": {},
     "output_type": "execute_result"
    }
   ],
   "source": [
    "sal.loc[(sal['DOMAIN'] == 'Data Services')]"
   ]
  },
  {
   "cell_type": "code",
   "execution_count": 585,
   "metadata": {},
   "outputs": [
    {
     "data": {
      "text/html": [
       "<div>\n",
       "<style>\n",
       "    .dataframe thead tr:only-child th {\n",
       "        text-align: right;\n",
       "    }\n",
       "\n",
       "    .dataframe thead th {\n",
       "        text-align: left;\n",
       "    }\n",
       "\n",
       "    .dataframe tbody tr th {\n",
       "        vertical-align: top;\n",
       "    }\n",
       "</style>\n",
       "<table border=\"1\" class=\"dataframe\">\n",
       "  <thead>\n",
       "    <tr style=\"text-align: right;\">\n",
       "      <th></th>\n",
       "      <th>DIVISION</th>\n",
       "      <th>DOMAIN</th>\n",
       "      <th>TRIBE</th>\n",
       "      <th>SalaryExpense</th>\n",
       "    </tr>\n",
       "  </thead>\n",
       "  <tbody>\n",
       "    <tr>\n",
       "      <th>0</th>\n",
       "      <td>Group Technology</td>\n",
       "      <td>Australia Retail and Commercial</td>\n",
       "      <td>Business Owner</td>\n",
       "      <td>628659.0</td>\n",
       "    </tr>\n",
       "    <tr>\n",
       "      <th>1</th>\n",
       "      <td>Group Technology</td>\n",
       "      <td>Australia Retail and Commercial</td>\n",
       "      <td>Core System</td>\n",
       "      <td>1074888.0</td>\n",
       "    </tr>\n",
       "    <tr>\n",
       "      <th>2</th>\n",
       "      <td>Group Technology</td>\n",
       "      <td>Australia Retail and Commercial</td>\n",
       "      <td>Digital</td>\n",
       "      <td>3589607.0</td>\n",
       "    </tr>\n",
       "    <tr>\n",
       "      <th>3</th>\n",
       "      <td>Group Technology</td>\n",
       "      <td>Australia Retail and Commercial</td>\n",
       "      <td>Home Lending</td>\n",
       "      <td>525483.0</td>\n",
       "    </tr>\n",
       "    <tr>\n",
       "      <th>4</th>\n",
       "      <td>Group Technology</td>\n",
       "      <td>Australia Retail and Commercial</td>\n",
       "      <td>Retail + Commercial Domain HQ</td>\n",
       "      <td>455018.0</td>\n",
       "    </tr>\n",
       "  </tbody>\n",
       "</table>\n",
       "</div>"
      ],
      "text/plain": [
       "           DIVISION                           DOMAIN  \\\n",
       "0  Group Technology  Australia Retail and Commercial   \n",
       "1  Group Technology  Australia Retail and Commercial   \n",
       "2  Group Technology  Australia Retail and Commercial   \n",
       "3  Group Technology  Australia Retail and Commercial   \n",
       "4  Group Technology  Australia Retail and Commercial   \n",
       "\n",
       "                           TRIBE  SalaryExpense  \n",
       "0                 Business Owner       628659.0  \n",
       "1                    Core System      1074888.0  \n",
       "2                        Digital      3589607.0  \n",
       "3                   Home Lending       525483.0  \n",
       "4  Retail + Commercial Domain HQ       455018.0  "
      ]
     },
     "execution_count": 585,
     "metadata": {},
     "output_type": "execute_result"
    }
   ],
   "source": [
    "sal.head()"
   ]
  },
  {
   "cell_type": "code",
   "execution_count": 586,
   "metadata": {
    "collapsed": true
   },
   "outputs": [],
   "source": [
    "RBPC = FTE.groupby(['DIVISION','DOMAIN','TRIBE','Job Family'])['Job Family'].count().reset_index(name='ActiveStaffCount')"
   ]
  },
  {
   "cell_type": "code",
   "execution_count": 587,
   "metadata": {},
   "outputs": [
    {
     "data": {
      "text/html": [
       "<div>\n",
       "<style>\n",
       "    .dataframe thead tr:only-child th {\n",
       "        text-align: right;\n",
       "    }\n",
       "\n",
       "    .dataframe thead th {\n",
       "        text-align: left;\n",
       "    }\n",
       "\n",
       "    .dataframe tbody tr th {\n",
       "        vertical-align: top;\n",
       "    }\n",
       "</style>\n",
       "<table border=\"1\" class=\"dataframe\">\n",
       "  <thead>\n",
       "    <tr style=\"text-align: right;\">\n",
       "      <th></th>\n",
       "      <th>DIVISION</th>\n",
       "      <th>DOMAIN</th>\n",
       "      <th>TRIBE</th>\n",
       "      <th>Job Family</th>\n",
       "      <th>ActiveStaffCount</th>\n",
       "    </tr>\n",
       "  </thead>\n",
       "  <tbody>\n",
       "    <tr>\n",
       "      <th>0</th>\n",
       "      <td>Group Technology</td>\n",
       "      <td>Australia Retail and Commercial</td>\n",
       "      <td>Business Owner</td>\n",
       "      <td>Agile Management</td>\n",
       "      <td>1</td>\n",
       "    </tr>\n",
       "    <tr>\n",
       "      <th>1</th>\n",
       "      <td>Group Technology</td>\n",
       "      <td>Australia Retail and Commercial</td>\n",
       "      <td>Business Owner</td>\n",
       "      <td>Analytics &amp; Reporting</td>\n",
       "      <td>1</td>\n",
       "    </tr>\n",
       "    <tr>\n",
       "      <th>2</th>\n",
       "      <td>Group Technology</td>\n",
       "      <td>Australia Retail and Commercial</td>\n",
       "      <td>Business Owner</td>\n",
       "      <td>Architecture</td>\n",
       "      <td>3</td>\n",
       "    </tr>\n",
       "    <tr>\n",
       "      <th>3</th>\n",
       "      <td>Group Technology</td>\n",
       "      <td>Australia Retail and Commercial</td>\n",
       "      <td>Business Owner</td>\n",
       "      <td>Data Intelligence</td>\n",
       "      <td>3</td>\n",
       "    </tr>\n",
       "    <tr>\n",
       "      <th>4</th>\n",
       "      <td>Group Technology</td>\n",
       "      <td>Australia Retail and Commercial</td>\n",
       "      <td>Business Owner</td>\n",
       "      <td>Project Business Analysis</td>\n",
       "      <td>1</td>\n",
       "    </tr>\n",
       "  </tbody>\n",
       "</table>\n",
       "</div>"
      ],
      "text/plain": [
       "           DIVISION                           DOMAIN           TRIBE  \\\n",
       "0  Group Technology  Australia Retail and Commercial  Business Owner   \n",
       "1  Group Technology  Australia Retail and Commercial  Business Owner   \n",
       "2  Group Technology  Australia Retail and Commercial  Business Owner   \n",
       "3  Group Technology  Australia Retail and Commercial  Business Owner   \n",
       "4  Group Technology  Australia Retail and Commercial  Business Owner   \n",
       "\n",
       "                  Job Family  ActiveStaffCount  \n",
       "0           Agile Management                 1  \n",
       "1      Analytics & Reporting                 1  \n",
       "2               Architecture                 3  \n",
       "3          Data Intelligence                 3  \n",
       "4  Project Business Analysis                 1  "
      ]
     },
     "execution_count": 587,
     "metadata": {},
     "output_type": "execute_result"
    }
   ],
   "source": [
    "RBPC.head()"
   ]
  },
  {
   "cell_type": "code",
   "execution_count": 588,
   "metadata": {
    "collapsed": true
   },
   "outputs": [],
   "source": [
    "#RBPC.loc[(RBPC['DOMAIN'] == 'Employee Experience')&(RBPC['TRIBE']== 'EE - Testing Services') & (RBPC['Job Family']== 'Testing')]"
   ]
  },
  {
   "cell_type": "code",
   "execution_count": 14,
   "metadata": {
    "collapsed": true
   },
   "outputs": [],
   "source": [
    "FTECount = FTE.groupby(['DIVISION','DOMAIN','TRIBE'])['Job Family'].count().reset_index(name='Total_FTE')\n",
    "#FTECount.loc[(FTECount['DOMAIN'] == 'Employee Experience')&(FTECount['TRIBE']== 'EE - Testing Services')]"
   ]
  },
  {
   "cell_type": "code",
   "execution_count": 590,
   "metadata": {
    "collapsed": true
   },
   "outputs": [],
   "source": [
    "#FTECount.loc[(FTECount['DOMAIN'] == 'Employee Experience')&(FTECount['TRIBE']== 'EE - Testing Services')]"
   ]
  },
  {
   "cell_type": "code",
   "execution_count": 591,
   "metadata": {
    "collapsed": true
   },
   "outputs": [],
   "source": [
    "dfs = [Dir_exp,Div_exp,FTECount,sal]"
   ]
  },
  {
   "cell_type": "code",
   "execution_count": 592,
   "metadata": {
    "collapsed": true
   },
   "outputs": [],
   "source": [
    "df_final = reduce(lambda left,right: pd.merge(left,right,on=['DIVISION','DOMAIN','TRIBE']), dfs)"
   ]
  },
  {
   "cell_type": "code",
   "execution_count": 593,
   "metadata": {
    "collapsed": true
   },
   "outputs": [],
   "source": [
    "df_final['Month'] = 'Jun-20'"
   ]
  },
  {
   "cell_type": "code",
   "execution_count": 594,
   "metadata": {},
   "outputs": [
    {
     "data": {
      "text/plain": [
       "['DIVISION',\n",
       " 'DOMAIN',\n",
       " 'TRIBE',\n",
       " 'DirectExpense',\n",
       " 'DivisionalExpense',\n",
       " 'Total_FTE',\n",
       " 'SalaryExpense',\n",
       " 'Month']"
      ]
     },
     "execution_count": 594,
     "metadata": {},
     "output_type": "execute_result"
    }
   ],
   "source": [
    "list(df_final)"
   ]
  },
  {
   "cell_type": "code",
   "execution_count": 595,
   "metadata": {},
   "outputs": [
    {
     "data": {
      "text/html": [
       "<div>\n",
       "<style>\n",
       "    .dataframe thead tr:only-child th {\n",
       "        text-align: right;\n",
       "    }\n",
       "\n",
       "    .dataframe thead th {\n",
       "        text-align: left;\n",
       "    }\n",
       "\n",
       "    .dataframe tbody tr th {\n",
       "        vertical-align: top;\n",
       "    }\n",
       "</style>\n",
       "<table border=\"1\" class=\"dataframe\">\n",
       "  <thead>\n",
       "    <tr style=\"text-align: right;\">\n",
       "      <th></th>\n",
       "      <th>DIVISION</th>\n",
       "      <th>DOMAIN</th>\n",
       "      <th>TRIBE</th>\n",
       "      <th>Month</th>\n",
       "      <th>Total_FTE</th>\n",
       "      <th>DirectExpense</th>\n",
       "      <th>DivisionalExpense</th>\n",
       "      <th>SalaryExpense</th>\n",
       "    </tr>\n",
       "  </thead>\n",
       "  <tbody>\n",
       "    <tr>\n",
       "      <th>0</th>\n",
       "      <td>Group Technology</td>\n",
       "      <td>Australia Retail and Commercial</td>\n",
       "      <td>Business Owner</td>\n",
       "      <td>Jun-20</td>\n",
       "      <td>49</td>\n",
       "      <td>2086795.3</td>\n",
       "      <td>-1800542.6</td>\n",
       "      <td>628659.0</td>\n",
       "    </tr>\n",
       "    <tr>\n",
       "      <th>1</th>\n",
       "      <td>Group Technology</td>\n",
       "      <td>Australia Retail and Commercial</td>\n",
       "      <td>Core System</td>\n",
       "      <td>Jun-20</td>\n",
       "      <td>112</td>\n",
       "      <td>2671090.7</td>\n",
       "      <td>-1710134.8</td>\n",
       "      <td>1074888.0</td>\n",
       "    </tr>\n",
       "    <tr>\n",
       "      <th>2</th>\n",
       "      <td>Group Technology</td>\n",
       "      <td>Australia Retail and Commercial</td>\n",
       "      <td>Digital</td>\n",
       "      <td>Jun-20</td>\n",
       "      <td>369</td>\n",
       "      <td>11723806.8</td>\n",
       "      <td>-9079802.2</td>\n",
       "      <td>3589607.0</td>\n",
       "    </tr>\n",
       "    <tr>\n",
       "      <th>3</th>\n",
       "      <td>Group Technology</td>\n",
       "      <td>Australia Retail and Commercial</td>\n",
       "      <td>Home Lending</td>\n",
       "      <td>Jun-20</td>\n",
       "      <td>49</td>\n",
       "      <td>1661173.8</td>\n",
       "      <td>-1054490.7</td>\n",
       "      <td>525483.0</td>\n",
       "    </tr>\n",
       "    <tr>\n",
       "      <th>4</th>\n",
       "      <td>Group Technology</td>\n",
       "      <td>Australia Retail and Commercial</td>\n",
       "      <td>Retail + Commercial Domain HQ</td>\n",
       "      <td>Jun-20</td>\n",
       "      <td>23</td>\n",
       "      <td>1560000.4</td>\n",
       "      <td>-1213592.6</td>\n",
       "      <td>455018.0</td>\n",
       "    </tr>\n",
       "  </tbody>\n",
       "</table>\n",
       "</div>"
      ],
      "text/plain": [
       "           DIVISION                           DOMAIN  \\\n",
       "0  Group Technology  Australia Retail and Commercial   \n",
       "1  Group Technology  Australia Retail and Commercial   \n",
       "2  Group Technology  Australia Retail and Commercial   \n",
       "3  Group Technology  Australia Retail and Commercial   \n",
       "4  Group Technology  Australia Retail and Commercial   \n",
       "\n",
       "                           TRIBE   Month  Total_FTE  DirectExpense  \\\n",
       "0                 Business Owner  Jun-20         49      2086795.3   \n",
       "1                    Core System  Jun-20        112      2671090.7   \n",
       "2                        Digital  Jun-20        369     11723806.8   \n",
       "3                   Home Lending  Jun-20         49      1661173.8   \n",
       "4  Retail + Commercial Domain HQ  Jun-20         23      1560000.4   \n",
       "\n",
       "   DivisionalExpense  SalaryExpense  \n",
       "0         -1800542.6       628659.0  \n",
       "1         -1710134.8      1074888.0  \n",
       "2         -9079802.2      3589607.0  \n",
       "3         -1054490.7       525483.0  \n",
       "4         -1213592.6       455018.0  "
      ]
     },
     "execution_count": 595,
     "metadata": {},
     "output_type": "execute_result"
    }
   ],
   "source": [
    "df_final = df_final[['DIVISION','DOMAIN','TRIBE','Month','Total_FTE','DirectExpense','DivisionalExpense','SalaryExpense']]\n",
    "df_final.head()"
   ]
  },
  {
   "cell_type": "code",
   "execution_count": 596,
   "metadata": {
    "collapsed": true
   },
   "outputs": [],
   "source": [
    "df_final.to_csv(r'C:\\NotBackedUp\\CSV\\FinalExp.csv',sep='|',index=None,header=None)"
   ]
  },
  {
   "cell_type": "code",
   "execution_count": 597,
   "metadata": {
    "collapsed": true
   },
   "outputs": [],
   "source": [
    "#RoleBased = pd.read_csv(r'C:\\NotBackedUp\\CSV\\EXp\\RBPC.csv',delimiter='|')"
   ]
  },
  {
   "cell_type": "code",
   "execution_count": 598,
   "metadata": {
    "collapsed": true
   },
   "outputs": [],
   "source": [
    "#RoleBased.head()"
   ]
  },
  {
   "cell_type": "code",
   "execution_count": 599,
   "metadata": {
    "collapsed": true
   },
   "outputs": [],
   "source": [
    "efs = [df_final,RBPC]"
   ]
  },
  {
   "cell_type": "code",
   "execution_count": 600,
   "metadata": {
    "collapsed": true
   },
   "outputs": [],
   "source": [
    "RBPC_Final = reduce(lambda left,right: pd.merge(left,right,on=['DIVISION','DOMAIN','TRIBE']), efs)"
   ]
  },
  {
   "cell_type": "code",
   "execution_count": 601,
   "metadata": {},
   "outputs": [
    {
     "data": {
      "text/plain": [
       "['DIVISION',\n",
       " 'DOMAIN',\n",
       " 'TRIBE',\n",
       " 'Month',\n",
       " 'Total_FTE',\n",
       " 'DirectExpense',\n",
       " 'DivisionalExpense',\n",
       " 'SalaryExpense',\n",
       " 'Job Family',\n",
       " 'ActiveStaffCount']"
      ]
     },
     "execution_count": 601,
     "metadata": {},
     "output_type": "execute_result"
    }
   ],
   "source": [
    "list(RBPC_Final)"
   ]
  },
  {
   "cell_type": "code",
   "execution_count": 603,
   "metadata": {
    "collapsed": true
   },
   "outputs": [],
   "source": [
    "RBPC_Final.to_csv(r'C:\\NotBackedUp\\CSV\\RBPCExp.csv',sep='|',index=None,header=None)"
   ]
  },
  {
   "cell_type": "code",
   "execution_count": 602,
   "metadata": {
    "collapsed": true
   },
   "outputs": [],
   "source": [
    "RBPC_Final = RBPC_Final[['DIVISION','DOMAIN','TRIBE','Job Family','ActiveStaffCount']]"
   ]
  },
  {
   "cell_type": "code",
   "execution_count": null,
   "metadata": {
    "collapsed": true
   },
   "outputs": [],
   "source": []
  }
 ],
 "metadata": {
  "kernelspec": {
   "display_name": "Python 3",
   "language": "python",
   "name": "python3"
  },
  "language_info": {
   "codemirror_mode": {
    "name": "ipython",
    "version": 3
   },
   "file_extension": ".py",
   "mimetype": "text/x-python",
   "name": "python",
   "nbconvert_exporter": "python",
   "pygments_lexer": "ipython3",
   "version": "3.6.3"
  }
 },
 "nbformat": 4,
 "nbformat_minor": 2
}
