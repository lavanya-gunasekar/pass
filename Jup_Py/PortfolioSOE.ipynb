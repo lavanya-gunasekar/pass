{
 "cells": [
  {
   "cell_type": "code",
   "execution_count": 1,
   "metadata": {
    "collapsed": true
   },
   "outputs": [],
   "source": [
    "import pandas as pd\n",
    "import glob\n",
    "import warnings\n",
    "warnings.filterwarnings('ignore')\n",
    "from functools import reduce\n",
    "import re"
   ]
  },
  {
   "cell_type": "code",
   "execution_count": 2,
   "metadata": {
    "collapsed": true
   },
   "outputs": [],
   "source": [
    "DemandTracker=pd.read_excel(r'C:\\NotBackedUp\\SOE\\pyscript\\data\\DemandTracker.xlsx')\n",
    "HCL=pd.read_excel(r'C:\\NotBackedUp\\SOE\\pyscript\\data\\HCL.xlsx')\n",
    "INFY=pd.read_excel(r'C:\\NotBackedUp\\SOE\\pyscript\\data\\Infy.xlsx')\n",
    "OnboardingTracker=pd.read_excel(r'C:\\NotBackedUp\\SOE\\pyscript\\data\\OnboardingTracker.xlsx')"
   ]
  },
  {
   "cell_type": "code",
   "execution_count": 3,
   "metadata": {
    "collapsed": true
   },
   "outputs": [],
   "source": [
    "noshow_Portfolio=OnboardingTracker[((OnboardingTracker['DRO Source']=='Model2')  & (OnboardingTracker['Onboarding Status']=='No Show'))]\n",
    "NOShow=noshow_Portfolio['Role'].count()"
   ]
  },
  {
   "cell_type": "code",
   "execution_count": 4,
   "metadata": {
    "collapsed": true
   },
   "outputs": [],
   "source": [
    "Resigned_Portfolio=OnboardingTracker[((OnboardingTracker['DRO Source']=='Model2')  & (OnboardingTracker['Onboarding Status']=='Resigned'))]\n",
    "Resigned=Resigned_Portfolio['Role'].count()"
   ]
  },
  {
   "cell_type": "code",
   "execution_count": 5,
   "metadata": {
    "collapsed": true
   },
   "outputs": [],
   "source": [
    "Onboarded_Portfolio=OnboardingTracker[((OnboardingTracker['DRO Source']=='Model2')  & (OnboardingTracker['Onboarding Status']=='Onboarding In Progress'))]\n",
    "OnboardInPrg=Onboarded_Portfolio['Role'].count()"
   ]
  },
  {
   "cell_type": "code",
   "execution_count": 6,
   "metadata": {
    "collapsed": true
   },
   "outputs": [],
   "source": [
    "RoleFulfilled_Portfolio=DemandTracker[DemandTracker['Demand Status']=='Closed']\n",
    "RoleFulfilled=RoleFulfilled_Portfolio['Demand ID'].count()"
   ]
  },
  {
   "cell_type": "code",
   "execution_count": 7,
   "metadata": {
    "collapsed": true
   },
   "outputs": [],
   "source": [
    "OpenRole_Portfolio=DemandTracker[DemandTracker['Demand Status']=='Open']\n",
    "OpenRole=OpenRole_Portfolio['Demand ID'].count()\n",
    "PublishedRole=DemandTracker['Demand ID'].count()"
   ]
  },
  {
   "cell_type": "code",
   "execution_count": 8,
   "metadata": {
    "collapsed": true
   },
   "outputs": [],
   "source": [
    "dfs=[NOShow,Resigned,OnboardInPrg,RoleFulfilled,OpenRole,PublishedRole]"
   ]
  },
  {
   "cell_type": "code",
   "execution_count": 9,
   "metadata": {},
   "outputs": [
    {
     "data": {
      "text/plain": [
       "[45, 16, 41, 213, 137, 399]"
      ]
     },
     "execution_count": 9,
     "metadata": {},
     "output_type": "execute_result"
    }
   ],
   "source": [
    "dfs"
   ]
  },
  {
   "cell_type": "code",
   "execution_count": 10,
   "metadata": {
    "collapsed": true
   },
   "outputs": [],
   "source": [
    "df = pd.DataFrame(dfs)"
   ]
  },
  {
   "cell_type": "code",
   "execution_count": 11,
   "metadata": {
    "collapsed": true
   },
   "outputs": [],
   "source": [
    "df.columns=['Counts']"
   ]
  },
  {
   "cell_type": "code",
   "execution_count": 12,
   "metadata": {
    "collapsed": true
   },
   "outputs": [],
   "source": [
    "Attributes=['NOShow','Resigned','OnboardInPrg','RoleFulfilled','OpenRole','PublishedRole']"
   ]
  },
  {
   "cell_type": "code",
   "execution_count": 13,
   "metadata": {
    "collapsed": true
   },
   "outputs": [],
   "source": [
    "df['Attributes']=Attributes"
   ]
  },
  {
   "cell_type": "code",
   "execution_count": 14,
   "metadata": {
    "collapsed": true
   },
   "outputs": [],
   "source": [
    "df=df[['Attributes','Counts']]"
   ]
  },
  {
   "cell_type": "code",
   "execution_count": 15,
   "metadata": {
    "collapsed": true
   },
   "outputs": [],
   "source": [
    "df.to_csv(r'C:\\NotBackedUp\\SOE\\pyscript\\FinalCSV\\Portfolio.csv',sep=',',index=None)"
   ]
  },
  {
   "cell_type": "code",
   "execution_count": 16,
   "metadata": {
    "collapsed": true
   },
   "outputs": [],
   "source": [
    "FailedHackerRankHCL=len(HCL[HCL['Application Status']=='Failed Hacker Rank'])"
   ]
  },
  {
   "cell_type": "code",
   "execution_count": 17,
   "metadata": {
    "collapsed": true
   },
   "outputs": [],
   "source": [
    "FailedHackerRankInfy=len(INFY[INFY['Application Status']=='Failed Hacker Rank'])"
   ]
  },
  {
   "cell_type": "code",
   "execution_count": 18,
   "metadata": {
    "collapsed": true
   },
   "outputs": [],
   "source": [
    "df2=[FailedHackerRankHCL,FailedHackerRankInfy]"
   ]
  },
  {
   "cell_type": "code",
   "execution_count": 19,
   "metadata": {
    "collapsed": true
   },
   "outputs": [],
   "source": [
    "FailedHackerRank=pd.DataFrame(df2)"
   ]
  },
  {
   "cell_type": "code",
   "execution_count": 20,
   "metadata": {
    "collapsed": true
   },
   "outputs": [],
   "source": [
    "FailedHackerRank.columns=['EngineerCount']"
   ]
  },
  {
   "cell_type": "code",
   "execution_count": 21,
   "metadata": {
    "collapsed": true
   },
   "outputs": [],
   "source": [
    "Partner=['HCL','INFOSYS']"
   ]
  },
  {
   "cell_type": "code",
   "execution_count": 22,
   "metadata": {
    "collapsed": true
   },
   "outputs": [],
   "source": [
    "FailedHackerRank['Partner']=Partner"
   ]
  },
  {
   "cell_type": "code",
   "execution_count": 23,
   "metadata": {
    "collapsed": true
   },
   "outputs": [],
   "source": [
    "FailedHackerRank=FailedHackerRank[['Partner','EngineerCount']]"
   ]
  },
  {
   "cell_type": "code",
   "execution_count": 24,
   "metadata": {
    "collapsed": true
   },
   "outputs": [],
   "source": [
    "FailedHackerRank.to_csv(r'C:\\NotBackedUp\\SOE\\pyscript\\FinalCSV\\FailedHackerRank.csv',sep=',',index=None)"
   ]
  },
  {
   "cell_type": "code",
   "execution_count": 25,
   "metadata": {
    "collapsed": true
   },
   "outputs": [],
   "source": [
    "HCLFullyOnboarded=OnboardingTracker[((OnboardingTracker['DRO Source']=='Model2')  & (OnboardingTracker['Partner']=='HCL') & (OnboardingTracker['Onboarding Status']=='Onboarding Completed'))]\n",
    "fobhcl=HCLFullyOnboarded['Role'].count()"
   ]
  },
  {
   "cell_type": "code",
   "execution_count": 26,
   "metadata": {
    "collapsed": true
   },
   "outputs": [],
   "source": [
    "INFYFullyOnboarded=OnboardingTracker[((OnboardingTracker['DRO Source']=='Model2')  & (OnboardingTracker['Partner']=='Infosys') & (OnboardingTracker['Onboarding Status']=='Onboarding Completed'))]\n",
    "fobinfy=INFYFullyOnboarded['Role'].count()"
   ]
  },
  {
   "cell_type": "code",
   "execution_count": 27,
   "metadata": {
    "collapsed": true
   },
   "outputs": [],
   "source": [
    "HCLOnboardInProgress=OnboardingTracker[((OnboardingTracker['DRO Source']=='Model2')  & (OnboardingTracker['Partner']=='HCL') & (OnboardingTracker['Onboarding Status']=='Onboarding In Progress'))]\n",
    "OnInPrgHCL=HCLOnboardInProgress['Role'].count()"
   ]
  },
  {
   "cell_type": "code",
   "execution_count": 28,
   "metadata": {
    "collapsed": true
   },
   "outputs": [],
   "source": [
    "INFYOnboardInProgress=OnboardingTracker[((OnboardingTracker['DRO Source']=='Model2')  & (OnboardingTracker['Partner']=='Infosys') & (OnboardingTracker['Onboarding Status']=='Onboarding In Progress'))]\n",
    "OnInPrgINFY=INFYOnboardInProgress['Role'].count()"
   ]
  },
  {
   "cell_type": "code",
   "execution_count": 29,
   "metadata": {
    "collapsed": true
   },
   "outputs": [],
   "source": [
    "HCLResigned=OnboardingTracker[((OnboardingTracker['DRO Source']=='Model2')  & (OnboardingTracker['Partner']=='HCL') & (OnboardingTracker['Onboarding Status']=='Resigned'))]\n",
    "ResignedHCL=HCLResigned['Role'].count()\n",
    "\n",
    "INFYResigned=OnboardingTracker[((OnboardingTracker['DRO Source']=='Model2')  & (OnboardingTracker['Partner']=='Infosys') & (OnboardingTracker['Onboarding Status']=='Resigned'))]\n",
    "ResignedINFY=INFYResigned['Role'].count()"
   ]
  },
  {
   "cell_type": "code",
   "execution_count": 30,
   "metadata": {
    "collapsed": true
   },
   "outputs": [],
   "source": [
    "HCLNoShow=OnboardingTracker[((OnboardingTracker['DRO Source']=='Model2')  & (OnboardingTracker['Partner']=='HCL') & (OnboardingTracker['Onboarding Status']=='No Show'))]\n",
    "NoShowHCL=HCLNoShow['Role'].count()\n",
    "\n",
    "INFYNoShow=OnboardingTracker[((OnboardingTracker['DRO Source']=='Model2')  & (OnboardingTracker['Partner']=='Infosys') & (OnboardingTracker['Onboarding Status']=='No Show'))]\n",
    "NoShowINFY=INFYNoShow['Role'].count()"
   ]
  },
  {
   "cell_type": "code",
   "execution_count": 31,
   "metadata": {
    "collapsed": true
   },
   "outputs": [],
   "source": [
    "HCLExternalCandiate=len(HCL[HCL['Candidate Type']=='External Candidate'])"
   ]
  },
  {
   "cell_type": "code",
   "execution_count": 32,
   "metadata": {
    "collapsed": true
   },
   "outputs": [],
   "source": [
    "INFYExternalCandiate=len(INFY[INFY['Candidate Type']=='External Candidate'])"
   ]
  },
  {
   "cell_type": "code",
   "execution_count": 33,
   "metadata": {
    "collapsed": true
   },
   "outputs": [],
   "source": [
    "HCLInternalCandiate=len(HCL[HCL['Candidate Type']=='Internal Candidate'])\n",
    "INFYInternalCandiate=len(INFY[INFY['Candidate Type']=='Internal Candidate'])"
   ]
  },
  {
   "cell_type": "code",
   "execution_count": 34,
   "metadata": {
    "collapsed": true
   },
   "outputs": [],
   "source": [
    "HCLTotalCandiate = len(HCL)"
   ]
  },
  {
   "cell_type": "code",
   "execution_count": 35,
   "metadata": {
    "collapsed": true
   },
   "outputs": [],
   "source": [
    "INFYTotalCandiate = len(INFY)"
   ]
  },
  {
   "cell_type": "code",
   "execution_count": 36,
   "metadata": {
    "collapsed": true
   },
   "outputs": [],
   "source": [
    "hclmetrics = [fobhcl,OnInPrgHCL,ResignedHCL,NoShowHCL,HCLExternalCandiate,HCLInternalCandiate,HCLTotalCandiate]\n",
    "infymetrics = [fobinfy,OnInPrgINFY,ResignedINFY,NoShowINFY,INFYExternalCandiate,INFYInternalCandiate,INFYTotalCandiate]"
   ]
  },
  {
   "cell_type": "code",
   "execution_count": 37,
   "metadata": {
    "collapsed": true
   },
   "outputs": [],
   "source": [
    "df3 = pd.DataFrame(hclmetrics)\n",
    "df4 = pd.DataFrame(infymetrics)"
   ]
  },
  {
   "cell_type": "code",
   "execution_count": 38,
   "metadata": {
    "collapsed": true
   },
   "outputs": [],
   "source": [
    "df3.columns=['HCLCounts']\n",
    "df4.columns=['INFYCounts']"
   ]
  },
  {
   "cell_type": "code",
   "execution_count": 39,
   "metadata": {
    "collapsed": true
   },
   "outputs": [],
   "source": [
    "VendorAttributes=['OnBoardedFully','OnBoardingIn-Progress','Resigned','NoShow','ExternalCandidates','InternalCandiates','TotalCandidates']"
   ]
  },
  {
   "cell_type": "code",
   "execution_count": 40,
   "metadata": {
    "collapsed": true
   },
   "outputs": [],
   "source": [
    "df3['VendorAttributes']=VendorAttributes\n",
    "df4['VendorAttributes']=VendorAttributes"
   ]
  },
  {
   "cell_type": "code",
   "execution_count": 41,
   "metadata": {
    "collapsed": true
   },
   "outputs": [],
   "source": [
    "df3=df3[['VendorAttributes','HCLCounts']]\n",
    "df4=df4[['VendorAttributes','INFYCounts']]"
   ]
  },
  {
   "cell_type": "code",
   "execution_count": 42,
   "metadata": {
    "collapsed": true
   },
   "outputs": [],
   "source": [
    "PerVendor = df3.merge(df4,how='outer',on=['VendorAttributes'])"
   ]
  },
  {
   "cell_type": "code",
   "execution_count": 43,
   "metadata": {
    "collapsed": true
   },
   "outputs": [],
   "source": [
    "PerVendor.to_csv(r'C:\\NotBackedUp\\SOE\\pyscript\\FinalCSV\\PerVendor.csv',sep=',',index=None)"
   ]
  },
  {
   "cell_type": "code",
   "execution_count": 44,
   "metadata": {
    "collapsed": true
   },
   "outputs": [],
   "source": [
    "DemandRolesOpen=DemandTracker.groupby(['Role'])['Demand ID'].count().reset_index(name='RolesOpened')"
   ]
  },
  {
   "cell_type": "code",
   "execution_count": 45,
   "metadata": {
    "collapsed": true
   },
   "outputs": [],
   "source": [
    "RolesOnboarded=OnboardingTracker[((OnboardingTracker['DRO Source']=='Model2')  & (OnboardingTracker['Partner'].isin(['HCL','Infosys'])) & (OnboardingTracker['Onboarding Status']=='Onboarding Completed'))]\n",
    "RolesOnboarded=RolesOnboarded.groupby(['Role'])['Demand ID'].count().reset_index(name='OnBoarded')\n"
   ]
  },
  {
   "cell_type": "code",
   "execution_count": 46,
   "metadata": {
    "collapsed": true
   },
   "outputs": [],
   "source": [
    "RolesOnboarded.loc[RolesOnboarded['Role'].str.contains('Engineer'),'Role'] = 'Engineer'\n",
    "RolesOnboarded.loc[RolesOnboarded['Role'].str.contains('Expert'),'Role'] = 'Operations Expert'\n",
    "RolesOnboarded.loc[RolesOnboarded['Role'].str.contains('Partner'),'Role'] = 'Delivery Partner'"
   ]
  },
  {
   "cell_type": "code",
   "execution_count": 47,
   "metadata": {
    "collapsed": true
   },
   "outputs": [],
   "source": [
    "FRolesOnboarded=RolesOnboarded.groupby(['Role'])['OnBoarded'].sum().reset_index(name='OnBoarded')"
   ]
  },
  {
   "cell_type": "code",
   "execution_count": 48,
   "metadata": {
    "collapsed": true
   },
   "outputs": [],
   "source": [
    "RolesOnboardInPrg=OnboardingTracker[((OnboardingTracker['DRO Source']=='Model2')  & (OnboardingTracker['Partner'].isin(['HCL','Infosys'])) & (OnboardingTracker['Onboarding Status']=='Onboarding In Progress'))]\n",
    "RolesOnboardInPrg=RolesOnboardInPrg.groupby(['Role'])['Demand ID'].count().reset_index(name='OnBoardInPrg')"
   ]
  },
  {
   "cell_type": "code",
   "execution_count": 49,
   "metadata": {
    "collapsed": true
   },
   "outputs": [],
   "source": [
    "RolesOnboardInPrg.loc[RolesOnboardInPrg['Role'].str.contains('Engineer'),'Role'] = 'Engineer'\n",
    "RolesOnboardInPrg.loc[RolesOnboardInPrg['Role'].str.contains('Expert'),'Role'] = 'Operations Expert'\n",
    "RolesOnboardInPrg.loc[RolesOnboardInPrg['Role'].str.contains('Partner'),'Role'] = 'Delivery Partner'"
   ]
  },
  {
   "cell_type": "code",
   "execution_count": 50,
   "metadata": {
    "collapsed": true
   },
   "outputs": [],
   "source": [
    "FRolesOnboardInPrg=RolesOnboardInPrg.groupby(['Role'])['OnBoardInPrg'].sum().reset_index(name='OnBoard_InProgress')"
   ]
  },
  {
   "cell_type": "code",
   "execution_count": 51,
   "metadata": {
    "collapsed": true
   },
   "outputs": [],
   "source": [
    "Rolesresignes=OnboardingTracker[((OnboardingTracker['DRO Source']=='Model2')  & (OnboardingTracker['Partner'].isin(['HCL','Infosys'])) & (OnboardingTracker['Onboarding Status']=='Resigned'))]\n",
    "Rolesresignes=Rolesresignes.groupby(['Role'])['Demand ID'].count().reset_index(name='Resigned')\n"
   ]
  },
  {
   "cell_type": "code",
   "execution_count": 52,
   "metadata": {
    "collapsed": true
   },
   "outputs": [],
   "source": [
    "Rolesresignes.loc[Rolesresignes['Role'].str.contains('Engineer'),'Role'] = 'Engineer'\n",
    "Rolesresignes.loc[Rolesresignes['Role'].str.contains('Expert'),'Role'] = 'Operations Expert'\n",
    "Rolesresignes.loc[Rolesresignes['Role'].str.contains('Partner'),'Role'] = 'Delivery Partner'"
   ]
  },
  {
   "cell_type": "code",
   "execution_count": 53,
   "metadata": {
    "collapsed": true
   },
   "outputs": [],
   "source": [
    "FRolesresignes=Rolesresignes.groupby(['Role'])['Resigned'].sum().reset_index(name='Resigns')"
   ]
  },
  {
   "cell_type": "code",
   "execution_count": 54,
   "metadata": {
    "collapsed": true
   },
   "outputs": [],
   "source": [
    "RolesNoshow=OnboardingTracker[((OnboardingTracker['DRO Source']=='Model2')  & (OnboardingTracker['Partner'].isin(['HCL','Infosys'])) & (OnboardingTracker['Onboarding Status']=='No Show'))]\n",
    "RolesNoshow=RolesNoshow.groupby(['Role'])['Demand ID'].count().reset_index(name='NoShow')"
   ]
  },
  {
   "cell_type": "code",
   "execution_count": 55,
   "metadata": {
    "collapsed": true
   },
   "outputs": [],
   "source": [
    "RolesNoshow.loc[RolesNoshow['Role'].str.contains('Engineer'),'Role'] = 'Engineer'\n",
    "RolesNoshow.loc[RolesNoshow['Role'].str.contains('Expert'),'Role'] = 'Operations Expert'\n",
    "RolesNoshow.loc[RolesNoshow['Role'].str.contains('Partner'),'Role'] = 'Delivery Partner'"
   ]
  },
  {
   "cell_type": "code",
   "execution_count": 56,
   "metadata": {
    "collapsed": true
   },
   "outputs": [],
   "source": [
    "FRolesNoshow=RolesNoshow.groupby(['Role'])['NoShow'].sum().reset_index(name='NoShow')"
   ]
  },
  {
   "cell_type": "code",
   "execution_count": 57,
   "metadata": {
    "collapsed": true
   },
   "outputs": [],
   "source": [
    "rms = [DemandRolesOpen,FRolesOnboarded,FRolesOnboardInPrg,FRolesresignes,FRolesNoshow]"
   ]
  },
  {
   "cell_type": "code",
   "execution_count": 58,
   "metadata": {
    "collapsed": true
   },
   "outputs": [],
   "source": [
    "rolemetrics=reduce(lambda left,right: pd.merge(left,right,on=['Role'],how='outer'),rms)"
   ]
  },
  {
   "cell_type": "code",
   "execution_count": 59,
   "metadata": {
    "collapsed": true
   },
   "outputs": [],
   "source": [
    "rolemetrics[['RolesOpened','OnBoarded','OnBoard_InProgress','Resigns','NoShow']]=rolemetrics[['RolesOpened','OnBoarded','OnBoard_InProgress','Resigns','NoShow']].fillna('0')\n",
    "rolemetrics[['RolesOpened','OnBoarded','OnBoard_InProgress','Resigns','NoShow']]=rolemetrics[['RolesOpened','OnBoarded','OnBoard_InProgress','Resigns','NoShow']].astype(int)"
   ]
  },
  {
   "cell_type": "code",
   "execution_count": 60,
   "metadata": {
    "collapsed": true
   },
   "outputs": [],
   "source": [
    "rolemetrics.to_csv(r'C:\\NotBackedUp\\SOE\\pyscript\\FinalCSV\\PerRole.csv',sep=',',index=None)"
   ]
  },
  {
   "cell_type": "code",
   "execution_count": 61,
   "metadata": {
    "collapsed": true
   },
   "outputs": [],
   "source": [
    "TribeRoleOpen=DemandTracker[DemandTracker['Demand Status']=='Open']"
   ]
  },
  {
   "cell_type": "code",
   "execution_count": 62,
   "metadata": {
    "collapsed": true
   },
   "outputs": [],
   "source": [
    "TribeRoleOpen=TribeRoleOpen.groupby(['Tribe'])['Demand ID'].count().reset_index(name='TribeRoleOpen')"
   ]
  },
  {
   "cell_type": "code",
   "execution_count": 63,
   "metadata": {
    "collapsed": true
   },
   "outputs": [],
   "source": [
    "TribeRoleResigned=OnboardingTracker[((OnboardingTracker['DRO Source']=='Model2')  & (OnboardingTracker['Partner'].isin(['HCL','Infosys'])) & (OnboardingTracker['Onboarding Status']=='Resigned'))]\n",
    "TribeRoleResigned=TribeRoleResigned.groupby(['Tribe'])['Demand ID'].count().reset_index(name='TribeRoleResigned')"
   ]
  },
  {
   "cell_type": "code",
   "execution_count": 64,
   "metadata": {
    "collapsed": true
   },
   "outputs": [],
   "source": [
    "TribeRoleOnboardInPrg=OnboardingTracker[((OnboardingTracker['DRO Source']=='Model2')  & (OnboardingTracker['Partner'].isin(['HCL','Infosys'])) & (OnboardingTracker['Onboarding Status']=='Onboarding In Progress'))]\n",
    "TribeRoleOnboardInPrg=TribeRoleOnboardInPrg.groupby(['Tribe'])['Demand ID'].count().reset_index(name='TribeRolesOnboardInPrg')"
   ]
  },
  {
   "cell_type": "code",
   "execution_count": 65,
   "metadata": {
    "collapsed": true
   },
   "outputs": [],
   "source": [
    "TribeRoleOnboarded=OnboardingTracker[((OnboardingTracker['DRO Source']=='Model2')  & (OnboardingTracker['Partner'].isin(['HCL','Infosys'])) & (OnboardingTracker['Onboarding Status']=='Onboarding Completed'))]\n",
    "TribeRoleOnboarded=TribeRoleOnboarded.groupby(['Tribe'])['Demand ID'].count().reset_index(name='TribeRolesOnboarded')"
   ]
  },
  {
   "cell_type": "code",
   "execution_count": 66,
   "metadata": {
    "collapsed": true
   },
   "outputs": [],
   "source": [
    "TribeRoleNoShow=OnboardingTracker[((OnboardingTracker['DRO Source']=='Model2')  & (OnboardingTracker['Partner'].isin(['HCL','Infosys'])) & (OnboardingTracker['Onboarding Status']=='No Show'))]\n",
    "TribeRoleNoShow=TribeRoleNoShow.groupby(['Tribe'])['Demand ID'].count().reset_index(name='TribeRolesNoShow')"
   ]
  },
  {
   "cell_type": "code",
   "execution_count": 67,
   "metadata": {
    "collapsed": true
   },
   "outputs": [],
   "source": [
    "trl = [TribeRoleOpen,TribeRoleResigned,TribeRoleOnboardInPrg,TribeRoleOnboarded,TribeRoleNoShow]"
   ]
  },
  {
   "cell_type": "code",
   "execution_count": 68,
   "metadata": {
    "collapsed": true
   },
   "outputs": [],
   "source": [
    "tribelevel=reduce(lambda left,right: pd.merge(left,right,on=['Tribe'],how='outer'),trl)"
   ]
  },
  {
   "cell_type": "code",
   "execution_count": 69,
   "metadata": {
    "collapsed": true
   },
   "outputs": [],
   "source": [
    "tribelevel[['TribeRoleOpen','TribeRoleResigned','TribeRolesOnboardInPrg','TribeRolesOnboarded','TribeRolesNoShow']]=tribelevel[['TribeRoleOpen','TribeRoleResigned','TribeRolesOnboardInPrg','TribeRolesOnboarded','TribeRolesNoShow']].fillna('0')\n",
    "tribelevel[['TribeRoleOpen','TribeRoleResigned','TribeRolesOnboardInPrg','TribeRolesOnboarded','TribeRolesNoShow']]=tribelevel[['TribeRoleOpen','TribeRoleResigned','TribeRolesOnboardInPrg','TribeRolesOnboarded','TribeRolesNoShow']].astype(int)"
   ]
  },
  {
   "cell_type": "code",
   "execution_count": 70,
   "metadata": {
    "collapsed": true
   },
   "outputs": [],
   "source": [
    "tribelevel.to_csv(r'C:\\NotBackedUp\\SOE\\pyscript\\FinalCSV\\TribeLevel.csv',sep=',',index=None)"
   ]
  },
  {
   "cell_type": "code",
   "execution_count": null,
   "metadata": {
    "collapsed": true
   },
   "outputs": [],
   "source": []
  },
  {
   "cell_type": "code",
   "execution_count": null,
   "metadata": {
    "collapsed": true
   },
   "outputs": [],
   "source": []
  },
  {
   "cell_type": "code",
   "execution_count": null,
   "metadata": {
    "collapsed": true
   },
   "outputs": [],
   "source": []
  }
 ],
 "metadata": {
  "kernelspec": {
   "display_name": "Python 3",
   "language": "python",
   "name": "python3"
  },
  "language_info": {
   "codemirror_mode": {
    "name": "ipython",
    "version": 3
   },
   "file_extension": ".py",
   "mimetype": "text/x-python",
   "name": "python",
   "nbconvert_exporter": "python",
   "pygments_lexer": "ipython3",
   "version": "3.6.3"
  }
 },
 "nbformat": 4,
 "nbformat_minor": 2
}
