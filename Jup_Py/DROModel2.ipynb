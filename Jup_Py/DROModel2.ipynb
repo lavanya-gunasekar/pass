{
 "cells": [
  {
   "cell_type": "code",
   "execution_count": 1,
   "metadata": {
    "collapsed": true
   },
   "outputs": [],
   "source": [
    "import pandas as pd\n",
    "import glob\n",
    "import warnings\n",
    "warnings.filterwarnings('ignore')\n",
    "from functools import reduce\n",
    "import re"
   ]
  },
  {
   "cell_type": "code",
   "execution_count": 2,
   "metadata": {
    "collapsed": true
   },
   "outputs": [],
   "source": [
    "DemandTracker=pd.read_excel(r'C:\\NotBackedUp\\SOE\\pyscript\\data\\DemandTracker.xlsx')\n",
    "HCL=pd.read_excel(r'C:\\NotBackedUp\\SOE\\pyscript\\data\\HCL.xlsx')\n",
    "INFY=pd.read_excel(r'C:\\NotBackedUp\\SOE\\pyscript\\data\\Infy.xlsx')\n",
    "OnboardingTracker=pd.read_excel(r'C:\\NotBackedUp\\SOE\\pyscript\\data\\OnboardingTracker.xlsx')"
   ]
  },
  {
   "cell_type": "markdown",
   "metadata": {},
   "source": [
    "DRO Demand Update"
   ]
  },
  {
   "cell_type": "code",
   "execution_count": 3,
   "metadata": {
    "collapsed": true
   },
   "outputs": [],
   "source": [
    "rb=DemandTracker.groupby(['Tribe'])['Demand ID'].count().reset_index(name='Roles_Published')"
   ]
  },
  {
   "cell_type": "code",
   "execution_count": 4,
   "metadata": {
    "collapsed": true
   },
   "outputs": [],
   "source": [
    "rf=DemandTracker[DemandTracker['Demand Status']=='Closed']\n",
    "rf=rf.groupby(['Tribe'])['Demand ID'].count().reset_index(name='Roles_Filled')"
   ]
  },
  {
   "cell_type": "code",
   "execution_count": 5,
   "metadata": {
    "collapsed": true
   },
   "outputs": [],
   "source": [
    "ro=DemandTracker[DemandTracker['Demand Status']=='Open']\n",
    "ro=ro.groupby(['Tribe'])['Demand ID'].count().reset_index(name='Roles_Open')"
   ]
  },
  {
   "cell_type": "code",
   "execution_count": 6,
   "metadata": {
    "collapsed": true
   },
   "outputs": [],
   "source": [
    "data = {'Tribe':['BX - CC','BX - CSP','CAT','DCS','DCX','DSE','APRA','BUSINESS LENDING','SOE'], 'Roles_in_Pipeline':[2,3,5,0,5,3,20,5,6]} \n",
    "rp = pd.DataFrame(data)"
   ]
  },
  {
   "cell_type": "code",
   "execution_count": 7,
   "metadata": {
    "collapsed": true
   },
   "outputs": [],
   "source": [
    "rw=DemandTracker[DemandTracker['Demand Status']=='Withdrawn']\n",
    "rw=rw.groupby(['Tribe'])['Demand ID'].count().reset_index(name='Roles_Withdrawn')"
   ]
  },
  {
   "cell_type": "code",
   "execution_count": 8,
   "metadata": {
    "collapsed": true
   },
   "outputs": [],
   "source": [
    "ddu=[rb,rf,ro,rp,rw]"
   ]
  },
  {
   "cell_type": "code",
   "execution_count": 9,
   "metadata": {
    "collapsed": true
   },
   "outputs": [],
   "source": [
    "demandupdate=reduce(lambda left,right: pd.merge(left,right,on=['Tribe'],how='outer'),ddu)"
   ]
  },
  {
   "cell_type": "code",
   "execution_count": 10,
   "metadata": {
    "collapsed": true
   },
   "outputs": [],
   "source": [
    "demandupdate[['Roles_Published','Roles_Filled','Roles_Open','Roles_in_Pipeline','Roles_Withdrawn']]=demandupdate[['Roles_Published','Roles_Filled','Roles_Open','Roles_in_Pipeline','Roles_Withdrawn']].fillna('0')\n",
    "demandupdate[['Roles_Published','Roles_Filled','Roles_Open','Roles_in_Pipeline','Roles_Withdrawn']]=demandupdate[['Roles_Published','Roles_Filled','Roles_Open','Roles_in_Pipeline','Roles_Withdrawn']].astype(int)"
   ]
  },
  {
   "cell_type": "code",
   "execution_count": 11,
   "metadata": {
    "collapsed": true
   },
   "outputs": [],
   "source": [
    "demandupdate = demandupdate.transpose()"
   ]
  },
  {
   "cell_type": "code",
   "execution_count": 12,
   "metadata": {
    "collapsed": true
   },
   "outputs": [],
   "source": [
    "demandupdate.columns = demandupdate.iloc[0]\n",
    "demandupdate = demandupdate[1:]"
   ]
  },
  {
   "cell_type": "code",
   "execution_count": 13,
   "metadata": {},
   "outputs": [
    {
     "data": {
      "text/html": [
       "<div>\n",
       "<style>\n",
       "    .dataframe thead tr:only-child th {\n",
       "        text-align: right;\n",
       "    }\n",
       "\n",
       "    .dataframe thead th {\n",
       "        text-align: left;\n",
       "    }\n",
       "\n",
       "    .dataframe tbody tr th {\n",
       "        vertical-align: top;\n",
       "    }\n",
       "</style>\n",
       "<table border=\"1\" class=\"dataframe\">\n",
       "  <thead>\n",
       "    <tr style=\"text-align: right;\">\n",
       "      <th>Tribe</th>\n",
       "      <th>APRA</th>\n",
       "      <th>BUSINESS LENDING</th>\n",
       "      <th>BUSINESS OWNERS</th>\n",
       "      <th>BX - CC</th>\n",
       "      <th>BX - CSP</th>\n",
       "      <th>CAT</th>\n",
       "      <th>CSS</th>\n",
       "      <th>DCS</th>\n",
       "      <th>DCX</th>\n",
       "      <th>DSE</th>\n",
       "      <th>SOE</th>\n",
       "    </tr>\n",
       "  </thead>\n",
       "  <tbody>\n",
       "    <tr>\n",
       "      <th>Roles_Published</th>\n",
       "      <td>36</td>\n",
       "      <td>8</td>\n",
       "      <td>3</td>\n",
       "      <td>32</td>\n",
       "      <td>125</td>\n",
       "      <td>44</td>\n",
       "      <td>52</td>\n",
       "      <td>4</td>\n",
       "      <td>56</td>\n",
       "      <td>83</td>\n",
       "      <td>19</td>\n",
       "    </tr>\n",
       "    <tr>\n",
       "      <th>Roles_Filled</th>\n",
       "      <td>24</td>\n",
       "      <td>6</td>\n",
       "      <td>3</td>\n",
       "      <td>18</td>\n",
       "      <td>60</td>\n",
       "      <td>28</td>\n",
       "      <td>29</td>\n",
       "      <td>4</td>\n",
       "      <td>27</td>\n",
       "      <td>51</td>\n",
       "      <td>15</td>\n",
       "    </tr>\n",
       "    <tr>\n",
       "      <th>Roles_Open</th>\n",
       "      <td>4</td>\n",
       "      <td>1</td>\n",
       "      <td>0</td>\n",
       "      <td>8</td>\n",
       "      <td>41</td>\n",
       "      <td>14</td>\n",
       "      <td>21</td>\n",
       "      <td>0</td>\n",
       "      <td>13</td>\n",
       "      <td>23</td>\n",
       "      <td>0</td>\n",
       "    </tr>\n",
       "    <tr>\n",
       "      <th>Roles_in_Pipeline</th>\n",
       "      <td>20</td>\n",
       "      <td>5</td>\n",
       "      <td>0</td>\n",
       "      <td>2</td>\n",
       "      <td>3</td>\n",
       "      <td>5</td>\n",
       "      <td>0</td>\n",
       "      <td>0</td>\n",
       "      <td>5</td>\n",
       "      <td>3</td>\n",
       "      <td>6</td>\n",
       "    </tr>\n",
       "    <tr>\n",
       "      <th>Roles_Withdrawn</th>\n",
       "      <td>0</td>\n",
       "      <td>0</td>\n",
       "      <td>0</td>\n",
       "      <td>2</td>\n",
       "      <td>13</td>\n",
       "      <td>1</td>\n",
       "      <td>1</td>\n",
       "      <td>0</td>\n",
       "      <td>7</td>\n",
       "      <td>3</td>\n",
       "      <td>4</td>\n",
       "    </tr>\n",
       "  </tbody>\n",
       "</table>\n",
       "</div>"
      ],
      "text/plain": [
       "Tribe             APRA BUSINESS LENDING BUSINESS OWNERS BX - CC BX - CSP CAT  \\\n",
       "Roles_Published     36                8               3      32      125  44   \n",
       "Roles_Filled        24                6               3      18       60  28   \n",
       "Roles_Open           4                1               0       8       41  14   \n",
       "Roles_in_Pipeline   20                5               0       2        3   5   \n",
       "Roles_Withdrawn      0                0               0       2       13   1   \n",
       "\n",
       "Tribe             CSS DCS DCX DSE SOE  \n",
       "Roles_Published    52   4  56  83  19  \n",
       "Roles_Filled       29   4  27  51  15  \n",
       "Roles_Open         21   0  13  23   0  \n",
       "Roles_in_Pipeline   0   0   5   3   6  \n",
       "Roles_Withdrawn     1   0   7   3   4  "
      ]
     },
     "execution_count": 13,
     "metadata": {},
     "output_type": "execute_result"
    }
   ],
   "source": [
    "demandupdate"
   ]
  },
  {
   "cell_type": "code",
   "execution_count": 14,
   "metadata": {
    "collapsed": true
   },
   "outputs": [],
   "source": [
    "demandupdate.to_csv(r'C:\\NotBackedUp\\SOE\\pyscript\\FinalCSV\\DRO\\demandupdate.csv',sep=',')"
   ]
  },
  {
   "cell_type": "markdown",
   "metadata": {},
   "source": [
    "DRO Supply Update"
   ]
  },
  {
   "cell_type": "code",
   "execution_count": 15,
   "metadata": {
    "collapsed": true
   },
   "outputs": [],
   "source": [
    "phhcl=HCL[HCL['Application Status']=='Hired']\n",
    "phinfy=INFY[INFY['Application Status']=='Hired']\n",
    "ProfilesHiredHCL=phhcl['ID'].count()\n",
    "ProfilesHiredInfosys=phinfy['ID'].count()"
   ]
  },
  {
   "cell_type": "code",
   "execution_count": 16,
   "metadata": {
    "collapsed": true
   },
   "outputs": [],
   "source": [
    "pihcl=HCL[HCL['Application Status']=='Pending ANZ Interview']\n",
    "piinfy=INFY[INFY['Application Status']=='Pending ANZ Interview']\n",
    "PendingInterviewHCL=pihcl['ID'].count()\n",
    "PendingInterviewInfosys=piinfy['ID'].count()"
   ]
  },
  {
   "cell_type": "code",
   "execution_count": 17,
   "metadata": {
    "collapsed": true
   },
   "outputs": [],
   "source": [
    "fihcl=HCL[HCL['Application Status']=='Failed Interview']\n",
    "fiinfy=INFY[INFY['Application Status']=='Failed Interview']\n",
    "FailedInterviewHCL=fihcl['ID'].count()\n",
    "FailedInterviewInfosys=fiinfy['ID'].count()"
   ]
  },
  {
   "cell_type": "code",
   "execution_count": 18,
   "metadata": {
    "collapsed": true
   },
   "outputs": [],
   "source": [
    "pdscnhcl=HCL[HCL['Application Status'] == 'Pending Hacker Rank']\n",
    "pdscninfy=INFY[INFY['Application Status'] == 'Pending Hacker Rank']\n",
    "Pending_ScreeningHCL=pdscnhcl['ID'].count()\n",
    "Pending_ScreeningInfosys=pdscninfy['ID'].count()"
   ]
  },
  {
   "cell_type": "code",
   "execution_count": 19,
   "metadata": {
    "collapsed": true
   },
   "outputs": [],
   "source": [
    "fascnhcl=HCL[HCL['Application Status'] == 'Failed Hacker Rank']\n",
    "fascninfy=INFY[INFY['Application Status'] == 'Failed Hacker Rank']\n",
    "FailedscreeningHCL=fascnhcl['ID'].count()\n",
    "FailedscreeningInfosys=fascninfy['ID'].count()"
   ]
  },
  {
   "cell_type": "code",
   "execution_count": 20,
   "metadata": {
    "collapsed": true
   },
   "outputs": [],
   "source": [
    "rwhcl=HCL[HCL['Application Status']=='Role Withdrawn by ANZ']\n",
    "rwinfy=INFY[INFY['Application Status']=='Role Withdrawn by ANZ']\n",
    "RolesWithdrawnHCL=rwhcl['ID'].count()\n",
    "RolesWithdrawnInfosys=rwinfy['ID'].count()"
   ]
  },
  {
   "cell_type": "code",
   "execution_count": 21,
   "metadata": {
    "collapsed": true
   },
   "outputs": [],
   "source": [
    "ruhcl=HCL[HCL['Application Status']=='Rsource Unavailable']\n",
    "ruinfy=INFY[INFY['Application Status']=='Resource Unavailable']\n",
    "RsourceUnavailableHCL=ruhcl['ID'].count()\n",
    "RsourceUnavailableInfosys=ruinfy['ID'].count()"
   ]
  },
  {
   "cell_type": "code",
   "execution_count": 22,
   "metadata": {
    "collapsed": true
   },
   "outputs": [],
   "source": [
    "pdchcl=HCL[HCL['Application Status']=='Pending ANZ Response']\n",
    "pdcinfy=INFY[INFY['Application Status']=='Pending ANZ Response']\n",
    "PendingDecisionHCL=pdchcl['ID'].count()\n",
    "PendingDecisionInfosys=pdcinfy['ID'].count()"
   ]
  },
  {
   "cell_type": "code",
   "execution_count": 23,
   "metadata": {
    "collapsed": true
   },
   "outputs": [],
   "source": [
    "pnhhcl=HCL[HCL['Application Status']=='Not - Hired']\n",
    "pnhinfy=INFY[INFY['Application Status']=='Not - Hired']\n",
    "ProfilesNotHiredHCL=pnhhcl['ID'].count()\n",
    "ProfilesNotHiredInfosys=pnhinfy['ID'].count()"
   ]
  },
  {
   "cell_type": "code",
   "execution_count": 24,
   "metadata": {
    "collapsed": true
   },
   "outputs": [],
   "source": [
    "rfovhcl=HCL[HCL['Application Status']=='Role Fulfilled by Other Vendor']\n",
    "rfovinfy=INFY[INFY['Application Status']=='Role Fulfilled by Other Vendor']\n",
    "ProfilefilledbyotherVendorHCL=rfovhcl['ID'].count()\n",
    "ProfilefilledbyotherVendorInfosys=rfovinfy['ID'].count()"
   ]
  },
  {
   "cell_type": "code",
   "execution_count": 25,
   "metadata": {
    "collapsed": true
   },
   "outputs": [],
   "source": [
    "ProfileSuppliedHCL=HCL['ID'].count()\n",
    "ProfileSuppliedInfosys=INFY['ID'].count()"
   ]
  },
  {
   "cell_type": "code",
   "execution_count": 26,
   "metadata": {
    "collapsed": true
   },
   "outputs": [],
   "source": [
    "HCLU=[ProfilesHiredHCL,PendingInterviewHCL,FailedInterviewHCL,Pending_ScreeningHCL,FailedscreeningHCL,RsourceUnavailableHCL,PendingDecisionHCL,ProfilesNotHiredHCL,ProfilefilledbyotherVendorHCL,RolesWithdrawnHCL,ProfileSuppliedHCL]\n",
    "InfyU=[ProfilesHiredInfosys,PendingInterviewInfosys,FailedInterviewInfosys,Pending_ScreeningInfosys,FailedscreeningInfosys,RsourceUnavailableInfosys,PendingDecisionInfosys,ProfilesNotHiredInfosys,ProfilefilledbyotherVendorInfosys,RolesWithdrawnInfosys,ProfileSuppliedInfosys]"
   ]
  },
  {
   "cell_type": "code",
   "execution_count": 27,
   "metadata": {
    "collapsed": true
   },
   "outputs": [],
   "source": [
    "Supplyupdate = ['Profiles_Hired','Pending_Interview','Failed_Interview','Pending_Screening','Failed_Screening','Rsource_Unavailable','Pending_Decision','NotHired','Roles_Filled_by_other_Vendor','Roles_Withdrawn','Profiles_Supplied',]"
   ]
  },
  {
   "cell_type": "code",
   "execution_count": 28,
   "metadata": {
    "collapsed": true
   },
   "outputs": [],
   "source": [
    "hclupdate=pd.DataFrame(HCLU)\n",
    "Infyupdate=pd.DataFrame(InfyU)"
   ]
  },
  {
   "cell_type": "code",
   "execution_count": 29,
   "metadata": {
    "collapsed": true
   },
   "outputs": [],
   "source": [
    "hclupdate.columns=['HclCounts']\n",
    "Infyupdate.columns=['InfyCounts']"
   ]
  },
  {
   "cell_type": "code",
   "execution_count": 30,
   "metadata": {
    "collapsed": true
   },
   "outputs": [],
   "source": [
    "hclupdate['Supplyupdate']=Supplyupdate\n",
    "Infyupdate['Supplyupdate']=Supplyupdate"
   ]
  },
  {
   "cell_type": "code",
   "execution_count": 31,
   "metadata": {
    "collapsed": true
   },
   "outputs": [],
   "source": [
    "drosu=[hclupdate,Infyupdate]"
   ]
  },
  {
   "cell_type": "code",
   "execution_count": 32,
   "metadata": {
    "collapsed": true
   },
   "outputs": [],
   "source": [
    "DROSupplyUpdate=reduce(lambda left,right: pd.merge(left,right,on=['Supplyupdate'],how='outer'),drosu)"
   ]
  },
  {
   "cell_type": "code",
   "execution_count": 33,
   "metadata": {
    "collapsed": true
   },
   "outputs": [],
   "source": [
    "DROSupplyUpdate=DROSupplyUpdate[['Supplyupdate','InfyCounts','HclCounts']]"
   ]
  },
  {
   "cell_type": "code",
   "execution_count": 34,
   "metadata": {
    "collapsed": true
   },
   "outputs": [],
   "source": [
    "DROSupplyUpdate[['InfyCounts','HclCounts']]=DROSupplyUpdate[['InfyCounts','HclCounts']].fillna('0')\n",
    "DROSupplyUpdate[['InfyCounts','HclCounts']]=DROSupplyUpdate[['InfyCounts','HclCounts']].astype(int)"
   ]
  },
  {
   "cell_type": "code",
   "execution_count": 35,
   "metadata": {},
   "outputs": [
    {
     "data": {
      "text/html": [
       "<div>\n",
       "<style>\n",
       "    .dataframe thead tr:only-child th {\n",
       "        text-align: right;\n",
       "    }\n",
       "\n",
       "    .dataframe thead th {\n",
       "        text-align: left;\n",
       "    }\n",
       "\n",
       "    .dataframe tbody tr th {\n",
       "        vertical-align: top;\n",
       "    }\n",
       "</style>\n",
       "<table border=\"1\" class=\"dataframe\">\n",
       "  <thead>\n",
       "    <tr style=\"text-align: right;\">\n",
       "      <th></th>\n",
       "      <th>Supplyupdate</th>\n",
       "      <th>InfyCounts</th>\n",
       "      <th>HclCounts</th>\n",
       "    </tr>\n",
       "  </thead>\n",
       "  <tbody>\n",
       "    <tr>\n",
       "      <th>0</th>\n",
       "      <td>Profiles_Hired</td>\n",
       "      <td>80</td>\n",
       "      <td>94</td>\n",
       "    </tr>\n",
       "    <tr>\n",
       "      <th>1</th>\n",
       "      <td>Pending_Interview</td>\n",
       "      <td>25</td>\n",
       "      <td>34</td>\n",
       "    </tr>\n",
       "    <tr>\n",
       "      <th>2</th>\n",
       "      <td>Failed_Interview</td>\n",
       "      <td>59</td>\n",
       "      <td>71</td>\n",
       "    </tr>\n",
       "    <tr>\n",
       "      <th>3</th>\n",
       "      <td>Pending_Screening</td>\n",
       "      <td>2</td>\n",
       "      <td>13</td>\n",
       "    </tr>\n",
       "    <tr>\n",
       "      <th>4</th>\n",
       "      <td>Failed_Screening</td>\n",
       "      <td>65</td>\n",
       "      <td>26</td>\n",
       "    </tr>\n",
       "    <tr>\n",
       "      <th>5</th>\n",
       "      <td>Rsource_Unavailable</td>\n",
       "      <td>90</td>\n",
       "      <td>67</td>\n",
       "    </tr>\n",
       "    <tr>\n",
       "      <th>6</th>\n",
       "      <td>Pending_Decision</td>\n",
       "      <td>6</td>\n",
       "      <td>42</td>\n",
       "    </tr>\n",
       "    <tr>\n",
       "      <th>7</th>\n",
       "      <td>NotHired</td>\n",
       "      <td>53</td>\n",
       "      <td>25</td>\n",
       "    </tr>\n",
       "    <tr>\n",
       "      <th>8</th>\n",
       "      <td>Roles_Filled_by_other_Vendor</td>\n",
       "      <td>35</td>\n",
       "      <td>7</td>\n",
       "    </tr>\n",
       "    <tr>\n",
       "      <th>9</th>\n",
       "      <td>Roles_Withdrawn</td>\n",
       "      <td>51</td>\n",
       "      <td>4</td>\n",
       "    </tr>\n",
       "    <tr>\n",
       "      <th>10</th>\n",
       "      <td>Profiles_Supplied</td>\n",
       "      <td>466</td>\n",
       "      <td>383</td>\n",
       "    </tr>\n",
       "  </tbody>\n",
       "</table>\n",
       "</div>"
      ],
      "text/plain": [
       "                    Supplyupdate  InfyCounts  HclCounts\n",
       "0                 Profiles_Hired          80         94\n",
       "1              Pending_Interview          25         34\n",
       "2               Failed_Interview          59         71\n",
       "3              Pending_Screening           2         13\n",
       "4               Failed_Screening          65         26\n",
       "5            Rsource_Unavailable          90         67\n",
       "6               Pending_Decision           6         42\n",
       "7                       NotHired          53         25\n",
       "8   Roles_Filled_by_other_Vendor          35          7\n",
       "9                Roles_Withdrawn          51          4\n",
       "10             Profiles_Supplied         466        383"
      ]
     },
     "execution_count": 35,
     "metadata": {},
     "output_type": "execute_result"
    }
   ],
   "source": [
    "DROSupplyUpdate"
   ]
  },
  {
   "cell_type": "code",
   "execution_count": 36,
   "metadata": {
    "collapsed": true
   },
   "outputs": [],
   "source": [
    "DROSupplyUpdate.to_csv(r'C:\\NotBackedUp\\SOE\\pyscript\\FinalCSV\\DRO\\DROSupplyUpdate.csv',sep=',',index=None)"
   ]
  },
  {
   "cell_type": "markdown",
   "metadata": {},
   "source": [
    "DRO Onboarding Update"
   ]
  },
  {
   "cell_type": "code",
   "execution_count": 37,
   "metadata": {
    "collapsed": true
   },
   "outputs": [],
   "source": [
    "HCLobc=OnboardingTracker[((OnboardingTracker['DRO Source']=='Model2')  & (OnboardingTracker['Partner']=='HCL') & (OnboardingTracker['Onboarding Status']=='Onboarding Completed'))]\n",
    "OBCHCL=HCLobc['Role'].count()\n",
    "Infyobc=OnboardingTracker[((OnboardingTracker['DRO Source']=='Model2')  & (OnboardingTracker['Partner']=='Infosys') & (OnboardingTracker['Onboarding Status']=='Onboarding Completed'))]\n",
    "OBCInfy=Infyobc['Role'].count()\n",
    "CTSobc=OnboardingTracker[((OnboardingTracker['DRO Source']=='Model2')  & (OnboardingTracker['Partner']=='Cognizant') & (OnboardingTracker['Onboarding Status']=='Onboarding Completed'))]\n",
    "OBCCTS=CTSobc['Role'].count()"
   ]
  },
  {
   "cell_type": "code",
   "execution_count": 38,
   "metadata": {
    "collapsed": true
   },
   "outputs": [],
   "source": [
    "HCLobi=OnboardingTracker[((OnboardingTracker['DRO Source']=='Model2')  & (OnboardingTracker['Partner']=='HCL') & (OnboardingTracker['Onboarding Status']=='Onboarding In Progress'))]\n",
    "OBIHCL=HCLobi['Role'].count()\n",
    "Infyobi=OnboardingTracker[((OnboardingTracker['DRO Source']=='Model2')  & (OnboardingTracker['Partner']=='Infosys') & (OnboardingTracker['Onboarding Status']=='Onboarding In Progress'))]\n",
    "OBIInfy=Infyobi['Role'].count()\n",
    "CTSobi=OnboardingTracker[((OnboardingTracker['DRO Source']=='Model2')  & (OnboardingTracker['Partner']=='Cognizant') & (OnboardingTracker['Onboarding Status']=='Onboarding In Progress'))]\n",
    "OBICTS=CTSobi['Role'].count()"
   ]
  },
  {
   "cell_type": "code",
   "execution_count": 39,
   "metadata": {
    "collapsed": true
   },
   "outputs": [],
   "source": [
    "HCLtonb=OnboardingTracker[((OnboardingTracker['DRO Source']=='Model2')  & (OnboardingTracker['Partner']=='HCL') & (OnboardingTracker['Onboarding Status']=='To Be Onboarded'))]\n",
    "TBONHCL=HCLtonb['Role'].count()\n",
    "Infytonb=OnboardingTracker[((OnboardingTracker['DRO Source']=='Model2')  & (OnboardingTracker['Partner']=='Infosys') & (OnboardingTracker['Onboarding Status']=='To Be Onboarded'))]\n",
    "TBONInfy=Infytonb['Role'].count()\n",
    "CTStonb=OnboardingTracker[((OnboardingTracker['DRO Source']=='Model2')  & (OnboardingTracker['Partner']=='Cognizant') & (OnboardingTracker['Onboarding Status']=='To Be Onboarded'))]\n",
    "TBONCTS=CTStonb['Role'].count()"
   ]
  },
  {
   "cell_type": "code",
   "execution_count": 40,
   "metadata": {
    "collapsed": true
   },
   "outputs": [],
   "source": [
    "HCLnshw=OnboardingTracker[((OnboardingTracker['DRO Source']=='Model2')  & (OnboardingTracker['Partner']=='HCL') & (OnboardingTracker['Onboarding Status']=='No Show'))]\n",
    "NSHWHCL=HCLnshw['Role'].count()\n",
    "Infytnshw=OnboardingTracker[((OnboardingTracker['DRO Source']=='Model2')  & (OnboardingTracker['Partner']=='Infosys') & (OnboardingTracker['Onboarding Status']=='No Show'))]\n",
    "NSHWInfy=Infytnshw['Role'].count()\n",
    "CTSnshw=OnboardingTracker[((OnboardingTracker['DRO Source']=='Model2')  & (OnboardingTracker['Partner']=='Cognizant') & (OnboardingTracker['Onboarding Status']=='No Show'))]\n",
    "NSHWCTS=CTSnshw['Role'].count()"
   ]
  },
  {
   "cell_type": "code",
   "execution_count": 41,
   "metadata": {
    "collapsed": true
   },
   "outputs": [],
   "source": [
    "HCLrsgn=OnboardingTracker[((OnboardingTracker['DRO Source']=='Model2')  & (OnboardingTracker['Partner']=='HCL') & (OnboardingTracker['Onboarding Status']=='Resigned'))]\n",
    "RSGNHCL=HCLrsgn['Role'].count()\n",
    "Infyrsgn=OnboardingTracker[((OnboardingTracker['DRO Source']=='Model2')  & (OnboardingTracker['Partner']=='Infosys') & (OnboardingTracker['Onboarding Status']=='Resigned'))]\n",
    "RSGNInfy=Infyrsgn['Role'].count()\n",
    "CTSrsgn=OnboardingTracker[((OnboardingTracker['DRO Source']=='Model2')  & (OnboardingTracker['Partner']=='Cognizant') & (OnboardingTracker['Onboarding Status']=='Resigned'))]\n",
    "RSGNCTS=CTSrsgn['Role'].count()"
   ]
  },
  {
   "cell_type": "code",
   "execution_count": 42,
   "metadata": {
    "collapsed": true
   },
   "outputs": [],
   "source": [
    "HCLobinit=OnboardingTracker[((OnboardingTracker['DRO Source']=='Model2')  & (OnboardingTracker['Partner']=='HCL') & (OnboardingTracker['Onboarding Status']=='Onboarding Initiated'))]\n",
    "OBINITNHCL=HCLobinit['Role'].count()\n",
    "Infyobinit=OnboardingTracker[((OnboardingTracker['DRO Source']=='Model2')  & (OnboardingTracker['Partner']=='Infosys') & (OnboardingTracker['Onboarding Status']=='Onboarding Initiated'))]\n",
    "OBINITInfy=Infyobinit['Role'].count()\n",
    "CTSobinit=OnboardingTracker[((OnboardingTracker['DRO Source']=='Model2')  & (OnboardingTracker['Partner']=='Cognizant') & (OnboardingTracker['Onboarding Status']=='Onboarding Initiated'))]\n",
    "OBINITCTS=CTSobinit['Role'].count()"
   ]
  },
  {
   "cell_type": "code",
   "execution_count": 43,
   "metadata": {
    "collapsed": true
   },
   "outputs": [],
   "source": [
    "HCLtotalOB=OnboardingTracker[((OnboardingTracker['DRO Source']=='Model2')  & (OnboardingTracker['Partner']=='HCL'))]\n",
    "TOTALOBHCL=HCLtotalOB['Role'].count()\n",
    "\n",
    "InfytotalOB=OnboardingTracker[((OnboardingTracker['DRO Source']=='Model2')  & (OnboardingTracker['Partner']=='Infosys'))]\n",
    "TOTALOBINFY=InfytotalOB['Role'].count()\n",
    "\n",
    "CTStotalOB=OnboardingTracker[((OnboardingTracker['DRO Source']=='Model2')  & (OnboardingTracker['Partner']=='Cognizant'))]\n",
    "TOTALOBCTS=CTStotalOB['Role'].count()"
   ]
  },
  {
   "cell_type": "code",
   "execution_count": 44,
   "metadata": {
    "collapsed": true
   },
   "outputs": [],
   "source": [
    "onbuHCL = [OBCHCL,OBIHCL,TBONHCL,NSHWHCL,RSGNHCL,OBINITNHCL,TOTALOBHCL]\n",
    "onbuInfy = [OBCInfy,OBIInfy,TBONInfy,NSHWInfy,RSGNInfy,OBINITInfy,TOTALOBINFY]\n",
    "onbuCTS = [OBCCTS,OBICTS,TBONCTS,NSHWCTS,RSGNCTS,OBINITCTS,TOTALOBCTS]"
   ]
  },
  {
   "cell_type": "code",
   "execution_count": 45,
   "metadata": {
    "collapsed": true
   },
   "outputs": [],
   "source": [
    "OnboardingUpdate = ['OnBoarding_Completed','OnBoarding_in_Progress','Onboarding_Initiated','To_Be_Onboarded','No_Show','Resigned','Total_Onboarding']"
   ]
  },
  {
   "cell_type": "code",
   "execution_count": 46,
   "metadata": {
    "collapsed": true
   },
   "outputs": [],
   "source": [
    "hclOnboardingupdate=pd.DataFrame(onbuHCL)\n",
    "Infyonboardingupdate=pd.DataFrame(onbuInfy)\n",
    "ctsonboardingupdate=pd.DataFrame(onbuCTS)"
   ]
  },
  {
   "cell_type": "code",
   "execution_count": 47,
   "metadata": {
    "collapsed": true
   },
   "outputs": [],
   "source": [
    "hclOnboardingupdate.columns=['HclCounts']\n",
    "Infyonboardingupdate.columns=['InfyCounts']\n",
    "ctsonboardingupdate.columns=['CTSCounts']"
   ]
  },
  {
   "cell_type": "code",
   "execution_count": 48,
   "metadata": {
    "collapsed": true
   },
   "outputs": [],
   "source": [
    "hclOnboardingupdate['OnboardingUpdate']=OnboardingUpdate\n",
    "Infyonboardingupdate['OnboardingUpdate']=OnboardingUpdate\n",
    "ctsonboardingupdate['OnboardingUpdate']=OnboardingUpdate"
   ]
  },
  {
   "cell_type": "code",
   "execution_count": 49,
   "metadata": {
    "collapsed": true
   },
   "outputs": [],
   "source": [
    "droonbu = [hclOnboardingupdate,Infyonboardingupdate,ctsonboardingupdate]"
   ]
  },
  {
   "cell_type": "code",
   "execution_count": 50,
   "metadata": {
    "collapsed": true
   },
   "outputs": [],
   "source": [
    "DROOnBoardingUpdate=reduce(lambda left,right: pd.merge(left,right,on=['OnboardingUpdate'],how='outer'),droonbu)"
   ]
  },
  {
   "cell_type": "code",
   "execution_count": 51,
   "metadata": {
    "collapsed": true
   },
   "outputs": [],
   "source": [
    "DROOnBoardingUpdate = DROOnBoardingUpdate[['OnboardingUpdate','InfyCounts','HclCounts','CTSCounts']]"
   ]
  },
  {
   "cell_type": "code",
   "execution_count": 52,
   "metadata": {
    "collapsed": true
   },
   "outputs": [],
   "source": [
    "DROOnBoardingUpdate[['HclCounts','InfyCounts','CTSCounts']]=DROOnBoardingUpdate[['HclCounts','InfyCounts','CTSCounts']].fillna('0')\n",
    "DROOnBoardingUpdate[['HclCounts','InfyCounts','CTSCounts']]=DROOnBoardingUpdate[['HclCounts','InfyCounts','CTSCounts']].astype(int)"
   ]
  },
  {
   "cell_type": "code",
   "execution_count": 53,
   "metadata": {
    "collapsed": true
   },
   "outputs": [],
   "source": [
    "DROOnBoardingUpdate.to_csv(r'C:\\NotBackedUp\\SOE\\pyscript\\FinalCSV\\DRO\\DROOnBoardingUpdate.csv',sep=',',index=None)"
   ]
  },
  {
   "cell_type": "code",
   "execution_count": 54,
   "metadata": {},
   "outputs": [
    {
     "data": {
      "text/html": [
       "<div>\n",
       "<style>\n",
       "    .dataframe thead tr:only-child th {\n",
       "        text-align: right;\n",
       "    }\n",
       "\n",
       "    .dataframe thead th {\n",
       "        text-align: left;\n",
       "    }\n",
       "\n",
       "    .dataframe tbody tr th {\n",
       "        vertical-align: top;\n",
       "    }\n",
       "</style>\n",
       "<table border=\"1\" class=\"dataframe\">\n",
       "  <thead>\n",
       "    <tr style=\"text-align: right;\">\n",
       "      <th></th>\n",
       "      <th>OnboardingUpdate</th>\n",
       "      <th>InfyCounts</th>\n",
       "      <th>HclCounts</th>\n",
       "      <th>CTSCounts</th>\n",
       "    </tr>\n",
       "  </thead>\n",
       "  <tbody>\n",
       "    <tr>\n",
       "      <th>0</th>\n",
       "      <td>OnBoarding_Completed</td>\n",
       "      <td>146</td>\n",
       "      <td>93</td>\n",
       "      <td>5</td>\n",
       "    </tr>\n",
       "    <tr>\n",
       "      <th>1</th>\n",
       "      <td>OnBoarding_in_Progress</td>\n",
       "      <td>13</td>\n",
       "      <td>26</td>\n",
       "      <td>3</td>\n",
       "    </tr>\n",
       "    <tr>\n",
       "      <th>2</th>\n",
       "      <td>Onboarding_Initiated</td>\n",
       "      <td>4</td>\n",
       "      <td>5</td>\n",
       "      <td>0</td>\n",
       "    </tr>\n",
       "    <tr>\n",
       "      <th>3</th>\n",
       "      <td>To_Be_Onboarded</td>\n",
       "      <td>18</td>\n",
       "      <td>40</td>\n",
       "      <td>1</td>\n",
       "    </tr>\n",
       "    <tr>\n",
       "      <th>4</th>\n",
       "      <td>No_Show</td>\n",
       "      <td>18</td>\n",
       "      <td>4</td>\n",
       "      <td>0</td>\n",
       "    </tr>\n",
       "    <tr>\n",
       "      <th>5</th>\n",
       "      <td>Resigned</td>\n",
       "      <td>14</td>\n",
       "      <td>10</td>\n",
       "      <td>2</td>\n",
       "    </tr>\n",
       "    <tr>\n",
       "      <th>6</th>\n",
       "      <td>Total_Onboarding</td>\n",
       "      <td>213</td>\n",
       "      <td>178</td>\n",
       "      <td>11</td>\n",
       "    </tr>\n",
       "  </tbody>\n",
       "</table>\n",
       "</div>"
      ],
      "text/plain": [
       "         OnboardingUpdate  InfyCounts  HclCounts  CTSCounts\n",
       "0    OnBoarding_Completed         146         93          5\n",
       "1  OnBoarding_in_Progress          13         26          3\n",
       "2    Onboarding_Initiated           4          5          0\n",
       "3         To_Be_Onboarded          18         40          1\n",
       "4                 No_Show          18          4          0\n",
       "5                Resigned          14         10          2\n",
       "6        Total_Onboarding         213        178         11"
      ]
     },
     "execution_count": 54,
     "metadata": {},
     "output_type": "execute_result"
    }
   ],
   "source": [
    "DROOnBoardingUpdate"
   ]
  },
  {
   "cell_type": "markdown",
   "metadata": {},
   "source": [
    "Fortnightly Update"
   ]
  },
  {
   "cell_type": "code",
   "execution_count": 55,
   "metadata": {
    "collapsed": true
   },
   "outputs": [],
   "source": [
    "RolesPublished=DemandTracker['Demand ID'].count()\n",
    "\n",
    "Rolefilled=DemandTracker[DemandTracker['Demand Status'].isin(['Withdrawn','Closed'])]\n",
    "Rolefilled=Rolefilled['Demand ID'].count()\n",
    "\n",
    "RolesOpen=DemandTracker[DemandTracker['Demand Status']=='Open']\n",
    "RolesOpen=RolesOpen['Demand ID'].count()\n",
    "\n",
    "OnboardingInprg=OnboardingTracker[((OnboardingTracker['DRO Source']=='Model2')  & (OnboardingTracker['Onboarding Status']=='Onboarding In Progress'))]\n",
    "OnboardingInprg=OnboardingInprg['Role'].count()\n",
    "\n",
    "Roles_in_Pipeline='61'"
   ]
  },
  {
   "cell_type": "code",
   "execution_count": 56,
   "metadata": {
    "collapsed": true
   },
   "outputs": [],
   "source": [
    "Fnty = [RolesPublished,Rolefilled,RolesOpen,Roles_in_Pipeline,OnboardingInprg]"
   ]
  },
  {
   "cell_type": "code",
   "execution_count": 57,
   "metadata": {
    "collapsed": true
   },
   "outputs": [],
   "source": [
    "df = pd.DataFrame(Fnty)"
   ]
  },
  {
   "cell_type": "code",
   "execution_count": 58,
   "metadata": {
    "collapsed": true
   },
   "outputs": [],
   "source": [
    "df.columns=['Current']"
   ]
  },
  {
   "cell_type": "code",
   "execution_count": 59,
   "metadata": {
    "collapsed": true
   },
   "outputs": [],
   "source": [
    "Attributes=['RolesPublished','Rolefilled','RolesOpen','Roles_in_Pipeline','OnboardingInprg']\n",
    "df['Attributes']=Attributes"
   ]
  },
  {
   "cell_type": "code",
   "execution_count": 60,
   "metadata": {
    "collapsed": true
   },
   "outputs": [],
   "source": [
    "df=df[['Attributes','Current']]"
   ]
  },
  {
   "cell_type": "code",
   "execution_count": 61,
   "metadata": {
    "collapsed": true
   },
   "outputs": [],
   "source": [
    "df['Previous']=['35','21','138','50','40']\n",
    "df['F13']=['19','35','137','50','41']\n",
    "df['F12']=['47','34','132','50','22']\n",
    "df['F11']=['32','62','128','50','14']\n",
    "df['F10']=['40','43','112','50','18']\n",
    "df['F9']=['43','19','110','50','18']\n",
    "df['F8']=['48','28','103','50','24']\n",
    "df['F7']=['40','22','84','61','43']\n",
    "df['F6']=['40','34','51','49','35']\n",
    "df['F5']=['20','8','43','0','25']\n",
    "df['F4']=['9','4','40','10','13']\n",
    "df['F3']=['13','1','41','4','18']\n",
    "df['F2']=['6','27','28','0','27']\n",
    "df['F1']=['57','14','43','0','7']"
   ]
  },
  {
   "cell_type": "code",
   "execution_count": 62,
   "metadata": {
    "collapsed": true
   },
   "outputs": [],
   "source": [
    "df[['Current','Previous','F13','F12','F11','F10','F9','F8','F7','F6','F5','F4','F3','F2','F1']]=df[['Current','Previous','F13','F12','F11','F10','F9','F8','F7','F6','F5','F4','F3','F2','F1']].astype(int)"
   ]
  },
  {
   "cell_type": "code",
   "execution_count": 63,
   "metadata": {
    "collapsed": true
   },
   "outputs": [],
   "source": [
    "pr=df[df['Attributes']=='RolesPublished'] "
   ]
  },
  {
   "cell_type": "code",
   "execution_count": 64,
   "metadata": {
    "collapsed": true
   },
   "outputs": [],
   "source": [
    "pr['Sum']=pr['Previous']+pr['F13']+pr['F12']+pr['F11']+pr['F10']+pr['F9']+pr['F8']+pr['F7']+pr['F6']+pr['F5']+pr['F4']+pr['F3']+pr['F2']+pr['F1']"
   ]
  },
  {
   "cell_type": "code",
   "execution_count": 65,
   "metadata": {
    "collapsed": true
   },
   "outputs": [],
   "source": [
    "pr['Current'] = pr['Current']-pr['Sum']"
   ]
  },
  {
   "cell_type": "code",
   "execution_count": 66,
   "metadata": {
    "collapsed": true
   },
   "outputs": [],
   "source": [
    "pr = pr[['Attributes','Current','Previous','F13','F12','F11','F10','F9','F8','F7','F6','F5','F4','F3','F2','F1']]"
   ]
  },
  {
   "cell_type": "code",
   "execution_count": 67,
   "metadata": {},
   "outputs": [
    {
     "data": {
      "text/html": [
       "<div>\n",
       "<style>\n",
       "    .dataframe thead tr:only-child th {\n",
       "        text-align: right;\n",
       "    }\n",
       "\n",
       "    .dataframe thead th {\n",
       "        text-align: left;\n",
       "    }\n",
       "\n",
       "    .dataframe tbody tr th {\n",
       "        vertical-align: top;\n",
       "    }\n",
       "</style>\n",
       "<table border=\"1\" class=\"dataframe\">\n",
       "  <thead>\n",
       "    <tr style=\"text-align: right;\">\n",
       "      <th></th>\n",
       "      <th>Attributes</th>\n",
       "      <th>Current</th>\n",
       "      <th>Previous</th>\n",
       "      <th>F13</th>\n",
       "      <th>F12</th>\n",
       "      <th>F11</th>\n",
       "      <th>F10</th>\n",
       "      <th>F9</th>\n",
       "      <th>F8</th>\n",
       "      <th>F7</th>\n",
       "      <th>F6</th>\n",
       "      <th>F5</th>\n",
       "      <th>F4</th>\n",
       "      <th>F3</th>\n",
       "      <th>F2</th>\n",
       "      <th>F1</th>\n",
       "    </tr>\n",
       "  </thead>\n",
       "  <tbody>\n",
       "    <tr>\n",
       "      <th>0</th>\n",
       "      <td>RolesPublished</td>\n",
       "      <td>13</td>\n",
       "      <td>35</td>\n",
       "      <td>19</td>\n",
       "      <td>47</td>\n",
       "      <td>32</td>\n",
       "      <td>40</td>\n",
       "      <td>43</td>\n",
       "      <td>48</td>\n",
       "      <td>40</td>\n",
       "      <td>40</td>\n",
       "      <td>20</td>\n",
       "      <td>9</td>\n",
       "      <td>13</td>\n",
       "      <td>6</td>\n",
       "      <td>57</td>\n",
       "    </tr>\n",
       "  </tbody>\n",
       "</table>\n",
       "</div>"
      ],
      "text/plain": [
       "       Attributes  Current  Previous  F13  F12  F11  F10  F9  F8  F7  F6  F5  \\\n",
       "0  RolesPublished       13        35   19   47   32   40  43  48  40  40  20   \n",
       "\n",
       "   F4  F3  F2  F1  \n",
       "0   9  13   6  57  "
      ]
     },
     "execution_count": 67,
     "metadata": {},
     "output_type": "execute_result"
    }
   ],
   "source": [
    "pr"
   ]
  },
  {
   "cell_type": "code",
   "execution_count": 68,
   "metadata": {
    "collapsed": true
   },
   "outputs": [],
   "source": [
    "df = df[df['Attributes'] != 'RolesPublished']"
   ]
  },
  {
   "cell_type": "code",
   "execution_count": 69,
   "metadata": {},
   "outputs": [
    {
     "data": {
      "text/html": [
       "<div>\n",
       "<style>\n",
       "    .dataframe thead tr:only-child th {\n",
       "        text-align: right;\n",
       "    }\n",
       "\n",
       "    .dataframe thead th {\n",
       "        text-align: left;\n",
       "    }\n",
       "\n",
       "    .dataframe tbody tr th {\n",
       "        vertical-align: top;\n",
       "    }\n",
       "</style>\n",
       "<table border=\"1\" class=\"dataframe\">\n",
       "  <thead>\n",
       "    <tr style=\"text-align: right;\">\n",
       "      <th></th>\n",
       "      <th>Attributes</th>\n",
       "      <th>Current</th>\n",
       "      <th>Previous</th>\n",
       "      <th>F13</th>\n",
       "      <th>F12</th>\n",
       "      <th>F11</th>\n",
       "      <th>F10</th>\n",
       "      <th>F9</th>\n",
       "      <th>F8</th>\n",
       "      <th>F7</th>\n",
       "      <th>F6</th>\n",
       "      <th>F5</th>\n",
       "      <th>F4</th>\n",
       "      <th>F3</th>\n",
       "      <th>F2</th>\n",
       "      <th>F1</th>\n",
       "    </tr>\n",
       "  </thead>\n",
       "  <tbody>\n",
       "    <tr>\n",
       "      <th>1</th>\n",
       "      <td>Rolefilled</td>\n",
       "      <td>296</td>\n",
       "      <td>21</td>\n",
       "      <td>35</td>\n",
       "      <td>34</td>\n",
       "      <td>62</td>\n",
       "      <td>43</td>\n",
       "      <td>19</td>\n",
       "      <td>28</td>\n",
       "      <td>22</td>\n",
       "      <td>34</td>\n",
       "      <td>8</td>\n",
       "      <td>4</td>\n",
       "      <td>1</td>\n",
       "      <td>27</td>\n",
       "      <td>14</td>\n",
       "    </tr>\n",
       "    <tr>\n",
       "      <th>2</th>\n",
       "      <td>RolesOpen</td>\n",
       "      <td>125</td>\n",
       "      <td>138</td>\n",
       "      <td>137</td>\n",
       "      <td>132</td>\n",
       "      <td>128</td>\n",
       "      <td>112</td>\n",
       "      <td>110</td>\n",
       "      <td>103</td>\n",
       "      <td>84</td>\n",
       "      <td>51</td>\n",
       "      <td>43</td>\n",
       "      <td>40</td>\n",
       "      <td>41</td>\n",
       "      <td>28</td>\n",
       "      <td>43</td>\n",
       "    </tr>\n",
       "    <tr>\n",
       "      <th>3</th>\n",
       "      <td>Roles_in_Pipeline</td>\n",
       "      <td>61</td>\n",
       "      <td>50</td>\n",
       "      <td>50</td>\n",
       "      <td>50</td>\n",
       "      <td>50</td>\n",
       "      <td>50</td>\n",
       "      <td>50</td>\n",
       "      <td>50</td>\n",
       "      <td>61</td>\n",
       "      <td>49</td>\n",
       "      <td>0</td>\n",
       "      <td>10</td>\n",
       "      <td>4</td>\n",
       "      <td>0</td>\n",
       "      <td>0</td>\n",
       "    </tr>\n",
       "    <tr>\n",
       "      <th>4</th>\n",
       "      <td>OnboardingInprg</td>\n",
       "      <td>42</td>\n",
       "      <td>40</td>\n",
       "      <td>41</td>\n",
       "      <td>22</td>\n",
       "      <td>14</td>\n",
       "      <td>18</td>\n",
       "      <td>18</td>\n",
       "      <td>24</td>\n",
       "      <td>43</td>\n",
       "      <td>35</td>\n",
       "      <td>25</td>\n",
       "      <td>13</td>\n",
       "      <td>18</td>\n",
       "      <td>27</td>\n",
       "      <td>7</td>\n",
       "    </tr>\n",
       "  </tbody>\n",
       "</table>\n",
       "</div>"
      ],
      "text/plain": [
       "          Attributes  Current  Previous  F13  F12  F11  F10   F9   F8  F7  F6  \\\n",
       "1         Rolefilled      296        21   35   34   62   43   19   28  22  34   \n",
       "2          RolesOpen      125       138  137  132  128  112  110  103  84  51   \n",
       "3  Roles_in_Pipeline       61        50   50   50   50   50   50   50  61  49   \n",
       "4    OnboardingInprg       42        40   41   22   14   18   18   24  43  35   \n",
       "\n",
       "   F5  F4  F3  F2  F1  \n",
       "1   8   4   1  27  14  \n",
       "2  43  40  41  28  43  \n",
       "3   0  10   4   0   0  \n",
       "4  25  13  18  27   7  "
      ]
     },
     "execution_count": 69,
     "metadata": {},
     "output_type": "execute_result"
    }
   ],
   "source": [
    "df"
   ]
  },
  {
   "cell_type": "code",
   "execution_count": 70,
   "metadata": {
    "collapsed": true
   },
   "outputs": [],
   "source": [
    "df = pd.concat([pr, df]) "
   ]
  },
  {
   "cell_type": "code",
   "execution_count": 71,
   "metadata": {},
   "outputs": [
    {
     "data": {
      "text/html": [
       "<div>\n",
       "<style>\n",
       "    .dataframe thead tr:only-child th {\n",
       "        text-align: right;\n",
       "    }\n",
       "\n",
       "    .dataframe thead th {\n",
       "        text-align: left;\n",
       "    }\n",
       "\n",
       "    .dataframe tbody tr th {\n",
       "        vertical-align: top;\n",
       "    }\n",
       "</style>\n",
       "<table border=\"1\" class=\"dataframe\">\n",
       "  <thead>\n",
       "    <tr style=\"text-align: right;\">\n",
       "      <th></th>\n",
       "      <th>Attributes</th>\n",
       "      <th>Current</th>\n",
       "      <th>Previous</th>\n",
       "      <th>F13</th>\n",
       "      <th>F12</th>\n",
       "      <th>F11</th>\n",
       "      <th>F10</th>\n",
       "      <th>F9</th>\n",
       "      <th>F8</th>\n",
       "      <th>F7</th>\n",
       "      <th>F6</th>\n",
       "      <th>F5</th>\n",
       "      <th>F4</th>\n",
       "      <th>F3</th>\n",
       "      <th>F2</th>\n",
       "      <th>F1</th>\n",
       "    </tr>\n",
       "  </thead>\n",
       "  <tbody>\n",
       "    <tr>\n",
       "      <th>0</th>\n",
       "      <td>RolesPublished</td>\n",
       "      <td>13</td>\n",
       "      <td>35</td>\n",
       "      <td>19</td>\n",
       "      <td>47</td>\n",
       "      <td>32</td>\n",
       "      <td>40</td>\n",
       "      <td>43</td>\n",
       "      <td>48</td>\n",
       "      <td>40</td>\n",
       "      <td>40</td>\n",
       "      <td>20</td>\n",
       "      <td>9</td>\n",
       "      <td>13</td>\n",
       "      <td>6</td>\n",
       "      <td>57</td>\n",
       "    </tr>\n",
       "    <tr>\n",
       "      <th>1</th>\n",
       "      <td>Rolefilled</td>\n",
       "      <td>296</td>\n",
       "      <td>21</td>\n",
       "      <td>35</td>\n",
       "      <td>34</td>\n",
       "      <td>62</td>\n",
       "      <td>43</td>\n",
       "      <td>19</td>\n",
       "      <td>28</td>\n",
       "      <td>22</td>\n",
       "      <td>34</td>\n",
       "      <td>8</td>\n",
       "      <td>4</td>\n",
       "      <td>1</td>\n",
       "      <td>27</td>\n",
       "      <td>14</td>\n",
       "    </tr>\n",
       "    <tr>\n",
       "      <th>2</th>\n",
       "      <td>RolesOpen</td>\n",
       "      <td>125</td>\n",
       "      <td>138</td>\n",
       "      <td>137</td>\n",
       "      <td>132</td>\n",
       "      <td>128</td>\n",
       "      <td>112</td>\n",
       "      <td>110</td>\n",
       "      <td>103</td>\n",
       "      <td>84</td>\n",
       "      <td>51</td>\n",
       "      <td>43</td>\n",
       "      <td>40</td>\n",
       "      <td>41</td>\n",
       "      <td>28</td>\n",
       "      <td>43</td>\n",
       "    </tr>\n",
       "    <tr>\n",
       "      <th>3</th>\n",
       "      <td>Roles_in_Pipeline</td>\n",
       "      <td>61</td>\n",
       "      <td>50</td>\n",
       "      <td>50</td>\n",
       "      <td>50</td>\n",
       "      <td>50</td>\n",
       "      <td>50</td>\n",
       "      <td>50</td>\n",
       "      <td>50</td>\n",
       "      <td>61</td>\n",
       "      <td>49</td>\n",
       "      <td>0</td>\n",
       "      <td>10</td>\n",
       "      <td>4</td>\n",
       "      <td>0</td>\n",
       "      <td>0</td>\n",
       "    </tr>\n",
       "    <tr>\n",
       "      <th>4</th>\n",
       "      <td>OnboardingInprg</td>\n",
       "      <td>42</td>\n",
       "      <td>40</td>\n",
       "      <td>41</td>\n",
       "      <td>22</td>\n",
       "      <td>14</td>\n",
       "      <td>18</td>\n",
       "      <td>18</td>\n",
       "      <td>24</td>\n",
       "      <td>43</td>\n",
       "      <td>35</td>\n",
       "      <td>25</td>\n",
       "      <td>13</td>\n",
       "      <td>18</td>\n",
       "      <td>27</td>\n",
       "      <td>7</td>\n",
       "    </tr>\n",
       "  </tbody>\n",
       "</table>\n",
       "</div>"
      ],
      "text/plain": [
       "          Attributes  Current  Previous  F13  F12  F11  F10   F9   F8  F7  F6  \\\n",
       "0     RolesPublished       13        35   19   47   32   40   43   48  40  40   \n",
       "1         Rolefilled      296        21   35   34   62   43   19   28  22  34   \n",
       "2          RolesOpen      125       138  137  132  128  112  110  103  84  51   \n",
       "3  Roles_in_Pipeline       61        50   50   50   50   50   50   50  61  49   \n",
       "4    OnboardingInprg       42        40   41   22   14   18   18   24  43  35   \n",
       "\n",
       "   F5  F4  F3  F2  F1  \n",
       "0  20   9  13   6  57  \n",
       "1   8   4   1  27  14  \n",
       "2  43  40  41  28  43  \n",
       "3   0  10   4   0   0  \n",
       "4  25  13  18  27   7  "
      ]
     },
     "execution_count": 71,
     "metadata": {},
     "output_type": "execute_result"
    }
   ],
   "source": [
    "df"
   ]
  },
  {
   "cell_type": "code",
   "execution_count": 72,
   "metadata": {
    "collapsed": true
   },
   "outputs": [],
   "source": [
    "df.to_csv(r'C:\\NotBackedUp\\SOE\\pyscript\\FinalCSV\\DRO\\Fortnightly.csv',sep=',',index=None)"
   ]
  },
  {
   "cell_type": "markdown",
   "metadata": {},
   "source": [
    "Demand & Supply - Vendor Performance"
   ]
  },
  {
   "cell_type": "code",
   "execution_count": 73,
   "metadata": {
    "collapsed": true
   },
   "outputs": [],
   "source": [
    "#HCLProfiles=OnboardingTracker[((OnboardingTracker['DRO Source']=='Model2')  & (OnboardingTracker['Partner']=='HCL'))]\n",
    "#HCLProfiles=HCLProfiles.groupby(['Tribe'])['Demand ID'].count().reset_index(name='HCLProfiles')\n",
    "\n",
    "#InfyProfiles=OnboardingTracker[((OnboardingTracker['DRO Source']=='Model2')  & (OnboardingTracker['Partner']=='Infosys'))]\n",
    "#InfyProfiles=InfyProfiles.groupby(['Tribe'])['Demand ID'].count().reset_index(name='InfyProfiles')"
   ]
  },
  {
   "cell_type": "code",
   "execution_count": 74,
   "metadata": {
    "collapsed": true
   },
   "outputs": [],
   "source": [
    "HCLProfiles=HCL.groupby(['Tribe'])['ID'].count().reset_index(name='HCLProfiles')\n",
    "InfyProfiles=INFY.groupby(['Tribe'])['ID'].count().reset_index(name='InfyProfiles')"
   ]
  },
  {
   "cell_type": "code",
   "execution_count": 75,
   "metadata": {
    "collapsed": true
   },
   "outputs": [],
   "source": [
    "#HCLHires=OnboardingTracker[((OnboardingTracker['DRO Source']=='Model2')  & (OnboardingTracker['Partner']=='HCL') & (OnboardingTracker['Onboarding Status']=='Onboarding Completed'))]\n",
    "#HCLHires=HCLHires.groupby(['Tribe'])['Demand ID'].count().reset_index(name='HCLHires')\n",
    "\n",
    "#InfyHires=OnboardingTracker[((OnboardingTracker['DRO Source']=='Model2')  & (OnboardingTracker['Partner']=='Infosys') & (OnboardingTracker['Onboarding Status']=='Onboarding Completed'))]\n",
    "#InfyHires=InfyHires.groupby(['Tribe'])['Demand ID'].count().reset_index(name='InfyHires')"
   ]
  },
  {
   "cell_type": "code",
   "execution_count": 76,
   "metadata": {
    "collapsed": true
   },
   "outputs": [],
   "source": [
    "HCLHires=HCL[HCL['Application Status']=='Hired']\n",
    "HCLHires=HCLHires.groupby(['Tribe'])['ID'].count().reset_index(name='HCLHires')\n",
    "\n",
    "InfyHires=INFY[INFY['Application Status']=='Hired']\n",
    "InfyHires=InfyHires.groupby(['Tribe'])['ID'].count().reset_index(name='InfyHires')"
   ]
  },
  {
   "cell_type": "code",
   "execution_count": 77,
   "metadata": {
    "collapsed": true
   },
   "outputs": [],
   "source": [
    "dsvp = [HCLProfiles,HCLHires,InfyProfiles,InfyHires]"
   ]
  },
  {
   "cell_type": "code",
   "execution_count": 78,
   "metadata": {
    "collapsed": true
   },
   "outputs": [],
   "source": [
    "VendorPerformance=reduce(lambda left,right: pd.merge(left,right,on=['Tribe'],how='outer'),dsvp)"
   ]
  },
  {
   "cell_type": "code",
   "execution_count": 79,
   "metadata": {
    "collapsed": true
   },
   "outputs": [],
   "source": [
    "VendorPerformance[['HCLProfiles','HCLHires','InfyProfiles','InfyHires']]=VendorPerformance[['HCLProfiles','HCLHires','InfyProfiles','InfyHires']].fillna(0)\n",
    "VendorPerformance[['HCLProfiles','HCLHires','InfyProfiles','InfyHires']]=VendorPerformance[['HCLProfiles','HCLHires','InfyProfiles','InfyHires']].astype(int)"
   ]
  },
  {
   "cell_type": "code",
   "execution_count": 80,
   "metadata": {},
   "outputs": [
    {
     "data": {
      "text/html": [
       "<div>\n",
       "<style>\n",
       "    .dataframe thead tr:only-child th {\n",
       "        text-align: right;\n",
       "    }\n",
       "\n",
       "    .dataframe thead th {\n",
       "        text-align: left;\n",
       "    }\n",
       "\n",
       "    .dataframe tbody tr th {\n",
       "        vertical-align: top;\n",
       "    }\n",
       "</style>\n",
       "<table border=\"1\" class=\"dataframe\">\n",
       "  <thead>\n",
       "    <tr style=\"text-align: right;\">\n",
       "      <th></th>\n",
       "      <th>Tribe</th>\n",
       "      <th>HCLProfiles</th>\n",
       "      <th>HCLHires</th>\n",
       "      <th>InfyProfiles</th>\n",
       "      <th>InfyHires</th>\n",
       "    </tr>\n",
       "  </thead>\n",
       "  <tbody>\n",
       "    <tr>\n",
       "      <th>0</th>\n",
       "      <td>APRA</td>\n",
       "      <td>10</td>\n",
       "      <td>9</td>\n",
       "      <td>6</td>\n",
       "      <td>6</td>\n",
       "    </tr>\n",
       "    <tr>\n",
       "      <th>1</th>\n",
       "      <td>BUSINESS LENDING</td>\n",
       "      <td>4</td>\n",
       "      <td>4</td>\n",
       "      <td>18</td>\n",
       "      <td>3</td>\n",
       "    </tr>\n",
       "    <tr>\n",
       "      <th>2</th>\n",
       "      <td>BUSINESS OWNERS</td>\n",
       "      <td>2</td>\n",
       "      <td>1</td>\n",
       "      <td>0</td>\n",
       "      <td>0</td>\n",
       "    </tr>\n",
       "    <tr>\n",
       "      <th>3</th>\n",
       "      <td>BX - CC</td>\n",
       "      <td>60</td>\n",
       "      <td>13</td>\n",
       "      <td>2</td>\n",
       "      <td>0</td>\n",
       "    </tr>\n",
       "    <tr>\n",
       "      <th>4</th>\n",
       "      <td>BX - CSP</td>\n",
       "      <td>136</td>\n",
       "      <td>18</td>\n",
       "      <td>270</td>\n",
       "      <td>34</td>\n",
       "    </tr>\n",
       "    <tr>\n",
       "      <th>5</th>\n",
       "      <td>CAT</td>\n",
       "      <td>25</td>\n",
       "      <td>11</td>\n",
       "      <td>18</td>\n",
       "      <td>11</td>\n",
       "    </tr>\n",
       "    <tr>\n",
       "      <th>6</th>\n",
       "      <td>CSS</td>\n",
       "      <td>11</td>\n",
       "      <td>0</td>\n",
       "      <td>16</td>\n",
       "      <td>7</td>\n",
       "    </tr>\n",
       "    <tr>\n",
       "      <th>7</th>\n",
       "      <td>DCS</td>\n",
       "      <td>7</td>\n",
       "      <td>0</td>\n",
       "      <td>15</td>\n",
       "      <td>6</td>\n",
       "    </tr>\n",
       "    <tr>\n",
       "      <th>8</th>\n",
       "      <td>DCX</td>\n",
       "      <td>78</td>\n",
       "      <td>15</td>\n",
       "      <td>77</td>\n",
       "      <td>9</td>\n",
       "    </tr>\n",
       "    <tr>\n",
       "      <th>9</th>\n",
       "      <td>DSE</td>\n",
       "      <td>46</td>\n",
       "      <td>21</td>\n",
       "      <td>43</td>\n",
       "      <td>4</td>\n",
       "    </tr>\n",
       "    <tr>\n",
       "      <th>10</th>\n",
       "      <td>SOE</td>\n",
       "      <td>4</td>\n",
       "      <td>2</td>\n",
       "      <td>1</td>\n",
       "      <td>0</td>\n",
       "    </tr>\n",
       "  </tbody>\n",
       "</table>\n",
       "</div>"
      ],
      "text/plain": [
       "               Tribe  HCLProfiles  HCLHires  InfyProfiles  InfyHires\n",
       "0               APRA           10         9             6          6\n",
       "1   BUSINESS LENDING            4         4            18          3\n",
       "2    BUSINESS OWNERS            2         1             0          0\n",
       "3            BX - CC           60        13             2          0\n",
       "4           BX - CSP          136        18           270         34\n",
       "5                CAT           25        11            18         11\n",
       "6                CSS           11         0            16          7\n",
       "7                DCS            7         0            15          6\n",
       "8                DCX           78        15            77          9\n",
       "9                DSE           46        21            43          4\n",
       "10               SOE            4         2             1          0"
      ]
     },
     "execution_count": 80,
     "metadata": {},
     "output_type": "execute_result"
    }
   ],
   "source": [
    "VendorPerformance"
   ]
  },
  {
   "cell_type": "code",
   "execution_count": 81,
   "metadata": {
    "collapsed": true
   },
   "outputs": [],
   "source": [
    "VendorPerformance = VendorPerformance.transpose()"
   ]
  },
  {
   "cell_type": "code",
   "execution_count": 82,
   "metadata": {
    "collapsed": true
   },
   "outputs": [],
   "source": [
    "VendorPerformance.columns = VendorPerformance.iloc[0]"
   ]
  },
  {
   "cell_type": "code",
   "execution_count": 83,
   "metadata": {
    "collapsed": true
   },
   "outputs": [],
   "source": [
    "VendorPerformance = VendorPerformance[1:]"
   ]
  },
  {
   "cell_type": "code",
   "execution_count": 84,
   "metadata": {},
   "outputs": [
    {
     "data": {
      "text/html": [
       "<div>\n",
       "<style>\n",
       "    .dataframe thead tr:only-child th {\n",
       "        text-align: right;\n",
       "    }\n",
       "\n",
       "    .dataframe thead th {\n",
       "        text-align: left;\n",
       "    }\n",
       "\n",
       "    .dataframe tbody tr th {\n",
       "        vertical-align: top;\n",
       "    }\n",
       "</style>\n",
       "<table border=\"1\" class=\"dataframe\">\n",
       "  <thead>\n",
       "    <tr style=\"text-align: right;\">\n",
       "      <th>Tribe</th>\n",
       "      <th>APRA</th>\n",
       "      <th>BUSINESS LENDING</th>\n",
       "      <th>BUSINESS OWNERS</th>\n",
       "      <th>BX - CC</th>\n",
       "      <th>BX - CSP</th>\n",
       "      <th>CAT</th>\n",
       "      <th>CSS</th>\n",
       "      <th>DCS</th>\n",
       "      <th>DCX</th>\n",
       "      <th>DSE</th>\n",
       "      <th>SOE</th>\n",
       "    </tr>\n",
       "  </thead>\n",
       "  <tbody>\n",
       "    <tr>\n",
       "      <th>HCLProfiles</th>\n",
       "      <td>10</td>\n",
       "      <td>4</td>\n",
       "      <td>2</td>\n",
       "      <td>60</td>\n",
       "      <td>136</td>\n",
       "      <td>25</td>\n",
       "      <td>11</td>\n",
       "      <td>7</td>\n",
       "      <td>78</td>\n",
       "      <td>46</td>\n",
       "      <td>4</td>\n",
       "    </tr>\n",
       "    <tr>\n",
       "      <th>HCLHires</th>\n",
       "      <td>9</td>\n",
       "      <td>4</td>\n",
       "      <td>1</td>\n",
       "      <td>13</td>\n",
       "      <td>18</td>\n",
       "      <td>11</td>\n",
       "      <td>0</td>\n",
       "      <td>0</td>\n",
       "      <td>15</td>\n",
       "      <td>21</td>\n",
       "      <td>2</td>\n",
       "    </tr>\n",
       "    <tr>\n",
       "      <th>InfyProfiles</th>\n",
       "      <td>6</td>\n",
       "      <td>18</td>\n",
       "      <td>0</td>\n",
       "      <td>2</td>\n",
       "      <td>270</td>\n",
       "      <td>18</td>\n",
       "      <td>16</td>\n",
       "      <td>15</td>\n",
       "      <td>77</td>\n",
       "      <td>43</td>\n",
       "      <td>1</td>\n",
       "    </tr>\n",
       "    <tr>\n",
       "      <th>InfyHires</th>\n",
       "      <td>6</td>\n",
       "      <td>3</td>\n",
       "      <td>0</td>\n",
       "      <td>0</td>\n",
       "      <td>34</td>\n",
       "      <td>11</td>\n",
       "      <td>7</td>\n",
       "      <td>6</td>\n",
       "      <td>9</td>\n",
       "      <td>4</td>\n",
       "      <td>0</td>\n",
       "    </tr>\n",
       "  </tbody>\n",
       "</table>\n",
       "</div>"
      ],
      "text/plain": [
       "Tribe        APRA BUSINESS LENDING BUSINESS OWNERS BX - CC BX - CSP CAT CSS  \\\n",
       "HCLProfiles    10                4               2      60      136  25  11   \n",
       "HCLHires        9                4               1      13       18  11   0   \n",
       "InfyProfiles    6               18               0       2      270  18  16   \n",
       "InfyHires       6                3               0       0       34  11   7   \n",
       "\n",
       "Tribe        DCS DCX DSE SOE  \n",
       "HCLProfiles    7  78  46   4  \n",
       "HCLHires       0  15  21   2  \n",
       "InfyProfiles  15  77  43   1  \n",
       "InfyHires      6   9   4   0  "
      ]
     },
     "execution_count": 84,
     "metadata": {},
     "output_type": "execute_result"
    }
   ],
   "source": [
    "VendorPerformance"
   ]
  },
  {
   "cell_type": "code",
   "execution_count": 85,
   "metadata": {
    "collapsed": true
   },
   "outputs": [],
   "source": [
    "VendorPerformance.to_csv(r'C:\\NotBackedUp\\SOE\\pyscript\\FinalCSV\\DRO\\VendorPerformance.csv',sep=',')"
   ]
  },
  {
   "cell_type": "code",
   "execution_count": 86,
   "metadata": {
    "collapsed": true
   },
   "outputs": [],
   "source": [
    "HCLInternalCandiate=len(HCL[HCL['Candidate Type']=='Internal Candidate'])\n",
    "INFYInternalCandiate=len(INFY[INFY['Candidate Type']=='Internal Candidate'])"
   ]
  },
  {
   "cell_type": "code",
   "execution_count": 87,
   "metadata": {
    "collapsed": true
   },
   "outputs": [],
   "source": [
    "InternalCandiate = [HCLInternalCandiate,INFYInternalCandiate]"
   ]
  },
  {
   "cell_type": "code",
   "execution_count": 88,
   "metadata": {},
   "outputs": [
    {
     "data": {
      "text/plain": [
       "[95, 100]"
      ]
     },
     "execution_count": 88,
     "metadata": {},
     "output_type": "execute_result"
    }
   ],
   "source": [
    "InternalCandiate"
   ]
  },
  {
   "cell_type": "code",
   "execution_count": 89,
   "metadata": {
    "collapsed": true
   },
   "outputs": [],
   "source": [
    "roles = DemandTracker"
   ]
  },
  {
   "cell_type": "code",
   "execution_count": 90,
   "metadata": {
    "collapsed": true
   },
   "outputs": [],
   "source": [
    "roles.loc[roles['Role'].str.contains('Engineer'),'Role'] = 'Engineer'\n",
    "roles.loc[roles['Role'].str.contains('Expert'),'Role'] = 'Operations Expert'\n",
    "roles.loc[roles['Role'].str.contains('Partner'),'Role'] = 'Delivery Partner'"
   ]
  },
  {
   "cell_type": "code",
   "execution_count": 91,
   "metadata": {
    "collapsed": true
   },
   "outputs": [],
   "source": [
    "roles = roles.groupby(['Tribe','Role'])['Demand ID'].count().reset_index(name='RolesCount')"
   ]
  },
  {
   "cell_type": "code",
   "execution_count": 92,
   "metadata": {
    "collapsed": true
   },
   "outputs": [],
   "source": [
    "roles['RolesCount']=roles['RolesCount'].astype(int)"
   ]
  },
  {
   "cell_type": "code",
   "execution_count": 93,
   "metadata": {
    "collapsed": true
   },
   "outputs": [],
   "source": [
    "roles = roles[['Role','Tribe','RolesCount']]"
   ]
  },
  {
   "cell_type": "code",
   "execution_count": 94,
   "metadata": {
    "collapsed": true
   },
   "outputs": [],
   "source": [
    "roles = roles.pivot_table('RolesCount', ['Role'], 'Tribe')"
   ]
  },
  {
   "cell_type": "code",
   "execution_count": 95,
   "metadata": {
    "collapsed": true
   },
   "outputs": [],
   "source": [
    "roles = roles.fillna(0)"
   ]
  },
  {
   "cell_type": "code",
   "execution_count": 96,
   "metadata": {
    "collapsed": true
   },
   "outputs": [],
   "source": [
    "roles = roles.astype(int)"
   ]
  },
  {
   "cell_type": "code",
   "execution_count": 97,
   "metadata": {
    "collapsed": true
   },
   "outputs": [],
   "source": [
    "roles['Total']= roles.sum(axis=1)"
   ]
  },
  {
   "cell_type": "code",
   "execution_count": 98,
   "metadata": {},
   "outputs": [
    {
     "data": {
      "text/html": [
       "<div>\n",
       "<style>\n",
       "    .dataframe thead tr:only-child th {\n",
       "        text-align: right;\n",
       "    }\n",
       "\n",
       "    .dataframe thead th {\n",
       "        text-align: left;\n",
       "    }\n",
       "\n",
       "    .dataframe tbody tr th {\n",
       "        vertical-align: top;\n",
       "    }\n",
       "</style>\n",
       "<table border=\"1\" class=\"dataframe\">\n",
       "  <thead>\n",
       "    <tr style=\"text-align: right;\">\n",
       "      <th>Tribe</th>\n",
       "      <th>APRA</th>\n",
       "      <th>BUSINESS LENDING</th>\n",
       "      <th>BUSINESS OWNERS</th>\n",
       "      <th>BX - CC</th>\n",
       "      <th>BX - CSP</th>\n",
       "      <th>CAT</th>\n",
       "      <th>CSS</th>\n",
       "      <th>DCS</th>\n",
       "      <th>DCX</th>\n",
       "      <th>DSE</th>\n",
       "      <th>SOE</th>\n",
       "      <th>Total</th>\n",
       "    </tr>\n",
       "    <tr>\n",
       "      <th>Role</th>\n",
       "      <th></th>\n",
       "      <th></th>\n",
       "      <th></th>\n",
       "      <th></th>\n",
       "      <th></th>\n",
       "      <th></th>\n",
       "      <th></th>\n",
       "      <th></th>\n",
       "      <th></th>\n",
       "      <th></th>\n",
       "      <th></th>\n",
       "      <th></th>\n",
       "    </tr>\n",
       "  </thead>\n",
       "  <tbody>\n",
       "    <tr>\n",
       "      <th>Agile Coach</th>\n",
       "      <td>0</td>\n",
       "      <td>0</td>\n",
       "      <td>0</td>\n",
       "      <td>0</td>\n",
       "      <td>0</td>\n",
       "      <td>0</td>\n",
       "      <td>0</td>\n",
       "      <td>0</td>\n",
       "      <td>1</td>\n",
       "      <td>0</td>\n",
       "      <td>0</td>\n",
       "      <td>1</td>\n",
       "    </tr>\n",
       "    <tr>\n",
       "      <th>Analyst</th>\n",
       "      <td>4</td>\n",
       "      <td>2</td>\n",
       "      <td>0</td>\n",
       "      <td>3</td>\n",
       "      <td>16</td>\n",
       "      <td>7</td>\n",
       "      <td>5</td>\n",
       "      <td>3</td>\n",
       "      <td>6</td>\n",
       "      <td>9</td>\n",
       "      <td>5</td>\n",
       "      <td>60</td>\n",
       "    </tr>\n",
       "    <tr>\n",
       "      <th>Developer</th>\n",
       "      <td>0</td>\n",
       "      <td>0</td>\n",
       "      <td>0</td>\n",
       "      <td>0</td>\n",
       "      <td>0</td>\n",
       "      <td>0</td>\n",
       "      <td>17</td>\n",
       "      <td>0</td>\n",
       "      <td>0</td>\n",
       "      <td>7</td>\n",
       "      <td>0</td>\n",
       "      <td>24</td>\n",
       "    </tr>\n",
       "    <tr>\n",
       "      <th>Engineer</th>\n",
       "      <td>16</td>\n",
       "      <td>0</td>\n",
       "      <td>1</td>\n",
       "      <td>16</td>\n",
       "      <td>40</td>\n",
       "      <td>17</td>\n",
       "      <td>13</td>\n",
       "      <td>1</td>\n",
       "      <td>37</td>\n",
       "      <td>42</td>\n",
       "      <td>10</td>\n",
       "      <td>193</td>\n",
       "    </tr>\n",
       "    <tr>\n",
       "      <th>Environment Manager</th>\n",
       "      <td>0</td>\n",
       "      <td>0</td>\n",
       "      <td>0</td>\n",
       "      <td>0</td>\n",
       "      <td>3</td>\n",
       "      <td>0</td>\n",
       "      <td>0</td>\n",
       "      <td>0</td>\n",
       "      <td>0</td>\n",
       "      <td>0</td>\n",
       "      <td>0</td>\n",
       "      <td>3</td>\n",
       "    </tr>\n",
       "    <tr>\n",
       "      <th>Lead Developer</th>\n",
       "      <td>0</td>\n",
       "      <td>0</td>\n",
       "      <td>0</td>\n",
       "      <td>0</td>\n",
       "      <td>0</td>\n",
       "      <td>1</td>\n",
       "      <td>0</td>\n",
       "      <td>0</td>\n",
       "      <td>0</td>\n",
       "      <td>0</td>\n",
       "      <td>0</td>\n",
       "      <td>1</td>\n",
       "    </tr>\n",
       "    <tr>\n",
       "      <th>Operations Expert</th>\n",
       "      <td>1</td>\n",
       "      <td>1</td>\n",
       "      <td>0</td>\n",
       "      <td>0</td>\n",
       "      <td>1</td>\n",
       "      <td>2</td>\n",
       "      <td>0</td>\n",
       "      <td>0</td>\n",
       "      <td>0</td>\n",
       "      <td>0</td>\n",
       "      <td>1</td>\n",
       "      <td>6</td>\n",
       "    </tr>\n",
       "    <tr>\n",
       "      <th>Product Owner</th>\n",
       "      <td>0</td>\n",
       "      <td>0</td>\n",
       "      <td>0</td>\n",
       "      <td>0</td>\n",
       "      <td>0</td>\n",
       "      <td>2</td>\n",
       "      <td>0</td>\n",
       "      <td>0</td>\n",
       "      <td>0</td>\n",
       "      <td>2</td>\n",
       "      <td>0</td>\n",
       "      <td>4</td>\n",
       "    </tr>\n",
       "    <tr>\n",
       "      <th>Release Lead</th>\n",
       "      <td>1</td>\n",
       "      <td>2</td>\n",
       "      <td>0</td>\n",
       "      <td>2</td>\n",
       "      <td>22</td>\n",
       "      <td>5</td>\n",
       "      <td>4</td>\n",
       "      <td>0</td>\n",
       "      <td>1</td>\n",
       "      <td>3</td>\n",
       "      <td>0</td>\n",
       "      <td>40</td>\n",
       "    </tr>\n",
       "    <tr>\n",
       "      <th>SDET - Automation Tester</th>\n",
       "      <td>1</td>\n",
       "      <td>0</td>\n",
       "      <td>0</td>\n",
       "      <td>1</td>\n",
       "      <td>17</td>\n",
       "      <td>0</td>\n",
       "      <td>0</td>\n",
       "      <td>0</td>\n",
       "      <td>0</td>\n",
       "      <td>4</td>\n",
       "      <td>0</td>\n",
       "      <td>23</td>\n",
       "    </tr>\n",
       "    <tr>\n",
       "      <th>Scrum Master</th>\n",
       "      <td>0</td>\n",
       "      <td>0</td>\n",
       "      <td>0</td>\n",
       "      <td>0</td>\n",
       "      <td>3</td>\n",
       "      <td>1</td>\n",
       "      <td>0</td>\n",
       "      <td>0</td>\n",
       "      <td>3</td>\n",
       "      <td>1</td>\n",
       "      <td>0</td>\n",
       "      <td>8</td>\n",
       "    </tr>\n",
       "    <tr>\n",
       "      <th>Solution Designer</th>\n",
       "      <td>3</td>\n",
       "      <td>2</td>\n",
       "      <td>2</td>\n",
       "      <td>0</td>\n",
       "      <td>0</td>\n",
       "      <td>2</td>\n",
       "      <td>0</td>\n",
       "      <td>0</td>\n",
       "      <td>0</td>\n",
       "      <td>0</td>\n",
       "      <td>0</td>\n",
       "      <td>9</td>\n",
       "    </tr>\n",
       "    <tr>\n",
       "      <th>Tech Area Architect</th>\n",
       "      <td>1</td>\n",
       "      <td>0</td>\n",
       "      <td>0</td>\n",
       "      <td>0</td>\n",
       "      <td>1</td>\n",
       "      <td>3</td>\n",
       "      <td>0</td>\n",
       "      <td>0</td>\n",
       "      <td>0</td>\n",
       "      <td>0</td>\n",
       "      <td>0</td>\n",
       "      <td>5</td>\n",
       "    </tr>\n",
       "    <tr>\n",
       "      <th>Test Lead</th>\n",
       "      <td>2</td>\n",
       "      <td>0</td>\n",
       "      <td>0</td>\n",
       "      <td>2</td>\n",
       "      <td>4</td>\n",
       "      <td>0</td>\n",
       "      <td>0</td>\n",
       "      <td>0</td>\n",
       "      <td>1</td>\n",
       "      <td>1</td>\n",
       "      <td>0</td>\n",
       "      <td>10</td>\n",
       "    </tr>\n",
       "    <tr>\n",
       "      <th>Tester</th>\n",
       "      <td>7</td>\n",
       "      <td>0</td>\n",
       "      <td>0</td>\n",
       "      <td>8</td>\n",
       "      <td>18</td>\n",
       "      <td>4</td>\n",
       "      <td>13</td>\n",
       "      <td>0</td>\n",
       "      <td>7</td>\n",
       "      <td>14</td>\n",
       "      <td>3</td>\n",
       "      <td>74</td>\n",
       "    </tr>\n",
       "    <tr>\n",
       "      <th>Transition Manager</th>\n",
       "      <td>0</td>\n",
       "      <td>1</td>\n",
       "      <td>0</td>\n",
       "      <td>0</td>\n",
       "      <td>0</td>\n",
       "      <td>0</td>\n",
       "      <td>0</td>\n",
       "      <td>0</td>\n",
       "      <td>0</td>\n",
       "      <td>0</td>\n",
       "      <td>0</td>\n",
       "      <td>1</td>\n",
       "    </tr>\n",
       "  </tbody>\n",
       "</table>\n",
       "</div>"
      ],
      "text/plain": [
       "Tribe                     APRA  BUSINESS LENDING  BUSINESS OWNERS  BX - CC  \\\n",
       "Role                                                                         \n",
       "Agile Coach                  0                 0                0        0   \n",
       "Analyst                      4                 2                0        3   \n",
       "Developer                    0                 0                0        0   \n",
       "Engineer                    16                 0                1       16   \n",
       "Environment Manager          0                 0                0        0   \n",
       "Lead Developer               0                 0                0        0   \n",
       "Operations Expert            1                 1                0        0   \n",
       "Product Owner                0                 0                0        0   \n",
       "Release Lead                 1                 2                0        2   \n",
       "SDET - Automation Tester     1                 0                0        1   \n",
       "Scrum Master                 0                 0                0        0   \n",
       "Solution Designer            3                 2                2        0   \n",
       "Tech Area Architect          1                 0                0        0   \n",
       "Test Lead                    2                 0                0        2   \n",
       "Tester                       7                 0                0        8   \n",
       "Transition Manager           0                 1                0        0   \n",
       "\n",
       "Tribe                     BX - CSP  CAT  CSS  DCS  DCX  DSE  SOE  Total  \n",
       "Role                                                                     \n",
       "Agile Coach                      0    0    0    0    1    0    0      1  \n",
       "Analyst                         16    7    5    3    6    9    5     60  \n",
       "Developer                        0    0   17    0    0    7    0     24  \n",
       "Engineer                        40   17   13    1   37   42   10    193  \n",
       "Environment Manager              3    0    0    0    0    0    0      3  \n",
       "Lead Developer                   0    1    0    0    0    0    0      1  \n",
       "Operations Expert                1    2    0    0    0    0    1      6  \n",
       "Product Owner                    0    2    0    0    0    2    0      4  \n",
       "Release Lead                    22    5    4    0    1    3    0     40  \n",
       "SDET - Automation Tester        17    0    0    0    0    4    0     23  \n",
       "Scrum Master                     3    1    0    0    3    1    0      8  \n",
       "Solution Designer                0    2    0    0    0    0    0      9  \n",
       "Tech Area Architect              1    3    0    0    0    0    0      5  \n",
       "Test Lead                        4    0    0    0    1    1    0     10  \n",
       "Tester                          18    4   13    0    7   14    3     74  \n",
       "Transition Manager               0    0    0    0    0    0    0      1  "
      ]
     },
     "execution_count": 98,
     "metadata": {},
     "output_type": "execute_result"
    }
   ],
   "source": [
    "roles"
   ]
  },
  {
   "cell_type": "code",
   "execution_count": 99,
   "metadata": {
    "collapsed": true
   },
   "outputs": [],
   "source": [
    "roles.to_csv(r'C:\\NotBackedUp\\SOE\\pyscript\\FinalCSV\\DRO\\roles.csv',sep=',')"
   ]
  },
  {
   "cell_type": "code",
   "execution_count": 100,
   "metadata": {},
   "outputs": [
    {
     "data": {
      "text/html": [
       "<div>\n",
       "<style>\n",
       "    .dataframe thead tr:only-child th {\n",
       "        text-align: right;\n",
       "    }\n",
       "\n",
       "    .dataframe thead th {\n",
       "        text-align: left;\n",
       "    }\n",
       "\n",
       "    .dataframe tbody tr th {\n",
       "        vertical-align: top;\n",
       "    }\n",
       "</style>\n",
       "<table border=\"1\" class=\"dataframe\">\n",
       "  <thead>\n",
       "    <tr style=\"text-align: right;\">\n",
       "      <th>Tribe</th>\n",
       "      <th>APRA</th>\n",
       "      <th>BUSINESS LENDING</th>\n",
       "      <th>BUSINESS OWNERS</th>\n",
       "      <th>BX - CC</th>\n",
       "      <th>BX - CSP</th>\n",
       "      <th>CAT</th>\n",
       "      <th>CSS</th>\n",
       "      <th>DCS</th>\n",
       "      <th>DCX</th>\n",
       "      <th>DSE</th>\n",
       "      <th>SOE</th>\n",
       "      <th>Total</th>\n",
       "    </tr>\n",
       "    <tr>\n",
       "      <th>Role</th>\n",
       "      <th></th>\n",
       "      <th></th>\n",
       "      <th></th>\n",
       "      <th></th>\n",
       "      <th></th>\n",
       "      <th></th>\n",
       "      <th></th>\n",
       "      <th></th>\n",
       "      <th></th>\n",
       "      <th></th>\n",
       "      <th></th>\n",
       "      <th></th>\n",
       "    </tr>\n",
       "  </thead>\n",
       "  <tbody>\n",
       "    <tr>\n",
       "      <th>Agile Coach</th>\n",
       "      <td>0</td>\n",
       "      <td>0</td>\n",
       "      <td>0</td>\n",
       "      <td>0</td>\n",
       "      <td>0</td>\n",
       "      <td>0</td>\n",
       "      <td>0</td>\n",
       "      <td>0</td>\n",
       "      <td>1</td>\n",
       "      <td>0</td>\n",
       "      <td>0</td>\n",
       "      <td>1</td>\n",
       "    </tr>\n",
       "    <tr>\n",
       "      <th>Analyst</th>\n",
       "      <td>4</td>\n",
       "      <td>2</td>\n",
       "      <td>0</td>\n",
       "      <td>3</td>\n",
       "      <td>16</td>\n",
       "      <td>7</td>\n",
       "      <td>5</td>\n",
       "      <td>3</td>\n",
       "      <td>6</td>\n",
       "      <td>9</td>\n",
       "      <td>5</td>\n",
       "      <td>60</td>\n",
       "    </tr>\n",
       "    <tr>\n",
       "      <th>Developer</th>\n",
       "      <td>0</td>\n",
       "      <td>0</td>\n",
       "      <td>0</td>\n",
       "      <td>0</td>\n",
       "      <td>0</td>\n",
       "      <td>0</td>\n",
       "      <td>17</td>\n",
       "      <td>0</td>\n",
       "      <td>0</td>\n",
       "      <td>7</td>\n",
       "      <td>0</td>\n",
       "      <td>24</td>\n",
       "    </tr>\n",
       "    <tr>\n",
       "      <th>Engineer</th>\n",
       "      <td>16</td>\n",
       "      <td>0</td>\n",
       "      <td>1</td>\n",
       "      <td>16</td>\n",
       "      <td>40</td>\n",
       "      <td>17</td>\n",
       "      <td>13</td>\n",
       "      <td>1</td>\n",
       "      <td>37</td>\n",
       "      <td>42</td>\n",
       "      <td>10</td>\n",
       "      <td>193</td>\n",
       "    </tr>\n",
       "    <tr>\n",
       "      <th>Environment Manager</th>\n",
       "      <td>0</td>\n",
       "      <td>0</td>\n",
       "      <td>0</td>\n",
       "      <td>0</td>\n",
       "      <td>3</td>\n",
       "      <td>0</td>\n",
       "      <td>0</td>\n",
       "      <td>0</td>\n",
       "      <td>0</td>\n",
       "      <td>0</td>\n",
       "      <td>0</td>\n",
       "      <td>3</td>\n",
       "    </tr>\n",
       "    <tr>\n",
       "      <th>Lead Developer</th>\n",
       "      <td>0</td>\n",
       "      <td>0</td>\n",
       "      <td>0</td>\n",
       "      <td>0</td>\n",
       "      <td>0</td>\n",
       "      <td>1</td>\n",
       "      <td>0</td>\n",
       "      <td>0</td>\n",
       "      <td>0</td>\n",
       "      <td>0</td>\n",
       "      <td>0</td>\n",
       "      <td>1</td>\n",
       "    </tr>\n",
       "    <tr>\n",
       "      <th>Operations Expert</th>\n",
       "      <td>1</td>\n",
       "      <td>1</td>\n",
       "      <td>0</td>\n",
       "      <td>0</td>\n",
       "      <td>1</td>\n",
       "      <td>2</td>\n",
       "      <td>0</td>\n",
       "      <td>0</td>\n",
       "      <td>0</td>\n",
       "      <td>0</td>\n",
       "      <td>1</td>\n",
       "      <td>6</td>\n",
       "    </tr>\n",
       "    <tr>\n",
       "      <th>Product Owner</th>\n",
       "      <td>0</td>\n",
       "      <td>0</td>\n",
       "      <td>0</td>\n",
       "      <td>0</td>\n",
       "      <td>0</td>\n",
       "      <td>2</td>\n",
       "      <td>0</td>\n",
       "      <td>0</td>\n",
       "      <td>0</td>\n",
       "      <td>2</td>\n",
       "      <td>0</td>\n",
       "      <td>4</td>\n",
       "    </tr>\n",
       "    <tr>\n",
       "      <th>Release Lead</th>\n",
       "      <td>1</td>\n",
       "      <td>2</td>\n",
       "      <td>0</td>\n",
       "      <td>2</td>\n",
       "      <td>22</td>\n",
       "      <td>5</td>\n",
       "      <td>4</td>\n",
       "      <td>0</td>\n",
       "      <td>1</td>\n",
       "      <td>3</td>\n",
       "      <td>0</td>\n",
       "      <td>40</td>\n",
       "    </tr>\n",
       "    <tr>\n",
       "      <th>SDET - Automation Tester</th>\n",
       "      <td>1</td>\n",
       "      <td>0</td>\n",
       "      <td>0</td>\n",
       "      <td>1</td>\n",
       "      <td>17</td>\n",
       "      <td>0</td>\n",
       "      <td>0</td>\n",
       "      <td>0</td>\n",
       "      <td>0</td>\n",
       "      <td>4</td>\n",
       "      <td>0</td>\n",
       "      <td>23</td>\n",
       "    </tr>\n",
       "    <tr>\n",
       "      <th>Scrum Master</th>\n",
       "      <td>0</td>\n",
       "      <td>0</td>\n",
       "      <td>0</td>\n",
       "      <td>0</td>\n",
       "      <td>3</td>\n",
       "      <td>1</td>\n",
       "      <td>0</td>\n",
       "      <td>0</td>\n",
       "      <td>3</td>\n",
       "      <td>1</td>\n",
       "      <td>0</td>\n",
       "      <td>8</td>\n",
       "    </tr>\n",
       "    <tr>\n",
       "      <th>Solution Designer</th>\n",
       "      <td>3</td>\n",
       "      <td>2</td>\n",
       "      <td>2</td>\n",
       "      <td>0</td>\n",
       "      <td>0</td>\n",
       "      <td>2</td>\n",
       "      <td>0</td>\n",
       "      <td>0</td>\n",
       "      <td>0</td>\n",
       "      <td>0</td>\n",
       "      <td>0</td>\n",
       "      <td>9</td>\n",
       "    </tr>\n",
       "    <tr>\n",
       "      <th>Tech Area Architect</th>\n",
       "      <td>1</td>\n",
       "      <td>0</td>\n",
       "      <td>0</td>\n",
       "      <td>0</td>\n",
       "      <td>1</td>\n",
       "      <td>3</td>\n",
       "      <td>0</td>\n",
       "      <td>0</td>\n",
       "      <td>0</td>\n",
       "      <td>0</td>\n",
       "      <td>0</td>\n",
       "      <td>5</td>\n",
       "    </tr>\n",
       "    <tr>\n",
       "      <th>Test Lead</th>\n",
       "      <td>2</td>\n",
       "      <td>0</td>\n",
       "      <td>0</td>\n",
       "      <td>2</td>\n",
       "      <td>4</td>\n",
       "      <td>0</td>\n",
       "      <td>0</td>\n",
       "      <td>0</td>\n",
       "      <td>1</td>\n",
       "      <td>1</td>\n",
       "      <td>0</td>\n",
       "      <td>10</td>\n",
       "    </tr>\n",
       "    <tr>\n",
       "      <th>Tester</th>\n",
       "      <td>7</td>\n",
       "      <td>0</td>\n",
       "      <td>0</td>\n",
       "      <td>8</td>\n",
       "      <td>18</td>\n",
       "      <td>4</td>\n",
       "      <td>13</td>\n",
       "      <td>0</td>\n",
       "      <td>7</td>\n",
       "      <td>14</td>\n",
       "      <td>3</td>\n",
       "      <td>74</td>\n",
       "    </tr>\n",
       "    <tr>\n",
       "      <th>Transition Manager</th>\n",
       "      <td>0</td>\n",
       "      <td>1</td>\n",
       "      <td>0</td>\n",
       "      <td>0</td>\n",
       "      <td>0</td>\n",
       "      <td>0</td>\n",
       "      <td>0</td>\n",
       "      <td>0</td>\n",
       "      <td>0</td>\n",
       "      <td>0</td>\n",
       "      <td>0</td>\n",
       "      <td>1</td>\n",
       "    </tr>\n",
       "  </tbody>\n",
       "</table>\n",
       "</div>"
      ],
      "text/plain": [
       "Tribe                     APRA  BUSINESS LENDING  BUSINESS OWNERS  BX - CC  \\\n",
       "Role                                                                         \n",
       "Agile Coach                  0                 0                0        0   \n",
       "Analyst                      4                 2                0        3   \n",
       "Developer                    0                 0                0        0   \n",
       "Engineer                    16                 0                1       16   \n",
       "Environment Manager          0                 0                0        0   \n",
       "Lead Developer               0                 0                0        0   \n",
       "Operations Expert            1                 1                0        0   \n",
       "Product Owner                0                 0                0        0   \n",
       "Release Lead                 1                 2                0        2   \n",
       "SDET - Automation Tester     1                 0                0        1   \n",
       "Scrum Master                 0                 0                0        0   \n",
       "Solution Designer            3                 2                2        0   \n",
       "Tech Area Architect          1                 0                0        0   \n",
       "Test Lead                    2                 0                0        2   \n",
       "Tester                       7                 0                0        8   \n",
       "Transition Manager           0                 1                0        0   \n",
       "\n",
       "Tribe                     BX - CSP  CAT  CSS  DCS  DCX  DSE  SOE  Total  \n",
       "Role                                                                     \n",
       "Agile Coach                      0    0    0    0    1    0    0      1  \n",
       "Analyst                         16    7    5    3    6    9    5     60  \n",
       "Developer                        0    0   17    0    0    7    0     24  \n",
       "Engineer                        40   17   13    1   37   42   10    193  \n",
       "Environment Manager              3    0    0    0    0    0    0      3  \n",
       "Lead Developer                   0    1    0    0    0    0    0      1  \n",
       "Operations Expert                1    2    0    0    0    0    1      6  \n",
       "Product Owner                    0    2    0    0    0    2    0      4  \n",
       "Release Lead                    22    5    4    0    1    3    0     40  \n",
       "SDET - Automation Tester        17    0    0    0    0    4    0     23  \n",
       "Scrum Master                     3    1    0    0    3    1    0      8  \n",
       "Solution Designer                0    2    0    0    0    0    0      9  \n",
       "Tech Area Architect              1    3    0    0    0    0    0      5  \n",
       "Test Lead                        4    0    0    0    1    1    0     10  \n",
       "Tester                          18    4   13    0    7   14    3     74  \n",
       "Transition Manager               0    0    0    0    0    0    0      1  "
      ]
     },
     "execution_count": 100,
     "metadata": {},
     "output_type": "execute_result"
    }
   ],
   "source": [
    "roles"
   ]
  },
  {
   "cell_type": "code",
   "execution_count": null,
   "metadata": {
    "collapsed": true
   },
   "outputs": [],
   "source": []
  }
 ],
 "metadata": {
  "kernelspec": {
   "display_name": "Python 3",
   "language": "python",
   "name": "python3"
  },
  "language_info": {
   "codemirror_mode": {
    "name": "ipython",
    "version": 3
   },
   "file_extension": ".py",
   "mimetype": "text/x-python",
   "name": "python",
   "nbconvert_exporter": "python",
   "pygments_lexer": "ipython3",
   "version": "3.6.3"
  }
 },
 "nbformat": 4,
 "nbformat_minor": 2
}
