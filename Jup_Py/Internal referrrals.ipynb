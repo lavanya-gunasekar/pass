{
 "cells": [
  {
   "cell_type": "code",
   "execution_count": 1,
   "metadata": {
    "collapsed": true
   },
   "outputs": [],
   "source": [
    "import pandas as pd\n",
    "import glob\n",
    "import warnings\n",
    "warnings.filterwarnings('ignore')\n",
    "from functools import reduce\n",
    "import re\n",
    "import datetime"
   ]
  },
  {
   "cell_type": "code",
   "execution_count": 2,
   "metadata": {
    "collapsed": true
   },
   "outputs": [],
   "source": [
    "DemandTracker=pd.read_excel(r'C:\\NotBackedUp\\SOE\\pyscript\\data\\DemandTracker.xlsx')\n",
    "HCL=pd.read_excel(r'C:\\NotBackedUp\\SOE\\pyscript\\data\\HCL.xlsx')\n",
    "INFY=pd.read_excel(r'C:\\NotBackedUp\\SOE\\pyscript\\data\\Infy.xlsx')\n",
    "OnboardingTracker=pd.read_excel(r'C:\\NotBackedUp\\SOE\\pyscript\\data\\OnboardingTracker.xlsx')"
   ]
  },
  {
   "cell_type": "markdown",
   "metadata": {},
   "source": [
    "Candidate throughput rate is important (as per the contract)"
   ]
  },
  {
   "cell_type": "code",
   "execution_count": 3,
   "metadata": {
    "collapsed": true
   },
   "outputs": [],
   "source": [
    "hclcandidates = HCL[['Title','Tribe','Sourcing Partner','Role','Candidate Type','Application Date','Hacker Rank Test Date','ANZ Interview Date','Application Status'\n",
    "]]\n",
    "Infycandidates = INFY[['Title','Tribe','Sourcing Partner','Role','Candidate Type','Application Date','Hacker Rank Test Date','ANZ Interview Date','Application Status'\n",
    "]]"
   ]
  },
  {
   "cell_type": "code",
   "execution_count": 4,
   "metadata": {
    "collapsed": true
   },
   "outputs": [],
   "source": [
    "DRO = DemandTracker[['Demand ID','Demand Status','Tribe','Role','Start Date','Partner','Resource Name','Created']]"
   ]
  },
  {
   "cell_type": "code",
   "execution_count": 5,
   "metadata": {
    "collapsed": true
   },
   "outputs": [],
   "source": [
    "hclc= hclcandidates.merge(DRO,how='left',left_on=['Title'],right_on=['Demand ID'])\n",
    "infyc=Infycandidates.merge(DRO,how='left',left_on=['Title'],right_on=['Demand ID'])"
   ]
  },
  {
   "cell_type": "code",
   "execution_count": 6,
   "metadata": {
    "collapsed": true
   },
   "outputs": [],
   "source": [
    "HCLNo_Candidate = hclc.groupby(['Demand ID'])['Demand ID'].count().reset_index(name='ToTal_Candidates')\n",
    "INFYNo_Candidate = infyc.groupby(['Demand ID'])['Demand ID'].count().reset_index(name='ToTal_Candidates')"
   ]
  },
  {
   "cell_type": "code",
   "execution_count": 7,
   "metadata": {
    "collapsed": true
   },
   "outputs": [],
   "source": [
    "failHackRankHCL = hclc[hclc['Application Status']=='Failed Hacker Rank']\n",
    "failHackRankHCL = failHackRankHCL.groupby(['Demand ID'])['Demand ID'].count().reset_index(name='FailedHackerRank')\n",
    "\n",
    "failHackRankInfy = infyc[infyc['Application Status']=='Failed Hacker Rank']\n",
    "failHackRankInfy = failHackRankInfy.groupby(['Demand ID'])['Demand ID'].count().reset_index(name='FailedHackerRank')"
   ]
  },
  {
   "cell_type": "code",
   "execution_count": 8,
   "metadata": {
    "collapsed": true
   },
   "outputs": [],
   "source": [
    "failInterviewHCL =hclc[hclc['Application Status']=='Failed Interview']\n",
    "failInterviewHCL = failInterviewHCL.groupby(['Demand ID'])['Demand ID'].count().reset_index(name='FailedInterview')\n",
    "\n",
    "failInterviewInfy =infyc[infyc['Application Status']=='Failed Interview']\n",
    "failInterviewInfy = failInterviewInfy.groupby(['Demand ID'])['Demand ID'].count().reset_index(name='FailedInterview')"
   ]
  },
  {
   "cell_type": "code",
   "execution_count": 9,
   "metadata": {
    "collapsed": true
   },
   "outputs": [],
   "source": [
    "HiredHCL =hclc[hclc['Application Status']=='Hired']\n",
    "HiredHCL = HiredHCL.groupby(['Demand ID'])['Demand ID'].count().reset_index(name='Hired')\n",
    "\n",
    "HiredInfy =infyc[infyc['Application Status']=='Hired']\n",
    "HiredInfy = HiredInfy.groupby(['Demand ID'])['Demand ID'].count().reset_index(name='Hired')"
   ]
  },
  {
   "cell_type": "code",
   "execution_count": 10,
   "metadata": {
    "collapsed": true
   },
   "outputs": [],
   "source": [
    "PendingHackerRankHCL =hclc[hclc['Application Status']=='Pending Hacker Rank']\n",
    "PendingHackerRankHCL = PendingHackerRankHCL.groupby(['Demand ID'])['Demand ID'].count().reset_index(name='PendingHackerRank')\n",
    "PendingHackerRankInfy =infyc[infyc['Application Status']=='Pending Hacker Rank']\n",
    "PendingHackerRankInfy = PendingHackerRankInfy.groupby(['Demand ID'])['Demand ID'].count().reset_index(name='PendingHackerRank')"
   ]
  },
  {
   "cell_type": "code",
   "execution_count": 11,
   "metadata": {
    "collapsed": true
   },
   "outputs": [],
   "source": [
    "hclstats = [HCLNo_Candidate,failHackRankHCL,failInterviewHCL,HiredHCL,PendingHackerRankHCL]\n",
    "infystats = [INFYNo_Candidate,failHackRankInfy,failInterviewHCL,HiredInfy,PendingHackerRankInfy]"
   ]
  },
  {
   "cell_type": "code",
   "execution_count": 12,
   "metadata": {
    "collapsed": true
   },
   "outputs": [],
   "source": [
    "HCLthroughput = reduce(lambda left,right: pd.merge(left,right,on=['Demand ID'],how='outer'),hclstats)\n",
    "Infythroughput = reduce(lambda left,right: pd.merge(left,right,on=['Demand ID'],how='outer'),infystats)"
   ]
  },
  {
   "cell_type": "code",
   "execution_count": 13,
   "metadata": {
    "collapsed": true
   },
   "outputs": [],
   "source": [
    "HCLthroughput[['ToTal_Candidates','FailedHackerRank','FailedInterview','Hired','PendingHackerRank']]=HCLthroughput[['ToTal_Candidates','FailedHackerRank','FailedInterview','Hired','PendingHackerRank']].fillna(0)\n",
    "HCLthroughput[['ToTal_Candidates','FailedHackerRank','FailedInterview','Hired','PendingHackerRank']]=HCLthroughput[['ToTal_Candidates','FailedHackerRank','FailedInterview','Hired','PendingHackerRank']].astype(int)\n",
    "\n",
    "Infythroughput[['ToTal_Candidates','FailedHackerRank','FailedInterview','Hired','PendingHackerRank']]=Infythroughput[['ToTal_Candidates','FailedHackerRank','FailedInterview','Hired','PendingHackerRank']].fillna(0)\n",
    "Infythroughput[['ToTal_Candidates','FailedHackerRank','FailedInterview','Hired','PendingHackerRank']]=Infythroughput[['ToTal_Candidates','FailedHackerRank','FailedInterview','Hired','PendingHackerRank']].astype(int)"
   ]
  },
  {
   "cell_type": "code",
   "execution_count": 14,
   "metadata": {
    "collapsed": true
   },
   "outputs": [],
   "source": [
    "#HCLthroughput.to_csv(r'C:\\NotBackedUp\\SOE\\pyscript\\HCLCandidates.csv',sep=',',index=None)\n",
    "#Infythroughput.to_csv(r'C:\\NotBackedUp\\SOE\\pyscript\\InfyCandidates.csv',sep=',',index=None)"
   ]
  },
  {
   "cell_type": "markdown",
   "metadata": {},
   "source": [
    "-% of internal referrals per role type is important\n"
   ]
  },
  {
   "cell_type": "code",
   "execution_count": 15,
   "metadata": {
    "collapsed": true
   },
   "outputs": [],
   "source": [
    "Internalhcl = HCL[HCL['Candidate Type']=='Internal Candidate']\n",
    "InternalInfy = INFY[INFY['Candidate Type']=='Internal Candidate']"
   ]
  },
  {
   "cell_type": "code",
   "execution_count": 16,
   "metadata": {
    "collapsed": true
   },
   "outputs": [],
   "source": [
    "roles = DemandTracker\n",
    "roles.loc[roles['Role'].str.contains('Engineer - Tester'),'Role'] = 'Tester'\n",
    "roles.loc[roles['Role'].str.contains('Engineer'),'Role'] = 'Engineer'\n",
    "roles.loc[roles['Role'].str.contains('Expert'),'Role'] = 'Operations Expert'\n",
    "roles.loc[roles['Role'].str.contains('Partner'),'Role'] = 'Delivery Partner'\n",
    "roles = roles.groupby(['Role'])['Demand ID'].count().reset_index(name='RolesCount')"
   ]
  },
  {
   "cell_type": "code",
   "execution_count": 17,
   "metadata": {
    "collapsed": true
   },
   "outputs": [],
   "source": [
    "Externalhcl = HCL[HCL['Candidate Type']=='External Candidate']\n",
    "ExternalInfy = INFY[INFY['Candidate Type']=='External Candidate']"
   ]
  },
  {
   "cell_type": "code",
   "execution_count": 18,
   "metadata": {
    "collapsed": true
   },
   "outputs": [],
   "source": [
    "Internalhcl.loc[Internalhcl['Role'].str.contains('Engineer - Tester'),'Role'] = 'Tester'\n",
    "Internalhcl.loc[Internalhcl['Role'].str.contains('Engineer'),'Role'] = 'Engineer'\n",
    "Internalhcl.loc[Internalhcl['Role'].str.contains('Expert'),'Role'] = 'Operations Expert'\n",
    "Internalhcl.loc[Internalhcl['Role'].str.contains('Partner'),'Role'] = 'Delivery Partner'\n",
    "\n",
    "InternalInfy.loc[InternalInfy['Role'].str.contains('Engineer - Tester'),'Role'] = 'Tester'\n",
    "InternalInfy.loc[InternalInfy['Role'].str.contains('Engineer'),'Role'] = 'Engineer'\n",
    "InternalInfy.loc[InternalInfy['Role'].str.contains('Expert'),'Role'] = 'Operations Expert'\n",
    "InternalInfy.loc[InternalInfy['Role'].str.contains('Partner'),'Role'] = 'Delivery Partner'"
   ]
  },
  {
   "cell_type": "code",
   "execution_count": 19,
   "metadata": {
    "collapsed": true
   },
   "outputs": [],
   "source": [
    "Externalhcl.loc[Externalhcl['Role'].str.contains('Engineer - Tester'),'Role'] = 'Tester'\n",
    "Externalhcl.loc[Externalhcl['Role'].str.contains('Engineer'),'Role'] = 'Engineer'\n",
    "Externalhcl.loc[Externalhcl['Role'].str.contains('Expert'),'Role'] = 'Operations Expert'\n",
    "Externalhcl.loc[Externalhcl['Role'].str.contains('Partner'),'Role'] = 'Delivery Partner'\n",
    "\n",
    "ExternalInfy.loc[ExternalInfy['Role'].str.contains('Engineer - Tester'),'Role'] = 'Tester'\n",
    "ExternalInfy.loc[ExternalInfy['Role'].str.contains('Engineer'),'Role'] = 'Engineer'\n",
    "ExternalInfy.loc[ExternalInfy['Role'].str.contains('Expert'),'Role'] = 'Operations Expert'\n",
    "ExternalInfy.loc[ExternalInfy['Role'].str.contains('Partner'),'Role'] = 'Delivery Partner'"
   ]
  },
  {
   "cell_type": "code",
   "execution_count": 20,
   "metadata": {
    "collapsed": true
   },
   "outputs": [],
   "source": [
    "HCLInt = Internalhcl.groupby(['Role'])['Title'].count().reset_index(name='HCLInternalReferrals')\n",
    "INFYInt = InternalInfy.groupby(['Role'])['Title'].count().reset_index(name='InfyInternalReferrals')\n",
    "HCLExt = Externalhcl.groupby(['Role'])['Title'].count().reset_index(name='HCLExternalReferrals')\n",
    "INFYExt = ExternalInfy.groupby(['Role'])['Title'].count().reset_index(name='InfyExternalReferrals')"
   ]
  },
  {
   "cell_type": "code",
   "execution_count": 21,
   "metadata": {
    "collapsed": true
   },
   "outputs": [],
   "source": [
    "HCLCandicate = HCL\n",
    "HCLCandicate.loc[HCLCandicate['Role'].str.contains('Engineer - Tester'),'Role'] = 'Tester'\n",
    "HCLCandicate.loc[HCLCandicate['Role'].str.contains('Engineer'),'Role'] = 'Engineer'\n",
    "HCLCandicate.loc[HCLCandicate['Role'].str.contains('Expert'),'Role'] = 'Operations Expert'\n",
    "HCLCandicate.loc[HCLCandicate['Role'].str.contains('Partner'),'Role'] = 'Delivery Partner'\n",
    "HCLCandicate=HCLCandicate.groupby(['Role'])['ID'].count().reset_index(name='TotalHCL')"
   ]
  },
  {
   "cell_type": "code",
   "execution_count": 22,
   "metadata": {
    "collapsed": true
   },
   "outputs": [],
   "source": [
    "INFYCandicate = INFY\n",
    "INFYCandicate.loc[INFYCandicate['Role'].str.contains('Engineer - Tester'),'Role'] = 'Tester'\n",
    "INFYCandicate.loc[INFYCandicate['Role'].str.contains('Engineer'),'Role'] = 'Engineer'\n",
    "INFYCandicate.loc[INFYCandicate['Role'].str.contains('Expert'),'Role'] = 'Operations Expert'\n",
    "INFYCandicate.loc[INFYCandicate['Role'].str.contains('Partner'),'Role'] = 'Delivery Partner'\n",
    "INFYCandicate=INFYCandicate.groupby(['Role'])['ID'].count().reset_index(name='TotalINFY')"
   ]
  },
  {
   "cell_type": "code",
   "execution_count": 23,
   "metadata": {
    "collapsed": true
   },
   "outputs": [],
   "source": [
    "refere = [roles,HCLInt,INFYInt,HCLExt,INFYExt,HCLCandicate,INFYCandicate]"
   ]
  },
  {
   "cell_type": "code",
   "execution_count": 24,
   "metadata": {
    "collapsed": true
   },
   "outputs": [],
   "source": [
    "InternalRefferals = reduce(lambda left,right: pd.merge(left,right,on=['Role'],how='outer'),refere)"
   ]
  },
  {
   "cell_type": "code",
   "execution_count": 25,
   "metadata": {},
   "outputs": [
    {
     "data": {
      "text/html": [
       "<div>\n",
       "<style>\n",
       "    .dataframe thead tr:only-child th {\n",
       "        text-align: right;\n",
       "    }\n",
       "\n",
       "    .dataframe thead th {\n",
       "        text-align: left;\n",
       "    }\n",
       "\n",
       "    .dataframe tbody tr th {\n",
       "        vertical-align: top;\n",
       "    }\n",
       "</style>\n",
       "<table border=\"1\" class=\"dataframe\">\n",
       "  <thead>\n",
       "    <tr style=\"text-align: right;\">\n",
       "      <th></th>\n",
       "      <th>Role</th>\n",
       "      <th>RolesCount</th>\n",
       "      <th>HCLInternalReferrals</th>\n",
       "      <th>InfyInternalReferrals</th>\n",
       "      <th>HCLExternalReferrals</th>\n",
       "      <th>InfyExternalReferrals</th>\n",
       "      <th>TotalHCL</th>\n",
       "      <th>TotalINFY</th>\n",
       "    </tr>\n",
       "  </thead>\n",
       "  <tbody>\n",
       "    <tr>\n",
       "      <th>0</th>\n",
       "      <td>Agile Coach</td>\n",
       "      <td>1</td>\n",
       "      <td>1.0</td>\n",
       "      <td>3.0</td>\n",
       "      <td>14.0</td>\n",
       "      <td>12.0</td>\n",
       "      <td>15.0</td>\n",
       "      <td>15.0</td>\n",
       "    </tr>\n",
       "    <tr>\n",
       "      <th>1</th>\n",
       "      <td>Analyst</td>\n",
       "      <td>50</td>\n",
       "      <td>8.0</td>\n",
       "      <td>12.0</td>\n",
       "      <td>23.0</td>\n",
       "      <td>29.0</td>\n",
       "      <td>31.0</td>\n",
       "      <td>41.0</td>\n",
       "    </tr>\n",
       "    <tr>\n",
       "      <th>2</th>\n",
       "      <td>Developer</td>\n",
       "      <td>23</td>\n",
       "      <td>NaN</td>\n",
       "      <td>NaN</td>\n",
       "      <td>1.0</td>\n",
       "      <td>NaN</td>\n",
       "      <td>1.0</td>\n",
       "      <td>NaN</td>\n",
       "    </tr>\n",
       "    <tr>\n",
       "      <th>3</th>\n",
       "      <td>Engineer</td>\n",
       "      <td>131</td>\n",
       "      <td>43.0</td>\n",
       "      <td>52.0</td>\n",
       "      <td>132.0</td>\n",
       "      <td>236.0</td>\n",
       "      <td>175.0</td>\n",
       "      <td>288.0</td>\n",
       "    </tr>\n",
       "    <tr>\n",
       "      <th>4</th>\n",
       "      <td>Environment Manager</td>\n",
       "      <td>2</td>\n",
       "      <td>NaN</td>\n",
       "      <td>NaN</td>\n",
       "      <td>NaN</td>\n",
       "      <td>NaN</td>\n",
       "      <td>NaN</td>\n",
       "      <td>NaN</td>\n",
       "    </tr>\n",
       "    <tr>\n",
       "      <th>5</th>\n",
       "      <td>Operations Expert</td>\n",
       "      <td>4</td>\n",
       "      <td>1.0</td>\n",
       "      <td>1.0</td>\n",
       "      <td>NaN</td>\n",
       "      <td>2.0</td>\n",
       "      <td>1.0</td>\n",
       "      <td>3.0</td>\n",
       "    </tr>\n",
       "    <tr>\n",
       "      <th>6</th>\n",
       "      <td>Product Owner</td>\n",
       "      <td>1</td>\n",
       "      <td>NaN</td>\n",
       "      <td>NaN</td>\n",
       "      <td>NaN</td>\n",
       "      <td>NaN</td>\n",
       "      <td>NaN</td>\n",
       "      <td>NaN</td>\n",
       "    </tr>\n",
       "    <tr>\n",
       "      <th>7</th>\n",
       "      <td>Release Lead</td>\n",
       "      <td>36</td>\n",
       "      <td>6.0</td>\n",
       "      <td>2.0</td>\n",
       "      <td>24.0</td>\n",
       "      <td>18.0</td>\n",
       "      <td>30.0</td>\n",
       "      <td>20.0</td>\n",
       "    </tr>\n",
       "    <tr>\n",
       "      <th>8</th>\n",
       "      <td>SDET - Automation Tester</td>\n",
       "      <td>6</td>\n",
       "      <td>NaN</td>\n",
       "      <td>NaN</td>\n",
       "      <td>NaN</td>\n",
       "      <td>NaN</td>\n",
       "      <td>NaN</td>\n",
       "      <td>NaN</td>\n",
       "    </tr>\n",
       "    <tr>\n",
       "      <th>9</th>\n",
       "      <td>Scrum Master</td>\n",
       "      <td>5</td>\n",
       "      <td>NaN</td>\n",
       "      <td>NaN</td>\n",
       "      <td>NaN</td>\n",
       "      <td>NaN</td>\n",
       "      <td>NaN</td>\n",
       "      <td>NaN</td>\n",
       "    </tr>\n",
       "    <tr>\n",
       "      <th>10</th>\n",
       "      <td>Solution Designer</td>\n",
       "      <td>7</td>\n",
       "      <td>1.0</td>\n",
       "      <td>2.0</td>\n",
       "      <td>NaN</td>\n",
       "      <td>8.0</td>\n",
       "      <td>1.0</td>\n",
       "      <td>10.0</td>\n",
       "    </tr>\n",
       "    <tr>\n",
       "      <th>11</th>\n",
       "      <td>Tech Area Architect</td>\n",
       "      <td>3</td>\n",
       "      <td>5.0</td>\n",
       "      <td>NaN</td>\n",
       "      <td>2.0</td>\n",
       "      <td>7.0</td>\n",
       "      <td>7.0</td>\n",
       "      <td>7.0</td>\n",
       "    </tr>\n",
       "    <tr>\n",
       "      <th>12</th>\n",
       "      <td>Test Lead</td>\n",
       "      <td>4</td>\n",
       "      <td>1.0</td>\n",
       "      <td>1.0</td>\n",
       "      <td>NaN</td>\n",
       "      <td>NaN</td>\n",
       "      <td>1.0</td>\n",
       "      <td>1.0</td>\n",
       "    </tr>\n",
       "    <tr>\n",
       "      <th>13</th>\n",
       "      <td>Tester</td>\n",
       "      <td>56</td>\n",
       "      <td>7.0</td>\n",
       "      <td>6.0</td>\n",
       "      <td>33.0</td>\n",
       "      <td>12.0</td>\n",
       "      <td>40.0</td>\n",
       "      <td>18.0</td>\n",
       "    </tr>\n",
       "    <tr>\n",
       "      <th>14</th>\n",
       "      <td>Transition Manager</td>\n",
       "      <td>1</td>\n",
       "      <td>NaN</td>\n",
       "      <td>NaN</td>\n",
       "      <td>NaN</td>\n",
       "      <td>NaN</td>\n",
       "      <td>NaN</td>\n",
       "      <td>NaN</td>\n",
       "    </tr>\n",
       "  </tbody>\n",
       "</table>\n",
       "</div>"
      ],
      "text/plain": [
       "                        Role  RolesCount  HCLInternalReferrals  \\\n",
       "0                Agile Coach           1                   1.0   \n",
       "1                    Analyst          50                   8.0   \n",
       "2                  Developer          23                   NaN   \n",
       "3                   Engineer         131                  43.0   \n",
       "4        Environment Manager           2                   NaN   \n",
       "5          Operations Expert           4                   1.0   \n",
       "6              Product Owner           1                   NaN   \n",
       "7               Release Lead          36                   6.0   \n",
       "8   SDET - Automation Tester           6                   NaN   \n",
       "9               Scrum Master           5                   NaN   \n",
       "10         Solution Designer           7                   1.0   \n",
       "11       Tech Area Architect           3                   5.0   \n",
       "12                 Test Lead           4                   1.0   \n",
       "13                    Tester          56                   7.0   \n",
       "14        Transition Manager           1                   NaN   \n",
       "\n",
       "    InfyInternalReferrals  HCLExternalReferrals  InfyExternalReferrals  \\\n",
       "0                     3.0                  14.0                   12.0   \n",
       "1                    12.0                  23.0                   29.0   \n",
       "2                     NaN                   1.0                    NaN   \n",
       "3                    52.0                 132.0                  236.0   \n",
       "4                     NaN                   NaN                    NaN   \n",
       "5                     1.0                   NaN                    2.0   \n",
       "6                     NaN                   NaN                    NaN   \n",
       "7                     2.0                  24.0                   18.0   \n",
       "8                     NaN                   NaN                    NaN   \n",
       "9                     NaN                   NaN                    NaN   \n",
       "10                    2.0                   NaN                    8.0   \n",
       "11                    NaN                   2.0                    7.0   \n",
       "12                    1.0                   NaN                    NaN   \n",
       "13                    6.0                  33.0                   12.0   \n",
       "14                    NaN                   NaN                    NaN   \n",
       "\n",
       "    TotalHCL  TotalINFY  \n",
       "0       15.0       15.0  \n",
       "1       31.0       41.0  \n",
       "2        1.0        NaN  \n",
       "3      175.0      288.0  \n",
       "4        NaN        NaN  \n",
       "5        1.0        3.0  \n",
       "6        NaN        NaN  \n",
       "7       30.0       20.0  \n",
       "8        NaN        NaN  \n",
       "9        NaN        NaN  \n",
       "10       1.0       10.0  \n",
       "11       7.0        7.0  \n",
       "12       1.0        1.0  \n",
       "13      40.0       18.0  \n",
       "14       NaN        NaN  "
      ]
     },
     "execution_count": 25,
     "metadata": {},
     "output_type": "execute_result"
    }
   ],
   "source": [
    "InternalRefferals"
   ]
  },
  {
   "cell_type": "code",
   "execution_count": 26,
   "metadata": {
    "collapsed": true
   },
   "outputs": [],
   "source": [
    "InternalRefferals[['HCLInternalReferrals','InfyInternalReferrals','HCLExternalReferrals','InfyExternalReferrals','TotalHCL','TotalINFY']]=InternalRefferals[['HCLInternalReferrals','InfyInternalReferrals','HCLExternalReferrals','InfyExternalReferrals','TotalHCL','TotalINFY']].fillna(0)\n",
    "InternalRefferals[['HCLInternalReferrals','InfyInternalReferrals','HCLExternalReferrals','InfyExternalReferrals','TotalHCL','TotalINFY']]=InternalRefferals[['HCLInternalReferrals','InfyInternalReferrals','HCLExternalReferrals','InfyExternalReferrals','TotalHCL','TotalINFY']].astype(int)"
   ]
  },
  {
   "cell_type": "code",
   "execution_count": 27,
   "metadata": {},
   "outputs": [
    {
     "data": {
      "text/html": [
       "<div>\n",
       "<style>\n",
       "    .dataframe thead tr:only-child th {\n",
       "        text-align: right;\n",
       "    }\n",
       "\n",
       "    .dataframe thead th {\n",
       "        text-align: left;\n",
       "    }\n",
       "\n",
       "    .dataframe tbody tr th {\n",
       "        vertical-align: top;\n",
       "    }\n",
       "</style>\n",
       "<table border=\"1\" class=\"dataframe\">\n",
       "  <thead>\n",
       "    <tr style=\"text-align: right;\">\n",
       "      <th></th>\n",
       "      <th>Role</th>\n",
       "      <th>RolesCount</th>\n",
       "      <th>HCLInternalReferrals</th>\n",
       "      <th>InfyInternalReferrals</th>\n",
       "      <th>HCLExternalReferrals</th>\n",
       "      <th>InfyExternalReferrals</th>\n",
       "      <th>TotalHCL</th>\n",
       "      <th>TotalINFY</th>\n",
       "    </tr>\n",
       "  </thead>\n",
       "  <tbody>\n",
       "    <tr>\n",
       "      <th>0</th>\n",
       "      <td>Agile Coach</td>\n",
       "      <td>1</td>\n",
       "      <td>1</td>\n",
       "      <td>3</td>\n",
       "      <td>14</td>\n",
       "      <td>12</td>\n",
       "      <td>15</td>\n",
       "      <td>15</td>\n",
       "    </tr>\n",
       "    <tr>\n",
       "      <th>1</th>\n",
       "      <td>Analyst</td>\n",
       "      <td>50</td>\n",
       "      <td>8</td>\n",
       "      <td>12</td>\n",
       "      <td>23</td>\n",
       "      <td>29</td>\n",
       "      <td>31</td>\n",
       "      <td>41</td>\n",
       "    </tr>\n",
       "    <tr>\n",
       "      <th>2</th>\n",
       "      <td>Developer</td>\n",
       "      <td>23</td>\n",
       "      <td>0</td>\n",
       "      <td>0</td>\n",
       "      <td>1</td>\n",
       "      <td>0</td>\n",
       "      <td>1</td>\n",
       "      <td>0</td>\n",
       "    </tr>\n",
       "    <tr>\n",
       "      <th>3</th>\n",
       "      <td>Engineer</td>\n",
       "      <td>131</td>\n",
       "      <td>43</td>\n",
       "      <td>52</td>\n",
       "      <td>132</td>\n",
       "      <td>236</td>\n",
       "      <td>175</td>\n",
       "      <td>288</td>\n",
       "    </tr>\n",
       "    <tr>\n",
       "      <th>4</th>\n",
       "      <td>Environment Manager</td>\n",
       "      <td>2</td>\n",
       "      <td>0</td>\n",
       "      <td>0</td>\n",
       "      <td>0</td>\n",
       "      <td>0</td>\n",
       "      <td>0</td>\n",
       "      <td>0</td>\n",
       "    </tr>\n",
       "    <tr>\n",
       "      <th>5</th>\n",
       "      <td>Operations Expert</td>\n",
       "      <td>4</td>\n",
       "      <td>1</td>\n",
       "      <td>1</td>\n",
       "      <td>0</td>\n",
       "      <td>2</td>\n",
       "      <td>1</td>\n",
       "      <td>3</td>\n",
       "    </tr>\n",
       "    <tr>\n",
       "      <th>6</th>\n",
       "      <td>Product Owner</td>\n",
       "      <td>1</td>\n",
       "      <td>0</td>\n",
       "      <td>0</td>\n",
       "      <td>0</td>\n",
       "      <td>0</td>\n",
       "      <td>0</td>\n",
       "      <td>0</td>\n",
       "    </tr>\n",
       "    <tr>\n",
       "      <th>7</th>\n",
       "      <td>Release Lead</td>\n",
       "      <td>36</td>\n",
       "      <td>6</td>\n",
       "      <td>2</td>\n",
       "      <td>24</td>\n",
       "      <td>18</td>\n",
       "      <td>30</td>\n",
       "      <td>20</td>\n",
       "    </tr>\n",
       "    <tr>\n",
       "      <th>8</th>\n",
       "      <td>SDET - Automation Tester</td>\n",
       "      <td>6</td>\n",
       "      <td>0</td>\n",
       "      <td>0</td>\n",
       "      <td>0</td>\n",
       "      <td>0</td>\n",
       "      <td>0</td>\n",
       "      <td>0</td>\n",
       "    </tr>\n",
       "    <tr>\n",
       "      <th>9</th>\n",
       "      <td>Scrum Master</td>\n",
       "      <td>5</td>\n",
       "      <td>0</td>\n",
       "      <td>0</td>\n",
       "      <td>0</td>\n",
       "      <td>0</td>\n",
       "      <td>0</td>\n",
       "      <td>0</td>\n",
       "    </tr>\n",
       "    <tr>\n",
       "      <th>10</th>\n",
       "      <td>Solution Designer</td>\n",
       "      <td>7</td>\n",
       "      <td>1</td>\n",
       "      <td>2</td>\n",
       "      <td>0</td>\n",
       "      <td>8</td>\n",
       "      <td>1</td>\n",
       "      <td>10</td>\n",
       "    </tr>\n",
       "    <tr>\n",
       "      <th>11</th>\n",
       "      <td>Tech Area Architect</td>\n",
       "      <td>3</td>\n",
       "      <td>5</td>\n",
       "      <td>0</td>\n",
       "      <td>2</td>\n",
       "      <td>7</td>\n",
       "      <td>7</td>\n",
       "      <td>7</td>\n",
       "    </tr>\n",
       "    <tr>\n",
       "      <th>12</th>\n",
       "      <td>Test Lead</td>\n",
       "      <td>4</td>\n",
       "      <td>1</td>\n",
       "      <td>1</td>\n",
       "      <td>0</td>\n",
       "      <td>0</td>\n",
       "      <td>1</td>\n",
       "      <td>1</td>\n",
       "    </tr>\n",
       "    <tr>\n",
       "      <th>13</th>\n",
       "      <td>Tester</td>\n",
       "      <td>56</td>\n",
       "      <td>7</td>\n",
       "      <td>6</td>\n",
       "      <td>33</td>\n",
       "      <td>12</td>\n",
       "      <td>40</td>\n",
       "      <td>18</td>\n",
       "    </tr>\n",
       "    <tr>\n",
       "      <th>14</th>\n",
       "      <td>Transition Manager</td>\n",
       "      <td>1</td>\n",
       "      <td>0</td>\n",
       "      <td>0</td>\n",
       "      <td>0</td>\n",
       "      <td>0</td>\n",
       "      <td>0</td>\n",
       "      <td>0</td>\n",
       "    </tr>\n",
       "  </tbody>\n",
       "</table>\n",
       "</div>"
      ],
      "text/plain": [
       "                        Role  RolesCount  HCLInternalReferrals  \\\n",
       "0                Agile Coach           1                     1   \n",
       "1                    Analyst          50                     8   \n",
       "2                  Developer          23                     0   \n",
       "3                   Engineer         131                    43   \n",
       "4        Environment Manager           2                     0   \n",
       "5          Operations Expert           4                     1   \n",
       "6              Product Owner           1                     0   \n",
       "7               Release Lead          36                     6   \n",
       "8   SDET - Automation Tester           6                     0   \n",
       "9               Scrum Master           5                     0   \n",
       "10         Solution Designer           7                     1   \n",
       "11       Tech Area Architect           3                     5   \n",
       "12                 Test Lead           4                     1   \n",
       "13                    Tester          56                     7   \n",
       "14        Transition Manager           1                     0   \n",
       "\n",
       "    InfyInternalReferrals  HCLExternalReferrals  InfyExternalReferrals  \\\n",
       "0                       3                    14                     12   \n",
       "1                      12                    23                     29   \n",
       "2                       0                     1                      0   \n",
       "3                      52                   132                    236   \n",
       "4                       0                     0                      0   \n",
       "5                       1                     0                      2   \n",
       "6                       0                     0                      0   \n",
       "7                       2                    24                     18   \n",
       "8                       0                     0                      0   \n",
       "9                       0                     0                      0   \n",
       "10                      2                     0                      8   \n",
       "11                      0                     2                      7   \n",
       "12                      1                     0                      0   \n",
       "13                      6                    33                     12   \n",
       "14                      0                     0                      0   \n",
       "\n",
       "    TotalHCL  TotalINFY  \n",
       "0         15         15  \n",
       "1         31         41  \n",
       "2          1          0  \n",
       "3        175        288  \n",
       "4          0          0  \n",
       "5          1          3  \n",
       "6          0          0  \n",
       "7         30         20  \n",
       "8          0          0  \n",
       "9          0          0  \n",
       "10         1         10  \n",
       "11         7          7  \n",
       "12         1          1  \n",
       "13        40         18  \n",
       "14         0          0  "
      ]
     },
     "execution_count": 27,
     "metadata": {},
     "output_type": "execute_result"
    }
   ],
   "source": [
    "InternalRefferals"
   ]
  },
  {
   "cell_type": "code",
   "execution_count": 28,
   "metadata": {
    "collapsed": true
   },
   "outputs": [],
   "source": [
    "InternalRefferals.to_csv(r'C:\\NotBackedUp\\SOE\\pyscript\\Referals.csv',sep=',',index=None)"
   ]
  },
  {
   "cell_type": "code",
   "execution_count": null,
   "metadata": {
    "collapsed": true
   },
   "outputs": [],
   "source": []
  }
 ],
 "metadata": {
  "kernelspec": {
   "display_name": "Python 3",
   "language": "python",
   "name": "python3"
  },
  "language_info": {
   "codemirror_mode": {
    "name": "ipython",
    "version": 3
   },
   "file_extension": ".py",
   "mimetype": "text/x-python",
   "name": "python",
   "nbconvert_exporter": "python",
   "pygments_lexer": "ipython3",
   "version": "3.6.3"
  }
 },
 "nbformat": 4,
 "nbformat_minor": 2
}
