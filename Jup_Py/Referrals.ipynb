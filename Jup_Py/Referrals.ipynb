{
 "cells": [
  {
   "cell_type": "code",
   "execution_count": 1,
   "metadata": {
    "collapsed": true
   },
   "outputs": [],
   "source": [
    "import pandas as pd\n",
    "import glob\n",
    "import warnings\n",
    "warnings.filterwarnings('ignore')\n",
    "from functools import reduce\n",
    "import re\n",
    "from datetime import datetime, timedelta"
   ]
  },
  {
   "cell_type": "code",
   "execution_count": 2,
   "metadata": {
    "collapsed": true
   },
   "outputs": [],
   "source": [
    "DemandTracker=pd.read_excel(r'C:\\NotBackedUp\\SOE\\pyscript\\data\\DemandTracker.xlsx')\n",
    "HCL=pd.read_excel(r'C:\\NotBackedUp\\SOE\\pyscript\\data\\HCL.xlsx')\n",
    "INFY=pd.read_excel(r'C:\\NotBackedUp\\SOE\\pyscript\\data\\Infy.xlsx')\n",
    "OnboardingTracker=pd.read_excel(r'C:\\NotBackedUp\\SOE\\pyscript\\data\\OnboardingTracker.xlsx')"
   ]
  },
  {
   "cell_type": "code",
   "execution_count": 3,
   "metadata": {
    "collapsed": true
   },
   "outputs": [],
   "source": [
    "roles = DemandTracker"
   ]
  },
  {
   "cell_type": "code",
   "execution_count": 4,
   "metadata": {
    "collapsed": true
   },
   "outputs": [],
   "source": [
    "roles.loc[roles['Role'].str.contains('Engineer - Tester'),'Role'] = 'Tester'\n",
    "roles.loc[roles['Role'].str.contains('Engineer'),'Role'] = 'Engineer'\n",
    "roles.loc[roles['Role'].str.contains('Expert'),'Role'] = 'Operations Expert'\n",
    "roles.loc[roles['Role'].str.contains('Partner'),'Role'] = 'Delivery Partner'"
   ]
  },
  {
   "cell_type": "code",
   "execution_count": 5,
   "metadata": {
    "collapsed": true
   },
   "outputs": [],
   "source": [
    "roles = roles.groupby(['Tribe','Role'])['Demand ID'].count().reset_index(name='RolesCount')"
   ]
  },
  {
   "cell_type": "code",
   "execution_count": 6,
   "metadata": {
    "collapsed": true
   },
   "outputs": [],
   "source": [
    "ro=DemandTracker[DemandTracker['Demand Status']=='Open']\n",
    "ro=ro.groupby(['Role'])['Demand ID'].count().reset_index(name='Roles_Open')"
   ]
  },
  {
   "cell_type": "code",
   "execution_count": 7,
   "metadata": {
    "collapsed": true
   },
   "outputs": [],
   "source": [
    "rinprg=OnboardingTracker[((OnboardingTracker['DRO Source']=='Model2') & (OnboardingTracker['Onboarding Status']=='Onboarding In Progress'))]\n",
    "rinprg.loc[rinprg['Role'].str.contains('Engineer - Tester'),'Role'] = 'Tester'\n",
    "rinprg.loc[rinprg['Role'].str.contains('Engineer'),'Role'] = 'Engineer'\n",
    "rinprg.loc[rinprg['Role'].str.contains('Expert'),'Role'] = 'Operations Expert'\n",
    "rinprg.loc[rinprg['Role'].str.contains('Partner'),'Role'] = 'Delivery Partner'\n",
    "rinprg=rinprg.groupby(['Role'])['Demand ID'].count().reset_index(name='OnBoard_InProgress')"
   ]
  },
  {
   "cell_type": "code",
   "execution_count": 8,
   "metadata": {
    "collapsed": true
   },
   "outputs": [],
   "source": [
    "ronb=OnboardingTracker[((OnboardingTracker['DRO Source']=='Model2') & (OnboardingTracker['Onboarding Status']=='Onboarding Completed'))]\n",
    "ronb.loc[ronb['Role'].str.contains('Engineer - Tester'),'Role'] = 'Tester'\n",
    "ronb.loc[ronb['Role'].str.contains('Engineer'),'Role'] = 'Engineer'\n",
    "ronb.loc[ronb['Role'].str.contains('Expert'),'Role'] = 'Operations Expert'\n",
    "ronb.loc[ronb['Role'].str.contains('Partner'),'Role'] = 'Delivery Partner'\n",
    "ronb=ronb.groupby(['Role'])['Demand ID'].count().reset_index(name='OnBoarded')"
   ]
  },
  {
   "cell_type": "code",
   "execution_count": 9,
   "metadata": {
    "collapsed": true
   },
   "outputs": [],
   "source": [
    "rsgn=OnboardingTracker[((OnboardingTracker['DRO Source']=='Model2') & (OnboardingTracker['Onboarding Status']=='Resigned'))]\n",
    "rsgn.loc[rsgn['Role'].str.contains('Engineer - Tester'),'Role'] = 'Tester'\n",
    "rsgn.loc[rsgn['Role'].str.contains('Engineer'),'Role'] = 'Engineer'\n",
    "rsgn.loc[rsgn['Role'].str.contains('Expert'),'Role'] = 'Operations Expert'\n",
    "rsgn.loc[rsgn['Role'].str.contains('Partner'),'Role'] = 'Delivery Partner'\n",
    "rsgn=rsgn.groupby(['Role'])['Demand ID'].count().reset_index(name='Resigns')"
   ]
  },
  {
   "cell_type": "code",
   "execution_count": 10,
   "metadata": {
    "collapsed": true
   },
   "outputs": [],
   "source": [
    "nshw=OnboardingTracker[((OnboardingTracker['DRO Source']=='Model2') & (OnboardingTracker['Onboarding Status']=='No Show'))]\n",
    "nshw.loc[nshw['Role'].str.contains('Engineer - Tester'),'Role'] = 'Tester'\n",
    "nshw.loc[nshw['Role'].str.contains('Engineer'),'Role'] = 'Engineer'\n",
    "nshw.loc[nshw['Role'].str.contains('Expert'),'Role'] = 'Operations Expert'\n",
    "nshw.loc[nshw['Role'].str.contains('Partner'),'Role'] = 'Delivery Partner'\n",
    "nshw=nshw.groupby(['Role'])['Demand ID'].count().reset_index(name='NoShow')"
   ]
  },
  {
   "cell_type": "code",
   "execution_count": 11,
   "metadata": {
    "collapsed": true
   },
   "outputs": [],
   "source": [
    "Internalhcl = HCL[HCL['Candidate Type']=='Internal Candidate']\n",
    "Internalhcl.loc[Internalhcl['Role'].str.contains('Engineer - Tester'),'Role'] = 'Tester'\n",
    "Internalhcl.loc[Internalhcl['Role'].str.contains('Engineer'),'Role'] = 'Engineer'\n",
    "Internalhcl.loc[Internalhcl['Role'].str.contains('Expert'),'Role'] = 'Operations Expert'\n",
    "Internalhcl.loc[Internalhcl['Role'].str.contains('Partner'),'Role'] = 'Delivery Partner'"
   ]
  },
  {
   "cell_type": "code",
   "execution_count": 12,
   "metadata": {
    "collapsed": true
   },
   "outputs": [],
   "source": [
    "HCLCandicate = HCL\n",
    "HCLCandicate.loc[HCLCandicate['Role'].str.contains('Engineer - Tester'),'Role'] = 'Tester'\n",
    "HCLCandicate.loc[HCLCandicate['Role'].str.contains('Engineer'),'Role'] = 'Engineer'\n",
    "HCLCandicate.loc[HCLCandicate['Role'].str.contains('Expert'),'Role'] = 'Operations Expert'\n",
    "HCLCandicate.loc[HCLCandicate['Role'].str.contains('Partner'),'Role'] = 'Delivery Partner'\n",
    "HCLCandicate=HCLCandicate.groupby(['Role'])['ID'].count().reset_index(name='TotalHCL')"
   ]
  },
  {
   "cell_type": "code",
   "execution_count": 13,
   "metadata": {
    "collapsed": true
   },
   "outputs": [],
   "source": [
    "INFYCandicate = INFY\n",
    "INFYCandicate.loc[INFYCandicate['Role'].str.contains('Engineer - Tester'),'Role'] = 'Tester'\n",
    "INFYCandicate.loc[INFYCandicate['Role'].str.contains('Engineer'),'Role'] = 'Engineer'\n",
    "INFYCandicate.loc[INFYCandicate['Role'].str.contains('Expert'),'Role'] = 'Operations Expert'\n",
    "INFYCandicate.loc[INFYCandicate['Role'].str.contains('Partner'),'Role'] = 'Delivery Partner'\n",
    "INFYCandicate=INFYCandicate.groupby(['Role'])['ID'].count().reset_index(name='TotalINFY')"
   ]
  },
  {
   "cell_type": "code",
   "execution_count": 14,
   "metadata": {
    "collapsed": true
   },
   "outputs": [],
   "source": [
    "Internalhcl=Internalhcl.groupby(['Role'])['ID'].count().reset_index(name='InternalHCL')"
   ]
  },
  {
   "cell_type": "code",
   "execution_count": 15,
   "metadata": {
    "collapsed": true
   },
   "outputs": [],
   "source": [
    "Externalhcl = HCL[HCL['Candidate Type']=='External Candidate']\n",
    "Externalhcl.loc[Externalhcl['Role'].str.contains('Engineer - Tester'),'Role'] = 'Tester'\n",
    "Externalhcl.loc[Externalhcl['Role'].str.contains('Engineer'),'Role'] = 'Engineer'\n",
    "Externalhcl.loc[Externalhcl['Role'].str.contains('Expert'),'Role'] = 'Operations Expert'\n",
    "Externalhcl.loc[Externalhcl['Role'].str.contains('Partner'),'Role'] = 'Delivery Partner'\n",
    "Externalhcl=Externalhcl.groupby(['Role'])['ID'].count().reset_index(name='ExternalHCL')"
   ]
  },
  {
   "cell_type": "code",
   "execution_count": 16,
   "metadata": {
    "collapsed": true
   },
   "outputs": [],
   "source": [
    "InternalINFY = INFY[INFY['Candidate Type']=='Internal Candidate']\n",
    "InternalINFY.loc[InternalINFY['Role'].str.contains('Engineer - Tester'),'Role'] = 'Tester'\n",
    "InternalINFY.loc[InternalINFY['Role'].str.contains('Engineer'),'Role'] = 'Engineer'\n",
    "InternalINFY.loc[InternalINFY['Role'].str.contains('Expert'),'Role'] = 'Operations Expert'\n",
    "InternalINFY.loc[InternalINFY['Role'].str.contains('Partner'),'Role'] = 'Delivery Partner'\n",
    "InternalINFY=InternalINFY.groupby(['Role'])['ID'].count().reset_index(name='InternalINFY')"
   ]
  },
  {
   "cell_type": "code",
   "execution_count": 17,
   "metadata": {
    "collapsed": true
   },
   "outputs": [],
   "source": [
    "ExternalINFY = INFY[INFY['Candidate Type']=='External Candidate']\n",
    "ExternalINFY.loc[ExternalINFY['Role'].str.contains('Engineer - Tester'),'Role'] = 'Tester'\n",
    "ExternalINFY.loc[ExternalINFY['Role'].str.contains('Engineer'),'Role'] = 'Engineer'\n",
    "ExternalINFY.loc[ExternalINFY['Role'].str.contains('Expert'),'Role'] = 'Operations Expert'\n",
    "ExternalINFY.loc[ExternalINFY['Role'].str.contains('Partner'),'Role'] = 'Delivery Partner'\n",
    "ExternalINFY=ExternalINFY.groupby(['Role'])['ID'].count().reset_index(name='ExternalInfy')"
   ]
  },
  {
   "cell_type": "code",
   "execution_count": 18,
   "metadata": {
    "collapsed": true
   },
   "outputs": [],
   "source": [
    "candrole = [ro,rinprg,ronb,rsgn,nshw,Internalhcl,InternalINFY,Externalhcl,ExternalINFY,HCLCandicate,INFYCandicate]"
   ]
  },
  {
   "cell_type": "code",
   "execution_count": 19,
   "metadata": {
    "collapsed": true
   },
   "outputs": [],
   "source": [
    "final=reduce(lambda left,right: pd.merge(left,right,on=['Role'],how='outer'),candrole)"
   ]
  },
  {
   "cell_type": "code",
   "execution_count": 20,
   "metadata": {
    "collapsed": true
   },
   "outputs": [],
   "source": [
    "final[['Roles_Open','OnBoard_InProgress', 'OnBoarded','Resigns','NoShow','InternalHCL','InternalINFY','ExternalHCL','ExternalInfy','TotalINFY','TotalHCL']] = final[['Roles_Open','OnBoard_InProgress', 'OnBoarded','Resigns','NoShow','InternalHCL','InternalINFY','ExternalHCL','ExternalInfy','TotalINFY','TotalHCL']].fillna(0)\n",
    "final[['Roles_Open','OnBoard_InProgress', 'OnBoarded','Resigns','NoShow','InternalHCL','InternalINFY','ExternalHCL','ExternalInfy','TotalINFY','TotalHCL']]=final[['Roles_Open','OnBoard_InProgress', 'OnBoarded','Resigns','NoShow','InternalHCL','InternalINFY','ExternalHCL','ExternalInfy','TotalINFY','TotalHCL']].astype(int)"
   ]
  },
  {
   "cell_type": "code",
   "execution_count": 21,
   "metadata": {
    "collapsed": true
   },
   "outputs": [],
   "source": [
    "final['Internal']= final['InternalHCL']+final['InternalINFY']"
   ]
  },
  {
   "cell_type": "code",
   "execution_count": 22,
   "metadata": {
    "collapsed": true
   },
   "outputs": [],
   "source": [
    "final['External'] = final['ExternalHCL']+final['ExternalInfy']"
   ]
  },
  {
   "cell_type": "code",
   "execution_count": 23,
   "metadata": {
    "collapsed": true
   },
   "outputs": [],
   "source": [
    "final['TotalCandidates'] = final['TotalINFY']+final['TotalHCL']"
   ]
  },
  {
   "cell_type": "code",
   "execution_count": 24,
   "metadata": {
    "collapsed": true
   },
   "outputs": [],
   "source": [
    "final = final[['Role','Roles_Open','OnBoarded','OnBoard_InProgress','Resigns','NoShow','Internal','External','TotalCandidates']]"
   ]
  },
  {
   "cell_type": "code",
   "execution_count": 25,
   "metadata": {},
   "outputs": [
    {
     "data": {
      "text/html": [
       "<div>\n",
       "<style>\n",
       "    .dataframe thead tr:only-child th {\n",
       "        text-align: right;\n",
       "    }\n",
       "\n",
       "    .dataframe thead th {\n",
       "        text-align: left;\n",
       "    }\n",
       "\n",
       "    .dataframe tbody tr th {\n",
       "        vertical-align: top;\n",
       "    }\n",
       "</style>\n",
       "<table border=\"1\" class=\"dataframe\">\n",
       "  <thead>\n",
       "    <tr style=\"text-align: right;\">\n",
       "      <th></th>\n",
       "      <th>Role</th>\n",
       "      <th>Roles_Open</th>\n",
       "      <th>OnBoarded</th>\n",
       "      <th>OnBoard_InProgress</th>\n",
       "      <th>Resigns</th>\n",
       "      <th>NoShow</th>\n",
       "      <th>Internal</th>\n",
       "      <th>External</th>\n",
       "      <th>TotalCandidates</th>\n",
       "    </tr>\n",
       "  </thead>\n",
       "  <tbody>\n",
       "    <tr>\n",
       "      <th>0</th>\n",
       "      <td>Analyst</td>\n",
       "      <td>10</td>\n",
       "      <td>29</td>\n",
       "      <td>4</td>\n",
       "      <td>4</td>\n",
       "      <td>7</td>\n",
       "      <td>20</td>\n",
       "      <td>52</td>\n",
       "      <td>72</td>\n",
       "    </tr>\n",
       "    <tr>\n",
       "      <th>1</th>\n",
       "      <td>Developer</td>\n",
       "      <td>16</td>\n",
       "      <td>0</td>\n",
       "      <td>0</td>\n",
       "      <td>0</td>\n",
       "      <td>0</td>\n",
       "      <td>0</td>\n",
       "      <td>1</td>\n",
       "      <td>1</td>\n",
       "    </tr>\n",
       "    <tr>\n",
       "      <th>2</th>\n",
       "      <td>Engineer</td>\n",
       "      <td>52</td>\n",
       "      <td>73</td>\n",
       "      <td>4</td>\n",
       "      <td>6</td>\n",
       "      <td>13</td>\n",
       "      <td>95</td>\n",
       "      <td>368</td>\n",
       "      <td>463</td>\n",
       "    </tr>\n",
       "    <tr>\n",
       "      <th>3</th>\n",
       "      <td>Release Lead</td>\n",
       "      <td>7</td>\n",
       "      <td>28</td>\n",
       "      <td>0</td>\n",
       "      <td>2</td>\n",
       "      <td>2</td>\n",
       "      <td>8</td>\n",
       "      <td>42</td>\n",
       "      <td>50</td>\n",
       "    </tr>\n",
       "    <tr>\n",
       "      <th>4</th>\n",
       "      <td>Solution Designer</td>\n",
       "      <td>2</td>\n",
       "      <td>2</td>\n",
       "      <td>2</td>\n",
       "      <td>0</td>\n",
       "      <td>1</td>\n",
       "      <td>3</td>\n",
       "      <td>8</td>\n",
       "      <td>11</td>\n",
       "    </tr>\n",
       "    <tr>\n",
       "      <th>5</th>\n",
       "      <td>Test Lead</td>\n",
       "      <td>1</td>\n",
       "      <td>2</td>\n",
       "      <td>0</td>\n",
       "      <td>0</td>\n",
       "      <td>0</td>\n",
       "      <td>2</td>\n",
       "      <td>0</td>\n",
       "      <td>2</td>\n",
       "    </tr>\n",
       "    <tr>\n",
       "      <th>6</th>\n",
       "      <td>Tester</td>\n",
       "      <td>23</td>\n",
       "      <td>14</td>\n",
       "      <td>0</td>\n",
       "      <td>0</td>\n",
       "      <td>8</td>\n",
       "      <td>13</td>\n",
       "      <td>45</td>\n",
       "      <td>58</td>\n",
       "    </tr>\n",
       "    <tr>\n",
       "      <th>7</th>\n",
       "      <td>Transition Manager</td>\n",
       "      <td>1</td>\n",
       "      <td>0</td>\n",
       "      <td>0</td>\n",
       "      <td>0</td>\n",
       "      <td>0</td>\n",
       "      <td>0</td>\n",
       "      <td>0</td>\n",
       "      <td>0</td>\n",
       "    </tr>\n",
       "    <tr>\n",
       "      <th>8</th>\n",
       "      <td>Agile Coach</td>\n",
       "      <td>0</td>\n",
       "      <td>4</td>\n",
       "      <td>1</td>\n",
       "      <td>1</td>\n",
       "      <td>2</td>\n",
       "      <td>4</td>\n",
       "      <td>26</td>\n",
       "      <td>30</td>\n",
       "    </tr>\n",
       "    <tr>\n",
       "      <th>9</th>\n",
       "      <td>Delivery Partner</td>\n",
       "      <td>0</td>\n",
       "      <td>9</td>\n",
       "      <td>1</td>\n",
       "      <td>0</td>\n",
       "      <td>1</td>\n",
       "      <td>0</td>\n",
       "      <td>0</td>\n",
       "      <td>0</td>\n",
       "    </tr>\n",
       "    <tr>\n",
       "      <th>10</th>\n",
       "      <td>SDET - Automation Tester</td>\n",
       "      <td>0</td>\n",
       "      <td>9</td>\n",
       "      <td>6</td>\n",
       "      <td>0</td>\n",
       "      <td>1</td>\n",
       "      <td>0</td>\n",
       "      <td>0</td>\n",
       "      <td>0</td>\n",
       "    </tr>\n",
       "    <tr>\n",
       "      <th>11</th>\n",
       "      <td>Chapter Lead</td>\n",
       "      <td>0</td>\n",
       "      <td>2</td>\n",
       "      <td>0</td>\n",
       "      <td>0</td>\n",
       "      <td>0</td>\n",
       "      <td>0</td>\n",
       "      <td>0</td>\n",
       "      <td>0</td>\n",
       "    </tr>\n",
       "    <tr>\n",
       "      <th>12</th>\n",
       "      <td>Environment Manager</td>\n",
       "      <td>0</td>\n",
       "      <td>2</td>\n",
       "      <td>0</td>\n",
       "      <td>0</td>\n",
       "      <td>0</td>\n",
       "      <td>0</td>\n",
       "      <td>0</td>\n",
       "      <td>0</td>\n",
       "    </tr>\n",
       "    <tr>\n",
       "      <th>13</th>\n",
       "      <td>Operations Expert</td>\n",
       "      <td>0</td>\n",
       "      <td>3</td>\n",
       "      <td>0</td>\n",
       "      <td>0</td>\n",
       "      <td>0</td>\n",
       "      <td>2</td>\n",
       "      <td>2</td>\n",
       "      <td>4</td>\n",
       "    </tr>\n",
       "    <tr>\n",
       "      <th>14</th>\n",
       "      <td>PMO Analyst</td>\n",
       "      <td>0</td>\n",
       "      <td>3</td>\n",
       "      <td>0</td>\n",
       "      <td>0</td>\n",
       "      <td>1</td>\n",
       "      <td>0</td>\n",
       "      <td>0</td>\n",
       "      <td>0</td>\n",
       "    </tr>\n",
       "    <tr>\n",
       "      <th>15</th>\n",
       "      <td>Tech Area Architect</td>\n",
       "      <td>0</td>\n",
       "      <td>5</td>\n",
       "      <td>0</td>\n",
       "      <td>0</td>\n",
       "      <td>0</td>\n",
       "      <td>5</td>\n",
       "      <td>9</td>\n",
       "      <td>14</td>\n",
       "    </tr>\n",
       "  </tbody>\n",
       "</table>\n",
       "</div>"
      ],
      "text/plain": [
       "                        Role  Roles_Open  OnBoarded  OnBoard_InProgress  \\\n",
       "0                    Analyst          10         29                   4   \n",
       "1                  Developer          16          0                   0   \n",
       "2                   Engineer          52         73                   4   \n",
       "3               Release Lead           7         28                   0   \n",
       "4          Solution Designer           2          2                   2   \n",
       "5                  Test Lead           1          2                   0   \n",
       "6                     Tester          23         14                   0   \n",
       "7         Transition Manager           1          0                   0   \n",
       "8                Agile Coach           0          4                   1   \n",
       "9           Delivery Partner           0          9                   1   \n",
       "10  SDET - Automation Tester           0          9                   6   \n",
       "11              Chapter Lead           0          2                   0   \n",
       "12       Environment Manager           0          2                   0   \n",
       "13         Operations Expert           0          3                   0   \n",
       "14               PMO Analyst           0          3                   0   \n",
       "15       Tech Area Architect           0          5                   0   \n",
       "\n",
       "    Resigns  NoShow  Internal  External  TotalCandidates  \n",
       "0         4       7        20        52               72  \n",
       "1         0       0         0         1                1  \n",
       "2         6      13        95       368              463  \n",
       "3         2       2         8        42               50  \n",
       "4         0       1         3         8               11  \n",
       "5         0       0         2         0                2  \n",
       "6         0       8        13        45               58  \n",
       "7         0       0         0         0                0  \n",
       "8         1       2         4        26               30  \n",
       "9         0       1         0         0                0  \n",
       "10        0       1         0         0                0  \n",
       "11        0       0         0         0                0  \n",
       "12        0       0         0         0                0  \n",
       "13        0       0         2         2                4  \n",
       "14        0       1         0         0                0  \n",
       "15        0       0         5         9               14  "
      ]
     },
     "execution_count": 25,
     "metadata": {},
     "output_type": "execute_result"
    }
   ],
   "source": [
    "final"
   ]
  },
  {
   "cell_type": "code",
   "execution_count": 26,
   "metadata": {
    "collapsed": true
   },
   "outputs": [],
   "source": [
    "final.to_csv(r'C:\\NotBackedUp\\SOE\\pyscript\\RoleMetrics.csv',sep=',',index=None)"
   ]
  },
  {
   "cell_type": "code",
   "execution_count": null,
   "metadata": {
    "collapsed": true
   },
   "outputs": [],
   "source": []
  }
 ],
 "metadata": {
  "kernelspec": {
   "display_name": "Python 3",
   "language": "python",
   "name": "python3"
  },
  "language_info": {
   "codemirror_mode": {
    "name": "ipython",
    "version": 3
   },
   "file_extension": ".py",
   "mimetype": "text/x-python",
   "name": "python",
   "nbconvert_exporter": "python",
   "pygments_lexer": "ipython3",
   "version": "3.6.3"
  }
 },
 "nbformat": 4,
 "nbformat_minor": 2
}
