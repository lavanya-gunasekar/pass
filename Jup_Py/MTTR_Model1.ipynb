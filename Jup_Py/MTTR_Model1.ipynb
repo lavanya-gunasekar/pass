{
 "cells": [
  {
   "cell_type": "code",
   "execution_count": 1,
   "metadata": {
    "collapsed": true
   },
   "outputs": [],
   "source": [
    "import pandas as pd\n",
    "import numpy as np\n",
    "import datetime"
   ]
  },
  {
   "cell_type": "code",
   "execution_count": 2,
   "metadata": {
    "collapsed": true
   },
   "outputs": [],
   "source": [
    "today=str(datetime.datetime.today().strftime('%d_%m_%Y'))"
   ]
  },
  {
   "cell_type": "code",
   "execution_count": 3,
   "metadata": {
    "collapsed": true
   },
   "outputs": [],
   "source": [
    "month=str(datetime.datetime.today().strftime('%Y%m'))"
   ]
  },
  {
   "cell_type": "code",
   "execution_count": 4,
   "metadata": {
    "collapsed": true
   },
   "outputs": [],
   "source": [
    "mjr = pd.read_csv(r'C:\\NotBackedUp\\SOE\\source_files\\Major_Incidents\\Mjr_INC_202104.csv')\n",
    "insto_mjr = pd.read_csv(r'C:\\NotBackedUp\\SOE\\source_files\\insto_mjr_inc\\INSTO_mjr_inc_202104.csv')\n",
    "mjr_new = pd.read_csv(r'C:\\NotBackedUp\\SOE\\source_files\\Major_Incidents\\Mjr_INC_202104.csv')\n",
    "domain_map = pd.read_csv(r'C:\\NotBackedUp\\SOE\\source_files\\service_mapping\\model1_mapping.csv')"
   ]
  },
  {
   "cell_type": "code",
   "execution_count": 5,
   "metadata": {
    "collapsed": true
   },
   "outputs": [],
   "source": [
    "##compute mttr for all domain except institution\n",
    "mjr = mjr[((mjr['priority']==1) | (mjr['priority']==2))]\n",
    "mjr = mjr[mjr['major_incident_state']=='accepted']\n",
    "mjr['resolved_at'] = pd.to_datetime(mjr['resolved_at'],format='%Y-%m-%d %H:%M:%S')\n",
    "mjr['created_on'] = pd.to_datetime(mjr['created_on'],format='%Y-%m-%d %H:%M:%S')\n",
    "mjr = mjr[mjr['created_on']>=pd.to_datetime('2019-10-01',format='%Y-%m-%d')]\n",
    "mjr['res_time'] = mjr['resolved_at'] - mjr['created_on']\n",
    "mjr['created_month'] = mjr.created_on.apply(lambda x: x.replace(day=1).date())"
   ]
  },
  {
   "cell_type": "code",
   "execution_count": 6,
   "metadata": {
    "collapsed": true
   },
   "outputs": [],
   "source": [
    "domain_map = domain_map.loc[domain_map.notnull().sum(1).groupby(domain_map.Name).idxmax()]"
   ]
  },
  {
   "cell_type": "code",
   "execution_count": 7,
   "metadata": {
    "collapsed": true
   },
   "outputs": [],
   "source": [
    "mjr['business_service_name'] = mjr['business_service_name'].str.strip('[PROD]')\n",
    "mjr['business_service_name'] = mjr['business_service_name'].str.strip()"
   ]
  },
  {
   "cell_type": "code",
   "execution_count": 8,
   "metadata": {
    "collapsed": true
   },
   "outputs": [],
   "source": [
    "mjr = mjr.merge(domain_map,how='left',left_on=['business_service_name'],right_on=['Name'])\n",
    "mjr = mjr[~(mjr['Domain']=='Institutional')]"
   ]
  },
  {
   "cell_type": "code",
   "execution_count": 9,
   "metadata": {
    "collapsed": true
   },
   "outputs": [],
   "source": [
    "res_time_sum_dm = mjr.groupby(['Domain','business_service_name','created_month'])['res_time'].sum().reset_index(name='sum')"
   ]
  },
  {
   "cell_type": "code",
   "execution_count": 10,
   "metadata": {
    "collapsed": true
   },
   "outputs": [],
   "source": [
    "mjr_incdnt_mix_dm = mjr.groupby(['Domain','business_service_name','created_month'])['number'].size().reset_index(name='count')\n"
   ]
  },
  {
   "cell_type": "code",
   "execution_count": 11,
   "metadata": {
    "collapsed": true
   },
   "outputs": [],
   "source": [
    "mttr_dm = res_time_sum_dm.merge(mjr_incdnt_mix_dm, on=['Domain','business_service_name','created_month'],how='left')\n",
    "mttr_dm['mttr'] = mttr_dm['sum']/mttr_dm['count']\n",
    "mttr_dm['mttr'] = (mttr_dm['mttr'].dt.total_seconds()/3600).round(2)\n",
    "mttr_dm = mttr_dm.drop(['count'],axis=1)"
   ]
  },
  {
   "cell_type": "code",
   "execution_count": 12,
   "metadata": {
    "collapsed": true
   },
   "outputs": [],
   "source": [
    "res_time_sum_dy = mjr.groupby(['Domain','business_service_name'])['res_time'].sum().reset_index(name='sum')\n",
    "mjr_incdnt_mix_dy = mjr.groupby(['Domain','business_service_name'])['number'].size().reset_index(name='count')\n",
    "mttr_dy = res_time_sum_dy.merge(mjr_incdnt_mix_dy, on=['Domain','business_service_name'],how='left')\n",
    "mttr_dy['mttr'] = mttr_dy['sum']/mttr_dy['count']\n",
    "mttr_dy['mttr'] = (mttr_dy['mttr'].dt.total_seconds()/3600).round(2)\n",
    "mttr_dy = mttr_dy.drop(['sum'],axis=1)"
   ]
  },
  {
   "cell_type": "code",
   "execution_count": 13,
   "metadata": {
    "collapsed": true
   },
   "outputs": [],
   "source": [
    "res_time_sum_am = mjr.groupby(['created_month'])['res_time'].sum().reset_index(name='sum')\n",
    "mjr_incdnt_mix_am = mjr.groupby(['created_month'])['number'].size().reset_index(name='count')\n",
    "mttr_am = res_time_sum_am.merge(mjr_incdnt_mix_am, on=['created_month'],how='left')"
   ]
  },
  {
   "cell_type": "code",
   "execution_count": 14,
   "metadata": {
    "collapsed": true
   },
   "outputs": [],
   "source": [
    "mjr_new = mjr_new.drop(['priority'],axis=1)"
   ]
  },
  {
   "cell_type": "code",
   "execution_count": 15,
   "metadata": {
    "collapsed": true
   },
   "outputs": [],
   "source": [
    "mjr_new['business_service_name'] = mjr_new['business_service_name'].str.strip('[PROD]')\n",
    "mjr_new['business_service_name'] = mjr_new['business_service_name'].str.strip()"
   ]
  },
  {
   "cell_type": "code",
   "execution_count": 16,
   "metadata": {
    "collapsed": true
   },
   "outputs": [],
   "source": [
    "insto_mjr = insto_mjr[(insto_mjr['sgm_service_group']=='Asia, Europe, America') | (insto_mjr['sgm_service_group']=='Institutional')]\n",
    "insto_mjr['cio_begin'] = pd.to_datetime(insto_mjr['cio_begin'],format='%Y-%m-%d %H:%M:%S')\n",
    "insto_mjr['cio_end'] = pd.to_datetime(insto_mjr['cio_end'],format='%Y-%m-%d %H:%M:%S')\n"
   ]
  },
  {
   "cell_type": "code",
   "execution_count": 17,
   "metadata": {
    "collapsed": true
   },
   "outputs": [],
   "source": [
    "domain_map = domain_map.loc[domain_map.notnull().sum(1).groupby(domain_map.Name).idxmax()]\n",
    "mjr_new = mjr_new.merge(domain_map,how='left',left_on=['business_service_name'],right_on=['Name'])"
   ]
  },
  {
   "cell_type": "code",
   "execution_count": 18,
   "metadata": {
    "collapsed": true
   },
   "outputs": [],
   "source": [
    "#insto_mjr['Domain'] = 'Institutional'\n",
    "insto_mjr['res_time'] = insto_mjr['cio_end'] - insto_mjr['cio_begin']"
   ]
  },
  {
   "cell_type": "code",
   "execution_count": 19,
   "metadata": {
    "collapsed": true
   },
   "outputs": [],
   "source": [
    "insto_mjr = insto_mjr.merge(mjr_new,how='left',left_on=['cio_task_number'],right_on=['number'])\n",
    "insto_mjr = insto_mjr[(insto_mjr['major_incident_state']=='accepted') | (insto_mjr['major_incident_state']=='canceled')]\n",
    "insto_mjr = insto_mjr[((insto_mjr['priority']==1) | (insto_mjr['priority']==2))]\n",
    "insto_mjr = insto_mjr.sort_values(['cio_task_number','res_time'],ascending=False)\n",
    "insto_mjr = insto_mjr.drop_duplicates(subset=['cio_task_number'],keep='first')\n",
    "insto_mjr = insto_mjr[insto_mjr['cio_begin']>=pd.to_datetime('2019-10-01',format='%Y-%m-%d')]\n",
    "insto_mjr['created_month'] = insto_mjr.cio_begin.apply(lambda x: x.replace(day=1).date())"
   ]
  },
  {
   "cell_type": "code",
   "execution_count": 20,
   "metadata": {
    "collapsed": true
   },
   "outputs": [],
   "source": [
    "res_time_sum_dm = insto_mjr.groupby(['Domain','business_service_name','created_month'])['res_time'].sum().reset_index(name='sum')\n",
    "mjr_incdnt_mix_dm = insto_mjr.groupby(['Domain','business_service_name','created_month'])['cio_task_number'].size().reset_index(name='count')\n",
    "insto_mttr_dm = res_time_sum_dm.merge(mjr_incdnt_mix_dm, on=['Domain','business_service_name','created_month'],how='left')\n",
    "insto_mttr_dm['mttr'] = insto_mttr_dm['sum']/insto_mttr_dm['count']\n",
    "insto_mttr_dm['mttr'] = (insto_mttr_dm['mttr'].dt.total_seconds()/3600).round(2)\n",
    "insto_mttr_dm = insto_mttr_dm.drop(['sum'],axis=1)"
   ]
  },
  {
   "cell_type": "code",
   "execution_count": 21,
   "metadata": {
    "collapsed": true
   },
   "outputs": [],
   "source": [
    "res_time_sum_dy = insto_mjr.groupby(['Domain','business_service_name'])['res_time'].sum().reset_index(name='sum')\n",
    "mjr_incdnt_mix_dy = insto_mjr.groupby(['Domain','business_service_name'])['cio_task_number'].size().reset_index(name='count')\n",
    "insto_mttr_dy = res_time_sum_dy.merge(mjr_incdnt_mix_dy, on=['Domain','business_service_name'],how='left')\n",
    "insto_mttr_dy['mttr'] = insto_mttr_dy['sum']/insto_mttr_dy['count']\n",
    "insto_mttr_dy['mttr'] = (insto_mttr_dy['mttr'].dt.total_seconds()/3600).round(2)\n",
    "insto_mttr_dy = insto_mttr_dy.drop(['sum'],axis=1)"
   ]
  },
  {
   "cell_type": "code",
   "execution_count": 22,
   "metadata": {
    "collapsed": true
   },
   "outputs": [],
   "source": [
    "insto_res_time_sum_am = insto_mjr.groupby(['created_month'])['res_time'].sum().reset_index(name='sum')\n",
    "insto_mjr_incdnt_mix_am = insto_mjr.groupby(['created_month'])['cio_task_number'].size().reset_index(name='count')\n",
    "insto_mttr_am = insto_res_time_sum_am.merge(insto_mjr_incdnt_mix_am, on=['created_month'],how='left')"
   ]
  },
  {
   "cell_type": "code",
   "execution_count": 23,
   "metadata": {
    "collapsed": true
   },
   "outputs": [],
   "source": [
    "res_time_sum_ay = mjr['res_time'].sum() + insto_mjr['res_time'].sum()\n",
    "mjr_incdnt_mix_ay = len(mjr['number']) + len(insto_mjr['cio_task_number'])\n",
    "mttr_ay = res_time_sum_ay/mjr_incdnt_mix_ay\n",
    "mttr_ay = round((mttr_ay.total_seconds()/3600),2)\n",
    "mttr_ay = pd.DataFrame(data={'Domain':['ANZ Overall'],'mttr':[mttr_ay]})"
   ]
  },
  {
   "cell_type": "code",
   "execution_count": 24,
   "metadata": {
    "collapsed": true
   },
   "outputs": [],
   "source": [
    "mttr_y = mttr_ay.append(mttr_dy).append(insto_mttr_dy)\n",
    "mttr_y['DataLoadTimestamp'] = pd.datetime.now().strftime('%Y-%m-%d %H:%M:%S')"
   ]
  },
  {
   "cell_type": "code",
   "execution_count": 25,
   "metadata": {
    "collapsed": true
   },
   "outputs": [],
   "source": [
    "mttr_m = mttr_am.merge(insto_mttr_am,on=['created_month'],how='outer')\n",
    "mttr_m['sum'] = mttr_m['sum_x'] + mttr_m['sum_y']\n",
    "mttr_m['count'] = mttr_m['count_x'] + mttr_m['count_y']\n",
    "mttr_m['mttr'] = mttr_m['sum']/mttr_m['count']\n",
    "mttr_m['mttr'] = (mttr_m['mttr'].dt.total_seconds()/3600).round(2)\n",
    "mttr_m['Domain'] = 'ANZ Overall'\n",
    "mttr_m = mttr_m[['Domain','created_month','count','mttr']]\n",
    "mttr_m = mttr_m.append(mttr_dm).append(insto_mttr_dm)\n",
    "mttr_m['DataLoadTimestamp'] = pd.datetime.now().strftime('%Y-%m-%d %H:%M:%S')"
   ]
  },
  {
   "cell_type": "code",
   "execution_count": 26,
   "metadata": {
    "collapsed": true
   },
   "outputs": [],
   "source": [
    "mttr_m = mttr_m[~(mttr_m['Domain']=='ANZ Overall')]\n",
    "mttr_y = mttr_y[~(mttr_y['Domain']=='ANZ Overall')]"
   ]
  },
  {
   "cell_type": "code",
   "execution_count": 27,
   "metadata": {
    "collapsed": true
   },
   "outputs": [],
   "source": [
    "mttr_m = mttr_m[['Domain','business_service_name','created_month','count','mttr']]"
   ]
  },
  {
   "cell_type": "code",
   "execution_count": 28,
   "metadata": {
    "collapsed": true
   },
   "outputs": [],
   "source": [
    "mttr_y = mttr_y[['Domain','business_service_name','count','mttr']]"
   ]
  },
  {
   "cell_type": "code",
   "execution_count": 29,
   "metadata": {
    "collapsed": true
   },
   "outputs": [],
   "source": [
    "mttr_y['count'] = mttr_y['count'].fillna(1)\n",
    "mttr_m['count'] = mttr_m['count'].fillna(1)\n",
    "mttr_y['count'] = mttr_y['count'].astype(int)\n",
    "mttr_m['count'] = mttr_m['count'].astype(int)"
   ]
  },
  {
   "cell_type": "code",
   "execution_count": 30,
   "metadata": {
    "collapsed": true
   },
   "outputs": [],
   "source": [
    "mttr_y.to_csv(r'C:\\NotBackedUp\\SOE\\Model1\\CSV\\mttr_yearly_'+today+'.csv',index=None)"
   ]
  },
  {
   "cell_type": "code",
   "execution_count": 31,
   "metadata": {
    "collapsed": true
   },
   "outputs": [],
   "source": [
    "mttr_m.to_csv(r'C:\\NotBackedUp\\SOE\\Model1\\CSV\\mttr_monthly_'+today+'.csv',index=None)"
   ]
  }
 ],
 "metadata": {
  "kernelspec": {
   "display_name": "Python 3",
   "language": "python",
   "name": "python3"
  },
  "language_info": {
   "codemirror_mode": {
    "name": "ipython",
    "version": 3
   },
   "file_extension": ".py",
   "mimetype": "text/x-python",
   "name": "python",
   "nbconvert_exporter": "python",
   "pygments_lexer": "ipython3",
   "version": "3.6.3"
  }
 },
 "nbformat": 4,
 "nbformat_minor": 2
}
