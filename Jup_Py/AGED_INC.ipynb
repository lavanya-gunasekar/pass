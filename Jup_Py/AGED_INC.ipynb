{
 "cells": [
  {
   "cell_type": "code",
   "execution_count": 1,
   "metadata": {
    "collapsed": true
   },
   "outputs": [],
   "source": [
    "import glob\n",
    "import pandas as pd\n",
    "import warnings\n",
    "warnings.filterwarnings(\"ignore\") \n",
    "import datetime\n",
    "from datetime import date, timedelta\n",
    "from dateutil.relativedelta import relativedelta"
   ]
  },
  {
   "cell_type": "code",
   "execution_count": 2,
   "metadata": {
    "collapsed": true
   },
   "outputs": [],
   "source": [
    "today=str(datetime.datetime.today().strftime('%d_%m_%Y'))"
   ]
  },
  {
   "cell_type": "code",
   "execution_count": 3,
   "metadata": {
    "collapsed": true
   },
   "outputs": [],
   "source": [
    "INC = pd.read_excel(r'C:\\NotBackedUp\\SOE\\source_files\\INC\\incident.xlsx')\n",
    "model1map = pd.read_csv(r'C:\\NotBackedUp\\SOE\\source_files\\service_mapping\\model1_mapping.csv')\n",
    "siam_map = pd.read_csv(r'C:\\NotBackedUp\\SOE\\source_files\\service_mapping\\SIAM_ServiceMapping.csv')"
   ]
  },
  {
   "cell_type": "code",
   "execution_count": 4,
   "metadata": {
    "collapsed": true
   },
   "outputs": [],
   "source": [
    "INC = INC.rename(columns={'Name':'business_service_name'})"
   ]
  },
  {
   "cell_type": "code",
   "execution_count": 5,
   "metadata": {},
   "outputs": [],
   "source": [
    "INC['business_service_name'] = INC['business_service_name'].str.strip('[PROD]')\n",
    "INC['business_service_name'] = INC['business_service_name'].str.strip()"
   ]
  },
  {
   "cell_type": "code",
   "execution_count": 6,
   "metadata": {},
   "outputs": [],
   "source": [
    "days_before = (date.today()-timedelta(days=30))"
   ]
  },
  {
   "cell_type": "code",
   "execution_count": 7,
   "metadata": {},
   "outputs": [],
   "source": [
    "INC['Opened'] = INC['Opened'].fillna(0)\n",
    "INC['Opened'] = pd.to_datetime(INC['Opened'],format='%Y-%m-%d')\n",
    "INC['Opened'] = INC['Opened'].apply(lambda x: x.strftime('%Y-%m-%d'))\n",
    "INC['Opened']= pd.to_datetime(INC['Opened'],format='%Y-%m-%d')"
   ]
  },
  {
   "cell_type": "code",
   "execution_count": 8,
   "metadata": {
    "collapsed": true
   },
   "outputs": [],
   "source": [
    "INC['Created'] = INC['Created'].fillna(0)\n",
    "INC['Created'] = pd.to_datetime(INC['Created'],format='%Y-%m-%d')\n",
    "INC['Created'] = INC['Created'].apply(lambda x: x.strftime('%Y-%m-%d'))\n",
    "INC['Created']= pd.to_datetime(INC['Created'],format='%Y-%m-%d')"
   ]
  },
  {
   "cell_type": "code",
   "execution_count": 9,
   "metadata": {
    "collapsed": true
   },
   "outputs": [],
   "source": [
    "INC = INC[['Number','Created','State','business_service_name','Opened','Priority','Severity']]"
   ]
  },
  {
   "cell_type": "code",
   "execution_count": 10,
   "metadata": {
    "collapsed": true
   },
   "outputs": [],
   "source": [
    "INC=INC[(INC['State'].isin(['New','In Progress','On Hold']))]"
   ]
  },
  {
   "cell_type": "code",
   "execution_count": 11,
   "metadata": {
    "collapsed": true
   },
   "outputs": [],
   "source": [
    "INC['Days'] = INC['Opened'] - INC['Created']"
   ]
  },
  {
   "cell_type": "code",
   "execution_count": 12,
   "metadata": {},
   "outputs": [],
   "source": [
    "Model1AGEINC = INC.merge(model1map,how='left',left_on=['business_service_name'],right_on=['Name'])\n",
    "SIAMAGEINC = INC.merge(siam_map,how='left',left_on=['business_service_name'],right_on=['Name'])"
   ]
  },
  {
   "cell_type": "code",
   "execution_count": 13,
   "metadata": {},
   "outputs": [],
   "source": [
    "Model1AGEINC = Model1AGEINC[['Domain','Tribe_TechArea','Number','Created','State','business_service_name','Opened','Priority','Severity','Days','Name']]\n",
    "SIAMAGEINC = SIAMAGEINC[['Domain','Tribe_TechArea','Number','Created','State','business_service_name','Opened','Priority','Severity','Days','Name']]"
   ]
  },
  {
   "cell_type": "code",
   "execution_count": 14,
   "metadata": {},
   "outputs": [],
   "source": [
    "Model1AGEINC['Name'] = Model1AGEINC['Name'].fillna(0)\n",
    "SIAMAGEINC['Name'] = SIAMAGEINC['Name'].fillna(0)"
   ]
  },
  {
   "cell_type": "code",
   "execution_count": 15,
   "metadata": {
    "collapsed": true
   },
   "outputs": [],
   "source": [
    "Model1AGEINC = Model1AGEINC[Model1AGEINC['Name'] != 0]\n",
    "SIAMAGEINC = SIAMAGEINC[SIAMAGEINC['Name'] != 0]"
   ]
  },
  {
   "cell_type": "code",
   "execution_count": 16,
   "metadata": {
    "collapsed": true
   },
   "outputs": [],
   "source": [
    "Model1AGEINC=Model1AGEINC[(Model1AGEINC['Days']=='30 days')]\n",
    "SIAMAGEINC=SIAMAGEINC[(SIAMAGEINC['Days']=='30 days')]"
   ]
  },
  {
   "cell_type": "code",
   "execution_count": 18,
   "metadata": {
    "collapsed": true
   },
   "outputs": [],
   "source": [
    "SIAMAGEINC.to_csv(r'C:\\NotBackedUp\\SOE\\SIAM\\CSV\\AGED_INC_'+today+'.csv',index=None)\n",
    "Model1AGEINC.to_csv(r'C:\\NotBackedUp\\SOE\\Model1\\CSV\\AGED_INC_'+today+'.csv',index=None)"
   ]
  },
  {
   "cell_type": "code",
   "execution_count": null,
   "metadata": {
    "collapsed": true
   },
   "outputs": [],
   "source": []
  }
 ],
 "metadata": {
  "kernelspec": {
   "display_name": "Python 3",
   "language": "python",
   "name": "python3"
  },
  "language_info": {
   "codemirror_mode": {
    "name": "ipython",
    "version": 3
   },
   "file_extension": ".py",
   "mimetype": "text/x-python",
   "name": "python",
   "nbconvert_exporter": "python",
   "pygments_lexer": "ipython3",
   "version": "3.6.3"
  }
 },
 "nbformat": 4,
 "nbformat_minor": 2
}
