{
 "cells": [
  {
   "cell_type": "code",
   "execution_count": 1,
   "metadata": {
    "collapsed": true
   },
   "outputs": [],
   "source": [
    "import glob\n",
    "import pandas as pd\n",
    "import warnings\n",
    "warnings.filterwarnings(\"ignore\") \n",
    "import datetime"
   ]
  },
  {
   "cell_type": "code",
   "execution_count": 2,
   "metadata": {
    "collapsed": true
   },
   "outputs": [],
   "source": [
    "today=str(datetime.datetime.today().strftime('%d_%m_%Y'))"
   ]
  },
  {
   "cell_type": "code",
   "execution_count": 3,
   "metadata": {
    "collapsed": true
   },
   "outputs": [],
   "source": [
    "incident_sla = pd.read_excel(r'C:\\NotBackedUp\\SOE\\source_files\\INC_SLA\\incident_sla.xlsx')"
   ]
  },
  {
   "cell_type": "code",
   "execution_count": 4,
   "metadata": {
    "collapsed": true
   },
   "outputs": [],
   "source": [
    "domain_map = pd.read_csv(r'C:\\NotBackedUp\\SOE\\source_files\\service_mapping\\SIAM_ServiceMapping.csv')\n",
    "model1_maping = pd.read_csv(r'C:\\NotBackedUp\\SOE\\source_files\\service_mapping\\model1_mapping.csv')\n",
    "domain_map = domain_map.loc[domain_map.notnull().sum(1).groupby(domain_map.Name).idxmax()]\n",
    "model1_maping = model1_maping.loc[model1_maping.notnull().sum(1).groupby(model1_maping.Name).idxmax()]"
   ]
  },
  {
   "cell_type": "code",
   "execution_count": 5,
   "metadata": {},
   "outputs": [
    {
     "data": {
      "text/plain": [
       "['Number',\n",
       " 'Category',\n",
       " 'SLA definition',\n",
       " 'Stage',\n",
       " 'Name',\n",
       " 'Created',\n",
       " 'Domain',\n",
       " 'Has breached',\n",
       " 'SLA due',\n",
       " 'Severity']"
      ]
     },
     "execution_count": 5,
     "metadata": {},
     "output_type": "execute_result"
    }
   ],
   "source": [
    "list(incident_sla)"
   ]
  },
  {
   "cell_type": "code",
   "execution_count": 6,
   "metadata": {
    "collapsed": true
   },
   "outputs": [],
   "source": [
    "incident_sla = incident_sla.rename(columns={'Name':'business_service_name'})"
   ]
  },
  {
   "cell_type": "code",
   "execution_count": 7,
   "metadata": {
    "collapsed": true
   },
   "outputs": [],
   "source": [
    "incident_sla = incident_sla[['Number','business_service_name','Has breached']]"
   ]
  },
  {
   "cell_type": "code",
   "execution_count": 8,
   "metadata": {
    "collapsed": true
   },
   "outputs": [],
   "source": [
    "incident_sla = incident_sla.rename(columns={'Has breached':'Hasbreached'})"
   ]
  },
  {
   "cell_type": "code",
   "execution_count": 9,
   "metadata": {
    "collapsed": true
   },
   "outputs": [],
   "source": [
    "BI = incident_sla[(incident_sla['Hasbreached']== True)]"
   ]
  },
  {
   "cell_type": "code",
   "execution_count": 10,
   "metadata": {
    "collapsed": true
   },
   "outputs": [],
   "source": [
    "BI['business_service_name'] = BI['business_service_name'].str.strip('[PROD]')\n",
    "BI['business_service_name'] = BI['business_service_name'].str.strip()"
   ]
  },
  {
   "cell_type": "code",
   "execution_count": 11,
   "metadata": {
    "collapsed": true
   },
   "outputs": [],
   "source": [
    "BI = BI.groupby(['business_service_name'])['Number'].count().reset_index(name='noInBreached')"
   ]
  },
  {
   "cell_type": "code",
   "execution_count": 12,
   "metadata": {},
   "outputs": [
    {
     "data": {
      "text/html": [
       "<div>\n",
       "<style>\n",
       "    .dataframe thead tr:only-child th {\n",
       "        text-align: right;\n",
       "    }\n",
       "\n",
       "    .dataframe thead th {\n",
       "        text-align: left;\n",
       "    }\n",
       "\n",
       "    .dataframe tbody tr th {\n",
       "        vertical-align: top;\n",
       "    }\n",
       "</style>\n",
       "<table border=\"1\" class=\"dataframe\">\n",
       "  <thead>\n",
       "    <tr style=\"text-align: right;\">\n",
       "      <th></th>\n",
       "      <th>business_service_name</th>\n",
       "      <th>noInBreached</th>\n",
       "    </tr>\n",
       "  </thead>\n",
       "  <tbody>\n",
       "    <tr>\n",
       "      <th>0</th>\n",
       "      <td>ABS Suite</td>\n",
       "      <td>1</td>\n",
       "    </tr>\n",
       "    <tr>\n",
       "      <th>1</th>\n",
       "      <td>AD-LDS (Active Directory Lightweight Directory...</td>\n",
       "      <td>2</td>\n",
       "    </tr>\n",
       "    <tr>\n",
       "      <th>2</th>\n",
       "      <td>AI Machine Learning</td>\n",
       "      <td>1</td>\n",
       "    </tr>\n",
       "    <tr>\n",
       "      <th>3</th>\n",
       "      <td>AI Retail OFI Bank Statements</td>\n",
       "      <td>1</td>\n",
       "    </tr>\n",
       "    <tr>\n",
       "      <th>4</th>\n",
       "      <td>AI Trade Bank Guarantee</td>\n",
       "      <td>6</td>\n",
       "    </tr>\n",
       "    <tr>\n",
       "      <th>5</th>\n",
       "      <td>AML NetReveal - Global</td>\n",
       "      <td>19</td>\n",
       "    </tr>\n",
       "    <tr>\n",
       "      <th>6</th>\n",
       "      <td>AML/CTF Management - Global</td>\n",
       "      <td>2</td>\n",
       "    </tr>\n",
       "    <tr>\n",
       "      <th>7</th>\n",
       "      <td>ANZ App - AU</td>\n",
       "      <td>19</td>\n",
       "    </tr>\n",
       "    <tr>\n",
       "      <th>8</th>\n",
       "      <td>ANZ App application Build Service</td>\n",
       "      <td>2</td>\n",
       "    </tr>\n",
       "    <tr>\n",
       "      <th>9</th>\n",
       "      <td>ANZ Commissions Platform [Ext]</td>\n",
       "      <td>11</td>\n",
       "    </tr>\n",
       "    <tr>\n",
       "      <th>10</th>\n",
       "      <td>ANZ Desktop Automation Process Tool (ADAPT)</td>\n",
       "      <td>23</td>\n",
       "    </tr>\n",
       "    <tr>\n",
       "      <th>11</th>\n",
       "      <td>ANZ Foreign Exchange Liquidity Engine (AXLE) - AU</td>\n",
       "      <td>2</td>\n",
       "    </tr>\n",
       "    <tr>\n",
       "      <th>12</th>\n",
       "      <td>ANZ Foreign Exchange Liquidity Engine (AXLE) - GB</td>\n",
       "      <td>1</td>\n",
       "    </tr>\n",
       "    <tr>\n",
       "      <th>13</th>\n",
       "      <td>ANZ Java Deployment Ruleset</td>\n",
       "      <td>1</td>\n",
       "    </tr>\n",
       "    <tr>\n",
       "      <th>14</th>\n",
       "      <td>ANZ Mobile App (iOS) - AU [Mobile]</td>\n",
       "      <td>1</td>\n",
       "    </tr>\n",
       "    <tr>\n",
       "      <th>15</th>\n",
       "      <td>ANZ Share Investing</td>\n",
       "      <td>53</td>\n",
       "    </tr>\n",
       "    <tr>\n",
       "      <th>16</th>\n",
       "      <td>ANZ Share Investing Mobile - AU</td>\n",
       "      <td>1</td>\n",
       "    </tr>\n",
       "    <tr>\n",
       "      <th>17</th>\n",
       "      <td>ANZ Transactive - Trans Tasman</td>\n",
       "      <td>3</td>\n",
       "    </tr>\n",
       "    <tr>\n",
       "      <th>18</th>\n",
       "      <td>ANZ Transactive Cash Asia</td>\n",
       "      <td>1</td>\n",
       "    </tr>\n",
       "    <tr>\n",
       "      <th>19</th>\n",
       "      <td>ANZ Transactive Global - Core Platform</td>\n",
       "      <td>4</td>\n",
       "    </tr>\n",
       "    <tr>\n",
       "      <th>20</th>\n",
       "      <td>ANZ Transactive Global - OPEE (Global)</td>\n",
       "      <td>7</td>\n",
       "    </tr>\n",
       "    <tr>\n",
       "      <th>21</th>\n",
       "      <td>ANZ eVerify [EXT]</td>\n",
       "      <td>2</td>\n",
       "    </tr>\n",
       "    <tr>\n",
       "      <th>22</th>\n",
       "      <td>ANZ iBahn - File Transfer Gateway</td>\n",
       "      <td>2</td>\n",
       "    </tr>\n",
       "    <tr>\n",
       "      <th>23</th>\n",
       "      <td>ANZBuy - NZ [Ext]</td>\n",
       "      <td>1</td>\n",
       "    </tr>\n",
       "    <tr>\n",
       "      <th>24</th>\n",
       "      <td>ANZx fabric - channel banking services</td>\n",
       "      <td>1</td>\n",
       "    </tr>\n",
       "    <tr>\n",
       "      <th>25</th>\n",
       "      <td>ATM Distributor - FJ</td>\n",
       "      <td>2</td>\n",
       "    </tr>\n",
       "    <tr>\n",
       "      <th>26</th>\n",
       "      <td>ATM Distributor - Switching - Hub</td>\n",
       "      <td>1</td>\n",
       "    </tr>\n",
       "    <tr>\n",
       "      <th>27</th>\n",
       "      <td>AU CSP - Party Service [API]</td>\n",
       "      <td>2</td>\n",
       "    </tr>\n",
       "    <tr>\n",
       "      <th>28</th>\n",
       "      <td>AVAYA Contact Centre Telephony - VN</td>\n",
       "      <td>2</td>\n",
       "    </tr>\n",
       "    <tr>\n",
       "      <th>29</th>\n",
       "      <td>AYplus - AU</td>\n",
       "      <td>2</td>\n",
       "    </tr>\n",
       "    <tr>\n",
       "      <th>...</th>\n",
       "      <td>...</td>\n",
       "      <td>...</td>\n",
       "    </tr>\n",
       "    <tr>\n",
       "      <th>526</th>\n",
       "      <td>nline Application - Personal Loans - AU</td>\n",
       "      <td>2</td>\n",
       "    </tr>\n",
       "    <tr>\n",
       "      <th>527</th>\n",
       "      <td>nline Application - Savings - AU</td>\n",
       "      <td>1</td>\n",
       "    </tr>\n",
       "    <tr>\n",
       "      <th>528</th>\n",
       "      <td>nline Business Lending (OBL)</td>\n",
       "      <td>2</td>\n",
       "    </tr>\n",
       "    <tr>\n",
       "      <th>529</th>\n",
       "      <td>nline Customer Profile (OCP)</td>\n",
       "      <td>1</td>\n",
       "    </tr>\n",
       "    <tr>\n",
       "      <th>530</th>\n",
       "      <td>ocument Archive (COLD) - NZ [Ext]</td>\n",
       "      <td>1</td>\n",
       "    </tr>\n",
       "    <tr>\n",
       "      <th>531</th>\n",
       "      <td>omestic International Payments Application (DIPA)</td>\n",
       "      <td>5</td>\n",
       "    </tr>\n",
       "    <tr>\n",
       "      <th>532</th>\n",
       "      <td>omestic Payments and Reconciliation Service (D...</td>\n",
       "      <td>1</td>\n",
       "    </tr>\n",
       "    <tr>\n",
       "      <th>533</th>\n",
       "      <td>onepath.com.au</td>\n",
       "      <td>1</td>\n",
       "    </tr>\n",
       "    <tr>\n",
       "      <th>534</th>\n",
       "      <td>owercurve Collection (AU)</td>\n",
       "      <td>8</td>\n",
       "    </tr>\n",
       "    <tr>\n",
       "      <th>535</th>\n",
       "      <td>pen Banking Platform</td>\n",
       "      <td>1</td>\n",
       "    </tr>\n",
       "    <tr>\n",
       "      <th>536</th>\n",
       "      <td>penShift_Platform - AU [Service]</td>\n",
       "      <td>14</td>\n",
       "    </tr>\n",
       "    <tr>\n",
       "      <th>537</th>\n",
       "      <td>perations Markets - J</td>\n",
       "      <td>3</td>\n",
       "    </tr>\n",
       "    <tr>\n",
       "      <th>538</th>\n",
       "      <td>ptus ATE (Automated Ticket Exchange)</td>\n",
       "      <td>2</td>\n",
       "    </tr>\n",
       "    <tr>\n",
       "      <th>539</th>\n",
       "      <td>racle Business Intelligence Enterprise Edition...</td>\n",
       "      <td>22</td>\n",
       "    </tr>\n",
       "    <tr>\n",
       "      <th>540</th>\n",
       "      <td>racle Database Support</td>\n",
       "      <td>21</td>\n",
       "    </tr>\n",
       "    <tr>\n",
       "      <th>541</th>\n",
       "      <td>racle Financial Services Analytical Applicatio...</td>\n",
       "      <td>1</td>\n",
       "    </tr>\n",
       "    <tr>\n",
       "      <th>542</th>\n",
       "      <td>rime (OFAC Reporter)</td>\n",
       "      <td>2</td>\n",
       "    </tr>\n",
       "    <tr>\n",
       "      <th>543</th>\n",
       "      <td>rint Service - NZ</td>\n",
       "      <td>1</td>\n",
       "    </tr>\n",
       "    <tr>\n",
       "      <th>544</th>\n",
       "      <td>rinting - AU</td>\n",
       "      <td>8</td>\n",
       "    </tr>\n",
       "    <tr>\n",
       "      <th>545</th>\n",
       "      <td>rivate Banking Advent Portfolio Exchange (APX)...</td>\n",
       "      <td>1</td>\n",
       "    </tr>\n",
       "    <tr>\n",
       "      <th>546</th>\n",
       "      <td>rivileged Access Management - CyberArk</td>\n",
       "      <td>1</td>\n",
       "    </tr>\n",
       "    <tr>\n",
       "      <th>547</th>\n",
       "      <td>roactive Risk Manager (PRM) - NZ</td>\n",
       "      <td>4</td>\n",
       "    </tr>\n",
       "    <tr>\n",
       "      <th>548</th>\n",
       "      <td>rophet</td>\n",
       "      <td>1</td>\n",
       "    </tr>\n",
       "    <tr>\n",
       "      <th>549</th>\n",
       "      <td>shareinvestingapp.anz.com [EXT]</td>\n",
       "      <td>1</td>\n",
       "    </tr>\n",
       "    <tr>\n",
       "      <th>550</th>\n",
       "      <td>uDeploy Platform</td>\n",
       "      <td>2</td>\n",
       "    </tr>\n",
       "    <tr>\n",
       "      <th>551</th>\n",
       "      <td>ur Way of Learning [EXT]</td>\n",
       "      <td>18</td>\n",
       "    </tr>\n",
       "    <tr>\n",
       "      <th>552</th>\n",
       "      <td>vMware</td>\n",
       "      <td>7</td>\n",
       "    </tr>\n",
       "    <tr>\n",
       "      <th>553</th>\n",
       "      <td>ver the Counter Derivatives Reform (OTC) Recor...</td>\n",
       "      <td>5</td>\n",
       "    </tr>\n",
       "    <tr>\n",
       "      <th>554</th>\n",
       "      <td>ver the Counter Derivatives Reform (OTC) Repor...</td>\n",
       "      <td>6</td>\n",
       "    </tr>\n",
       "    <tr>\n",
       "      <th>555</th>\n",
       "      <td>xPression - AU</td>\n",
       "      <td>7</td>\n",
       "    </tr>\n",
       "  </tbody>\n",
       "</table>\n",
       "<p>556 rows × 2 columns</p>\n",
       "</div>"
      ],
      "text/plain": [
       "                                 business_service_name  noInBreached\n",
       "0                                            ABS Suite             1\n",
       "1    AD-LDS (Active Directory Lightweight Directory...             2\n",
       "2                                  AI Machine Learning             1\n",
       "3                        AI Retail OFI Bank Statements             1\n",
       "4                              AI Trade Bank Guarantee             6\n",
       "5                               AML NetReveal - Global            19\n",
       "6                          AML/CTF Management - Global             2\n",
       "7                                         ANZ App - AU            19\n",
       "8                    ANZ App application Build Service             2\n",
       "9                       ANZ Commissions Platform [Ext]            11\n",
       "10         ANZ Desktop Automation Process Tool (ADAPT)            23\n",
       "11   ANZ Foreign Exchange Liquidity Engine (AXLE) - AU             2\n",
       "12   ANZ Foreign Exchange Liquidity Engine (AXLE) - GB             1\n",
       "13                         ANZ Java Deployment Ruleset             1\n",
       "14                  ANZ Mobile App (iOS) - AU [Mobile]             1\n",
       "15                                 ANZ Share Investing            53\n",
       "16                     ANZ Share Investing Mobile - AU             1\n",
       "17                      ANZ Transactive - Trans Tasman             3\n",
       "18                           ANZ Transactive Cash Asia             1\n",
       "19              ANZ Transactive Global - Core Platform             4\n",
       "20              ANZ Transactive Global - OPEE (Global)             7\n",
       "21                                   ANZ eVerify [EXT]             2\n",
       "22                   ANZ iBahn - File Transfer Gateway             2\n",
       "23                                   ANZBuy - NZ [Ext]             1\n",
       "24              ANZx fabric - channel banking services             1\n",
       "25                                ATM Distributor - FJ             2\n",
       "26                   ATM Distributor - Switching - Hub             1\n",
       "27                        AU CSP - Party Service [API]             2\n",
       "28                 AVAYA Contact Centre Telephony - VN             2\n",
       "29                                         AYplus - AU             2\n",
       "..                                                 ...           ...\n",
       "526            nline Application - Personal Loans - AU             2\n",
       "527                   nline Application - Savings - AU             1\n",
       "528                       nline Business Lending (OBL)             2\n",
       "529                       nline Customer Profile (OCP)             1\n",
       "530                  ocument Archive (COLD) - NZ [Ext]             1\n",
       "531  omestic International Payments Application (DIPA)             5\n",
       "532  omestic Payments and Reconciliation Service (D...             1\n",
       "533                                     onepath.com.au             1\n",
       "534                          owercurve Collection (AU)             8\n",
       "535                               pen Banking Platform             1\n",
       "536                   penShift_Platform - AU [Service]            14\n",
       "537                              perations Markets - J             3\n",
       "538               ptus ATE (Automated Ticket Exchange)             2\n",
       "539  racle Business Intelligence Enterprise Edition...            22\n",
       "540                             racle Database Support            21\n",
       "541  racle Financial Services Analytical Applicatio...             1\n",
       "542                               rime (OFAC Reporter)             2\n",
       "543                                  rint Service - NZ             1\n",
       "544                                       rinting - AU             8\n",
       "545  rivate Banking Advent Portfolio Exchange (APX)...             1\n",
       "546             rivileged Access Management - CyberArk             1\n",
       "547                   roactive Risk Manager (PRM) - NZ             4\n",
       "548                                             rophet             1\n",
       "549                    shareinvestingapp.anz.com [EXT]             1\n",
       "550                                   uDeploy Platform             2\n",
       "551                           ur Way of Learning [EXT]            18\n",
       "552                                             vMware             7\n",
       "553  ver the Counter Derivatives Reform (OTC) Recor...             5\n",
       "554  ver the Counter Derivatives Reform (OTC) Repor...             6\n",
       "555                                     xPression - AU             7\n",
       "\n",
       "[556 rows x 2 columns]"
      ]
     },
     "execution_count": 12,
     "metadata": {},
     "output_type": "execute_result"
    }
   ],
   "source": [
    "BI"
   ]
  },
  {
   "cell_type": "code",
   "execution_count": 13,
   "metadata": {
    "collapsed": true
   },
   "outputs": [],
   "source": [
    "BI['business_service_name']=BI['business_service_name'].str.upper()\n",
    "model1_maping['Name']=model1_maping['Name'].str.upper()\n",
    "domain_map['Name']=domain_map['Name'].str.upper()"
   ]
  },
  {
   "cell_type": "code",
   "execution_count": 14,
   "metadata": {
    "collapsed": true
   },
   "outputs": [],
   "source": [
    "Model1 = BI.merge(model1_maping,how='left',left_on=['business_service_name'],right_on=['Name'])"
   ]
  },
  {
   "cell_type": "code",
   "execution_count": 15,
   "metadata": {
    "collapsed": true
   },
   "outputs": [],
   "source": [
    "Model1['Name'] = Model1['Name'].fillna(0)"
   ]
  },
  {
   "cell_type": "code",
   "execution_count": 16,
   "metadata": {
    "collapsed": true
   },
   "outputs": [],
   "source": [
    "Model1 = Model1[Model1['Name'] != 0]"
   ]
  },
  {
   "cell_type": "code",
   "execution_count": 17,
   "metadata": {
    "collapsed": true
   },
   "outputs": [],
   "source": [
    "Model1 = Model1[['Domain','business_service_name','noInBreached']]"
   ]
  },
  {
   "cell_type": "code",
   "execution_count": 18,
   "metadata": {},
   "outputs": [
    {
     "data": {
      "text/html": [
       "<div>\n",
       "<style>\n",
       "    .dataframe thead tr:only-child th {\n",
       "        text-align: right;\n",
       "    }\n",
       "\n",
       "    .dataframe thead th {\n",
       "        text-align: left;\n",
       "    }\n",
       "\n",
       "    .dataframe tbody tr th {\n",
       "        vertical-align: top;\n",
       "    }\n",
       "</style>\n",
       "<table border=\"1\" class=\"dataframe\">\n",
       "  <thead>\n",
       "    <tr style=\"text-align: right;\">\n",
       "      <th></th>\n",
       "      <th>Domain</th>\n",
       "      <th>business_service_name</th>\n",
       "      <th>noInBreached</th>\n",
       "    </tr>\n",
       "  </thead>\n",
       "  <tbody>\n",
       "    <tr>\n",
       "      <th>298</th>\n",
       "      <td>Australia Retail and Commercial</td>\n",
       "      <td>MAUDE - AU</td>\n",
       "      <td>17</td>\n",
       "    </tr>\n",
       "  </tbody>\n",
       "</table>\n",
       "</div>"
      ],
      "text/plain": [
       "                              Domain business_service_name  noInBreached\n",
       "298  Australia Retail and Commercial            MAUDE - AU            17"
      ]
     },
     "execution_count": 18,
     "metadata": {},
     "output_type": "execute_result"
    }
   ],
   "source": [
    "Model1"
   ]
  },
  {
   "cell_type": "code",
   "execution_count": 19,
   "metadata": {
    "collapsed": true
   },
   "outputs": [],
   "source": [
    "Model1.to_csv(r'C:\\NotBackedUp\\SOE\\Model1\\CSV\\IncidentSLA_'+today+'.csv',index=None)"
   ]
  },
  {
   "cell_type": "code",
   "execution_count": 20,
   "metadata": {
    "collapsed": true
   },
   "outputs": [],
   "source": [
    "SIAM = BI.merge(domain_map,how='left',left_on=['business_service_name'],right_on=['Name'])"
   ]
  },
  {
   "cell_type": "code",
   "execution_count": 21,
   "metadata": {
    "collapsed": true
   },
   "outputs": [],
   "source": [
    "SIAM['Name'] = SIAM['Name'].fillna(0)"
   ]
  },
  {
   "cell_type": "code",
   "execution_count": 22,
   "metadata": {
    "collapsed": true
   },
   "outputs": [],
   "source": [
    "SIAM = SIAM[SIAM['Name'] != 0]"
   ]
  },
  {
   "cell_type": "code",
   "execution_count": 23,
   "metadata": {
    "collapsed": true
   },
   "outputs": [],
   "source": [
    "SIAM = SIAM[['Domain','business_service_name','noInBreached']]"
   ]
  },
  {
   "cell_type": "code",
   "execution_count": 24,
   "metadata": {
    "collapsed": true
   },
   "outputs": [],
   "source": [
    "SIAM.to_csv(r'C:\\NotBackedUp\\SOE\\SIAM\\CSV\\IncidentSLA_'+today+'.csv',index=None)"
   ]
  },
  {
   "cell_type": "code",
   "execution_count": null,
   "metadata": {
    "collapsed": true
   },
   "outputs": [],
   "source": []
  }
 ],
 "metadata": {
  "kernelspec": {
   "display_name": "Python 3",
   "language": "python",
   "name": "python3"
  },
  "language_info": {
   "codemirror_mode": {
    "name": "ipython",
    "version": 3
   },
   "file_extension": ".py",
   "mimetype": "text/x-python",
   "name": "python",
   "nbconvert_exporter": "python",
   "pygments_lexer": "ipython3",
   "version": "3.6.3"
  }
 },
 "nbformat": 4,
 "nbformat_minor": 2
}
